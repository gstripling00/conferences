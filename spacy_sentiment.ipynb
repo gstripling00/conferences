{
  "metadata": {
    "kernelspec": {
      "language": "python",
      "display_name": "Python 3",
      "name": "python3"
    },
    "language_info": {
      "name": "python",
      "version": "3.7.10",
      "mimetype": "text/x-python",
      "codemirror_mode": {
        "name": "ipython",
        "version": 3
      },
      "pygments_lexer": "ipython3",
      "nbconvert_exporter": "python",
      "file_extension": ".py"
    },
    "colab": {
      "provenance": [],
      "include_colab_link": true
    }
  },
  "nbformat_minor": 0,
  "nbformat": 4,
  "cells": [
    {
      "cell_type": "markdown",
      "metadata": {
        "id": "view-in-github",
        "colab_type": "text"
      },
      "source": [
        "<a href=\"https://colab.research.google.com/github/gstripling00/conferences/blob/main/spacy_sentiment.ipynb\" target=\"_parent\"><img src=\"https://colab.research.google.com/assets/colab-badge.svg\" alt=\"Open In Colab\"/></a>"
      ]
    },
    {
      "cell_type": "code",
      "source": [
        "# This Python 3 environment comes with many helpful analytics libraries installed\n",
        "# It is defined by the kaggle/python Docker image: https://github.com/kaggle/docker-python\n",
        "# For example, here's several helpful packages to load\n",
        "\n",
        "import numpy as np # linear algebra\n",
        "import pandas as pd # data processing, CSV file I/O (e.g. pd.read_csv)\n",
        "\n",
        "# Input data files are available in the read-only \"../input/\" directory\n",
        "# For example, running this (by clicking run or pressing Shift+Enter) will list all files under the input directory\n",
        "\n",
        "import os\n",
        "for dirname, _, filenames in os.walk('/kaggle/input'):\n",
        "    for filename in filenames:\n",
        "        print(os.path.join(dirname, filename))\n",
        "\n",
        "# You can write up to 20GB to the current directory (/kaggle/working/) that gets preserved as output when you create a version using \"Save & Run All\"\n",
        "# You can also write temporary files to /kaggle/temp/, but they won't be saved outside of the current session"
      ],
      "metadata": {
        "_uuid": "8f2839f25d086af736a60e9eeb907d3b93b6e0e5",
        "_cell_guid": "b1076dfc-b9ad-4769-8c92-a6c4dae69d19",
        "trusted": true,
        "id": "JFzoRRdzE51o"
      },
      "execution_count": null,
      "outputs": []
    },
    {
      "cell_type": "code",
      "source": [
        "cd kaggle/"
      ],
      "metadata": {
        "execution": {
          "iopub.status.busy": "2021-11-14T13:32:10.086958Z",
          "iopub.execute_input": "2021-11-14T13:32:10.087811Z",
          "iopub.status.idle": "2021-11-14T13:32:10.095071Z",
          "shell.execute_reply.started": "2021-11-14T13:32:10.087775Z",
          "shell.execute_reply": "2021-11-14T13:32:10.093909Z"
        },
        "trusted": true,
        "id": "0e6jvXjRE51r"
      },
      "execution_count": null,
      "outputs": []
    },
    {
      "cell_type": "markdown",
      "source": [
        "## Spacy custom pipeline"
      ],
      "metadata": {
        "id": "XMlLbH2vE51r"
      }
    },
    {
      "cell_type": "code",
      "source": [
        "import spacy\n",
        "import random\n",
        "import re\n",
        "import pandas as pd\n",
        "from spacy.pipeline.textcat import Config, single_label_cnn_config, single_label_bow_config, single_label_default_config\n",
        "from spacy.training.example import Example\n",
        "from spacy.util import minibatch\n",
        "from sklearn.model_selection import train_test_split"
      ],
      "metadata": {
        "execution": {
          "iopub.status.busy": "2021-11-14T13:32:21.517897Z",
          "iopub.execute_input": "2021-11-14T13:32:21.518177Z",
          "iopub.status.idle": "2021-11-14T13:32:33.625409Z",
          "shell.execute_reply.started": "2021-11-14T13:32:21.518146Z",
          "shell.execute_reply": "2021-11-14T13:32:33.624421Z"
        },
        "trusted": true,
        "id": "13cdTpIzE51s"
      },
      "execution_count": null,
      "outputs": []
    },
    {
      "cell_type": "code",
      "source": [
        "spacy.prefer_gpu()\n",
        "spacy.require_gpu()"
      ],
      "metadata": {
        "execution": {
          "iopub.status.busy": "2021-11-14T13:32:39.767528Z",
          "iopub.execute_input": "2021-11-14T13:32:39.767858Z",
          "iopub.status.idle": "2021-11-14T13:32:39.779848Z",
          "shell.execute_reply.started": "2021-11-14T13:32:39.767826Z",
          "shell.execute_reply": "2021-11-14T13:32:39.778672Z"
        },
        "trusted": true,
        "id": "cvQa7NrTE51s"
      },
      "execution_count": null,
      "outputs": []
    },
    {
      "cell_type": "code",
      "source": [
        "def clean_text(text):\n",
        "\n",
        "    text = re.sub(r\"(@\\[A-Za-z0-9]+)|([^0-9A-Za-z \\t])|(\\w+:\\/\\/\\S+)|^rt|http.+?\", \"\", text)\n",
        "\n",
        "    return text"
      ],
      "metadata": {
        "execution": {
          "iopub.status.busy": "2021-11-14T13:32:41.096839Z",
          "iopub.execute_input": "2021-11-14T13:32:41.097212Z",
          "iopub.status.idle": "2021-11-14T13:32:41.103551Z",
          "shell.execute_reply.started": "2021-11-14T13:32:41.097149Z",
          "shell.execute_reply": "2021-11-14T13:32:41.102537Z"
        },
        "trusted": true,
        "id": "5sjXuTwbE51t"
      },
      "execution_count": null,
      "outputs": []
    },
    {
      "cell_type": "code",
      "source": [
        "df = pd.read_csv('input/imdbfinal/imdbsentiment.csv', header=None,error_bad_lines=False)\n",
        "df.columns=['text', 'sentiment']\n",
        "df['sentiment'].value_counts()"
      ],
      "metadata": {
        "execution": {
          "iopub.status.busy": "2021-11-14T13:32:44.191877Z",
          "iopub.execute_input": "2021-11-14T13:32:44.192615Z",
          "iopub.status.idle": "2021-11-14T13:32:44.240285Z",
          "shell.execute_reply.started": "2021-11-14T13:32:44.192564Z",
          "shell.execute_reply": "2021-11-14T13:32:44.239279Z"
        },
        "trusted": true,
        "id": "-c1EKnOdE51t"
      },
      "execution_count": null,
      "outputs": []
    },
    {
      "cell_type": "code",
      "source": [
        "df, test = train_test_split(df, train_size=0.9, shuffle=True, stratify=df['sentiment'])"
      ],
      "metadata": {
        "execution": {
          "iopub.status.busy": "2021-11-14T13:32:50.617471Z",
          "iopub.execute_input": "2021-11-14T13:32:50.617971Z",
          "iopub.status.idle": "2021-11-14T13:32:50.631912Z",
          "shell.execute_reply.started": "2021-11-14T13:32:50.617935Z",
          "shell.execute_reply": "2021-11-14T13:32:50.630955Z"
        },
        "trusted": true,
        "id": "K8ZgIGc0E51t"
      },
      "execution_count": null,
      "outputs": []
    },
    {
      "cell_type": "code",
      "source": [
        "train_texts = df['text'].values\n",
        "train_labels = [{'cats': {'positive': label == 'positive',\n",
        "                          'negative': label == 'negative'}}\n",
        "                for label in df['sentiment']]"
      ],
      "metadata": {
        "execution": {
          "iopub.status.busy": "2021-11-14T13:32:58.237349Z",
          "iopub.execute_input": "2021-11-14T13:32:58.237638Z",
          "iopub.status.idle": "2021-11-14T13:32:58.244326Z",
          "shell.execute_reply.started": "2021-11-14T13:32:58.237605Z",
          "shell.execute_reply": "2021-11-14T13:32:58.243312Z"
        },
        "trusted": true,
        "id": "oThRQf9_E51t"
      },
      "execution_count": null,
      "outputs": []
    },
    {
      "cell_type": "code",
      "source": [
        "train_data = list(zip(train_texts, train_labels))\n",
        "len(train_data)"
      ],
      "metadata": {
        "execution": {
          "iopub.status.busy": "2021-11-14T13:33:01.046936Z",
          "iopub.execute_input": "2021-11-14T13:33:01.048011Z",
          "iopub.status.idle": "2021-11-14T13:33:01.058063Z",
          "shell.execute_reply.started": "2021-11-14T13:33:01.047949Z",
          "shell.execute_reply": "2021-11-14T13:33:01.057008Z"
        },
        "trusted": true,
        "id": "I37amzP2E51t"
      },
      "execution_count": null,
      "outputs": []
    },
    {
      "cell_type": "code",
      "source": [
        "# Create an empty model\n",
        "nlp = spacy.blank(\"en\")\n",
        "config = Config().from_str(single_label_bow_config)\n",
        "text_cat = nlp.add_pipe('textcat', config=config, last=True)\n",
        "text_cat.add_label(\"positive\")\n",
        "text_cat.add_label(\"negative\")"
      ],
      "metadata": {
        "execution": {
          "iopub.status.busy": "2021-11-14T13:33:03.996726Z",
          "iopub.execute_input": "2021-11-14T13:33:03.997012Z",
          "iopub.status.idle": "2021-11-14T13:33:04.335112Z",
          "shell.execute_reply.started": "2021-11-14T13:33:03.996982Z",
          "shell.execute_reply": "2021-11-14T13:33:04.333990Z"
        },
        "trusted": true,
        "id": "QiE6yNwwE51t"
      },
      "execution_count": null,
      "outputs": []
    },
    {
      "cell_type": "code",
      "source": [
        "%%time\n",
        "\n",
        "random.seed(1)\n",
        "spacy.util.fix_random_seed(1)\n",
        "optimizer = nlp.begin_training()\n",
        "\n",
        "losses = {}\n",
        "for epoch in range(25):\n",
        "    random.shuffle(train_data)\n",
        "    # Create the batch generator with batch size = 8\n",
        "    batches = minibatch(train_data, size=8)\n",
        "    # Iterate through minibatches\n",
        "    for batch in batches:\n",
        "        texts, annotations = zip(*batch)\n",
        "\n",
        "        example = []\n",
        "        # Update the model with iterating each text\n",
        "        for i in range(len(texts)):\n",
        "            doc = nlp.make_doc(texts[i])\n",
        "            example.append(Example.from_dict(doc, annotations[i]))\n",
        "\n",
        "            # Update the model\n",
        "        nlp.update(example, drop=0.5, losses=losses)\n",
        "    print(losses)"
      ],
      "metadata": {
        "scrolled": true,
        "execution": {
          "iopub.status.busy": "2021-11-14T13:33:07.016891Z",
          "iopub.execute_input": "2021-11-14T13:33:07.017168Z",
          "iopub.status.idle": "2021-11-14T13:33:50.768043Z",
          "shell.execute_reply.started": "2021-11-14T13:33:07.017138Z",
          "shell.execute_reply": "2021-11-14T13:33:50.766922Z"
        },
        "trusted": true,
        "id": "Bpo2MYgAE51v"
      },
      "execution_count": null,
      "outputs": []
    },
    {
      "cell_type": "code",
      "source": [
        "nlp.to_disk('working/sentiment_model')"
      ],
      "metadata": {
        "execution": {
          "iopub.status.busy": "2021-11-14T13:34:08.288298Z",
          "iopub.execute_input": "2021-11-14T13:34:08.288813Z",
          "iopub.status.idle": "2021-11-14T13:34:08.326465Z",
          "shell.execute_reply.started": "2021-11-14T13:34:08.288765Z",
          "shell.execute_reply": "2021-11-14T13:34:08.325321Z"
        },
        "trusted": true,
        "id": "PFORGW5UE51v"
      },
      "execution_count": null,
      "outputs": []
    },
    {
      "cell_type": "code",
      "source": [
        "text_nlp = spacy.load(\"working/sentiment_model\")"
      ],
      "metadata": {
        "execution": {
          "iopub.status.busy": "2021-11-14T13:34:11.086799Z",
          "iopub.execute_input": "2021-11-14T13:34:11.087158Z",
          "iopub.status.idle": "2021-11-14T13:34:11.567862Z",
          "shell.execute_reply.started": "2021-11-14T13:34:11.087126Z",
          "shell.execute_reply": "2021-11-14T13:34:11.566874Z"
        },
        "trusted": true,
        "id": "bBBkPbMfE51v"
      },
      "execution_count": null,
      "outputs": []
    },
    {
      "cell_type": "code",
      "source": [
        "test_texts = test['text']\n",
        "test_te = list(test_texts)"
      ],
      "metadata": {
        "execution": {
          "iopub.status.busy": "2021-11-14T13:34:45.821739Z",
          "iopub.execute_input": "2021-11-14T13:34:45.822104Z",
          "iopub.status.idle": "2021-11-14T13:34:45.827226Z",
          "shell.execute_reply.started": "2021-11-14T13:34:45.822072Z",
          "shell.execute_reply": "2021-11-14T13:34:45.826086Z"
        },
        "trusted": true,
        "id": "OMwghnhUE51v"
      },
      "execution_count": null,
      "outputs": []
    },
    {
      "cell_type": "code",
      "source": [
        "input_text = input()\n",
        "doc = text_nlp(input_text)"
      ],
      "metadata": {
        "execution": {
          "iopub.status.busy": "2021-11-14T13:34:48.352054Z",
          "iopub.execute_input": "2021-11-14T13:34:48.352613Z",
          "iopub.status.idle": "2021-11-14T13:34:58.001439Z",
          "shell.execute_reply.started": "2021-11-14T13:34:48.352562Z",
          "shell.execute_reply": "2021-11-14T13:34:58.000297Z"
        },
        "trusted": true,
        "id": "RQxQcQTME51w"
      },
      "execution_count": null,
      "outputs": []
    },
    {
      "cell_type": "code",
      "source": [
        "doc.cats"
      ],
      "metadata": {
        "execution": {
          "iopub.status.busy": "2021-11-14T13:35:00.067065Z",
          "iopub.execute_input": "2021-11-14T13:35:00.067391Z",
          "iopub.status.idle": "2021-11-14T13:35:00.074179Z",
          "shell.execute_reply.started": "2021-11-14T13:35:00.067361Z",
          "shell.execute_reply": "2021-11-14T13:35:00.073189Z"
        },
        "trusted": true,
        "id": "JbaehAA7E51w"
      },
      "execution_count": null,
      "outputs": []
    },
    {
      "cell_type": "code",
      "source": [
        "!zip -r working/sentiment_model.zip working/sentiment_model/"
      ],
      "metadata": {
        "execution": {
          "iopub.status.busy": "2021-11-13T18:18:06.105364Z",
          "iopub.execute_input": "2021-11-13T18:18:06.10569Z",
          "iopub.status.idle": "2021-11-13T18:18:06.943763Z",
          "shell.execute_reply.started": "2021-11-13T18:18:06.105655Z",
          "shell.execute_reply": "2021-11-13T18:18:06.942579Z"
        },
        "trusted": true,
        "id": "-LAeD42IE51w"
      },
      "execution_count": null,
      "outputs": []
    },
    {
      "cell_type": "code",
      "source": [],
      "metadata": {
        "id": "VXZ8rzkBE51w"
      },
      "execution_count": null,
      "outputs": []
    },
    {
      "cell_type": "code",
      "source": [],
      "metadata": {
        "id": "EV_ebl1kE51w"
      },
      "execution_count": null,
      "outputs": []
    }
  ]
}