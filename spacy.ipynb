{
  "cells": [
    {
      "cell_type": "markdown",
      "metadata": {
        "id": "view-in-github",
        "colab_type": "text"
      },
      "source": [
        "<a href=\"https://colab.research.google.com/github/gstripling00/conferences/blob/main/spacy.ipynb\" target=\"_parent\"><img src=\"https://colab.research.google.com/assets/colab-badge.svg\" alt=\"Open In Colab\"/></a>"
      ]
    },
    {
      "cell_type": "code",
      "execution_count": null,
      "metadata": {
        "id": "u8WxojjO9Y9W",
        "outputId": "9c5de0cb-b2eb-41ac-9ea4-720e6ddd97d2"
      },
      "outputs": [
        {
          "name": "stderr",
          "output_type": "stream",
          "text": [
            "C:\\Users\\Shubham\\Anaconda3\\lib\\importlib\\_bootstrap.py:219: RuntimeWarning: thinc.extra.search.Beam size changed, may indicate binary incompatibility. Expected 112 from C header, got 120 from PyObject\n",
            "  return f(*args, **kwds)\n"
          ]
        },
        {
          "name": "stdout",
          "output_type": "stream",
          "text": [
            "This is a sentence.\n"
          ]
        }
      ],
      "source": [
        "from spacy.lang.en import English\n",
        "\n",
        "# Create the nlp object\n",
        "nlp = English()\n",
        "\n",
        "# Process a text\n",
        "doc = nlp(\"This is a sentence.\")\n",
        "\n",
        "# Print the document text\n",
        "print(doc.text)"
      ]
    },
    {
      "cell_type": "code",
      "execution_count": null,
      "metadata": {
        "id": "IedGikwx9Y9X",
        "outputId": "5cd17d6f-82a1-447e-92a7-b3091234bcab"
      },
      "outputs": [
        {
          "name": "stdout",
          "output_type": "stream",
          "text": [
            "Liebe Grüße!\n"
          ]
        }
      ],
      "source": [
        "# Import the German language class\n",
        "from spacy.lang.de import German\n",
        "\n",
        "# Create the nlp object\n",
        "nlp = German()\n",
        "\n",
        "# Process a text (this is German for: \"Kind regards!\")\n",
        "doc = nlp(\"Liebe Grüße!\")\n",
        "\n",
        "# Print the document text\n",
        "print(doc.text)"
      ]
    },
    {
      "cell_type": "code",
      "execution_count": null,
      "metadata": {
        "id": "EA4sdh6i9Y9X",
        "outputId": "df31ec4e-866d-4b89-b7ba-3ead29f4643e"
      },
      "outputs": [
        {
          "name": "stdout",
          "output_type": "stream",
          "text": [
            "¿Cómo estás?\n"
          ]
        }
      ],
      "source": [
        "# Import the Spanish language class\n",
        "from spacy.lang.es import Spanish\n",
        "\n",
        "# Create the nlp object\n",
        "nlp = Spanish()\n",
        "\n",
        "# Process a text (this is Spanish for: \"How are you?\")\n",
        "doc = nlp(\"¿Cómo estás?\")\n",
        "\n",
        "# Print the document text\n",
        "print(doc.text)"
      ]
    },
    {
      "cell_type": "markdown",
      "metadata": {
        "id": "3y87o5MI9Y9Y"
      },
      "source": [
        "### Documents, spans and tokens"
      ]
    },
    {
      "cell_type": "code",
      "execution_count": null,
      "metadata": {
        "id": "BHCAEtTp9Y9Y",
        "outputId": "637235a0-f00f-469a-e969-f9e3e8cd1dc4"
      },
      "outputs": [
        {
          "name": "stdout",
          "output_type": "stream",
          "text": [
            "I\n"
          ]
        }
      ],
      "source": [
        "# Import the English language class and create the nlp object\n",
        "from spacy.lang.en import English\n",
        "nlp = English()\n",
        "\n",
        "# Process the text\n",
        "doc = nlp(\"I like tree kangaroos and narwhals.\")\n",
        "\n",
        "# Select the first token\n",
        "first_token = doc[0]\n",
        "\n",
        "# Print the first token's text\n",
        "print(first_token.text)"
      ]
    },
    {
      "cell_type": "code",
      "execution_count": null,
      "metadata": {
        "id": "g_jaqRsr9Y9Z",
        "outputId": "b884bff7-1328-41f8-bea4-59d733e80cb2"
      },
      "outputs": [
        {
          "name": "stdout",
          "output_type": "stream",
          "text": [
            "tree kangaroos\n",
            "tree kangaroos and narwhals\n"
          ]
        }
      ],
      "source": [
        "# Process the text\n",
        "doc = nlp(\"I like tree kangaroos and narwhals.\")\n",
        "\n",
        "# A slice of the Doc for \"tree kangaroos\"\n",
        "tree_kangaroos = doc[2:4]\n",
        "print(tree_kangaroos.text)\n",
        "\n",
        "# A slice of the Doc for \"tree kangaroos and narwhals\" (without the \".\")\n",
        "tree_kangaroos_and_narwhals = doc[2:6]\n",
        "print(tree_kangaroos_and_narwhals.text)"
      ]
    },
    {
      "cell_type": "markdown",
      "metadata": {
        "id": "uXwFkQX89Y9Z"
      },
      "source": [
        "### Lexical attributes\n",
        "- We'll use spaCy's Doc and Token objects, and lexical attributes to find percentages in a text. We'll be looking for two subsequent tokens: a number and a percent sign"
      ]
    },
    {
      "cell_type": "code",
      "execution_count": null,
      "metadata": {
        "id": "c-Sji1cB9Y9Z",
        "outputId": "d55e24b1-b798-4a5e-f654-c12c0cad0179"
      },
      "outputs": [
        {
          "name": "stdout",
          "output_type": "stream",
          "text": [
            "Percentage found: 60\n",
            "Percentage found: 4\n"
          ]
        }
      ],
      "source": [
        "# Process the text\n",
        "doc = nlp(\"In 1990, more than 60% of people in East Asia were in extreme poverty. Now less than 4% are.\")\n",
        "\n",
        "# Iterate over the tokens in the doc\n",
        "for token in doc:\n",
        "    # Check if the token resembles a number\n",
        "    if token.like_num:\n",
        "        # Get the next token in the document\n",
        "        next_token = doc[token.i + 1]\n",
        "        # Check if the next token's text equals '%'\n",
        "        if next_token.text == '%':\n",
        "            print('Percentage found:', token.text)"
      ]
    },
    {
      "cell_type": "code",
      "execution_count": null,
      "metadata": {
        "id": "xU8aPy1-9Y9Z",
        "outputId": "3717951d-7c18-440d-b55b-a213881959d6"
      },
      "outputs": [
        {
          "name": "stdout",
          "output_type": "stream",
          "text": [
            "It          PRON      ROOT      \n",
            "’s          VERB      compound  \n",
            "official    NOUN      appos     \n",
            ":           PUNCT     punct     \n",
            "Apple       PROPN     nsubj     \n",
            "is          VERB      ROOT      \n",
            "the         DET       det       \n",
            "first       ADJ       amod      \n",
            "U.S.        PROPN     nmod      \n",
            "public      ADJ       amod      \n",
            "company     NOUN      attr      \n",
            "to          PART      aux       \n",
            "reach       VERB      relcl     \n",
            "a           DET       det       \n",
            "$           SYM       quantmod  \n",
            "1           NUM       compound  \n",
            "trillion    NUM       nummod    \n",
            "market      NOUN      compound  \n",
            "value       NOUN      dobj      \n"
          ]
        }
      ],
      "source": [
        "import spacy\n",
        "\n",
        "nlp = spacy.load('en_core_web_sm')\n",
        "\n",
        "text = \"It’s official: Apple is the first U.S. public company to reach a $1 trillion market value\"\n",
        "\n",
        "# Process the text\n",
        "doc = nlp(text)\n",
        "\n",
        "for token in doc:\n",
        "    # Get the token text, part-of-speech tag and dependency label\n",
        "    token_text = token.text\n",
        "    token_pos = token.pos_\n",
        "    token_dep = token.dep_\n",
        "    # This is for formatting only\n",
        "    print('{:<12}{:<10}{:<10}'.format(token_text, token_pos, token_dep))"
      ]
    },
    {
      "cell_type": "code",
      "execution_count": null,
      "metadata": {
        "id": "a96MyE2V9Y9a",
        "outputId": "7c137ca9-0043-4de7-fb5b-fcde106bf64d"
      },
      "outputs": [
        {
          "name": "stdout",
          "output_type": "stream",
          "text": [
            "Apple ORG\n",
            "first ORDINAL\n",
            "U.S. GPE\n",
            "$1 trillion MONEY\n"
          ]
        }
      ],
      "source": [
        "text = \"It’s official: Apple is the first U.S. public company to reach a $1 trillion market value\"\n",
        "\n",
        "# Process the text\n",
        "doc = nlp(text)\n",
        "\n",
        "# Iterate over the predicted entities\n",
        "for ent in doc.ents:\n",
        "    # print the entity text and its label\n",
        "    print(ent.text, ent.label_)\n",
        ""
      ]
    },
    {
      "cell_type": "code",
      "execution_count": null,
      "metadata": {
        "scrolled": true,
        "id": "DJfeQBQ29Y9a",
        "outputId": "77b8fa06-564d-40a4-d233-088dd434747a"
      },
      "outputs": [
        {
          "name": "stdout",
          "output_type": "stream",
          "text": [
            "Apple ORG\n",
            "Missing entity: iPhone X\n"
          ]
        }
      ],
      "source": [
        "text = \"New iPhone X release date leaked as Apple reveals pre-orders by mistake\"\n",
        "\n",
        "# Process the text\n",
        "doc = nlp(text)\n",
        "\n",
        "# Iterate over the entities\n",
        "for ent in doc.ents:\n",
        "    # print the entity text and label\n",
        "    print(ent.text, ent.label_)\n",
        "\n",
        "# Get the span for \"iPhone X\"\n",
        "iphone_x = doc[1:3]\n",
        "\n",
        "# Print the span text\n",
        "print('Missing entity:', iphone_x.text)"
      ]
    },
    {
      "cell_type": "markdown",
      "metadata": {
        "id": "ENQ8ciXN9Y9a"
      },
      "source": [
        "### Using the Matcher\n",
        "- write a pattern that can match the phrase \"iPhone X\" in the text."
      ]
    },
    {
      "cell_type": "code",
      "execution_count": null,
      "metadata": {
        "id": "TcF5OdsO9Y9a",
        "outputId": "3faaf764-2712-405e-bcc9-cd7389ae97d2"
      },
      "outputs": [
        {
          "name": "stdout",
          "output_type": "stream",
          "text": [
            "[(15275443334065424288, 1, 3)]\n",
            "Matches: ['iPhone X']\n"
          ]
        }
      ],
      "source": [
        "# Import the Matcher\n",
        "from spacy.matcher import Matcher\n",
        "import spacy\n",
        "\n",
        "nlp = spacy.load('en_core_web_sm')\n",
        "\n",
        "doc = nlp('New iPhone X release date leaked as Apple reveals pre-orders by mistake')\n",
        "\n",
        "# Initialize the Matcher with the shared vocabulary\n",
        "matcher = Matcher(nlp.vocab)\n",
        "\n",
        "# Create a pattern matching two tokens: \"iPhone\" and \"X\"\n",
        "pattern = [{\"ORTH\":'iPhone'}, {\"ORTH\":'X'}]\n",
        "\n",
        "# Add the pattern to the matcher\n",
        "matcher.add('IPHONE_X_PATTERN', None, pattern)\n",
        "\n",
        "# Use the matcher on the doc\n",
        "matches = matcher(doc)\n",
        "print(matches)\n",
        "print('Matches:', [doc[start:end].text for match_id, start, end in matches])"
      ]
    },
    {
      "cell_type": "markdown",
      "metadata": {
        "id": "ZgT1yn9i9Y9b"
      },
      "source": [
        "### Writing match patterns\n",
        "- Write more complex match patterns using different token attributes and operators.\n",
        "- Write one pattern that only matches mentions of the full iOS versions: \"iOS 7\", \"iOS 11\" and \"iOS 10\"."
      ]
    },
    {
      "cell_type": "code",
      "execution_count": null,
      "metadata": {
        "id": "z0-wKxkx9Y9b",
        "outputId": "40552ee1-16aa-423b-f882-2656cd9a0da6"
      },
      "outputs": [
        {
          "name": "stdout",
          "output_type": "stream",
          "text": [
            "Total matches found: 3\n",
            "Match found: iOS 7\n",
            "Match found: iOS 11\n",
            "Match found: iOS 10\n"
          ]
        }
      ],
      "source": [
        "doc = nlp(\"After making the iOS update you won't notice a radical system-wide redesign: nothing like the aesthetic upheaval we got with iOS 7. Most of iOS 11's furniture remains the same as in iOS 10. But you will discover some tweaks once you delve a little deeper.\")\n",
        "\n",
        "# Write a pattern for full iOS versions (\"iOS 7\", \"iOS 11\", \"iOS 10\")\n",
        "pattern = [{'TEXT': 'iOS'}, {'IS_DIGIT': True}]\n",
        "\n",
        "# Add the pattern to the matcher and apply the matcher to the doc\n",
        "matcher.add('IOS_VERSION_PATTERN', None, pattern)\n",
        "matches = matcher(doc)\n",
        "print('Total matches found:', len(matches))\n",
        "\n",
        "# Iterate over the matches and print the span text\n",
        "for match_id, start, end in matches:\n",
        "    print('Match found:', doc[start:end].text)"
      ]
    },
    {
      "cell_type": "markdown",
      "metadata": {
        "id": "G6BTT0pI9Y9b"
      },
      "source": [
        "- Write one pattern that only matches forms of `\"download\"` (tokens with the lemma \"download\"), followed by a token with the part-of-speech tag `'PROPN'` (proper noun)."
      ]
    },
    {
      "cell_type": "code",
      "execution_count": null,
      "metadata": {
        "id": "6gus6P0V9Y9b",
        "outputId": "738a1229-d4fa-430e-82c7-70285fced76e"
      },
      "outputs": [
        {
          "name": "stdout",
          "output_type": "stream",
          "text": [
            "Total matches found: 3\n",
            "Match found: downloaded Fortnite\n",
            "Match found: downloading Minecraft\n",
            "Match found: download Winzip\n"
          ]
        }
      ],
      "source": [
        "doc = nlp(\"i downloaded Fortnite on my laptop and can't open the game at all. Help? so when I was downloading Minecraft, I got the Windows version where it is the '.zip' folder and I used the default program to unpack it... do I also need to download Winzip?\")\n",
        "\n",
        "# Write a pattern that matches a form of \"download\" plus proper noun\n",
        "pattern = [{'LEMMA': 'download'}, {'POS': 'PROPN'}]\n",
        "\n",
        "# Add the pattern to the matcher and apply the matcher to the doc\n",
        "matcher.add('DOWNLOAD_THINGS_PATTERN', None, pattern)\n",
        "matches = matcher(doc)\n",
        "print('Total matches found:', len(matches))\n",
        "\n",
        "# Iterate over the matches and print the span text\n",
        "for match_id, start, end in matches:\n",
        "    print('Match found:', doc[start:end].text)"
      ]
    },
    {
      "cell_type": "markdown",
      "metadata": {
        "id": "7Afqs94X9Y9b"
      },
      "source": [
        "- Write one pattern that matches adjectives `('ADJ')` followed by one or two `'NOUN's` (one noun and one optional noun)."
      ]
    },
    {
      "cell_type": "code",
      "execution_count": null,
      "metadata": {
        "id": "vvBuj25x9Y9b",
        "outputId": "251da1cd-b884-4e0b-ef83-18ad3a7e1f7b"
      },
      "outputs": [
        {
          "name": "stdout",
          "output_type": "stream",
          "text": [
            "Total matches found: 4\n",
            "Match found: beautiful design\n",
            "Match found: smart search\n",
            "Match found: automatic labels\n",
            "Match found: optional voice responses\n"
          ]
        }
      ],
      "source": [
        "doc = nlp(\"Features of the app include a beautiful design, smart search, automatic labels and optional voice responses.\")\n",
        "\n",
        "# Write a pattern for adjective plus one or two nouns\n",
        "pattern = [{'POS': 'ADJ'}, {'POS': 'NOUN'}, {'POS': 'NOUN', 'OP': '?'}]\n",
        "\n",
        "# Add the pattern to the matcher and apply the matcher to the doc\n",
        "matcher.add('ADJ_NOUN_PATTERN', None, pattern)\n",
        "matches = matcher(doc)\n",
        "print('Total matches found:', len(matches))\n",
        "\n",
        "# Iterate over the matches and print the span text\n",
        "for match_id, start, end in matches:\n",
        "    print('Match found:', doc[start:end].text)"
      ]
    },
    {
      "cell_type": "markdown",
      "metadata": {
        "id": "pYPSk_fR9Y9b"
      },
      "source": [
        "### Strings to hashes"
      ]
    },
    {
      "cell_type": "code",
      "execution_count": null,
      "metadata": {
        "id": "Hku7XjQe9Y9b",
        "outputId": "1792cef9-e13d-4953-c836-8949dd000ec1"
      },
      "outputs": [
        {
          "name": "stdout",
          "output_type": "stream",
          "text": [
            "5439657043933447811\n",
            "cat\n"
          ]
        }
      ],
      "source": [
        "nlp = spacy.load('en_core_web_md')\n",
        "\n",
        "# Look up the hash for the word \"cat\"\n",
        "cat_hash = nlp.vocab.strings['cat']\n",
        "print(cat_hash)\n",
        "\n",
        "# Look up the cat_hash to get the string\n",
        "cat_string = nlp.vocab.strings[cat_hash]\n",
        "print(cat_string)"
      ]
    },
    {
      "cell_type": "code",
      "execution_count": null,
      "metadata": {
        "id": "NGQj76gw9Y9b",
        "outputId": "ec790c71-5c8d-4928-c551-7ea1622cbe6e"
      },
      "outputs": [
        {
          "name": "stdout",
          "output_type": "stream",
          "text": [
            "380\n",
            "PERSON\n"
          ]
        }
      ],
      "source": [
        "# Look up the hash for the string label \"PERSON\"\n",
        "person_hash = nlp.vocab.strings['PERSON']\n",
        "print(person_hash)\n",
        "\n",
        "# Look up the person_hash to get the string\n",
        "person_string = nlp.vocab.strings[person_hash]\n",
        "print(person_string)"
      ]
    },
    {
      "cell_type": "markdown",
      "metadata": {
        "id": "2ZbNMVu89Y9b"
      },
      "source": [
        "### Creating a Doc"
      ]
    },
    {
      "cell_type": "code",
      "execution_count": null,
      "metadata": {
        "id": "ZF1Y2ZaZ9Y9b",
        "outputId": "f83b73d2-8ab2-4013-f16b-d1e9bf85cbbb"
      },
      "outputs": [
        {
          "name": "stdout",
          "output_type": "stream",
          "text": [
            "spaCy is cool!\n"
          ]
        }
      ],
      "source": [
        "# Import the Doc class\n",
        "from spacy.tokens import Doc\n",
        "\n",
        "# Desired text: \"spaCy is cool!\"\n",
        "words = ['spaCy', 'is', 'cool', '!']\n",
        "spaces = [True, True, False, False]\n",
        "\n",
        "# Create a Doc from the words and spaces\n",
        "doc = Doc(nlp.vocab, words=words, spaces=spaces)\n",
        "print(doc.text)"
      ]
    },
    {
      "cell_type": "code",
      "execution_count": null,
      "metadata": {
        "id": "Iej1tZVk9Y9c",
        "outputId": "5b0ae302-0938-47ea-fb71-8ea531aafc32"
      },
      "outputs": [
        {
          "name": "stdout",
          "output_type": "stream",
          "text": [
            "Oh, really?!\n"
          ]
        }
      ],
      "source": [
        "# Desired text: \"Oh, really?!\"\n",
        "words = [\"Oh\", \",\", \"really\", \"?\", \"!\"]\n",
        "spaces = [False, True, False, False, False]\n",
        "\n",
        "# Create a Doc from the words and spaces\n",
        "doc = Doc(nlp.vocab, words=words, spaces=spaces)\n",
        "print(doc.text)"
      ]
    },
    {
      "cell_type": "code",
      "execution_count": null,
      "metadata": {
        "id": "VzcAkOUk9Y9c",
        "outputId": "babee53d-1171-4674-f2b9-54dcbe04fc2c"
      },
      "outputs": [
        {
          "name": "stdout",
          "output_type": "stream",
          "text": [
            "Go, get started!\n"
          ]
        }
      ],
      "source": [
        "# Desired text: \"Go, get started!\"\n",
        "words = ['Go', ',', 'get', 'started', '!']\n",
        "spaces = [False, True, True, False, False]\n",
        "\n",
        "# Create a Doc from the words and spaces\n",
        "doc = Doc(nlp.vocab, words=words, spaces=spaces)\n",
        "print(doc.text)"
      ]
    },
    {
      "cell_type": "markdown",
      "metadata": {
        "id": "kkZ8zbzq9Y9c"
      },
      "source": [
        "### Docs, spans and entities from scratch"
      ]
    },
    {
      "cell_type": "code",
      "execution_count": null,
      "metadata": {
        "id": "aQn4ycZ-9Y9c"
      },
      "outputs": [],
      "source": [
        "# Import the Doc and Span classes\n",
        "# from spacy.tokens import Doc, Span\n",
        "\n",
        "# # Create a doc from the words and spaces\n",
        "# doc = Doc(nlp.vocab, words=['I', 'like', 'David', 'Bowie'], spaces=[True, True, True, False])\n",
        "\n",
        "# # Create a span for \"David Bowie\" from the doc and assign it the label \"PERSON\"\n",
        "# span = Span(doc, 2, 4, label='PERSON')\n",
        "\n",
        "# # Add the span to the doc's entities\n",
        "# doc.ents = [span]\n",
        "\n",
        "# # Print entities' text and labels\n",
        "# print([(ent.text, ent.label_) for ent in doc.ents])"
      ]
    },
    {
      "cell_type": "markdown",
      "metadata": {
        "id": "Cb1HAsdk9Y9c"
      },
      "source": [
        "- Creating spaCy's objects manually and modifying the entities will come in handy later when we're writing your own information extraction pipelines."
      ]
    },
    {
      "cell_type": "markdown",
      "metadata": {
        "id": "KnGuQCOM9Y9c"
      },
      "source": [
        "### Data structures best practices\n",
        "- The code in this example is trying to analyze a text and collect all proper nouns. If the token following the proper noun is a verb, it should also be extracted."
      ]
    },
    {
      "cell_type": "code",
      "execution_count": null,
      "metadata": {
        "id": "BQcjd8FH9Y9c",
        "outputId": "e6b8f2d7-27ee-44eb-e2e5-a9433a075c0b"
      },
      "outputs": [
        {
          "name": "stdout",
          "output_type": "stream",
          "text": [
            "Found a verb after a proper noun!\n"
          ]
        }
      ],
      "source": [
        "doc = nlp(\"Berlin is a nice city\")\n",
        "\n",
        "# Get all tokens and part-of-speech tags\n",
        "pos_tags = [token.pos_ for token in doc]\n",
        "\n",
        "for index, pos in enumerate(pos_tags):\n",
        "    # Check if the current token is a proper noun\n",
        "    if pos == 'PROPN':\n",
        "        # Check if the next token is a verb\n",
        "        if pos_tags[index + 1] == 'VERB':\n",
        "            print('Found a verb after a proper noun!')"
      ]
    },
    {
      "cell_type": "markdown",
      "metadata": {
        "id": "4MnqeIux9Y9c"
      },
      "source": [
        "- It only uses lists of strings instead of native token attributes. This is often less efficient, and can't express complex relationships.\n",
        "- Rewrite the code to use the native token attributes instead of a list of pos_tags.\n",
        "- Loop over each token in the doc and check the `token.pos_` attribute.\n",
        "- Use `doc[token.i + 1]` to check for the next token and its `.pos_` attribute."
      ]
    },
    {
      "cell_type": "code",
      "execution_count": null,
      "metadata": {
        "id": "cAOHQwAI9Y9c",
        "outputId": "df4a9b50-04a1-46d3-f2a9-2387a60b33aa"
      },
      "outputs": [
        {
          "name": "stdout",
          "output_type": "stream",
          "text": [
            "Found a verb after a proper noun!\n"
          ]
        }
      ],
      "source": [
        "for token in doc:\n",
        "    # Check if the current token is a proper noun\n",
        "    if token.pos_ == 'PROPN':\n",
        "        # Check if the next token is a verb\n",
        "        if doc[token.i + 1].pos_ == 'VERB':\n",
        "            print('Found a verb after a proper noun!')"
      ]
    },
    {
      "cell_type": "markdown",
      "metadata": {
        "id": "w2r1LMPw9Y9c"
      },
      "source": [
        "### Inspecting word vectors\n",
        "- use a larger English model, which includes around 20.000 word vectors."
      ]
    },
    {
      "cell_type": "code",
      "execution_count": null,
      "metadata": {
        "scrolled": true,
        "id": "k3EpdeGZ9Y9c",
        "outputId": "1c9a54e3-9aaa-428d-8b30-81a3b720731c"
      },
      "outputs": [
        {
          "name": "stdout",
          "output_type": "stream",
          "text": [
            "[-2.2009e-01 -3.0322e-02 -7.9859e-02 -4.6279e-01 -3.8600e-01  3.6962e-01\n",
            " -7.7178e-01 -1.1529e-01  3.3601e-02  5.6573e-01 -2.4001e-01  4.1833e-01\n",
            "  1.5049e-01  3.5621e-01 -2.1508e-01 -4.2743e-01  8.1400e-02  3.3916e-01\n",
            "  2.1637e-01  1.4792e-01  4.5811e-01  2.0966e-01 -3.5706e-01  2.3800e-01\n",
            "  2.7971e-02 -8.4538e-01  4.1917e-01 -3.9181e-01  4.0434e-04 -1.0662e+00\n",
            "  1.4591e-01  1.4643e-03  5.1277e-01  2.6072e-01  8.3785e-02  3.0340e-01\n",
            "  1.8579e-01  5.9999e-02 -4.0270e-01  5.0888e-01 -1.1358e-01 -2.8854e-01\n",
            " -2.7068e-01  1.1017e-02 -2.2217e-01  6.9076e-01  3.6459e-02  3.0394e-01\n",
            "  5.6989e-02  2.2733e-01 -9.9473e-02  1.5165e-01  1.3540e-01 -2.4965e-01\n",
            "  9.8078e-01 -8.0492e-01  1.9326e-01  3.1128e-01  5.5390e-02 -4.2423e-01\n",
            " -1.4082e-02  1.2708e-01  1.8868e-01  5.9777e-02 -2.2215e-01 -8.3950e-01\n",
            "  9.1987e-02  1.0180e-01 -3.1299e-01  5.5083e-01 -3.0717e-01  4.4201e-01\n",
            "  1.2666e-01  3.7643e-01  3.2333e-01  9.5673e-02  2.5083e-01 -6.4049e-02\n",
            "  4.2143e-01 -1.9375e-01  3.8026e-01  7.0883e-03 -2.0371e-01  1.5402e-01\n",
            " -3.7877e-03 -2.9396e-01  9.6518e-01  2.0068e-01 -5.6572e-01 -2.2581e-01\n",
            "  3.2251e-01 -3.4634e-01  2.7064e-01 -2.0687e-01 -4.7229e-01  3.1704e-01\n",
            " -3.4665e-01 -2.5188e-01 -1.1201e-01 -3.3937e-01  3.1518e-01 -3.2221e-01\n",
            " -2.4530e-01 -7.1571e-02 -4.3971e-01 -1.2070e+00  3.3365e-01 -5.8208e-02\n",
            "  8.0899e-01  4.2335e-01  3.8678e-01 -6.0797e-01 -7.3760e-01 -2.0547e-01\n",
            " -1.7499e-01 -3.7842e-03  2.1930e-01 -5.2486e-02  3.4869e-01  4.3852e-01\n",
            " -3.4471e-01  2.8910e-01  7.2554e-02 -4.8625e-01 -3.8390e-01 -4.4760e-01\n",
            "  4.3278e-01 -2.7128e-03 -9.0067e-01 -3.0819e-02 -3.8630e-01 -8.0798e-02\n",
            " -1.6243e-01  2.8830e-01 -2.6349e-01  1.7628e-01  3.5958e-01  5.7672e-01\n",
            " -5.4624e-01  3.8555e-02 -2.0182e+00  3.2916e-01  3.4672e-01  1.5398e-01\n",
            " -4.3446e-01 -4.1428e-02 -6.9588e-02  5.1513e-01 -1.3489e-01 -5.7239e-02\n",
            "  4.9241e-01  1.8643e-01  3.8596e-01 -3.7329e-02 -5.4216e-01 -1.8152e-01\n",
            "  4.3110e-01 -4.6967e-01  6.6801e-02  5.0323e-01 -2.4059e-01  3.6742e-01\n",
            "  2.9300e-01 -8.7883e-02 -4.7940e-01 -4.3431e-02 -2.6137e-01 -6.2658e-01\n",
            "  1.1446e-01  2.7682e-01  3.4800e-01  5.0018e-01  1.4269e-01 -3.3545e-01\n",
            " -3.9712e-01 -3.3121e-01 -3.4434e-01 -4.1627e-01 -3.5707e-03 -6.2350e-01\n",
            "  3.7794e-01 -1.6765e-01 -4.1954e-01 -3.3134e-01  3.1232e-01 -3.9494e-01\n",
            " -4.6921e-03 -4.8884e-01 -2.2059e-02 -2.6174e-01  1.7937e-01  3.6628e-01\n",
            "  5.8971e-02 -3.5991e-01 -4.4393e-01 -1.1890e-01  3.3487e-01  3.6505e-02\n",
            " -3.2788e-01  3.3425e-01 -5.6361e-01 -1.1190e-01  5.3770e-01  2.0311e-01\n",
            "  1.5110e-01  1.0623e-02  3.3401e-01  4.6084e-01  5.6293e-01 -7.5432e-02\n",
            "  5.4813e-01  1.9395e-01 -2.6265e-01 -3.1699e-01 -8.1778e-01  5.8169e-02\n",
            " -5.7866e-02 -1.1781e-01 -5.8742e-02 -1.4092e-01 -9.9394e-01 -9.4532e-02\n",
            "  2.3503e-01 -4.9027e-01  8.5832e-01  1.1540e-01 -1.5049e-01  1.9065e-01\n",
            " -2.6705e-01  2.5326e-01 -6.7579e-01 -1.0633e-02 -5.5158e-02 -3.1004e-01\n",
            " -5.8036e-02 -1.7200e-01  1.3298e-01 -3.2899e-01 -7.5481e-02  2.9425e-02\n",
            " -3.2949e-01 -1.8691e-01 -9.5323e-01 -3.5468e-01 -3.3162e-01  5.6441e-02\n",
            "  2.1790e-02  1.7182e-01 -4.4267e-01  6.9765e-01 -2.6876e-01  1.1659e-01\n",
            " -1.6584e-01  3.8296e-01  2.9109e-01  3.6318e-01  3.6961e-01  1.6305e-01\n",
            "  1.8152e-01  2.2453e-01  3.9866e-02 -3.7607e-02 -3.6089e-01  7.0818e-02\n",
            " -2.1509e-01  3.6551e-01 -5.1603e-01 -5.8102e-03 -4.8320e-01 -2.5068e-01\n",
            " -5.2062e-02 -2.0828e-01  2.9060e-01  2.2084e-02 -6.8123e-01  4.2063e-01\n",
            "  9.5973e-02  8.1720e-01 -1.5241e-01  6.2994e-01  2.6449e-01 -1.3516e-01\n",
            "  3.2450e-01  3.0503e-01  1.2357e-01  1.5107e-01  2.8327e-01 -3.3838e-01\n",
            "  4.6106e-02 -1.2361e-01  1.4516e-01 -2.7947e-02  2.6231e-02 -5.9591e-01\n",
            " -4.4183e-01  7.8440e-01 -3.4375e-02 -1.3928e+00  3.5248e-01  6.5220e-01]\n"
          ]
        }
      ],
      "source": [
        "# Load the en_core_web_md model\n",
        "# nlp = spacy.load('en_core_web_md')\n",
        "\n",
        "# Process a text\n",
        "doc = nlp(\"Two bananas in pyjamas\")\n",
        "\n",
        "# Get the vector for the token \"bananas\"\n",
        "bananas_vector = doc[1].vector\n",
        "print(bananas_vector)"
      ]
    },
    {
      "cell_type": "markdown",
      "metadata": {
        "id": "_km9nlQU9Y9c"
      },
      "source": [
        "### Comparing similarities\n",
        "- using spaCy's similarity methods to compare Doc, Token and Span objects and get similarity scores."
      ]
    },
    {
      "cell_type": "code",
      "execution_count": null,
      "metadata": {
        "id": "OcN4BnqA9Y9d",
        "outputId": "a48dbb8d-12f4-4faa-9d8a-e1106d0418da"
      },
      "outputs": [
        {
          "name": "stdout",
          "output_type": "stream",
          "text": [
            "0.8789265574516525\n"
          ]
        }
      ],
      "source": [
        "doc1 = nlp(\"It's a warm summer day\")\n",
        "doc2 = nlp(\"It's sunny outside\")\n",
        "\n",
        "# Get the similarity of doc1 and doc2\n",
        "similarity = doc1.similarity(doc2)\n",
        "print(similarity)"
      ]
    },
    {
      "cell_type": "code",
      "execution_count": null,
      "metadata": {
        "id": "ScTKXc8X9Y9d",
        "outputId": "19a19bfa-5501-4eaa-fd81-18a114e22fce"
      },
      "outputs": [
        {
          "name": "stdout",
          "output_type": "stream",
          "text": [
            "0.22325331\n"
          ]
        }
      ],
      "source": [
        "doc = nlp(\"TV and books\")\n",
        "token1, token2 = doc[0], doc[2]\n",
        "\n",
        "# Get the similarity of the tokens \"TV\" and \"books\"\n",
        "similarity = token1.similarity(token2)\n",
        "print(similarity)"
      ]
    },
    {
      "cell_type": "code",
      "execution_count": null,
      "metadata": {
        "id": "w5yP5nqo9Y9d",
        "outputId": "ac9f21c2-bb67-428a-c456-0da69b2cf6e9"
      },
      "outputs": [
        {
          "name": "stdout",
          "output_type": "stream",
          "text": [
            "0.7517393180536583\n"
          ]
        }
      ],
      "source": [
        "doc = nlp(\"This was a great restaurant. Afterwards, we went to a really nice bar.\")\n",
        "\n",
        "# Create spans for \"great restaurant\" and \"really nice bar\"\n",
        "span1 = doc[3:5]\n",
        "span2 = doc[12:15]\n",
        "\n",
        "# Get the similarity of the spans\n",
        "similarity = span1.similarity(span2)\n",
        "print(similarity)"
      ]
    },
    {
      "cell_type": "markdown",
      "metadata": {
        "id": "hCyEFt8C9Y9d"
      },
      "source": [
        "- The similarities are not always this conclusive. Once we're getting serious about developing NLP applications that leverage semantic similarity, we might want to train vectors on your own data, or tweak the similarity algorithm."
      ]
    },
    {
      "cell_type": "markdown",
      "metadata": {
        "id": "1FwHH4aA9Y9d"
      },
      "source": [
        "### Debugging patterns\n",
        "- Why does this pattern not match the tokens \"Silicon Valley\" in the doc?\n",
        "\n",
        "`pattern = [{'LOWER': 'silicon'}, {'TEXT': ' '}, {'LOWER': 'valley'}]`\n",
        "\n",
        "`doc = nlp(\"Can Silicon Valley workers rein in big tech from within?\")`\n",
        "\n",
        "- The tokenizer doesn't create tokens for single spaces, so there's no token with the value ' ' in between.\n",
        "- The tokenizer already takes care of splitting off whitespace and each dictionary in the pattern describes one token."
      ]
    },
    {
      "cell_type": "code",
      "execution_count": null,
      "metadata": {
        "id": "gBVU64mP9Y9d",
        "outputId": "ab3affdd-167a-49d5-b480-72e43dc3e598"
      },
      "outputs": [
        {
          "name": "stdout",
          "output_type": "stream",
          "text": [
            "PATTERN1 Amazon Prime\n",
            "PATTERN2 ad-free viewing\n",
            "PATTERN1 Amazon Prime\n",
            "PATTERN2 ad-free viewing\n",
            "PATTERN2 ad-free viewing\n",
            "PATTERN2 ad-free viewing\n"
          ]
        }
      ],
      "source": [
        "doc = \"Twitch Prime, the perks program for Amazon Prime members offering free loot, games and other benefits, is ditching one of its best features: ad-free viewing. According to an email sent out to Amazon Prime members today, ad-free viewing will no longer be included as a part of Twitch Prime for new members, beginning on September 14. However, members with existing annual subscriptions will be able to continue to enjoy ad-free viewing until their subscription comes up for renewal. Those with monthly subscriptions will have access to ad-free viewing until October 15.\"\n",
        "doc = nlp(doc)\n",
        "\n",
        "# Create the match patterns\n",
        "pattern1 = [{'LOWER': 'amazon'}, {'IS_TITLE': True, 'POS': 'PROPN'}]\n",
        "pattern2 = [{'LOWER': 'ad'}, {'TEXT': '-'}, {'LOWER': 'free'}, {'POS': 'NOUN'}]\n",
        "\n",
        "# Initialize the Matcher and add the patterns\n",
        "matcher = Matcher(nlp.vocab)\n",
        "matcher.add('PATTERN1', None, pattern1)\n",
        "matcher.add('PATTERN2', None, pattern2)\n",
        "\n",
        "# Iterate over the matches\n",
        "for match_id, start, end in matcher(doc):\n",
        "    # Print pattern string name and text of matched span\n",
        "    print(doc.vocab.strings[match_id], doc[start:end].text)"
      ]
    },
    {
      "cell_type": "markdown",
      "metadata": {
        "id": "6zM1ApmA9Y9d"
      },
      "source": [
        "- For the token '_', we can match on the attribute TEXT, LOWER or even SHAPE. All of those are correct. As we can see, paying close attention to the tokenization is very important when working with the token-based Matcher. Sometimes it's much easier to just match exact strings instead and use the **PhraseMatcher**"
      ]
    },
    {
      "cell_type": "markdown",
      "metadata": {
        "id": "bQH8x0ab9Y9d"
      },
      "source": [
        "### Efficient phrase matching\n",
        "- Sometimes it's more efficient to match exact strings instead of writing patterns describing the individual tokens. This is especially true for finite categories of things – like all countries of the world.\n",
        "- A list of string names is available as the variable COUNTRIES\n",
        "- Import the PhraseMatcher and initialize it with the shared vocab as the variable matcher.\n",
        "- Add the phrase patterns and call the matcher on the doc."
      ]
    },
    {
      "cell_type": "code",
      "execution_count": null,
      "metadata": {
        "id": "0F1mRS0I9Y9d"
      },
      "outputs": [],
      "source": [
        "COUNTRIES = ['Afghanistan',\n",
        " 'Åland Islands',\n",
        " 'Albania',\n",
        " 'Algeria',\n",
        " 'American Samoa',\n",
        " 'Andorra',\n",
        " 'Angola',\n",
        " 'Anguilla',\n",
        " 'Antarctica',\n",
        " 'Antigua and Barbuda',\n",
        " 'Argentina',\n",
        " 'Armenia',\n",
        " 'Aruba',\n",
        " 'Australia',\n",
        " 'Austria',\n",
        " 'Azerbaijan',\n",
        " 'Bahamas',\n",
        " 'Bahrain',\n",
        " 'Bangladesh',\n",
        " 'Barbados',\n",
        " 'Belarus',\n",
        " 'Belgium',\n",
        " 'Belize',\n",
        " 'Benin',\n",
        " 'Bermuda',\n",
        " 'Bhutan',\n",
        " 'Bolivia (Plurinational State of)',\n",
        " 'Bonaire, Sint Eustatius and Saba',\n",
        " 'Bosnia and Herzegovina',\n",
        " 'Botswana',\n",
        " 'Bouvet Island',\n",
        " 'Brazil',\n",
        " 'British Indian Ocean Territory',\n",
        " 'United States Minor Outlying Islands',\n",
        " 'Virgin Islands (British)',\n",
        " 'Virgin Islands (U.S.)',\n",
        " 'Brunei Darussalam',\n",
        " 'Bulgaria',\n",
        " 'Burkina Faso',\n",
        " 'Burundi',\n",
        " 'Cambodia',\n",
        " 'Cameroon',\n",
        " 'Canada',\n",
        " 'Cabo Verde',\n",
        " 'Cayman Islands',\n",
        " 'Central African Republic',\n",
        " 'Chad',\n",
        " 'Chile',\n",
        " 'China',\n",
        " 'Christmas Island',\n",
        " 'Cocos (Keeling) Islands',\n",
        " 'Colombia',\n",
        " 'Comoros',\n",
        " 'Congo',\n",
        " 'Congo (Democratic Republic of the)',\n",
        " 'Cook Islands',\n",
        " 'Costa Rica',\n",
        " 'Croatia',\n",
        " 'Cuba',\n",
        " 'Curaçao',\n",
        " 'Cyprus',\n",
        " 'Czech Republic',\n",
        " 'Denmark',\n",
        " 'Djibouti',\n",
        " 'Dominica',\n",
        " 'Dominican Republic',\n",
        " 'Ecuador',\n",
        " 'Egypt',\n",
        " 'El Salvador',\n",
        " 'Equatorial Guinea',\n",
        " 'Eritrea',\n",
        " 'Estonia',\n",
        " 'Ethiopia',\n",
        " 'Falkland Islands (Malvinas)',\n",
        " 'Faroe Islands',\n",
        " 'Fiji',\n",
        " 'Finland',\n",
        " 'France',\n",
        " 'French Guiana',\n",
        " 'French Polynesia',\n",
        " 'French Southern Territories',\n",
        " 'Gabon',\n",
        " 'Gambia',\n",
        " 'Georgia',\n",
        " 'Germany',\n",
        " 'Ghana',\n",
        " 'Gibraltar',\n",
        " 'Greece',\n",
        " 'Greenland',\n",
        " 'Grenada',\n",
        " 'Guadeloupe',\n",
        " 'Guam',\n",
        " 'Guatemala',\n",
        " 'Guernsey',\n",
        " 'Guinea',\n",
        " 'Guinea-Bissau',\n",
        " 'Guyana',\n",
        " 'Haiti',\n",
        " 'Heard Island and McDonald Islands',\n",
        " 'Holy See',\n",
        " 'Honduras',\n",
        " 'Hong Kong',\n",
        " 'Hungary',\n",
        " 'Iceland',\n",
        " 'India',\n",
        " 'Indonesia',\n",
        " \"Côte d'Ivoire\",\n",
        " 'Iran (Islamic Republic of)',\n",
        " 'Iraq',\n",
        " 'Ireland',\n",
        " 'Isle of Man',\n",
        " 'Israel',\n",
        " 'Italy',\n",
        " 'Jamaica',\n",
        " 'Japan',\n",
        " 'Jersey',\n",
        " 'Jordan',\n",
        " 'Kazakhstan',\n",
        " 'Kenya',\n",
        " 'Kiribati',\n",
        " 'Kuwait',\n",
        " 'Kyrgyzstan',\n",
        " \"Lao People's Democratic Republic\",\n",
        " 'Latvia',\n",
        " 'Lebanon',\n",
        " 'Lesotho',\n",
        " 'Liberia',\n",
        " 'Libya',\n",
        " 'Liechtenstein',\n",
        " 'Lithuania',\n",
        " 'Luxembourg',\n",
        " 'Macao',\n",
        " 'Macedonia (the former Yugoslav Republic of)',\n",
        " 'Madagascar',\n",
        " 'Malawi',\n",
        " 'Malaysia',\n",
        " 'Maldives',\n",
        " 'Mali',\n",
        " 'Malta',\n",
        " 'Marshall Islands',\n",
        " 'Martinique',\n",
        " 'Mauritania',\n",
        " 'Mauritius',\n",
        " 'Mayotte',\n",
        " 'Mexico',\n",
        " 'Micronesia (Federated States of)',\n",
        " 'Moldova (Republic of)',\n",
        " 'Monaco',\n",
        " 'Mongolia',\n",
        " 'Montenegro',\n",
        " 'Montserrat',\n",
        " 'Morocco',\n",
        " 'Mozambique',\n",
        " 'Myanmar',\n",
        " 'Namibia',\n",
        " 'Nauru',\n",
        " 'Nepal',\n",
        " 'Netherlands',\n",
        " 'New Caledonia',\n",
        " 'New Zealand',\n",
        " 'Nicaragua',\n",
        " 'Niger',\n",
        " 'Nigeria',\n",
        " 'Niue',\n",
        " 'Norfolk Island',\n",
        " \"Korea (Democratic People's Republic of)\",\n",
        " 'Northern Mariana Islands',\n",
        " 'Norway',\n",
        " 'Oman',\n",
        " 'Pakistan',\n",
        " 'Palau',\n",
        " 'Palestine, State of',\n",
        " 'Panama',\n",
        " 'Papua New Guinea',\n",
        " 'Paraguay',\n",
        " 'Peru',\n",
        " 'Philippines',\n",
        " 'Pitcairn',\n",
        " 'Poland',\n",
        " 'Portugal',\n",
        " 'Puerto Rico',\n",
        " 'Qatar',\n",
        " 'Republic of Kosovo',\n",
        " 'Réunion',\n",
        " 'Romania',\n",
        " 'Russian Federation',\n",
        " 'Rwanda',\n",
        " 'Saint Barthélemy',\n",
        " 'Saint Helena, Ascension and Tristan da Cunha',\n",
        " 'Saint Kitts and Nevis',\n",
        " 'Saint Lucia',\n",
        " 'Saint Martin (French part)',\n",
        " 'Saint Pierre and Miquelon',\n",
        " 'Saint Vincent and the Grenadines',\n",
        " 'Samoa',\n",
        " 'San Marino',\n",
        " 'Sao Tome and Principe',\n",
        " 'Saudi Arabia',\n",
        " 'Senegal',\n",
        " 'Serbia',\n",
        " 'Seychelles',\n",
        " 'Sierra Leone',\n",
        " 'Singapore',\n",
        " 'Sint Maarten (Dutch part)',\n",
        " 'Slovakia',\n",
        " 'Slovenia',\n",
        " 'Solomon Islands',\n",
        " 'Somalia',\n",
        " 'South Africa',\n",
        " 'South Georgia and the South Sandwich Islands',\n",
        " 'Korea (Republic of)',\n",
        " 'South Sudan',\n",
        " 'Spain',\n",
        " 'Sri Lanka',\n",
        " 'Sudan',\n",
        " 'Suriname',\n",
        " 'Svalbard and Jan Mayen',\n",
        " 'Swaziland',\n",
        " 'Sweden',\n",
        " 'Switzerland',\n",
        " 'Syrian Arab Republic',\n",
        " 'Taiwan',\n",
        " 'Tajikistan',\n",
        " 'Tanzania, United Republic of',\n",
        " 'Thailand',\n",
        " 'Timor-Leste',\n",
        " 'Togo',\n",
        " 'Tokelau',\n",
        " 'Tonga',\n",
        " 'Trinidad and Tobago',\n",
        " 'Tunisia',\n",
        " 'Turkey',\n",
        " 'Turkmenistan',\n",
        " 'Turks and Caicos Islands',\n",
        " 'Tuvalu',\n",
        " 'Uganda',\n",
        " 'Ukraine',\n",
        " 'United Arab Emirates',\n",
        " 'United Kingdom of Great Britain and Northern Ireland',\n",
        " 'United States of America',\n",
        " 'Uruguay',\n",
        " 'Uzbekistan',\n",
        " 'Vanuatu',\n",
        " 'Venezuela (Bolivarian Republic of)',\n",
        " 'Viet Nam',\n",
        " 'Wallis and Futuna',\n",
        " 'Western Sahara',\n",
        " 'Yemen',\n",
        " 'Zambia',\n",
        " 'Zimbabwe']\n"
      ]
    },
    {
      "cell_type": "code",
      "execution_count": null,
      "metadata": {
        "id": "42tKYukL9Y9e",
        "outputId": "f9bc91ed-3015-4dbd-fe06-892bdf428728"
      },
      "outputs": [
        {
          "name": "stdout",
          "output_type": "stream",
          "text": [
            "[Czech Republic, Slovakia]\n"
          ]
        }
      ],
      "source": [
        "doc = nlp('Czech Republic may help Slovakia protect its airspace')\n",
        "\n",
        "# Import the PhraseMatcher and initialize it\n",
        "from spacy.matcher import PhraseMatcher\n",
        "country_matcher = PhraseMatcher(nlp.vocab)\n",
        "\n",
        "# Create pattern Doc objects and add them to the matcher\n",
        "# This is the faster version of: [nlp(country) for country in COUNTRIES]\n",
        "patterns = list(nlp.pipe(COUNTRIES))\n",
        "country_matcher.add('COUNTRY', None, *patterns)\n",
        "\n",
        "# Call the matcher on the test document and print the result\n",
        "matches = country_matcher(doc)\n",
        "print([doc[start:end] for match_id, start, end in matches])"
      ]
    },
    {
      "cell_type": "markdown",
      "metadata": {
        "id": "uKC1hAUH9Y9e"
      },
      "source": [
        "### Extracting countries and relationships\n",
        "- Let's use this country matcher on a longer text, analyze the syntax and update the document's entities with the matched countries."
      ]
    },
    {
      "cell_type": "code",
      "execution_count": null,
      "metadata": {
        "id": "zGq9P_uP9Y9e"
      },
      "outputs": [],
      "source": [
        "import spacy\n",
        "from spacy.tokens import Span\n",
        "# from spacy.lang.en import English\n",
        "nlp = spacy.load('en_core_web_md')\n",
        "# nlp = English()"
      ]
    },
    {
      "cell_type": "code",
      "execution_count": null,
      "metadata": {
        "id": "i94XlHuQ9Y9e",
        "outputId": "110891e7-16bd-43ba-e4c2-d00f96870973"
      },
      "outputs": [
        {
          "name": "stdout",
          "output_type": "stream",
          "text": [
            "[('Namibia', 'GPE'), ('South Africa', 'GPE'), ('Cambodia', 'GPE'), ('US', 'GPE'), ('Kuwait', 'GPE'), ('Somalia', 'GPE'), ('Haiti', 'GPE'), ('Mozambique', 'GPE'), ('Yugoslavia', 'GPE'), ('Somalia', 'GPE'), ('US', 'GPE'), ('Bosnia', 'GPE'), ('US', 'GPE'), ('Britain', 'GPE'), ('Singapore', 'GPE'), ('the United States', 'GPE'), ('Afghanistan', 'GPE'), ('the United States', 'GPE'), ('Iraq', 'GPE'), ('Darfur', 'GPE'), ('Sudan', 'GPE'), ('the Democratic Republic of Congo', 'GPE'), ('Haiti', 'GPE')]\n"
          ]
        }
      ],
      "source": [
        "text = 'After the Cold War, the UN saw a radical expansion in its peacekeeping duties, taking on more missions in ten years than it had in the previous four decades.Between 1988 and 2000, the number of adopted Security Council resolutions more than doubled, and the peacekeeping budget increased more than tenfold. The UN negotiated an end to the Salvadoran Civil War, launched a successful peacekeeping mission in Namibia, and oversaw democratic elections in post-apartheid South Africa and post-Khmer Rouge Cambodia. In 1991, the UN authorized a US-led coalition that repulsed the Iraqi invasion of Kuwait. Brian Urquhart, Under-Secretary-General from 1971 to 1985, later described the hopes raised by these successes as a \"false renaissance\" for the organization, given the more troubled missions that followed. Though the UN Charter had been written primarily to prevent aggression by one nation against another, in the early 1990s the UN faced a number of simultaneous, serious crises within nations such as Somalia, Haiti, Mozambique, and the former Yugoslavia. The UN mission in Somalia was widely viewed as a failure after the US withdrawal following casualties in the Battle of Mogadishu, and the UN mission to Bosnia faced \"worldwide ridicule\" for its indecisive and confused mission in the face of ethnic cleansing. In 1994, the UN Assistance Mission for Rwanda failed to intervene in the Rwandan genocide amid indecision in the Security Council. Beginning in the last decades of the Cold War, American and European critics of the UN condemned the organization for perceived mismanagement and corruption. In 1984, the US President, Ronald Reagan, withdrew his nation\\'s funding from UNESCO (the United Nations Educational, Scientific and Cultural Organization, founded 1946) over allegations of mismanagement, followed by Britain and Singapore. Boutros Boutros-Ghali, Secretary-General from 1992 to 1996, initiated a reform of the Secretariat, reducing the size of the organization somewhat. His successor, Kofi Annan (1997–2006), initiated further management reforms in the face of threats from the United States to withhold its UN dues. In the late 1990s and 2000s, international interventions authorized by the UN took a wider variety of forms. The UN mission in the Sierra Leone Civil War of 1991–2002 was supplemented by British Royal Marines, and the invasion of Afghanistan in 2001 was overseen by NATO. In 2003, the United States invaded Iraq despite failing to pass a UN Security Council resolution for authorization, prompting a new round of questioning of the organization\\'s effectiveness. Under the eighth Secretary-General, Ban Ki-moon, the UN has intervened with peacekeepers in crises including the War in Darfur in Sudan and the Kivu conflict in the Democratic Republic of Congo and sent observers and chemical weapons inspectors to the Syrian Civil War. In 2013, an internal review of UN actions in the final battles of the Sri Lankan Civil War in 2009 concluded that the organization had suffered \"systemic failure\". One hundred and one UN personnel died in the 2010 Haiti earthquake, the worst loss of life in the organization\\'s history. The Millennium Summit was held in 2000 to discuss the UN\\'s role in the 21st century. The three day meeting was the largest gathering of world leaders in history, and culminated in the adoption by all member states of the Millennium Development Goals (MDGs), a commitment to achieve international development in areas such as poverty reduction, gender equality, and public health. Progress towards these goals, which were to be met by 2015, was ultimately uneven. The 2005 World Summit reaffirmed the UN\\'s focus on promoting development, peacekeeping, human rights, and global security. The Sustainable Development Goals were launched in 2015 to succeed the Millennium Development Goals. In addition to addressing global challenges, the UN has sought to improve its accountability and democratic legitimacy by engaging more with civil society and fostering a global constituency. In an effort to enhance transparency, in 2016 the organization held its first public debate between candidates for Secretary-General. On 1 January 2017, Portuguese diplomat António Guterres, who previously served as UN High Commissioner for Refugees, became the ninth Secretary-General. Guterres has highlighted several key goals for his administration, including an emphasis on diplomacy for preventing conflicts, more effective peacekeeping efforts, and streamlining the organization to be more responsive and versatile to global needs.'\n",
        "\n",
        "# Create a doc and find matches in it\n",
        "doc = nlp(text)\n",
        "\n",
        "# Iterate over the matches\n",
        "for match_id, start, end in matcher(doc):\n",
        "    # Create a Span with the label for \"GPE\"\n",
        "#     print(start, end, match_id)\n",
        "    span = Span(doc, start, end, label=\"GPE\")\n",
        "#     print(span)\n",
        "#     print(list(doc.ents))\n",
        "    # Overwrite the doc.ents and add the span\n",
        "    if not span in doc.ents and span.text not in ['Rwanda','Sierra Leone','Congo']:\n",
        "        doc.ents = list(doc.ents) + [span]\n",
        "\n",
        "# Print the entities in the document\n",
        "print([(ent.text, ent.label_) for ent in doc.ents if ent.label_ == 'GPE'])"
      ]
    },
    {
      "cell_type": "markdown",
      "metadata": {
        "id": "D7-MUzet9Y9e"
      },
      "source": [
        "- Update the script and get the matched span's root head token."
      ]
    },
    {
      "cell_type": "code",
      "execution_count": null,
      "metadata": {
        "id": "YHWgW2nC9Y9e"
      },
      "outputs": [],
      "source": [
        "# Create a doc and find matches in it\n",
        "doc = nlp(text)\n",
        "\n",
        "# Iterate over the matches\n",
        "for match_id, start, end in matcher(doc):\n",
        "    # Create a Span with the label for \"GPE\" and overwrite the doc.ents\n",
        "    span = Span(doc, start, end, label='GPE')\n",
        "    if not span in doc.ents and span.text not in ['Rwanda','Sierra Leone','Congo']:\n",
        "        doc.ents = list(doc.ents) + [span]\n",
        "\n",
        "    # Get the span's root head token\n",
        "    span_root_head = span.root.head\n",
        "    # Print the text of the span root's head token and the span text\n",
        "    print(span_root_head.text, '-->', span.text)"
      ]
    },
    {
      "cell_type": "markdown",
      "metadata": {
        "id": "pyz0O3u49Y9e"
      },
      "source": [
        "### What happens when we call nlp?\n",
        "- The tokenizer turns a string of text into a Doc object. spaCy then applies every component in the pipeline on document, in order."
      ]
    },
    {
      "cell_type": "markdown",
      "metadata": {
        "id": "pm-d6vAJ9Y9e"
      },
      "source": [
        "### Inspecting the pipeline"
      ]
    },
    {
      "cell_type": "code",
      "execution_count": null,
      "metadata": {
        "id": "Mp_JfqB_9Y9e",
        "outputId": "89b2d1ea-aad0-473a-9403-65b2371536aa"
      },
      "outputs": [
        {
          "name": "stdout",
          "output_type": "stream",
          "text": [
            "['tagger', 'parser', 'ner']\n",
            "[('tagger', <spacy.pipeline.pipes.Tagger object at 0x000001D20C85D710>), ('parser', <spacy.pipeline.pipes.DependencyParser object at 0x000001D210B335E8>), ('ner', <spacy.pipeline.pipes.EntityRecognizer object at 0x000001D210B33648>)]\n"
          ]
        }
      ],
      "source": [
        "# Load the en_core_web_sm model\n",
        "nlp = spacy.load(\"en_core_web_sm\")\n",
        "# Print the names of the pipeline components\n",
        "print(nlp.pipe_names)\n",
        "\n",
        "# Print the full pipeline of (name, component) tuples\n",
        "print(nlp.pipeline)"
      ]
    },
    {
      "cell_type": "markdown",
      "metadata": {
        "id": "gRBXKivF9Y9e"
      },
      "source": [
        "### Custom pipeline components\n",
        "\n",
        "#### Simple components\n",
        "- a custom component that prints the character length of a document."
      ]
    },
    {
      "cell_type": "code",
      "execution_count": null,
      "metadata": {
        "id": "f_S__o4I9Y9e",
        "outputId": "e44f2fe4-754e-4fd5-e381-87a9c5c0a988"
      },
      "outputs": [
        {
          "name": "stdout",
          "output_type": "stream",
          "text": [
            "['length_component', 'tagger', 'parser', 'ner']\n"
          ]
        }
      ],
      "source": [
        "# Define the custom component\n",
        "def length_component(doc):\n",
        "    # Get the doc's length\n",
        "    doc_length = len(doc)\n",
        "    print(\"This document is {} tokens long.\".format(doc_length))\n",
        "    # Return the doc\n",
        "    return doc\n",
        "\n",
        "# Load the small English model\n",
        "nlp = spacy.load('en_core_web_sm')\n",
        "\n",
        "# Add the component first in the pipeline and print the pipe names\n",
        "nlp.add_pipe(length_component, first=True)\n",
        "print(nlp.pipe_names)"
      ]
    },
    {
      "cell_type": "code",
      "execution_count": null,
      "metadata": {
        "id": "VYK7eC4g9Y9f",
        "outputId": "47bdf6c9-c881-41bd-b072-babe998ba44a"
      },
      "outputs": [
        {
          "name": "stdout",
          "output_type": "stream",
          "text": [
            "This document is 5 tokens long.\n"
          ]
        }
      ],
      "source": [
        "# Process a text\n",
        "doc = nlp(\"This is a sentence.\")"
      ]
    },
    {
      "cell_type": "markdown",
      "metadata": {
        "id": "qtiebh7O9Y9f"
      },
      "source": [
        "### Complex components\n",
        "- a custom component that uses the PhraseMatcher to find animal names in the document and adds the matched spans to the doc.ents."
      ]
    },
    {
      "cell_type": "code",
      "execution_count": null,
      "metadata": {
        "id": "D__LnJ3m9Y9f"
      },
      "outputs": [],
      "source": [
        "animal_patterns = ['Golden Retriever', 'cat', 'turtle', 'Rattus norvegicus']\n",
        "\n",
        "# Import the PhraseMatcher and initialize it\n",
        "# from spacy.matcher import PhraseMatcher\n",
        "nlp = spacy.load('en_core_web_sm')\n",
        "matcher = PhraseMatcher(nlp.vocab)\n",
        "\n",
        "# Create pattern Doc objects and add them to the matcher\n",
        "# This is the faster version of: [nlp(country) for country in COUNTRIES]\n",
        "patterns = list(nlp.pipe(animal_patterns))\n",
        "matcher.add('ANIMAL', None, *patterns)"
      ]
    },
    {
      "cell_type": "code",
      "execution_count": null,
      "metadata": {
        "id": "PeimFL629Y9f",
        "outputId": "10440476-6fbf-4a74-81f8-1871e1991005"
      },
      "outputs": [
        {
          "name": "stdout",
          "output_type": "stream",
          "text": [
            "[('cat', 'ANIMAL'), ('Golden Retriever', 'ANIMAL')]\n"
          ]
        }
      ],
      "source": [
        "# Define the custom component\n",
        "def animal_component(doc):\n",
        "    # Create a Span for each match and assign the label 'ANIMAL'\n",
        "    # and overwrite the doc.ents with the matched spans\n",
        "    doc.ents = [Span(doc, start, end, label='ANIMAL')\n",
        "                for match_id, start, end in matcher(doc)]\n",
        "    return doc\n",
        "\n",
        "# Add the component to the pipeline after the 'ner' component\n",
        "nlp.add_pipe(animal_component, after='ner')\n",
        "\n",
        "# Process the text and print the text and label for the doc.ents\n",
        "doc = nlp(\"I have a cat and a Golden Retriever\")\n",
        "print([(ent.text, ent.label_) for ent in doc.ents])"
      ]
    },
    {
      "cell_type": "markdown",
      "metadata": {
        "id": "maQ1i3Xr9Y9f"
      },
      "source": [
        "- We've built our first pipeline component for rule-based entity matching."
      ]
    },
    {
      "cell_type": "markdown",
      "metadata": {
        "id": "pkCJmQLw9Y9f"
      },
      "source": [
        "### Setting extension attributes\n",
        "- Use Token.set_extension to register is_country (default False).\n",
        "- Update it for \"Spain\" and print it for all tokens.\n"
      ]
    },
    {
      "cell_type": "code",
      "execution_count": null,
      "metadata": {
        "id": "SK99pIC99Y9f",
        "outputId": "b4973fe1-d3be-41ba-9a10-3546afee45b1"
      },
      "outputs": [
        {
          "name": "stdout",
          "output_type": "stream",
          "text": [
            "[('I', False), ('live', False), ('in', False), ('Spain', True), ('.', False)]\n"
          ]
        }
      ],
      "source": [
        "from spacy.tokens import Token\n",
        "\n",
        "# Register the Token extension attribute 'is_country' with the default value False\n",
        "Token.set_extension('is_country', default=False)\n",
        "\n",
        "# Process the text and set the is_country attribute to True for the token \"Spain\"\n",
        "doc = nlp(\"I live in Spain.\")\n",
        "doc[3]._.is_country = True\n",
        "\n",
        "    # Print the token text and the is_country attribute for all tokens\n",
        "print([(token.text, token._.is_country) for token in doc])"
      ]
    },
    {
      "cell_type": "markdown",
      "metadata": {
        "id": "Wk7tgZyu9Y9f"
      },
      "source": [
        "- Use Token.set_extension to register 'reversed' (getter function get_reversed)."
      ]
    },
    {
      "cell_type": "code",
      "execution_count": null,
      "metadata": {
        "id": "1ANvcA3r9Y9f",
        "outputId": "92c218ce-95e1-4cfd-b028-f0006031df9b"
      },
      "outputs": [
        {
          "name": "stdout",
          "output_type": "stream",
          "text": [
            "reversed: llA\n",
            "reversed: snoitazilareneg\n",
            "reversed: era\n",
            "reversed: eslaf\n",
            "reversed: ,\n",
            "reversed: gnidulcni\n",
            "reversed: siht\n",
            "reversed: eno\n",
            "reversed: .\n"
          ]
        }
      ],
      "source": [
        "# Define the getter function that takes a token and returns its reversed text\n",
        "def get_reversed(token):\n",
        "    return token.text[::-1]\n",
        "\n",
        "# Register the Token property extension 'reversed' with the getter get_reversed\n",
        "Token.set_extension('reversed', getter=get_reversed)\n",
        "\n",
        "# Process the text and print the reversed attribute for each token\n",
        "doc = nlp(\"All generalizations are false, including this one.\")\n",
        "for token in doc:\n",
        "    print('reversed:', token._.reversed)"
      ]
    },
    {
      "cell_type": "markdown",
      "metadata": {
        "id": "pbhGp6gw9Y9f"
      },
      "source": [
        "- Let's try setting some more complex attributes using getters and method extensions.\n",
        "- Use Doc.set_extension to register 'has_number' (getter get_has_number) and print its value."
      ]
    },
    {
      "cell_type": "code",
      "execution_count": null,
      "metadata": {
        "id": "7S90mSzU9Y9f",
        "outputId": "31ba15ce-2512-403b-bce0-947f0b3a3eaa"
      },
      "outputs": [
        {
          "name": "stdout",
          "output_type": "stream",
          "text": [
            "has_number: True\n"
          ]
        }
      ],
      "source": [
        "# Define the getter function\n",
        "def get_has_number(doc):\n",
        "    # Return if any of the tokens in the doc return True for token.like_num\n",
        "    return any(token.like_num for token in doc)\n",
        "\n",
        "# Register the Doc property extension 'has_number' with the getter get_has_number\n",
        "Doc.set_extension('has_number', getter=get_has_number)\n",
        "\n",
        "# Process the text and check the custom has_number attribute\n",
        "doc = nlp(\"The museum closed for five years in 2012.\")\n",
        "print('has_number:', doc._.has_number)"
      ]
    },
    {
      "cell_type": "markdown",
      "metadata": {
        "id": "KIxgT_0x9Y9f"
      },
      "source": [
        "- Use Span.set_extension to register 'to_html' (method to_html).\n",
        "- Call it on doc[0:2] with the tag 'strong'.\n",
        "\n"
      ]
    },
    {
      "cell_type": "code",
      "execution_count": null,
      "metadata": {
        "id": "d3j4_pwu9Y9g",
        "outputId": "c0905228-dada-43a9-bd06-7e5ae0d780ab"
      },
      "outputs": [
        {
          "name": "stdout",
          "output_type": "stream",
          "text": [
            "<strong>Hello world</strong>\n"
          ]
        }
      ],
      "source": [
        "# Define the method\n",
        "def to_html(span, tag):\n",
        "    # Wrap the span text in a HTML tag and return it\n",
        "    return '<{tag}>{text}</{tag}>'.format(tag=tag, text=span.text)\n",
        "\n",
        "# Register the Span property extension 'to_html' with the method to_html\n",
        "Span.set_extension('to_html', method=to_html)\n",
        "\n",
        "# Process the text and call the to_html method on the span with the tag name 'strong'\n",
        "doc = nlp(\"Hello world, this is a sentence.\")\n",
        "span = doc[0:2]\n",
        "print(span._.to_html('strong'))"
      ]
    },
    {
      "cell_type": "markdown",
      "metadata": {
        "id": "cbPn4uWK9Y9g"
      },
      "source": [
        "### Entities and extensions\n",
        "- combine custom extension attributes with the model's predictions and create an attribute getter that returns a Wikipedia search URL if the span is a person, organization, or location."
      ]
    },
    {
      "cell_type": "code",
      "execution_count": null,
      "metadata": {
        "id": "QIhwyHZU9Y9g",
        "outputId": "b1250bae-dcb7-41a5-823b-fcdb7823a788"
      },
      "outputs": [
        {
          "name": "stdout",
          "output_type": "stream",
          "text": [
            "over fifty years None\n",
            "first None\n",
            "David Bowie https://en.wikipedia.org/w/index.php?search=David_Bowie\n"
          ]
        }
      ],
      "source": [
        "def get_wikipedia_url(span):\n",
        "    # Get a Wikipedia URL if the span has one of the labels\n",
        "    if span.label_ in ('PERSON', 'ORG', 'GPE', 'LOCATION'):\n",
        "        entity_text = span.text.replace(' ', '_')\n",
        "        return \"https://en.wikipedia.org/w/index.php?search=\" + entity_text\n",
        "\n",
        "# Set the Span extension wikipedia_url using get getter get_wikipedia_url\n",
        "Span.set_extension('wikipedia_url', getter=get_wikipedia_url, force=True)\n",
        "\n",
        "nlp = spacy.load('en_core_web_sm')\n",
        "doc = nlp(\"In over fifty years from his very first recordings right through to his last album, David Bowie was at the vanguard of contemporary culture.\")\n",
        "for ent in doc.ents:\n",
        "#     print(ent.label_)\n",
        "    # Print the text and Wikipedia URL of the entity\n",
        "    print(ent.text, ent._.wikipedia_url)"
      ]
    },
    {
      "cell_type": "markdown",
      "metadata": {
        "id": "CIVKSNEV9Y9g"
      },
      "source": [
        "- We now have a pipeline component that uses named entities predicted by the model to generate Wikipedia URLs and adds them as a custom attribute."
      ]
    },
    {
      "cell_type": "markdown",
      "metadata": {
        "id": "pew8bG0Y9Y9g"
      },
      "source": [
        "### Components with extensions\n",
        "- Extension attributes are especially powerful if they're combined with custom pipeline components.We'll write a pipeline component that finds country names and a custom extension attribute that returns a country's capital, if available.\n",
        "- A phrase matcher with all countries is define in above cells as the variable **matcher**\n",
        "-  A dictionary of countries mapped to their capital cities is available as the variable **capitals.**"
      ]
    },
    {
      "cell_type": "code",
      "execution_count": null,
      "metadata": {
        "id": "_d-pCE789Y9g"
      },
      "outputs": [],
      "source": [
        "capitals = {'Afghanistan': 'Kabul',\n",
        " 'Albania': 'Tirana',\n",
        " 'Algeria': 'Algiers',\n",
        " 'American Samoa': 'Pago Pago',\n",
        " 'Andorra': 'Andorra la Vella',\n",
        " 'Angola': 'Luanda',\n",
        " 'Anguilla': 'The Valley',\n",
        " 'Antarctica': '',\n",
        " 'Antigua and Barbuda': \"Saint John's\",\n",
        " 'Argentina': 'Buenos Aires',\n",
        " 'Armenia': 'Yerevan',\n",
        " 'Aruba': 'Oranjestad',\n",
        " 'Australia': 'Canberra',\n",
        " 'Austria': 'Vienna',\n",
        " 'Azerbaijan': 'Baku',\n",
        " 'Bahamas': 'Nassau',\n",
        " 'Bahrain': 'Manama',\n",
        " 'Bangladesh': 'Dhaka',\n",
        " 'Barbados': 'Bridgetown',\n",
        " 'Belarus': 'Minsk',\n",
        " 'Belgium': 'Brussels',\n",
        " 'Belize': 'Belmopan',\n",
        " 'Benin': 'Porto-Novo',\n",
        " 'Bermuda': 'Hamilton',\n",
        " 'Bhutan': 'Thimphu',\n",
        " 'Bolivia (Plurinational State of)': 'Sucre',\n",
        " 'Bonaire, Sint Eustatius and Saba': 'Kralendijk',\n",
        " 'Bosnia and Herzegovina': 'Sarajevo',\n",
        " 'Botswana': 'Gaborone',\n",
        " 'Bouvet Island': '',\n",
        " 'Brazil': 'Brasília',\n",
        " 'British Indian Ocean Territory': 'Diego Garcia',\n",
        " 'Brunei Darussalam': 'Bandar Seri Begawan',\n",
        " 'Bulgaria': 'Sofia',\n",
        " 'Burkina Faso': 'Ouagadougou',\n",
        " 'Burundi': 'Bujumbura',\n",
        " 'Cabo Verde': 'Praia',\n",
        " 'Cambodia': 'Phnom Penh',\n",
        " 'Cameroon': 'Yaoundé',\n",
        " 'Canada': 'Ottawa',\n",
        " 'Cayman Islands': 'George Town',\n",
        " 'Central African Republic': 'Bangui',\n",
        " 'Chad': \"N'Djamena\",\n",
        " 'Chile': 'Santiago',\n",
        " 'China': 'Beijing',\n",
        " 'Christmas Island': 'Flying Fish Cove',\n",
        " 'Cocos (Keeling) Islands': 'West Island',\n",
        " 'Colombia': 'Bogotá',\n",
        " 'Comoros': 'Moroni',\n",
        " 'Congo': 'Brazzaville',\n",
        " 'Congo (Democratic Republic of the)': 'Kinshasa',\n",
        " 'Cook Islands': 'Avarua',\n",
        " 'Costa Rica': 'San José',\n",
        " 'Croatia': 'Zagreb',\n",
        " 'Cuba': 'Havana',\n",
        " 'Curaçao': 'Willemstad',\n",
        " 'Cyprus': 'Nicosia',\n",
        " 'Czech Republic': 'Prague',\n",
        " \"Côte d'Ivoire\": 'Yamoussoukro',\n",
        " 'Denmark': 'Copenhagen',\n",
        " 'Djibouti': 'Djibouti',\n",
        " 'Dominica': 'Roseau',\n",
        " 'Dominican Republic': 'Santo Domingo',\n",
        " 'Ecuador': 'Quito',\n",
        " 'Egypt': 'Cairo',\n",
        " 'El Salvador': 'San Salvador',\n",
        " 'Equatorial Guinea': 'Malabo',\n",
        " 'Eritrea': 'Asmara',\n",
        " 'Estonia': 'Tallinn',\n",
        " 'Ethiopia': 'Addis Ababa',\n",
        " 'Falkland Islands (Malvinas)': 'Stanley',\n",
        " 'Faroe Islands': 'Tórshavn',\n",
        " 'Fiji': 'Suva',\n",
        " 'Finland': 'Helsinki',\n",
        " 'France': 'Paris',\n",
        " 'French Guiana': 'Cayenne',\n",
        " 'French Polynesia': 'Papeetē',\n",
        " 'French Southern Territories': 'Port-aux-Français',\n",
        " 'Gabon': 'Libreville',\n",
        " 'Gambia': 'Banjul',\n",
        " 'Georgia': 'Tbilisi',\n",
        " 'Germany': 'Berlin',\n",
        " 'Ghana': 'Accra',\n",
        " 'Gibraltar': 'Gibraltar',\n",
        " 'Greece': 'Athens',\n",
        " 'Greenland': 'Nuuk',\n",
        " 'Grenada': \"St. George's\",\n",
        " 'Guadeloupe': 'Basse-Terre',\n",
        " 'Guam': 'Hagåtña',\n",
        " 'Guatemala': 'Guatemala City',\n",
        " 'Guernsey': 'St. Peter Port',\n",
        " 'Guinea': 'Conakry',\n",
        " 'Guinea-Bissau': 'Bissau',\n",
        " 'Guyana': 'Georgetown',\n",
        " 'Haiti': 'Port-au-Prince',\n",
        " 'Heard Island and McDonald Islands': '',\n",
        " 'Holy See': 'Rome',\n",
        " 'Honduras': 'Tegucigalpa',\n",
        " 'Hong Kong': 'City of Victoria',\n",
        " 'Hungary': 'Budapest',\n",
        " 'Iceland': 'Reykjavík',\n",
        " 'India': 'New Delhi',\n",
        " 'Indonesia': 'Jakarta',\n",
        " 'Iran (Islamic Republic of)': 'Tehran',\n",
        " 'Iraq': 'Baghdad',\n",
        " 'Ireland': 'Dublin',\n",
        " 'Isle of Man': 'Douglas',\n",
        " 'Israel': 'Jerusalem',\n",
        " 'Italy': 'Rome',\n",
        " 'Jamaica': 'Kingston',\n",
        " 'Japan': 'Tokyo',\n",
        " 'Jersey': 'Saint Helier',\n",
        " 'Jordan': 'Amman',\n",
        " 'Kazakhstan': 'Astana',\n",
        " 'Kenya': 'Nairobi',\n",
        " 'Kiribati': 'South Tarawa',\n",
        " \"Korea (Democratic People's Republic of)\": 'Pyongyang',\n",
        " 'Korea (Republic of)': 'Seoul',\n",
        " 'Kuwait': 'Kuwait City',\n",
        " 'Kyrgyzstan': 'Bishkek',\n",
        " \"Lao People's Democratic Republic\": 'Vientiane',\n",
        " 'Latvia': 'Riga',\n",
        " 'Lebanon': 'Beirut',\n",
        " 'Lesotho': 'Maseru',\n",
        " 'Liberia': 'Monrovia',\n",
        " 'Libya': 'Tripoli',\n",
        " 'Liechtenstein': 'Vaduz',\n",
        " 'Lithuania': 'Vilnius',\n",
        " 'Luxembourg': 'Luxembourg',\n",
        " 'Macao': '',\n",
        " 'Macedonia (the former Yugoslav Republic of)': 'Skopje',\n",
        " 'Madagascar': 'Antananarivo',\n",
        " 'Malawi': 'Lilongwe',\n",
        " 'Malaysia': 'Kuala Lumpur',\n",
        " 'Maldives': 'Malé',\n",
        " 'Mali': 'Bamako',\n",
        " 'Malta': 'Valletta',\n",
        " 'Marshall Islands': 'Majuro',\n",
        " 'Martinique': 'Fort-de-France',\n",
        " 'Mauritania': 'Nouakchott',\n",
        " 'Mauritius': 'Port Louis',\n",
        " 'Mayotte': 'Mamoudzou',\n",
        " 'Mexico': 'Mexico City',\n",
        " 'Micronesia (Federated States of)': 'Palikir',\n",
        " 'Moldova (Republic of)': 'Chișinău',\n",
        " 'Monaco': 'Monaco',\n",
        " 'Mongolia': 'Ulan Bator',\n",
        " 'Montenegro': 'Podgorica',\n",
        " 'Montserrat': 'Plymouth',\n",
        " 'Morocco': 'Rabat',\n",
        " 'Mozambique': 'Maputo',\n",
        " 'Myanmar': 'Naypyidaw',\n",
        " 'Namibia': 'Windhoek',\n",
        " 'Nauru': 'Yaren',\n",
        " 'Nepal': 'Kathmandu',\n",
        " 'Netherlands': 'Amsterdam',\n",
        " 'New Caledonia': 'Nouméa',\n",
        " 'New Zealand': 'Wellington',\n",
        " 'Nicaragua': 'Managua',\n",
        " 'Niger': 'Niamey',\n",
        " 'Nigeria': 'Abuja',\n",
        " 'Niue': 'Alofi',\n",
        " 'Norfolk Island': 'Kingston',\n",
        " 'Northern Mariana Islands': 'Saipan',\n",
        " 'Norway': 'Oslo',\n",
        " 'Oman': 'Muscat',\n",
        " 'Pakistan': 'Islamabad',\n",
        " 'Palau': 'Ngerulmud',\n",
        " 'Palestine, State of': 'Ramallah',\n",
        " 'Panama': 'Panama City',\n",
        " 'Papua New Guinea': 'Port Moresby',\n",
        " 'Paraguay': 'Asunción',\n",
        " 'Peru': 'Lima',\n",
        " 'Philippines': 'Manila',\n",
        " 'Pitcairn': 'Adamstown',\n",
        " 'Poland': 'Warsaw',\n",
        " 'Portugal': 'Lisbon',\n",
        " 'Puerto Rico': 'San Juan',\n",
        " 'Qatar': 'Doha',\n",
        " 'Republic of Kosovo': 'Pristina',\n",
        " 'Romania': 'Bucharest',\n",
        " 'Russian Federation': 'Moscow',\n",
        " 'Rwanda': 'Kigali',\n",
        " 'Réunion': 'Saint-Denis',\n",
        " 'Saint Barthélemy': 'Gustavia',\n",
        " 'Saint Helena, Ascension and Tristan da Cunha': 'Jamestown',\n",
        " 'Saint Kitts and Nevis': 'Basseterre',\n",
        " 'Saint Lucia': 'Castries',\n",
        " 'Saint Martin (French part)': 'Marigot',\n",
        " 'Saint Pierre and Miquelon': 'Saint-Pierre',\n",
        " 'Saint Vincent and the Grenadines': 'Kingstown',\n",
        " 'Samoa': 'Apia',\n",
        " 'San Marino': 'City of San Marino',\n",
        " 'Sao Tome and Principe': 'São Tomé',\n",
        " 'Saudi Arabia': 'Riyadh',\n",
        " 'Senegal': 'Dakar',\n",
        " 'Serbia': 'Belgrade',\n",
        " 'Seychelles': 'Victoria',\n",
        " 'Sierra Leone': 'Freetown',\n",
        " 'Singapore': 'Singapore',\n",
        " 'Sint Maarten (Dutch part)': 'Philipsburg',\n",
        " 'Slovakia': 'Bratislava',\n",
        " 'Slovenia': 'Ljubljana',\n",
        " 'Solomon Islands': 'Honiara',\n",
        " 'Somalia': 'Mogadishu',\n",
        " 'South Africa': 'Pretoria',\n",
        " 'South Georgia and the South Sandwich Islands': 'King Edward Point',\n",
        " 'South Sudan': 'Juba',\n",
        " 'Spain': 'Madrid',\n",
        " 'Sri Lanka': 'Colombo',\n",
        " 'Sudan': 'Khartoum',\n",
        " 'Suriname': 'Paramaribo',\n",
        " 'Svalbard and Jan Mayen': 'Longyearbyen',\n",
        " 'Swaziland': 'Lobamba',\n",
        " 'Sweden': 'Stockholm',\n",
        " 'Switzerland': 'Bern',\n",
        " 'Syrian Arab Republic': 'Damascus',\n",
        " 'Taiwan': 'Taipei',\n",
        " 'Tajikistan': 'Dushanbe',\n",
        " 'Tanzania, United Republic of': 'Dodoma',\n",
        " 'Thailand': 'Bangkok',\n",
        " 'Timor-Leste': 'Dili',\n",
        " 'Togo': 'Lomé',\n",
        " 'Tokelau': 'Fakaofo',\n",
        " 'Tonga': \"Nuku'alofa\",\n",
        " 'Trinidad and Tobago': 'Port of Spain',\n",
        " 'Tunisia': 'Tunis',\n",
        " 'Turkey': 'Ankara',\n",
        " 'Turkmenistan': 'Ashgabat',\n",
        " 'Turks and Caicos Islands': 'Cockburn Town',\n",
        " 'Tuvalu': 'Funafuti',\n",
        " 'Uganda': 'Kampala',\n",
        " 'Ukraine': 'Kiev',\n",
        " 'United Arab Emirates': 'Abu Dhabi',\n",
        " 'United Kingdom of Great Britain and Northern Ireland': 'London',\n",
        " 'United States Minor Outlying Islands': '',\n",
        " 'United States of America': 'Washington, D.C.',\n",
        " 'Uruguay': 'Montevideo',\n",
        " 'Uzbekistan': 'Tashkent',\n",
        " 'Vanuatu': 'Port Vila',\n",
        " 'Venezuela (Bolivarian Republic of)': 'Caracas',\n",
        " 'Viet Nam': 'Hanoi',\n",
        " 'Virgin Islands (British)': 'Road Town',\n",
        " 'Virgin Islands (U.S.)': 'Charlotte Amalie',\n",
        " 'Wallis and Futuna': 'Mata-Utu',\n",
        " 'Western Sahara': 'El Aaiún',\n",
        " 'Yemen': \"Sana'a\",\n",
        " 'Zambia': 'Lusaka',\n",
        " 'Zimbabwe': 'Harare',\n",
        " 'Åland Islands': 'Mariehamn'}"
      ]
    },
    {
      "cell_type": "code",
      "execution_count": null,
      "metadata": {
        "id": "fhk6K_S39Y9g",
        "outputId": "11569603-e390-405f-8b14-5567fc0ada61"
      },
      "outputs": [
        {
          "name": "stdout",
          "output_type": "stream",
          "text": [
            "[('Czech Republic', 'GPE', 'Prague'), ('Slovakia', 'GPE', 'Bratislava')]\n"
          ]
        }
      ],
      "source": [
        "def countries_component(doc):\n",
        "    # Create an entity Span with the label 'GPE' for all matches\n",
        "    doc.ents = [Span(doc, start, end, label='GPE')\n",
        "                for match_id, start, end in country_matcher(doc)]\n",
        "    return doc\n",
        "\n",
        "# Add the component to the pipeline\n",
        "# nlp.add_pipe(countries_component)\n",
        "\n",
        "# Register capital and getter that looks up the span text in country capitals\n",
        "Span.set_extension('capital', getter=lambda span: capitals.get(span.text), force=True)\n",
        "\n",
        "# Process the text and print the entity text, label and capital attributes\n",
        "doc = nlp(\"Czech Republic may help Slovakia protect its airspace\")\n",
        "print([(ent.text, ent.label_, ent._.capital) for ent in doc.ents])"
      ]
    },
    {
      "cell_type": "markdown",
      "metadata": {
        "id": "tO4KLohI9Y9g"
      },
      "source": [
        "- This is a great example of how we can add structured data to our spaCy pipeline."
      ]
    },
    {
      "cell_type": "markdown",
      "metadata": {
        "id": "p3ZZW_R29Y9g"
      },
      "source": [
        "### Processing streams\n",
        "- use `nlp.pipe` for more efficient text processing.\n"
      ]
    },
    {
      "cell_type": "code",
      "execution_count": null,
      "metadata": {
        "id": "4n9Mp8d79Y9g"
      },
      "outputs": [],
      "source": [
        "TEXTS = ['McDonalds is my favorite restaurant.',\n",
        " 'Here I thought @McDonalds only had precooked burgers but it seems they only have not cooked ones?? I have no time to get sick..',\n",
        " 'People really still eat McDonalds :(',\n",
        " 'The McDonalds in Spain has chicken wings. My heart is so happy ',\n",
        " '@McDonalds Please bring back the most delicious fast food sandwich of all times!!....The Arch Deluxe :P',\n",
        " 'please hurry and open. I WANT A #McRib SANDWICH SO BAD! :D',\n",
        " 'This morning i made a terrible decision by gettin mcdonalds and now my stomach is payin for it']"
      ]
    },
    {
      "cell_type": "code",
      "execution_count": null,
      "metadata": {
        "id": "Q2iY1wH49Y9g",
        "outputId": "ebd23164-b432-4498-9d02-6036bb0f0c75"
      },
      "outputs": [
        {
          "name": "stdout",
          "output_type": "stream",
          "text": [
            "['my', 'favorite']\n",
            "['sick']\n",
            "[]\n",
            "['My', 'happy']\n",
            "['delicious', 'fast']\n",
            "[]\n",
            "['terrible', 'gettin', 'my', 'payin']\n"
          ]
        }
      ],
      "source": [
        "# Process the texts and print the adjectives\n",
        "for doc in nlp.pipe(TEXTS):\n",
        "    print([token.text for token in doc if token.pos_ == 'ADJ'])"
      ]
    },
    {
      "cell_type": "code",
      "execution_count": null,
      "metadata": {
        "id": "XCdG94oR9Y9h",
        "outputId": "190c2544-7263-491c-c385-d6ec9b07afe8"
      },
      "outputs": [
        {
          "name": "stdout",
          "output_type": "stream",
          "text": [
            "(McDonalds,) () (McDonalds,) (McDonalds, Spain) (The Arch Deluxe,) () ()\n"
          ]
        }
      ],
      "source": [
        "# Process the texts and print the entities\n",
        "docs = list(nlp.pipe(TEXTS))\n",
        "entities = [doc.ents for doc in docs]\n",
        "print(*entities)"
      ]
    },
    {
      "cell_type": "code",
      "execution_count": null,
      "metadata": {
        "id": "mwtB4O3j9Y9h",
        "outputId": "eeeb556d-5dd6-42a1-9136-ba3ff6d56801"
      },
      "outputs": [
        {
          "name": "stdout",
          "output_type": "stream",
          "text": [
            "[David Bowie, Angela Merkel, Lady Gaga]\n"
          ]
        }
      ],
      "source": [
        "people = ['David Bowie', 'Angela Merkel', 'Lady Gaga']\n",
        "\n",
        "# Create a list of patterns for the PhraseMatcher\n",
        "patterns = list(nlp.pipe(people))\n",
        "print(patterns)"
      ]
    },
    {
      "cell_type": "markdown",
      "metadata": {
        "id": "sf__UNjV9Y9h"
      },
      "source": [
        "- Let's move on to a practical example that uses nlp.pipe to process documents with additional meta data.\n",
        "\n",
        "### Processing data with context\n",
        "- using custom attributes to add author and book meta information to quotes.\n",
        "- A list of (text, context) examples is available as the variable DATA. The texts are quotes from famous books, and the contexts dictionaries with the keys 'author' and 'book'"
      ]
    },
    {
      "cell_type": "code",
      "execution_count": null,
      "metadata": {
        "id": "AW5vKYSv9Y9h"
      },
      "outputs": [],
      "source": [
        "DATA = [('One morning, when Gregor Samsa woke from troubled dreams, he found himself transformed in his bed into a horrible vermin.',\n",
        "  {'author': 'Franz Kafka', 'book': 'Metamorphosis'}),\n",
        " (\"I know not all that may be coming, but be it what it will, I'll go to it laughing.\",\n",
        "  {'author': 'Herman Melville', 'book': 'Moby-Dick or, The Whale'}),\n",
        " ('It was the best of times, it was the worst of times.',\n",
        "  {'author': 'Charles Dickens', 'book': 'A Tale of Two Cities'}),\n",
        " ('The only people for me are the mad ones, the ones who are mad to live, mad to talk, mad to be saved, desirous of everything at the same time, the ones who never yawn or say a commonplace thing, but burn, burn, burn like fabulous yellow roman candles exploding like spiders across the stars.',\n",
        "  {'author': 'Jack Kerouac', 'book': 'On the Road'}),\n",
        " ('It was a bright cold day in April, and the clocks were striking thirteen.',\n",
        "  {'author': 'George Orwell', 'book': '1984'}),\n",
        " ('Nowadays people know the price of everything and the value of nothing.',\n",
        "  {'author': 'Oscar Wilde', 'book': 'The Picture Of Dorian Gray'})]"
      ]
    },
    {
      "cell_type": "code",
      "execution_count": null,
      "metadata": {
        "id": "OS5MwO_D9Y9h",
        "outputId": "aba87a9d-cf3a-4e90-9725-7a78d1e320f1"
      },
      "outputs": [
        {
          "name": "stdout",
          "output_type": "stream",
          "text": [
            "One morning, when Gregor Samsa woke from troubled dreams, he found himself transformed in his bed into a horrible vermin. \n",
            " — 'Metamorphosis' by Franz Kafka \n",
            "\n",
            "I know not all that may be coming, but be it what it will, I'll go to it laughing. \n",
            " — 'Moby-Dick or, The Whale' by Herman Melville \n",
            "\n",
            "It was the best of times, it was the worst of times. \n",
            " — 'A Tale of Two Cities' by Charles Dickens \n",
            "\n",
            "The only people for me are the mad ones, the ones who are mad to live, mad to talk, mad to be saved, desirous of everything at the same time, the ones who never yawn or say a commonplace thing, but burn, burn, burn like fabulous yellow roman candles exploding like spiders across the stars. \n",
            " — 'On the Road' by Jack Kerouac \n",
            "\n",
            "It was a bright cold day in April, and the clocks were striking thirteen. \n",
            " — '1984' by George Orwell \n",
            "\n",
            "Nowadays people know the price of everything and the value of nothing. \n",
            " — 'The Picture Of Dorian Gray' by Oscar Wilde \n",
            "\n"
          ]
        }
      ],
      "source": [
        "# Import the Doc class and register the extensions 'author' and 'book'\n",
        "from spacy.tokens import Doc\n",
        "Doc.set_extension('book', default=None, force=True)\n",
        "Doc.set_extension('author', default=None, force=True)\n",
        "\n",
        "for doc, context in nlp.pipe(DATA, as_tuples=True):\n",
        "    # Set the doc._.book and doc._.author attributes from the context\n",
        "    doc._.book = context['book']\n",
        "    doc._.author = context['author']\n",
        "\n",
        "    # Print the text and custom attribute data\n",
        "    print(doc.text, '\\n', \"— '{}' by {}\".format(doc._.book, doc._.author), '\\n')"
      ]
    },
    {
      "cell_type": "markdown",
      "metadata": {
        "id": "gzwc-t7J9Y9h"
      },
      "source": [
        "- The same technique is useful for a variety of tasks. For example, we could pass in page or paragraph numbers to relate the processed Doc back to the position in a larger document. Or we could pass in other structured data like IDs referring to a knowledge base."
      ]
    },
    {
      "cell_type": "markdown",
      "metadata": {
        "id": "8aAi3EeT9Y9h"
      },
      "source": [
        "### Selective processing\n",
        "- use the `nlp.make_doc` and `nlp.disable_pipes` methods to only run selected components when processing a text."
      ]
    },
    {
      "cell_type": "code",
      "execution_count": null,
      "metadata": {
        "id": "vEGKXIPw9Y9h",
        "outputId": "1d39d644-861e-40b6-bc1a-fea6bad46a41"
      },
      "outputs": [
        {
          "name": "stdout",
          "output_type": "stream",
          "text": [
            "['Chick', '-', 'fil', '-', 'A', 'is', 'an', 'American', 'fast', 'food', 'restaurant', 'chain', 'headquartered', 'in', 'the', 'city', 'of', 'College', 'Park', ',', 'Georgia', ',', 'specializing', 'in', 'chicken', 'sandwiches', '.']\n"
          ]
        }
      ],
      "source": [
        "text = \"Chick-fil-A is an American fast food restaurant chain headquartered in the city of College Park, Georgia, specializing in chicken sandwiches.\"\n",
        "\n",
        "# Only tokenize the text\n",
        "doc = nlp.make_doc(text)\n",
        "\n",
        "print([token.text for token in doc])"
      ]
    },
    {
      "cell_type": "code",
      "execution_count": null,
      "metadata": {
        "id": "NmZ_VUfS9Y9h",
        "outputId": "85b8aaa7-af3f-499e-b587-109622a3c00e"
      },
      "outputs": [
        {
          "name": "stdout",
          "output_type": "stream",
          "text": [
            "(American, College Park, Georgia)\n"
          ]
        }
      ],
      "source": [
        "text = \"Chick-fil-A is an American fast food restaurant chain headquartered in the city of College Park, Georgia, specializing in chicken sandwiches.\"\n",
        "\n",
        "# Disable the tagger and parser\n",
        "with nlp.disable_pipes('tagger', 'parser'):\n",
        "    # Process the text\n",
        "    doc = nlp(text)\n",
        "    # Print the entities in the doc\n",
        "    print(doc.ents)"
      ]
    },
    {
      "cell_type": "markdown",
      "metadata": {
        "id": "Tmujn1Qq9Y9h"
      },
      "source": [
        "### Creating training data\n",
        "- spaCy's rule-based Matcher is a great way to quickly create training data for named entity models.\n",
        "- We want to find all mentions of different iPhone models, so we can create training data to teach a model to recognize them as 'GADGET'.\n",
        "- Write a pattern for two tokens whose lowercase forms match 'iphone' and 'x'"
      ]
    },
    {
      "cell_type": "code",
      "execution_count": null,
      "metadata": {
        "id": "-pEKLnlb9Y9h"
      },
      "outputs": [],
      "source": [
        "TEXTS = ['How to preorder the iPhone X',\n",
        " 'iPhone X is coming',\n",
        " 'Should I pay $1,000 for the iPhone X?',\n",
        " 'The iPhone 8 reviews are here',\n",
        " 'Your iPhone goes up to 11 today',\n",
        " 'I need a new phone! Any tips?']"
      ]
    },
    {
      "cell_type": "code",
      "execution_count": null,
      "metadata": {
        "id": "etD5PmeT9Y9h"
      },
      "outputs": [],
      "source": [
        "matcher = Matcher(nlp.vocab)\n",
        "\n",
        "# Two tokens whose lowercase forms match 'iphone' and 'x'\n",
        "pattern1 = [{'LOWER': 'iphone'}, {'LOWER': 'x'}]\n",
        "\n",
        "# Token whose lowercase form matches 'iphone' and an optional digit\n",
        "pattern2 = [{'LOWER': 'iphone'}, {'IS_DIGIT': True, 'OP': '?'}]\n",
        "\n",
        "# Add patterns to the matcher\n",
        "matcher.add('GADGET', None, pattern1, pattern2)"
      ]
    },
    {
      "cell_type": "markdown",
      "metadata": {
        "id": "i-UpIQXw9Y9h"
      },
      "source": [
        "- Now let's use those patterns to quickly bootstrap some training data for our model.\n",
        "- Create a doc object for each text using nlp.pipe and find the matches in it."
      ]
    },
    {
      "cell_type": "code",
      "execution_count": null,
      "metadata": {
        "id": "kT1Zp-fi9Y9h",
        "outputId": "d3fcf237-de18-4bc0-ed6e-d452c6e6781f"
      },
      "outputs": [
        {
          "name": "stdout",
          "output_type": "stream",
          "text": [
            "How to preorder the iPhone X [(4, 6, 'GADGET'), (4, 5, 'GADGET')]\n",
            "iPhone X is coming [(0, 2, 'GADGET'), (0, 1, 'GADGET')]\n",
            "Should I pay $1,000 for the iPhone X? [(7, 9, 'GADGET'), (7, 8, 'GADGET')]\n",
            "The iPhone 8 reviews are here [(1, 3, 'GADGET')]\n",
            "Your iPhone goes up to 11 today [(1, 2, 'GADGET')]\n",
            "I need a new phone! Any tips? []\n"
          ]
        }
      ],
      "source": [
        "# Create a Doc object for each text in TEXTS\n",
        "for doc in nlp.pipe(TEXTS):\n",
        "    # Find the matches in the doc\n",
        "    matches = matcher(doc)\n",
        "\n",
        "    # Get a list of (start, end, label) tuples of matches in the text\n",
        "    entities = [(start, end, 'GADGET') for macth_id, start, end in matches]\n",
        "    print(doc.text, entities)"
      ]
    },
    {
      "cell_type": "code",
      "execution_count": null,
      "metadata": {
        "id": "AyHdHK539Y9h",
        "outputId": "d6773a15-d01c-4785-c76e-43a27f7b4ce7"
      },
      "outputs": [
        {
          "name": "stdout",
          "output_type": "stream",
          "text": [
            "('How to preorder the iPhone X', {'entities': [(20, 28, 'GADGET'), (20, 26, 'GADGET')]})\n",
            "('iPhone X is coming', {'entities': [(0, 8, 'GADGET'), (0, 6, 'GADGET')]})\n",
            "('Should I pay $1,000 for the iPhone X?', {'entities': [(28, 36, 'GADGET'), (28, 34, 'GADGET')]})\n",
            "('The iPhone 8 reviews are here', {'entities': [(4, 12, 'GADGET')]})\n",
            "('Your iPhone goes up to 11 today', {'entities': [(5, 11, 'GADGET')]})\n",
            "('I need a new phone! Any tips?', {'entities': []})\n"
          ]
        }
      ],
      "source": [
        "TRAINING_DATA = []\n",
        "\n",
        "# Create a Doc object for each text in TEXTS\n",
        "for doc in nlp.pipe(TEXTS):\n",
        "    # Match on the doc and create a list of matched spans\n",
        "    spans = [doc[start:end] for match_id, start, end in matcher(doc)]\n",
        "    # Get (start character, end character, label) tuples of matches\n",
        "    entities = [(span.start_char, span.end_char, 'GADGET') for span in spans]\n",
        "\n",
        "    # Format the matches as a (doc.text, entities) tuple\n",
        "    training_example = (doc.text, {'entities': entities})\n",
        "    # Append the example to the training data\n",
        "    TRAINING_DATA.append(training_example)\n",
        "\n",
        "print(*TRAINING_DATA, sep='\\n')"
      ]
    },
    {
      "cell_type": "markdown",
      "metadata": {
        "id": "YQQkPwNL9Y9i"
      },
      "source": [
        "- Before we train a model with the data, we always want to double-check that your matcher didn't identify any false positives. But that process is still much faster than doing everything manually."
      ]
    },
    {
      "cell_type": "markdown",
      "metadata": {
        "id": "xA_nrIBp9Y9i"
      },
      "source": [
        "### Setting up the pipeline\n",
        "- We'll prepare a spaCy pipeline to train the entity recognizer to recognize 'GADGET' entities in a text – for exampe, \"iPhone X\"."
      ]
    },
    {
      "cell_type": "code",
      "execution_count": null,
      "metadata": {
        "id": "RzBMnZEQ9Y9i"
      },
      "outputs": [],
      "source": [
        "# Create a blank 'en' model\n",
        "nlp = spacy.blank('en')\n",
        "\n",
        "# Create a new entity recognizer and add it to the pipeline\n",
        "ner = nlp.create_pipe('ner')\n",
        "nlp.add_pipe(ner)\n",
        "\n",
        "# Add the label 'GADGET' to the entity recognizer\n",
        "ner.add_label(\"GADGET\")"
      ]
    },
    {
      "cell_type": "markdown",
      "metadata": {
        "id": "u3AM3PBx9Y9i"
      },
      "source": [
        "- The pipeline is now ready, so let's start writing the training loop."
      ]
    },
    {
      "cell_type": "markdown",
      "metadata": {
        "id": "ghl-0fh39Y9i"
      },
      "source": [
        "### Building a training loop\n",
        "- The pipeline we've created is available as the nlp object. It already contains the entity recognizer with the added label 'GADGET'.\n",
        "- The small set of labelled examples that we've created previously is available as the global variable `TRAINING_DATA`\n",
        "- Create batches of training data using spacy.util.minibatch and iterate over the batches.\n",
        "- Convert the (text, annotations) tuples in the batch to lists of texts and annotations.\n",
        "- For each batch, use nlp.update to update the model with the texts and annotations."
      ]
    },
    {
      "cell_type": "code",
      "execution_count": null,
      "metadata": {
        "id": "zxsxX-6F9Y9i",
        "outputId": "6610ed1b-b878-4a67-9ff2-4d458a5d8884"
      },
      "outputs": [
        {
          "name": "stdout",
          "output_type": "stream",
          "text": [
            "{'ner': 10.33333444595337}\n",
            "{'ner': 17.99364411830902}\n",
            "{'ner': 24.85565537214279}\n",
            "{'ner': 4.002858281135559}\n",
            "{'ner': 8.203887104988098}\n",
            "{'ner': 11.997502714395523}\n",
            "{'ner': 2.5556906685233116}\n",
            "{'ner': 3.7061347477138042}\n",
            "{'ner': 5.7890848241513595}\n",
            "{'ner': 1.1830217702081427}\n",
            "{'ner': 1.7972847251221538}\n",
            "{'ner': 2.5576058817096055}\n",
            "{'ner': 0.6241010167286731}\n",
            "{'ner': 1.2256524679492031}\n",
            "{'ner': 1.639310661124}\n",
            "{'ner': 0.1009115400059386}\n",
            "{'ner': 0.8499925631875271}\n",
            "{'ner': 0.8941033269627496}\n",
            "{'ner': 0.035586190406878604}\n",
            "{'ner': 0.03868208364511483}\n",
            "{'ner': 0.6400623982121411}\n",
            "{'ner': 0.0013789206418585304}\n",
            "{'ner': 0.0015109798728757534}\n",
            "{'ner': 0.5392004125143361}\n",
            "{'ner': 4.6579608726747546e-06}\n",
            "{'ner': 2.206684910932219e-05}\n",
            "{'ner': 0.14470957687600924}\n",
            "{'ner': 0.04498682388999757}\n",
            "{'ner': 0.04498749838656062}\n",
            "{'ner': 0.04499386672879748}\n"
          ]
        }
      ],
      "source": [
        "import random\n",
        "\n",
        "# Start the training\n",
        "nlp.begin_training()\n",
        "\n",
        "# Loop for 10 iterations\n",
        "for itn in range(10):\n",
        "    # Shuffle the training data\n",
        "    random.shuffle(TRAINING_DATA)\n",
        "    losses = {}\n",
        "\n",
        "    # Batch the examples and iterate over them\n",
        "    for batch in spacy.util.minibatch(TRAINING_DATA, size=2):\n",
        "        texts = [text for text, entities in batch]\n",
        "        annotations = [entities for text, entities in batch]\n",
        "\n",
        "        # Update the model\n",
        "        nlp.update(texts, annotations, losses=losses)\n",
        "        print(losses)"
      ]
    },
    {
      "cell_type": "markdown",
      "metadata": {
        "id": "LJsMI_KR9Y9i"
      },
      "source": [
        "- We've successfully trained our first spaCy model. The numbers printed to the IPython shell represent the loss on each iteration, the amount of work left for the optimizer. The lower the number, the better. In real life, we normally want to use a lot more data than this, ideally at least a few hundred or a few thousand examples."
      ]
    },
    {
      "cell_type": "markdown",
      "metadata": {
        "id": "jR33K2tV9Y9i"
      },
      "source": [
        "### Exploring the model\n",
        "- Let's see how the model performs on unseen data!"
      ]
    },
    {
      "cell_type": "code",
      "execution_count": null,
      "metadata": {
        "id": "H81MrClD9Y9i"
      },
      "outputs": [],
      "source": [
        "TEST_DATA = ['Apple is slowing down the iPhone 8 and iPhone X - how to stop it',\n",
        " \"I finally understand what the iPhone X 'notch' is for\",\n",
        " 'Everything you need to know about the Samsung Galaxy S9',\n",
        " 'Looking to compare iPad models? Here’s how the 2018 lineup stacks up',\n",
        " 'The iPhone 8 and iPhone 8 Plus are smartphones designed, developed, and marketed by Apple',\n",
        " 'what is the cheapest ipad, especially ipad pro???',\n",
        " 'Samsung Galaxy is a series of mobile computing devices designed, manufactured and marketed by Samsung Electronics']"
      ]
    },
    {
      "cell_type": "code",
      "execution_count": null,
      "metadata": {
        "id": "3KK4Rvay9Y9i",
        "outputId": "291e64e7-25ab-41aa-d911-7118cc03f607"
      },
      "outputs": [
        {
          "name": "stdout",
          "output_type": "stream",
          "text": [
            "Apple is slowing down the iPhone 8 and iPhone X - how to stop it (iPhone, iPhone)\n",
            "(iPhone, iPhone) \n",
            "\n",
            "\n",
            "I finally understand what the iPhone X 'notch' is for (iPhone,)\n",
            "(iPhone,) \n",
            "\n",
            "\n",
            "Everything you need to know about the Samsung Galaxy S9 ()\n",
            "() \n",
            "\n",
            "\n",
            "Looking to compare iPad models? Here’s how the 2018 lineup stacks up ()\n",
            "() \n",
            "\n",
            "\n",
            "The iPhone 8 and iPhone 8 Plus are smartphones designed, developed, and marketed by Apple (iPhone 8, iPhone 8)\n",
            "(iPhone 8, iPhone 8) \n",
            "\n",
            "\n",
            "what is the cheapest ipad, especially ipad pro??? ()\n",
            "() \n",
            "\n",
            "\n",
            "Samsung Galaxy is a series of mobile computing devices designed, manufactured and marketed by Samsung Electronics ()\n",
            "() \n",
            "\n",
            "\n"
          ]
        }
      ],
      "source": [
        "# Process each text in TEST_DATA\n",
        "for doc in nlp.pipe(TEST_DATA):\n",
        "    # Print the document text and entitites\n",
        "    print(doc.text, doc.ents)\n",
        "    print(doc.ents, '\\n\\n')"
      ]
    },
    {
      "cell_type": "markdown",
      "metadata": {
        "id": "Fz5YKnwk9Y9i"
      },
      "source": [
        "### Training multiple labels\n",
        "- Here's a small sample of a dataset created to train a new entity type WEBSITE. The original dataset contains a few thousand sentences.Here we'll be doing the labeling by hand. In real life, we probably want to automate this and use an annotation tool – for example, Brat, a popular open-source solution, or Prodigy, our own annotation tool that integrates with spaCy."
      ]
    },
    {
      "cell_type": "code",
      "execution_count": null,
      "metadata": {
        "id": "_0BqoV0w9Y9i"
      },
      "outputs": [],
      "source": [
        "TRAINING_DATA = [\n",
        "    (\"Reddit partners with Patreon to help creators build communities\",\n",
        "     {'entities': [(0, 6, 'WEBSITE'), (21, 28, 'WEBSITE')]}),\n",
        "\n",
        "    (\"PewDiePie smashes YouTube record\",\n",
        "     {'entities': [(18, 25, 'WEBSITE')]}),\n",
        "\n",
        "    (\"Reddit founder Alexis Ohanian gave away two Metallica tickets to fans\",\n",
        "     {'entities': [(0, 6, 'WEBSITE')]}),\n",
        "    # And so on...\n",
        "]"
      ]
    },
    {
      "cell_type": "markdown",
      "metadata": {
        "id": "HoehcqHy9Y9i"
      },
      "source": [
        "### Spacy-streamlit"
      ]
    },
    {
      "cell_type": "code",
      "execution_count": null,
      "metadata": {
        "id": "Z7eVgZV29Y9i",
        "outputId": "a97d986b-7f52-4842-f591-518ff9d158e0"
      },
      "outputs": [
        {
          "data": {
            "text/html": [
              "<svg xmlns=\"http://www.w3.org/2000/svg\" xmlns:xlink=\"http://www.w3.org/1999/xlink\" xml:lang=\"en\" id=\"668923f4fc774d5c8cf1bd48c131b029-0\" class=\"displacy\" width=\"1275\" height=\"312.0\" direction=\"ltr\" style=\"max-width: none; height: 312.0px; color: #000000; background: #ffffff; font-family: Arial; direction: ltr\">\n",
              "<text class=\"displacy-token\" fill=\"currentColor\" text-anchor=\"middle\" y=\"222.0\">\n",
              "    <tspan class=\"displacy-word\" fill=\"currentColor\" x=\"50\">Sundar</tspan>\n",
              "    <tspan class=\"displacy-tag\" dy=\"2em\" fill=\"currentColor\" x=\"50\">PROPN</tspan>\n",
              "</text>\n",
              "\n",
              "<text class=\"displacy-token\" fill=\"currentColor\" text-anchor=\"middle\" y=\"222.0\">\n",
              "    <tspan class=\"displacy-word\" fill=\"currentColor\" x=\"225\">Pichai</tspan>\n",
              "    <tspan class=\"displacy-tag\" dy=\"2em\" fill=\"currentColor\" x=\"225\">PROPN</tspan>\n",
              "</text>\n",
              "\n",
              "<text class=\"displacy-token\" fill=\"currentColor\" text-anchor=\"middle\" y=\"222.0\">\n",
              "    <tspan class=\"displacy-word\" fill=\"currentColor\" x=\"400\">is</tspan>\n",
              "    <tspan class=\"displacy-tag\" dy=\"2em\" fill=\"currentColor\" x=\"400\">VERB</tspan>\n",
              "</text>\n",
              "\n",
              "<text class=\"displacy-token\" fill=\"currentColor\" text-anchor=\"middle\" y=\"222.0\">\n",
              "    <tspan class=\"displacy-word\" fill=\"currentColor\" x=\"575\">the</tspan>\n",
              "    <tspan class=\"displacy-tag\" dy=\"2em\" fill=\"currentColor\" x=\"575\">DET</tspan>\n",
              "</text>\n",
              "\n",
              "<text class=\"displacy-token\" fill=\"currentColor\" text-anchor=\"middle\" y=\"222.0\">\n",
              "    <tspan class=\"displacy-word\" fill=\"currentColor\" x=\"750\">CEO</tspan>\n",
              "    <tspan class=\"displacy-tag\" dy=\"2em\" fill=\"currentColor\" x=\"750\">PROPN</tspan>\n",
              "</text>\n",
              "\n",
              "<text class=\"displacy-token\" fill=\"currentColor\" text-anchor=\"middle\" y=\"222.0\">\n",
              "    <tspan class=\"displacy-word\" fill=\"currentColor\" x=\"925\">of</tspan>\n",
              "    <tspan class=\"displacy-tag\" dy=\"2em\" fill=\"currentColor\" x=\"925\">ADP</tspan>\n",
              "</text>\n",
              "\n",
              "<text class=\"displacy-token\" fill=\"currentColor\" text-anchor=\"middle\" y=\"222.0\">\n",
              "    <tspan class=\"displacy-word\" fill=\"currentColor\" x=\"1100\">Google.</tspan>\n",
              "    <tspan class=\"displacy-tag\" dy=\"2em\" fill=\"currentColor\" x=\"1100\">PROPN</tspan>\n",
              "</text>\n",
              "\n",
              "<g class=\"displacy-arrow\">\n",
              "    <path class=\"displacy-arc\" id=\"arrow-668923f4fc774d5c8cf1bd48c131b029-0-0\" stroke-width=\"2px\" d=\"M70,177.0 C70,89.5 220.0,89.5 220.0,177.0\" fill=\"none\" stroke=\"currentColor\"/>\n",
              "    <text dy=\"1.25em\" style=\"font-size: 0.8em; letter-spacing: 1px\">\n",
              "        <textPath xlink:href=\"#arrow-668923f4fc774d5c8cf1bd48c131b029-0-0\" class=\"displacy-label\" startOffset=\"50%\" side=\"left\" fill=\"currentColor\" text-anchor=\"middle\">compound</textPath>\n",
              "    </text>\n",
              "    <path class=\"displacy-arrowhead\" d=\"M70,179.0 L62,167.0 78,167.0\" fill=\"currentColor\"/>\n",
              "</g>\n",
              "\n",
              "<g class=\"displacy-arrow\">\n",
              "    <path class=\"displacy-arc\" id=\"arrow-668923f4fc774d5c8cf1bd48c131b029-0-1\" stroke-width=\"2px\" d=\"M245,177.0 C245,89.5 395.0,89.5 395.0,177.0\" fill=\"none\" stroke=\"currentColor\"/>\n",
              "    <text dy=\"1.25em\" style=\"font-size: 0.8em; letter-spacing: 1px\">\n",
              "        <textPath xlink:href=\"#arrow-668923f4fc774d5c8cf1bd48c131b029-0-1\" class=\"displacy-label\" startOffset=\"50%\" side=\"left\" fill=\"currentColor\" text-anchor=\"middle\">nsubj</textPath>\n",
              "    </text>\n",
              "    <path class=\"displacy-arrowhead\" d=\"M245,179.0 L237,167.0 253,167.0\" fill=\"currentColor\"/>\n",
              "</g>\n",
              "\n",
              "<g class=\"displacy-arrow\">\n",
              "    <path class=\"displacy-arc\" id=\"arrow-668923f4fc774d5c8cf1bd48c131b029-0-2\" stroke-width=\"2px\" d=\"M595,177.0 C595,89.5 745.0,89.5 745.0,177.0\" fill=\"none\" stroke=\"currentColor\"/>\n",
              "    <text dy=\"1.25em\" style=\"font-size: 0.8em; letter-spacing: 1px\">\n",
              "        <textPath xlink:href=\"#arrow-668923f4fc774d5c8cf1bd48c131b029-0-2\" class=\"displacy-label\" startOffset=\"50%\" side=\"left\" fill=\"currentColor\" text-anchor=\"middle\">det</textPath>\n",
              "    </text>\n",
              "    <path class=\"displacy-arrowhead\" d=\"M595,179.0 L587,167.0 603,167.0\" fill=\"currentColor\"/>\n",
              "</g>\n",
              "\n",
              "<g class=\"displacy-arrow\">\n",
              "    <path class=\"displacy-arc\" id=\"arrow-668923f4fc774d5c8cf1bd48c131b029-0-3\" stroke-width=\"2px\" d=\"M420,177.0 C420,2.0 750.0,2.0 750.0,177.0\" fill=\"none\" stroke=\"currentColor\"/>\n",
              "    <text dy=\"1.25em\" style=\"font-size: 0.8em; letter-spacing: 1px\">\n",
              "        <textPath xlink:href=\"#arrow-668923f4fc774d5c8cf1bd48c131b029-0-3\" class=\"displacy-label\" startOffset=\"50%\" side=\"left\" fill=\"currentColor\" text-anchor=\"middle\">attr</textPath>\n",
              "    </text>\n",
              "    <path class=\"displacy-arrowhead\" d=\"M750.0,179.0 L758.0,167.0 742.0,167.0\" fill=\"currentColor\"/>\n",
              "</g>\n",
              "\n",
              "<g class=\"displacy-arrow\">\n",
              "    <path class=\"displacy-arc\" id=\"arrow-668923f4fc774d5c8cf1bd48c131b029-0-4\" stroke-width=\"2px\" d=\"M770,177.0 C770,89.5 920.0,89.5 920.0,177.0\" fill=\"none\" stroke=\"currentColor\"/>\n",
              "    <text dy=\"1.25em\" style=\"font-size: 0.8em; letter-spacing: 1px\">\n",
              "        <textPath xlink:href=\"#arrow-668923f4fc774d5c8cf1bd48c131b029-0-4\" class=\"displacy-label\" startOffset=\"50%\" side=\"left\" fill=\"currentColor\" text-anchor=\"middle\">prep</textPath>\n",
              "    </text>\n",
              "    <path class=\"displacy-arrowhead\" d=\"M920.0,179.0 L928.0,167.0 912.0,167.0\" fill=\"currentColor\"/>\n",
              "</g>\n",
              "\n",
              "<g class=\"displacy-arrow\">\n",
              "    <path class=\"displacy-arc\" id=\"arrow-668923f4fc774d5c8cf1bd48c131b029-0-5\" stroke-width=\"2px\" d=\"M945,177.0 C945,89.5 1095.0,89.5 1095.0,177.0\" fill=\"none\" stroke=\"currentColor\"/>\n",
              "    <text dy=\"1.25em\" style=\"font-size: 0.8em; letter-spacing: 1px\">\n",
              "        <textPath xlink:href=\"#arrow-668923f4fc774d5c8cf1bd48c131b029-0-5\" class=\"displacy-label\" startOffset=\"50%\" side=\"left\" fill=\"currentColor\" text-anchor=\"middle\">pobj</textPath>\n",
              "    </text>\n",
              "    <path class=\"displacy-arrowhead\" d=\"M1095.0,179.0 L1103.0,167.0 1087.0,167.0\" fill=\"currentColor\"/>\n",
              "</g>\n",
              "</svg>"
            ],
            "text/plain": [
              "<IPython.core.display.HTML object>"
            ]
          },
          "metadata": {},
          "output_type": "display_data"
        },
        {
          "ename": "AttributeError",
          "evalue": "'NoneType' object has no attribute 'replace'",
          "output_type": "error",
          "traceback": [
            "\u001b[1;31m---------------------------------------------------------------------------\u001b[0m",
            "\u001b[1;31mAttributeError\u001b[0m                            Traceback (most recent call last)",
            "\u001b[1;32m<ipython-input-5-38d505693d25>\u001b[0m in \u001b[0;36m<module>\u001b[1;34m\u001b[0m\n\u001b[0;32m      8\u001b[0m \u001b[0mmodels\u001b[0m \u001b[1;33m=\u001b[0m \u001b[1;33m[\u001b[0m\u001b[1;34m\"en_core_web_sm\"\u001b[0m\u001b[1;33m,\u001b[0m \u001b[1;34m\"en_core_web_md\"\u001b[0m\u001b[1;33m]\u001b[0m\u001b[1;33m\u001b[0m\u001b[1;33m\u001b[0m\u001b[0m\n\u001b[0;32m      9\u001b[0m \u001b[0mdefault_text\u001b[0m \u001b[1;33m=\u001b[0m \u001b[1;34m\"Sundar Pichai is the CEO of Google.\"\u001b[0m\u001b[1;33m\u001b[0m\u001b[1;33m\u001b[0m\u001b[0m\n\u001b[1;32m---> 10\u001b[1;33m \u001b[0mspacy_streamlit\u001b[0m\u001b[1;33m.\u001b[0m\u001b[0mvisualize\u001b[0m\u001b[1;33m(\u001b[0m\u001b[0mmodels\u001b[0m\u001b[1;33m,\u001b[0m \u001b[0mdefault_text\u001b[0m\u001b[1;33m)\u001b[0m\u001b[1;33m\u001b[0m\u001b[1;33m\u001b[0m\u001b[0m\n\u001b[0m",
            "\u001b[1;32m~\\Anaconda3\\lib\\site-packages\\spacy_streamlit\\visualizer.py\u001b[0m in \u001b[0;36mvisualize\u001b[1;34m(models, default_text, visualizers, ner_labels, ner_attrs, similarity_texts, token_attrs, show_json_doc, show_model_meta, sidebar_title, sidebar_description, show_logo, color)\u001b[0m\n\u001b[0;32m     51\u001b[0m \u001b[1;33m\u001b[0m\u001b[0m\n\u001b[0;32m     52\u001b[0m     \u001b[1;32mif\u001b[0m \u001b[1;34m\"parser\"\u001b[0m \u001b[1;32min\u001b[0m \u001b[0mvisualizers\u001b[0m\u001b[1;33m:\u001b[0m\u001b[1;33m\u001b[0m\u001b[1;33m\u001b[0m\u001b[0m\n\u001b[1;32m---> 53\u001b[1;33m         \u001b[0mvisualize_parser\u001b[0m\u001b[1;33m(\u001b[0m\u001b[0mdoc\u001b[0m\u001b[1;33m)\u001b[0m\u001b[1;33m\u001b[0m\u001b[1;33m\u001b[0m\u001b[0m\n\u001b[0m\u001b[0;32m     54\u001b[0m     \u001b[1;32mif\u001b[0m \u001b[1;34m\"ner\"\u001b[0m \u001b[1;32min\u001b[0m \u001b[0mvisualizers\u001b[0m\u001b[1;33m:\u001b[0m\u001b[1;33m\u001b[0m\u001b[1;33m\u001b[0m\u001b[0m\n\u001b[0;32m     55\u001b[0m         \u001b[0mner_labels\u001b[0m \u001b[1;33m=\u001b[0m \u001b[0mner_labels\u001b[0m \u001b[1;32mor\u001b[0m \u001b[0mnlp\u001b[0m\u001b[1;33m.\u001b[0m\u001b[0mget_pipe\u001b[0m\u001b[1;33m(\u001b[0m\u001b[1;34m\"ner\"\u001b[0m\u001b[1;33m)\u001b[0m\u001b[1;33m.\u001b[0m\u001b[0mlabels\u001b[0m\u001b[1;33m\u001b[0m\u001b[1;33m\u001b[0m\u001b[0m\n",
            "\u001b[1;32m~\\Anaconda3\\lib\\site-packages\\spacy_streamlit\\visualizer.py\u001b[0m in \u001b[0;36mvisualize_parser\u001b[1;34m(doc, title, sidebar_title)\u001b[0m\n\u001b[0;32m     98\u001b[0m         \u001b[0mhtml\u001b[0m \u001b[1;33m=\u001b[0m \u001b[0mdisplacy\u001b[0m\u001b[1;33m.\u001b[0m\u001b[0mrender\u001b[0m\u001b[1;33m(\u001b[0m\u001b[0msent\u001b[0m\u001b[1;33m,\u001b[0m \u001b[0moptions\u001b[0m\u001b[1;33m=\u001b[0m\u001b[0moptions\u001b[0m\u001b[1;33m,\u001b[0m \u001b[0mstyle\u001b[0m\u001b[1;33m=\u001b[0m\u001b[1;34m\"dep\"\u001b[0m\u001b[1;33m)\u001b[0m\u001b[1;33m\u001b[0m\u001b[1;33m\u001b[0m\u001b[0m\n\u001b[0;32m     99\u001b[0m         \u001b[1;31m# Double newlines seem to mess with the rendering\u001b[0m\u001b[1;33m\u001b[0m\u001b[1;33m\u001b[0m\u001b[1;33m\u001b[0m\u001b[0m\n\u001b[1;32m--> 100\u001b[1;33m         \u001b[0mhtml\u001b[0m \u001b[1;33m=\u001b[0m \u001b[0mhtml\u001b[0m\u001b[1;33m.\u001b[0m\u001b[0mreplace\u001b[0m\u001b[1;33m(\u001b[0m\u001b[1;34m\"\\n\\n\"\u001b[0m\u001b[1;33m,\u001b[0m \u001b[1;34m\"\\n\"\u001b[0m\u001b[1;33m)\u001b[0m\u001b[1;33m\u001b[0m\u001b[1;33m\u001b[0m\u001b[0m\n\u001b[0m\u001b[0;32m    101\u001b[0m         \u001b[1;32mif\u001b[0m \u001b[0msplit_sents\u001b[0m \u001b[1;32mand\u001b[0m \u001b[0mlen\u001b[0m\u001b[1;33m(\u001b[0m\u001b[0mdocs\u001b[0m\u001b[1;33m)\u001b[0m \u001b[1;33m>\u001b[0m \u001b[1;36m1\u001b[0m\u001b[1;33m:\u001b[0m\u001b[1;33m\u001b[0m\u001b[1;33m\u001b[0m\u001b[0m\n\u001b[0;32m    102\u001b[0m             \u001b[0mst\u001b[0m\u001b[1;33m.\u001b[0m\u001b[0mmarkdown\u001b[0m\u001b[1;33m(\u001b[0m\u001b[1;34mf\"> {sent.text}\"\u001b[0m\u001b[1;33m)\u001b[0m\u001b[1;33m\u001b[0m\u001b[1;33m\u001b[0m\u001b[0m\n",
            "\u001b[1;31mAttributeError\u001b[0m: 'NoneType' object has no attribute 'replace'"
          ]
        }
      ],
      "source": [
        "# streamlit_app.py\n",
        "import spacy\n",
        "import spacy_streamlit\n",
        "\n",
        "# small = spacy.load('en_core_web_sm')\n",
        "# medium = spacy.load('en_core_web_md')\n",
        "# models = [small, medium]\n",
        "models = [\"en_core_web_sm\", \"en_core_web_md\"]\n",
        "default_text = \"Sundar Pichai is the CEO of Google.\"\n",
        "spacy_streamlit.visualize(models, default_text)"
      ]
    },
    {
      "cell_type": "code",
      "execution_count": null,
      "metadata": {
        "id": "CNnPNWkl9Y9i"
      },
      "outputs": [],
      "source": []
    }
  ],
  "metadata": {
    "kernelspec": {
      "display_name": "Python 3",
      "language": "python",
      "name": "python3"
    },
    "language_info": {
      "codemirror_mode": {
        "name": "ipython",
        "version": 3
      },
      "file_extension": ".py",
      "mimetype": "text/x-python",
      "name": "python",
      "nbconvert_exporter": "python",
      "pygments_lexer": "ipython3",
      "version": "3.7.3"
    },
    "colab": {
      "provenance": [],
      "include_colab_link": true
    }
  },
  "nbformat": 4,
  "nbformat_minor": 0
}