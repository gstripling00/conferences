{
  "cells": [
    {
      "cell_type": "markdown",
      "metadata": {
        "id": "view-in-github",
        "colab_type": "text"
      },
      "source": [
        "<a href=\"https://colab.research.google.com/github/gstripling00/conferences/blob/main/ODSC_23_predict_media_sales.ipynb\" target=\"_parent\"><img src=\"https://colab.research.google.com/assets/colab-badge.svg\" alt=\"Open In Colab\"/></a>"
      ]
    },
    {
      "cell_type": "markdown",
      "metadata": {
        "id": "DGPlYumZnO1t"
      },
      "source": [
        "# Simple Neural Network using Keras\n",
        "\n",
        "\n",
        "## Introduction\n",
        "Our use case is to build, train, and evaluate a prediction model for sales analysis.\n",
        "\n",
        "In this model, we need to feed the advertising budget of TV, radio, and newspapers to the model and the model will forecast the possible sales.\n",
        "\n",
        "## Dataset\n",
        "The dataset being used for this chapter, the advertising_2023 dataset, is based on data taken from An Introduction to Statistical Learning with Applications in R by Daniela Witten, Gareth M. James, Trevor Hastie, and Robert Tibshirani (Springer, 2021). The advertising dataset captures the sales revenue generated from advertising (in thousands of units) for particular product advertising budgets (in thousands of dollars) for TV, radio, and newspaper media.\n",
        "\n",
        "For this exercise, the dataset has been updated to include a digital variable and modified to show the impact of digital budgets on sales. The number of markets has been increased from 200 to 1,200. Thus, the data consists of the advertising budgets for four media channels (digital, TV, radio, and newspapers) and the overall sales in 1,200 different markets.\n",
        "\n",
        "   \n",
        "&nbsp;\n",
        "&nbsp;\n",
        "\n",
        "##### Features:\n",
        "| Channel    | Description |\n",
        "| --------   | ------- |\n",
        "| Digital    | Advertising dollars spent on Internet   |\n",
        "| TV         | Advertising dollars spent on TV    |\n",
        "| Radio      | Advertising dollars spent on Radio   |\n",
        "\n",
        "&nbsp;\n",
        "&nbsp;\n",
        "\n",
        "\n",
        "#### Target (Label): Sales budget\n"
      ]
    },
    {
      "cell_type": "markdown",
      "metadata": {
        "id": "YBXAUbijjNBF"
      },
      "source": [
        "# Step 1: Import Libraries and Data Preparation"
      ]
    },
    {
      "cell_type": "markdown",
      "metadata": {
        "id": "AsHg6SD2nO1v"
      },
      "source": [
        "### Import Libraries"
      ]
    },
    {
      "cell_type": "code",
      "execution_count": 1,
      "metadata": {
        "id": "gEXV-RxPnO1w"
      },
      "outputs": [],
      "source": [
        "# Import the necessary libraries\n",
        "\n",
        "# For Data loading, Exploraotry Data Analysis, Graphing\n",
        "import pandas as pd   # Pandas for data processing libraries\n",
        "import numpy as np    # Numpy for mathematical functions\n",
        "\n",
        "import matplotlib.pyplot as plt # Matplotlib for visualization tasks\n",
        "import seaborn as sns # Seaborn for data visualization library based on matplotlib.\n",
        "%matplotlib inline\n",
        "\n",
        "import sklearn        # ML tasks\n",
        "from sklearn.model_selection import train_test_split # Split the dataset\n",
        "from sklearn.metrics import mean_squared_error  # Calculate Mean Squared Error\n",
        "\n",
        "# Build the Network\n",
        "from tensorflow import keras\n",
        "from keras.models import Sequential\n",
        "#from tensorflow.keras.models import Sequential\n",
        "from keras.layers import Dense\n",
        "\n",
        "import tensorflow as tf\n"
      ]
    },
    {
      "cell_type": "code",
      "source": [
        "\n",
        "# Next, you read the dataset into a Pandas dataframe.\n",
        "# A Pandas DataFrame is a two-dimensional tabular data structure with labeled axes (rows and columns)\n",
        "\n",
        "url = 'https://github.com/maabel0712/low-code-ai/blob/main/advertising_2023.csv?raw=true'\n",
        "advertising_df= pd.read_csv(url,index_col=0)"
      ],
      "metadata": {
        "id": "sXf26ofNM46L"
      },
      "execution_count": 2,
      "outputs": []
    },
    {
      "cell_type": "code",
      "source": [
        "# Backup dataset\n",
        "# Next, you read the dataset into a Pandas dataframe.\n",
        "\n",
        "url = 'https://github.com/LinkedInLearning/artificial-intelligence-foundations-neural-networks-4381282/blob/main/Advertising_2023.csv?raw=true'\n",
        "advertising_df= pd.read_csv(url,index_col=0)"
      ],
      "metadata": {
        "id": "PTQneSIpNY3T"
      },
      "execution_count": 3,
      "outputs": []
    },
    {
      "cell_type": "code",
      "source": [
        "# Pandas info() function is used to get a concise summary of the dataframe.\n",
        "advertising_df.info()\n",
        "\n",
        "# Think of float64 data type as a decimal - remenber, in sales, we have dollars and cents.\n"
      ],
      "metadata": {
        "id": "jREeqEBUcl9j",
        "colab": {
          "base_uri": "https://localhost:8080/"
        },
        "outputId": "368f69f9-1be6-424d-e554-fd9ea2c20bae"
      },
      "execution_count": 4,
      "outputs": [
        {
          "output_type": "stream",
          "name": "stdout",
          "text": [
            "<class 'pandas.core.frame.DataFrame'>\n",
            "Int64Index: 1199 entries, 1 to 1197\n",
            "Data columns (total 5 columns):\n",
            " #   Column     Non-Null Count  Dtype  \n",
            "---  ------     --------------  -----  \n",
            " 0   digital    1199 non-null   float64\n",
            " 1   TV         1199 non-null   float64\n",
            " 2   radio      1199 non-null   float64\n",
            " 3   newspaper  1199 non-null   float64\n",
            " 4   sales      1199 non-null   float64\n",
            "dtypes: float64(5)\n",
            "memory usage: 56.2 KB\n"
          ]
        }
      ]
    },
    {
      "cell_type": "code",
      "execution_count": 5,
      "metadata": {
        "id": "BTNIhkVYv9HZ",
        "colab": {
          "base_uri": "https://localhost:8080/",
          "height": 300
        },
        "outputId": "5c67612b-fd18-4909-bbb3-bb7ecb18f183"
      },
      "outputs": [
        {
          "output_type": "execute_result",
          "data": {
            "text/plain": [
              "           digital          TV        radio    newspaper        sales\n",
              "count  1199.000000  1199.00000  1199.000000  1199.000000  1199.000000\n",
              "mean    135.472394   146.61985    23.240617    30.529942    14.005505\n",
              "std     135.730821    85.61047    14.820827    21.712507     5.202804\n",
              "min       0.300000     0.70000     0.000000     0.300000     1.600000\n",
              "25%      24.250000    73.40000     9.950000    12.800000    10.300000\n",
              "50%      64.650000   149.70000    22.500000    25.600000    12.900000\n",
              "75%     256.950000   218.50000    36.500000    45.100000    17.400000\n",
              "max     444.600000   296.40000    49.600000   114.000000    27.000000"
            ],
            "text/html": [
              "\n",
              "  <div id=\"df-5d22fb5f-5bbd-464b-9528-ca1bc8716741\" class=\"colab-df-container\">\n",
              "    <div>\n",
              "<style scoped>\n",
              "    .dataframe tbody tr th:only-of-type {\n",
              "        vertical-align: middle;\n",
              "    }\n",
              "\n",
              "    .dataframe tbody tr th {\n",
              "        vertical-align: top;\n",
              "    }\n",
              "\n",
              "    .dataframe thead th {\n",
              "        text-align: right;\n",
              "    }\n",
              "</style>\n",
              "<table border=\"1\" class=\"dataframe\">\n",
              "  <thead>\n",
              "    <tr style=\"text-align: right;\">\n",
              "      <th></th>\n",
              "      <th>digital</th>\n",
              "      <th>TV</th>\n",
              "      <th>radio</th>\n",
              "      <th>newspaper</th>\n",
              "      <th>sales</th>\n",
              "    </tr>\n",
              "  </thead>\n",
              "  <tbody>\n",
              "    <tr>\n",
              "      <th>count</th>\n",
              "      <td>1199.000000</td>\n",
              "      <td>1199.00000</td>\n",
              "      <td>1199.000000</td>\n",
              "      <td>1199.000000</td>\n",
              "      <td>1199.000000</td>\n",
              "    </tr>\n",
              "    <tr>\n",
              "      <th>mean</th>\n",
              "      <td>135.472394</td>\n",
              "      <td>146.61985</td>\n",
              "      <td>23.240617</td>\n",
              "      <td>30.529942</td>\n",
              "      <td>14.005505</td>\n",
              "    </tr>\n",
              "    <tr>\n",
              "      <th>std</th>\n",
              "      <td>135.730821</td>\n",
              "      <td>85.61047</td>\n",
              "      <td>14.820827</td>\n",
              "      <td>21.712507</td>\n",
              "      <td>5.202804</td>\n",
              "    </tr>\n",
              "    <tr>\n",
              "      <th>min</th>\n",
              "      <td>0.300000</td>\n",
              "      <td>0.70000</td>\n",
              "      <td>0.000000</td>\n",
              "      <td>0.300000</td>\n",
              "      <td>1.600000</td>\n",
              "    </tr>\n",
              "    <tr>\n",
              "      <th>25%</th>\n",
              "      <td>24.250000</td>\n",
              "      <td>73.40000</td>\n",
              "      <td>9.950000</td>\n",
              "      <td>12.800000</td>\n",
              "      <td>10.300000</td>\n",
              "    </tr>\n",
              "    <tr>\n",
              "      <th>50%</th>\n",
              "      <td>64.650000</td>\n",
              "      <td>149.70000</td>\n",
              "      <td>22.500000</td>\n",
              "      <td>25.600000</td>\n",
              "      <td>12.900000</td>\n",
              "    </tr>\n",
              "    <tr>\n",
              "      <th>75%</th>\n",
              "      <td>256.950000</td>\n",
              "      <td>218.50000</td>\n",
              "      <td>36.500000</td>\n",
              "      <td>45.100000</td>\n",
              "      <td>17.400000</td>\n",
              "    </tr>\n",
              "    <tr>\n",
              "      <th>max</th>\n",
              "      <td>444.600000</td>\n",
              "      <td>296.40000</td>\n",
              "      <td>49.600000</td>\n",
              "      <td>114.000000</td>\n",
              "      <td>27.000000</td>\n",
              "    </tr>\n",
              "  </tbody>\n",
              "</table>\n",
              "</div>\n",
              "    <div class=\"colab-df-buttons\">\n",
              "\n",
              "  <div class=\"colab-df-container\">\n",
              "    <button class=\"colab-df-convert\" onclick=\"convertToInteractive('df-5d22fb5f-5bbd-464b-9528-ca1bc8716741')\"\n",
              "            title=\"Convert this dataframe to an interactive table.\"\n",
              "            style=\"display:none;\">\n",
              "\n",
              "  <svg xmlns=\"http://www.w3.org/2000/svg\" height=\"24px\" viewBox=\"0 -960 960 960\">\n",
              "    <path d=\"M120-120v-720h720v720H120Zm60-500h600v-160H180v160Zm220 220h160v-160H400v160Zm0 220h160v-160H400v160ZM180-400h160v-160H180v160Zm440 0h160v-160H620v160ZM180-180h160v-160H180v160Zm440 0h160v-160H620v160Z\"/>\n",
              "  </svg>\n",
              "    </button>\n",
              "\n",
              "  <style>\n",
              "    .colab-df-container {\n",
              "      display:flex;\n",
              "      gap: 12px;\n",
              "    }\n",
              "\n",
              "    .colab-df-convert {\n",
              "      background-color: #E8F0FE;\n",
              "      border: none;\n",
              "      border-radius: 50%;\n",
              "      cursor: pointer;\n",
              "      display: none;\n",
              "      fill: #1967D2;\n",
              "      height: 32px;\n",
              "      padding: 0 0 0 0;\n",
              "      width: 32px;\n",
              "    }\n",
              "\n",
              "    .colab-df-convert:hover {\n",
              "      background-color: #E2EBFA;\n",
              "      box-shadow: 0px 1px 2px rgba(60, 64, 67, 0.3), 0px 1px 3px 1px rgba(60, 64, 67, 0.15);\n",
              "      fill: #174EA6;\n",
              "    }\n",
              "\n",
              "    .colab-df-buttons div {\n",
              "      margin-bottom: 4px;\n",
              "    }\n",
              "\n",
              "    [theme=dark] .colab-df-convert {\n",
              "      background-color: #3B4455;\n",
              "      fill: #D2E3FC;\n",
              "    }\n",
              "\n",
              "    [theme=dark] .colab-df-convert:hover {\n",
              "      background-color: #434B5C;\n",
              "      box-shadow: 0px 1px 3px 1px rgba(0, 0, 0, 0.15);\n",
              "      filter: drop-shadow(0px 1px 2px rgba(0, 0, 0, 0.3));\n",
              "      fill: #FFFFFF;\n",
              "    }\n",
              "  </style>\n",
              "\n",
              "    <script>\n",
              "      const buttonEl =\n",
              "        document.querySelector('#df-5d22fb5f-5bbd-464b-9528-ca1bc8716741 button.colab-df-convert');\n",
              "      buttonEl.style.display =\n",
              "        google.colab.kernel.accessAllowed ? 'block' : 'none';\n",
              "\n",
              "      async function convertToInteractive(key) {\n",
              "        const element = document.querySelector('#df-5d22fb5f-5bbd-464b-9528-ca1bc8716741');\n",
              "        const dataTable =\n",
              "          await google.colab.kernel.invokeFunction('convertToInteractive',\n",
              "                                                    [key], {});\n",
              "        if (!dataTable) return;\n",
              "\n",
              "        const docLinkHtml = 'Like what you see? Visit the ' +\n",
              "          '<a target=\"_blank\" href=https://colab.research.google.com/notebooks/data_table.ipynb>data table notebook</a>'\n",
              "          + ' to learn more about interactive tables.';\n",
              "        element.innerHTML = '';\n",
              "        dataTable['output_type'] = 'display_data';\n",
              "        await google.colab.output.renderOutput(dataTable, element);\n",
              "        const docLink = document.createElement('div');\n",
              "        docLink.innerHTML = docLinkHtml;\n",
              "        element.appendChild(docLink);\n",
              "      }\n",
              "    </script>\n",
              "  </div>\n",
              "\n",
              "\n",
              "<div id=\"df-4f84e004-dadf-450c-928e-42ee1603e92d\">\n",
              "  <button class=\"colab-df-quickchart\" onclick=\"quickchart('df-4f84e004-dadf-450c-928e-42ee1603e92d')\"\n",
              "            title=\"Suggest charts.\"\n",
              "            style=\"display:none;\">\n",
              "\n",
              "<svg xmlns=\"http://www.w3.org/2000/svg\" height=\"24px\"viewBox=\"0 0 24 24\"\n",
              "     width=\"24px\">\n",
              "    <g>\n",
              "        <path d=\"M19 3H5c-1.1 0-2 .9-2 2v14c0 1.1.9 2 2 2h14c1.1 0 2-.9 2-2V5c0-1.1-.9-2-2-2zM9 17H7v-7h2v7zm4 0h-2V7h2v10zm4 0h-2v-4h2v4z\"/>\n",
              "    </g>\n",
              "</svg>\n",
              "  </button>\n",
              "\n",
              "<style>\n",
              "  .colab-df-quickchart {\n",
              "      --bg-color: #E8F0FE;\n",
              "      --fill-color: #1967D2;\n",
              "      --hover-bg-color: #E2EBFA;\n",
              "      --hover-fill-color: #174EA6;\n",
              "      --disabled-fill-color: #AAA;\n",
              "      --disabled-bg-color: #DDD;\n",
              "  }\n",
              "\n",
              "  [theme=dark] .colab-df-quickchart {\n",
              "      --bg-color: #3B4455;\n",
              "      --fill-color: #D2E3FC;\n",
              "      --hover-bg-color: #434B5C;\n",
              "      --hover-fill-color: #FFFFFF;\n",
              "      --disabled-bg-color: #3B4455;\n",
              "      --disabled-fill-color: #666;\n",
              "  }\n",
              "\n",
              "  .colab-df-quickchart {\n",
              "    background-color: var(--bg-color);\n",
              "    border: none;\n",
              "    border-radius: 50%;\n",
              "    cursor: pointer;\n",
              "    display: none;\n",
              "    fill: var(--fill-color);\n",
              "    height: 32px;\n",
              "    padding: 0;\n",
              "    width: 32px;\n",
              "  }\n",
              "\n",
              "  .colab-df-quickchart:hover {\n",
              "    background-color: var(--hover-bg-color);\n",
              "    box-shadow: 0 1px 2px rgba(60, 64, 67, 0.3), 0 1px 3px 1px rgba(60, 64, 67, 0.15);\n",
              "    fill: var(--button-hover-fill-color);\n",
              "  }\n",
              "\n",
              "  .colab-df-quickchart-complete:disabled,\n",
              "  .colab-df-quickchart-complete:disabled:hover {\n",
              "    background-color: var(--disabled-bg-color);\n",
              "    fill: var(--disabled-fill-color);\n",
              "    box-shadow: none;\n",
              "  }\n",
              "\n",
              "  .colab-df-spinner {\n",
              "    border: 2px solid var(--fill-color);\n",
              "    border-color: transparent;\n",
              "    border-bottom-color: var(--fill-color);\n",
              "    animation:\n",
              "      spin 1s steps(1) infinite;\n",
              "  }\n",
              "\n",
              "  @keyframes spin {\n",
              "    0% {\n",
              "      border-color: transparent;\n",
              "      border-bottom-color: var(--fill-color);\n",
              "      border-left-color: var(--fill-color);\n",
              "    }\n",
              "    20% {\n",
              "      border-color: transparent;\n",
              "      border-left-color: var(--fill-color);\n",
              "      border-top-color: var(--fill-color);\n",
              "    }\n",
              "    30% {\n",
              "      border-color: transparent;\n",
              "      border-left-color: var(--fill-color);\n",
              "      border-top-color: var(--fill-color);\n",
              "      border-right-color: var(--fill-color);\n",
              "    }\n",
              "    40% {\n",
              "      border-color: transparent;\n",
              "      border-right-color: var(--fill-color);\n",
              "      border-top-color: var(--fill-color);\n",
              "    }\n",
              "    60% {\n",
              "      border-color: transparent;\n",
              "      border-right-color: var(--fill-color);\n",
              "    }\n",
              "    80% {\n",
              "      border-color: transparent;\n",
              "      border-right-color: var(--fill-color);\n",
              "      border-bottom-color: var(--fill-color);\n",
              "    }\n",
              "    90% {\n",
              "      border-color: transparent;\n",
              "      border-bottom-color: var(--fill-color);\n",
              "    }\n",
              "  }\n",
              "</style>\n",
              "\n",
              "  <script>\n",
              "    async function quickchart(key) {\n",
              "      const quickchartButtonEl =\n",
              "        document.querySelector('#' + key + ' button');\n",
              "      quickchartButtonEl.disabled = true;  // To prevent multiple clicks.\n",
              "      quickchartButtonEl.classList.add('colab-df-spinner');\n",
              "      try {\n",
              "        const charts = await google.colab.kernel.invokeFunction(\n",
              "            'suggestCharts', [key], {});\n",
              "      } catch (error) {\n",
              "        console.error('Error during call to suggestCharts:', error);\n",
              "      }\n",
              "      quickchartButtonEl.classList.remove('colab-df-spinner');\n",
              "      quickchartButtonEl.classList.add('colab-df-quickchart-complete');\n",
              "    }\n",
              "    (() => {\n",
              "      let quickchartButtonEl =\n",
              "        document.querySelector('#df-4f84e004-dadf-450c-928e-42ee1603e92d button');\n",
              "      quickchartButtonEl.style.display =\n",
              "        google.colab.kernel.accessAllowed ? 'block' : 'none';\n",
              "    })();\n",
              "  </script>\n",
              "</div>\n",
              "    </div>\n",
              "  </div>\n"
            ]
          },
          "metadata": {},
          "execution_count": 5
        }
      ],
      "source": [
        "### Get summary of statistics of the data\n",
        "advertising_df.describe()"
      ]
    },
    {
      "cell_type": "code",
      "execution_count": 6,
      "metadata": {
        "id": "IzyfOhGaEzlL",
        "colab": {
          "base_uri": "https://localhost:8080/"
        },
        "outputId": "3ab33553-f943-40fc-cbfe-73163a54a8a1"
      },
      "outputs": [
        {
          "output_type": "execute_result",
          "data": {
            "text/plain": [
              "(1199, 5)"
            ]
          },
          "metadata": {},
          "execution_count": 6
        }
      ],
      "source": [
        "#shape of dataframe - 1199 rows, five columns\n",
        "advertising_df.shape"
      ]
    },
    {
      "cell_type": "markdown",
      "metadata": {
        "id": "6nNrSEBnBk71"
      },
      "source": [
        "Let's check for any null values."
      ]
    },
    {
      "cell_type": "code",
      "execution_count": 7,
      "metadata": {
        "id": "P7gHdfMdBk71",
        "colab": {
          "base_uri": "https://localhost:8080/"
        },
        "outputId": "31790c38-2827-4759-9ae1-8514eba7b836"
      },
      "outputs": [
        {
          "output_type": "execute_result",
          "data": {
            "text/plain": [
              "digital      0\n",
              "TV           0\n",
              "radio        0\n",
              "newspaper    0\n",
              "sales        0\n",
              "dtype: int64"
            ]
          },
          "metadata": {},
          "execution_count": 7
        }
      ],
      "source": [
        "# The isnull() method is used to check and manage NULL values in a data frame.\n",
        "advertising_df.isnull().sum()"
      ]
    },
    {
      "cell_type": "markdown",
      "metadata": {
        "id": "QWVdsrmgnO1_"
      },
      "source": [
        "## Exploratory Data Analysis (EDA)\n",
        "\n",
        "Let's create some simple plots to check out the data!  "
      ]
    },
    {
      "cell_type": "code",
      "source": [
        "sns.displot(advertising_df, x=\"sales\")\n",
        "\n",
        "#Note the mean value is around 14 (as shown above in the .describe() method."
      ],
      "metadata": {
        "colab": {
          "base_uri": "https://localhost:8080/",
          "height": 524
        },
        "id": "3qf2Fpu72alh",
        "outputId": "e4ebcc09-329d-4382-fcce-234be6cb165c"
      },
      "execution_count": 8,
      "outputs": [
        {
          "output_type": "execute_result",
          "data": {
            "text/plain": [
              "<seaborn.axisgrid.FacetGrid at 0x7a3e4778a2f0>"
            ]
          },
          "metadata": {},
          "execution_count": 8
        },
        {
          "output_type": "display_data",
          "data": {
            "text/plain": [
              "<Figure size 500x500 with 1 Axes>"
            ],
            "image/png": "[encoded data removed]"
          },
          "metadata": {}
        }
      ]
    },
    {
      "cell_type": "code",
      "source": [
        "advertising_df.corr()"
      ],
      "metadata": {
        "colab": {
          "base_uri": "https://localhost:8080/",
          "height": 206
        },
        "id": "u2v69_p1vLY7",
        "outputId": "c63686f9-91e3-4715-c7a4-452278585571"
      },
      "execution_count": 9,
      "outputs": [
        {
          "output_type": "execute_result",
          "data": {
            "text/plain": [
              "            digital        TV     radio  newspaper     sales\n",
              "digital    1.000000  0.474256  0.041316   0.048023  0.380101\n",
              "TV         0.474256  1.000000  0.055697   0.055579  0.781824\n",
              "radio      0.041316  0.055697  1.000000   0.353096  0.576528\n",
              "newspaper  0.048023  0.055579  0.353096   1.000000  0.227039\n",
              "sales      0.380101  0.781824  0.576528   0.227039  1.000000"
            ],
            "text/html": [
              "\n",
              "  <div id=\"df-11def480-e318-4117-a9ec-193fa4fb72c6\" class=\"colab-df-container\">\n",
              "    <div>\n",
              "<style scoped>\n",
              "    .dataframe tbody tr th:only-of-type {\n",
              "        vertical-align: middle;\n",
              "    }\n",
              "\n",
              "    .dataframe tbody tr th {\n",
              "        vertical-align: top;\n",
              "    }\n",
              "\n",
              "    .dataframe thead th {\n",
              "        text-align: right;\n",
              "    }\n",
              "</style>\n",
              "<table border=\"1\" class=\"dataframe\">\n",
              "  <thead>\n",
              "    <tr style=\"text-align: right;\">\n",
              "      <th></th>\n",
              "      <th>digital</th>\n",
              "      <th>TV</th>\n",
              "      <th>radio</th>\n",
              "      <th>newspaper</th>\n",
              "      <th>sales</th>\n",
              "    </tr>\n",
              "  </thead>\n",
              "  <tbody>\n",
              "    <tr>\n",
              "      <th>digital</th>\n",
              "      <td>1.000000</td>\n",
              "      <td>0.474256</td>\n",
              "      <td>0.041316</td>\n",
              "      <td>0.048023</td>\n",
              "      <td>0.380101</td>\n",
              "    </tr>\n",
              "    <tr>\n",
              "      <th>TV</th>\n",
              "      <td>0.474256</td>\n",
              "      <td>1.000000</td>\n",
              "      <td>0.055697</td>\n",
              "      <td>0.055579</td>\n",
              "      <td>0.781824</td>\n",
              "    </tr>\n",
              "    <tr>\n",
              "      <th>radio</th>\n",
              "      <td>0.041316</td>\n",
              "      <td>0.055697</td>\n",
              "      <td>1.000000</td>\n",
              "      <td>0.353096</td>\n",
              "      <td>0.576528</td>\n",
              "    </tr>\n",
              "    <tr>\n",
              "      <th>newspaper</th>\n",
              "      <td>0.048023</td>\n",
              "      <td>0.055579</td>\n",
              "      <td>0.353096</td>\n",
              "      <td>1.000000</td>\n",
              "      <td>0.227039</td>\n",
              "    </tr>\n",
              "    <tr>\n",
              "      <th>sales</th>\n",
              "      <td>0.380101</td>\n",
              "      <td>0.781824</td>\n",
              "      <td>0.576528</td>\n",
              "      <td>0.227039</td>\n",
              "      <td>1.000000</td>\n",
              "    </tr>\n",
              "  </tbody>\n",
              "</table>\n",
              "</div>\n",
              "    <div class=\"colab-df-buttons\">\n",
              "\n",
              "  <div class=\"colab-df-container\">\n",
              "    <button class=\"colab-df-convert\" onclick=\"convertToInteractive('df-11def480-e318-4117-a9ec-193fa4fb72c6')\"\n",
              "            title=\"Convert this dataframe to an interactive table.\"\n",
              "            style=\"display:none;\">\n",
              "\n",
              "  <svg xmlns=\"http://www.w3.org/2000/svg\" height=\"24px\" viewBox=\"0 -960 960 960\">\n",
              "    <path d=\"M120-120v-720h720v720H120Zm60-500h600v-160H180v160Zm220 220h160v-160H400v160Zm0 220h160v-160H400v160ZM180-400h160v-160H180v160Zm440 0h160v-160H620v160ZM180-180h160v-160H180v160Zm440 0h160v-160H620v160Z\"/>\n",
              "  </svg>\n",
              "    </button>\n",
              "\n",
              "  <style>\n",
              "    .colab-df-container {\n",
              "      display:flex;\n",
              "      gap: 12px;\n",
              "    }\n",
              "\n",
              "    .colab-df-convert {\n",
              "      background-color: #E8F0FE;\n",
              "      border: none;\n",
              "      border-radius: 50%;\n",
              "      cursor: pointer;\n",
              "      display: none;\n",
              "      fill: #1967D2;\n",
              "      height: 32px;\n",
              "      padding: 0 0 0 0;\n",
              "      width: 32px;\n",
              "    }\n",
              "\n",
              "    .colab-df-convert:hover {\n",
              "      background-color: #E2EBFA;\n",
              "      box-shadow: 0px 1px 2px rgba(60, 64, 67, 0.3), 0px 1px 3px 1px rgba(60, 64, 67, 0.15);\n",
              "      fill: #174EA6;\n",
              "    }\n",
              "\n",
              "    .colab-df-buttons div {\n",
              "      margin-bottom: 4px;\n",
              "    }\n",
              "\n",
              "    [theme=dark] .colab-df-convert {\n",
              "      background-color: #3B4455;\n",
              "      fill: #D2E3FC;\n",
              "    }\n",
              "\n",
              "    [theme=dark] .colab-df-convert:hover {\n",
              "      background-color: #434B5C;\n",
              "      box-shadow: 0px 1px 3px 1px rgba(0, 0, 0, 0.15);\n",
              "      filter: drop-shadow(0px 1px 2px rgba(0, 0, 0, 0.3));\n",
              "      fill: #FFFFFF;\n",
              "    }\n",
              "  </style>\n",
              "\n",
              "    <script>\n",
              "      const buttonEl =\n",
              "        document.querySelector('#df-11def480-e318-4117-a9ec-193fa4fb72c6 button.colab-df-convert');\n",
              "      buttonEl.style.display =\n",
              "        google.colab.kernel.accessAllowed ? 'block' : 'none';\n",
              "\n",
              "      async function convertToInteractive(key) {\n",
              "        const element = document.querySelector('#df-11def480-e318-4117-a9ec-193fa4fb72c6');\n",
              "        const dataTable =\n",
              "          await google.colab.kernel.invokeFunction('convertToInteractive',\n",
              "                                                    [key], {});\n",
              "        if (!dataTable) return;\n",
              "\n",
              "        const docLinkHtml = 'Like what you see? Visit the ' +\n",
              "          '<a target=\"_blank\" href=https://colab.research.google.com/notebooks/data_table.ipynb>data table notebook</a>'\n",
              "          + ' to learn more about interactive tables.';\n",
              "        element.innerHTML = '';\n",
              "        dataTable['output_type'] = 'display_data';\n",
              "        await google.colab.output.renderOutput(dataTable, element);\n",
              "        const docLink = document.createElement('div');\n",
              "        docLink.innerHTML = docLinkHtml;\n",
              "        element.appendChild(docLink);\n",
              "      }\n",
              "    </script>\n",
              "  </div>\n",
              "\n",
              "\n",
              "<div id=\"df-d48b1f30-81e9-437c-97f0-f7014960a12d\">\n",
              "  <button class=\"colab-df-quickchart\" onclick=\"quickchart('df-d48b1f30-81e9-437c-97f0-f7014960a12d')\"\n",
              "            title=\"Suggest charts.\"\n",
              "            style=\"display:none;\">\n",
              "\n",
              "<svg xmlns=\"http://www.w3.org/2000/svg\" height=\"24px\"viewBox=\"0 0 24 24\"\n",
              "     width=\"24px\">\n",
              "    <g>\n",
              "        <path d=\"M19 3H5c-1.1 0-2 .9-2 2v14c0 1.1.9 2 2 2h14c1.1 0 2-.9 2-2V5c0-1.1-.9-2-2-2zM9 17H7v-7h2v7zm4 0h-2V7h2v10zm4 0h-2v-4h2v4z\"/>\n",
              "    </g>\n",
              "</svg>\n",
              "  </button>\n",
              "\n",
              "<style>\n",
              "  .colab-df-quickchart {\n",
              "      --bg-color: #E8F0FE;\n",
              "      --fill-color: #1967D2;\n",
              "      --hover-bg-color: #E2EBFA;\n",
              "      --hover-fill-color: #174EA6;\n",
              "      --disabled-fill-color: #AAA;\n",
              "      --disabled-bg-color: #DDD;\n",
              "  }\n",
              "\n",
              "  [theme=dark] .colab-df-quickchart {\n",
              "      --bg-color: #3B4455;\n",
              "      --fill-color: #D2E3FC;\n",
              "      --hover-bg-color: #434B5C;\n",
              "      --hover-fill-color: #FFFFFF;\n",
              "      --disabled-bg-color: #3B4455;\n",
              "      --disabled-fill-color: #666;\n",
              "  }\n",
              "\n",
              "  .colab-df-quickchart {\n",
              "    background-color: var(--bg-color);\n",
              "    border: none;\n",
              "    border-radius: 50%;\n",
              "    cursor: pointer;\n",
              "    display: none;\n",
              "    fill: var(--fill-color);\n",
              "    height: 32px;\n",
              "    padding: 0;\n",
              "    width: 32px;\n",
              "  }\n",
              "\n",
              "  .colab-df-quickchart:hover {\n",
              "    background-color: var(--hover-bg-color);\n",
              "    box-shadow: 0 1px 2px rgba(60, 64, 67, 0.3), 0 1px 3px 1px rgba(60, 64, 67, 0.15);\n",
              "    fill: var(--button-hover-fill-color);\n",
              "  }\n",
              "\n",
              "  .colab-df-quickchart-complete:disabled,\n",
              "  .colab-df-quickchart-complete:disabled:hover {\n",
              "    background-color: var(--disabled-bg-color);\n",
              "    fill: var(--disabled-fill-color);\n",
              "    box-shadow: none;\n",
              "  }\n",
              "\n",
              "  .colab-df-spinner {\n",
              "    border: 2px solid var(--fill-color);\n",
              "    border-color: transparent;\n",
              "    border-bottom-color: var(--fill-color);\n",
              "    animation:\n",
              "      spin 1s steps(1) infinite;\n",
              "  }\n",
              "\n",
              "  @keyframes spin {\n",
              "    0% {\n",
              "      border-color: transparent;\n",
              "      border-bottom-color: var(--fill-color);\n",
              "      border-left-color: var(--fill-color);\n",
              "    }\n",
              "    20% {\n",
              "      border-color: transparent;\n",
              "      border-left-color: var(--fill-color);\n",
              "      border-top-color: var(--fill-color);\n",
              "    }\n",
              "    30% {\n",
              "      border-color: transparent;\n",
              "      border-left-color: var(--fill-color);\n",
              "      border-top-color: var(--fill-color);\n",
              "      border-right-color: var(--fill-color);\n",
              "    }\n",
              "    40% {\n",
              "      border-color: transparent;\n",
              "      border-right-color: var(--fill-color);\n",
              "      border-top-color: var(--fill-color);\n",
              "    }\n",
              "    60% {\n",
              "      border-color: transparent;\n",
              "      border-right-color: var(--fill-color);\n",
              "    }\n",
              "    80% {\n",
              "      border-color: transparent;\n",
              "      border-right-color: var(--fill-color);\n",
              "      border-bottom-color: var(--fill-color);\n",
              "    }\n",
              "    90% {\n",
              "      border-color: transparent;\n",
              "      border-bottom-color: var(--fill-color);\n",
              "    }\n",
              "  }\n",
              "</style>\n",
              "\n",
              "  <script>\n",
              "    async function quickchart(key) {\n",
              "      const quickchartButtonEl =\n",
              "        document.querySelector('#' + key + ' button');\n",
              "      quickchartButtonEl.disabled = true;  // To prevent multiple clicks.\n",
              "      quickchartButtonEl.classList.add('colab-df-spinner');\n",
              "      try {\n",
              "        const charts = await google.colab.kernel.invokeFunction(\n",
              "            'suggestCharts', [key], {});\n",
              "      } catch (error) {\n",
              "        console.error('Error during call to suggestCharts:', error);\n",
              "      }\n",
              "      quickchartButtonEl.classList.remove('colab-df-spinner');\n",
              "      quickchartButtonEl.classList.add('colab-df-quickchart-complete');\n",
              "    }\n",
              "    (() => {\n",
              "      let quickchartButtonEl =\n",
              "        document.querySelector('#df-d48b1f30-81e9-437c-97f0-f7014960a12d button');\n",
              "      quickchartButtonEl.style.display =\n",
              "        google.colab.kernel.accessAllowed ? 'block' : 'none';\n",
              "    })();\n",
              "  </script>\n",
              "</div>\n",
              "    </div>\n",
              "  </div>\n"
            ]
          },
          "metadata": {},
          "execution_count": 9
        }
      ]
    },
    {
      "cell_type": "code",
      "execution_count": 10,
      "metadata": {
        "id": "i8bsyyVPm13-",
        "colab": {
          "base_uri": "https://localhost:8080/",
          "height": 397
        },
        "outputId": "380a16c6-42b4-4161-fb58-e3c8f995f49e"
      },
      "outputs": [
        {
          "output_type": "execute_result",
          "data": {
            "text/plain": [
              "<Axes: >"
            ]
          },
          "metadata": {},
          "execution_count": 10
        },
        {
          "output_type": "display_data",
          "data": {
            "text/plain": [
              "<Figure size 1000x500 with 2 Axes>"
            ],
            "image/png": "[encoded data removed]"
          },
          "metadata": {}
        }
      ],
      "source": [
        "## Plot the heatmap so that the values are shown.\n",
        "\n",
        "plt.figure(figsize=(10,5))\n",
        "sns.heatmap(advertising_df.corr(),annot=True,vmin=0,vmax=1,cmap='ocean')\n"
      ]
    },
    {
      "cell_type": "code",
      "source": [
        "# Scatter Plot\n",
        "# Relationship between digital and sales.\n",
        "\n",
        "                                                                                #Scatter Plot\n",
        "advertising_df.plot(kind='scatter', x=['digital'], y='sales')"
      ],
      "metadata": {
        "id": "X1tn4RQYA7o-",
        "colab": {
          "base_uri": "https://localhost:8080/",
          "height": 467
        },
        "outputId": "6b5f730f-6d4a-4123-8ed3-56df18db6c5f"
      },
      "execution_count": 11,
      "outputs": [
        {
          "output_type": "execute_result",
          "data": {
            "text/plain": [
              "<Axes: xlabel='[digital]', ylabel='sales'>"
            ]
          },
          "metadata": {},
          "execution_count": 11
        },
        {
          "output_type": "display_data",
          "data": {
            "text/plain": [
              "<Figure size 640x480 with 1 Axes>"
            ],
            "image/png": "[encoded data removed]"
          },
          "metadata": {}
        }
      ]
    },
    {
      "cell_type": "markdown",
      "metadata": {
        "id": "OIPKB4hanO2F"
      },
      "source": [
        "## Training a Linear Regression Model\n",
        "\n",
        "Regression is a supervised machine learning process.  It is similar to classification, but rather than predicting a label, you try to predict a continuous value.   Linear regression defines the relationship between a target variable (y) and a set of predictive features (x).  Simply stated, If you need to predict a number, then use regression.\n",
        "\n",
        "Let's now begin to train your regression model! You will need to first split up your data into an X array that contains the features to train on, and a y array with the target variable, in this case the Price column. You will toss out the Address column because it only has text info that the linear regression model can't use."
      ]
    },
    {
      "cell_type": "markdown",
      "metadata": {
        "id": "KFDhhs1KA22t"
      },
      "source": [
        "#### Data Preprocessing"
      ]
    },
    {
      "cell_type": "markdown",
      "metadata": {
        "id": "l0NjRPeFBk74"
      },
      "source": [
        "##### Split: X (features) and y (target)\n",
        "Next, let's define the features and label.  Briefly, feature is input; label is output. This applies to both classification and regression problems."
      ]
    },
    {
      "cell_type": "code",
      "execution_count": 12,
      "metadata": {
        "id": "ZEEGuBAnnO2F"
      },
      "outputs": [],
      "source": [
        "X = advertising_df[['digital', 'TV', 'radio', 'newspaper']]\n",
        "y = advertising_df['sales']\n",
        "\n",
        "# print (X)\n",
        "# print (y)"
      ]
    },
    {
      "cell_type": "markdown",
      "metadata": {
        "id": "lXgBbCFcBCfG"
      },
      "source": [
        "##### Scaling (Normalization)"
      ]
    },
    {
      "cell_type": "code",
      "execution_count": 13,
      "metadata": {
        "id": "hVOPQyd2HtxP",
        "colab": {
          "base_uri": "https://localhost:8080/"
        },
        "outputId": "bcc19b3f-41c5-4e64-fb0b-8f726e5a5945"
      },
      "outputs": [
        {
          "output_type": "stream",
          "name": "stdout",
          "text": [
            "[[0.89211961 0.4032179  0.0977028  0.17886333]\n",
            " [0.66254734 0.45658693 0.39008405 0.44765371]\n",
            " [0.29009225 0.20576311 0.51609436 0.77920128]\n",
            " ...\n",
            " [0.06744611 0.99272247 0.05163843 0.08536149]\n",
            " [0.19480049 0.91868871 0.08898294 0.33188231]\n",
            " [0.06744611 0.99272247 0.05163843 0.08536149]]\n"
          ]
        }
      ],
      "source": [
        "'''=== Noramlization the features. Since it is seen that features have different ranges, it is best practice to\n",
        "normalize/standarize the feature before using them in the model ==='''\n",
        "\n",
        "#feature normalization\n",
        "normalized_feature =  keras.utils.normalize(X.values)\n",
        "\n",
        "#What is the normalize function in Keras?\n",
        "# The normalize function just performs a regular normalization to improve performance:\n",
        "# Normalization is a rescaling of the data from the original range so that all values\n",
        "#are within the range of 0 and 1.\n",
        "\n",
        "print(normalized_feature)\n",
        "\n"
      ]
    },
    {
      "cell_type": "markdown",
      "metadata": {
        "id": "X97FWdDOnO2H"
      },
      "source": [
        "##### Train - Test - Split\n",
        "\n",
        "Now let's split the data into a training and test set.  Note:  Best pracices is to split into three - training, validation, and test set.\n",
        "\n",
        "By default - It splits the given data into 75-25 ratio\n"
      ]
    },
    {
      "cell_type": "code",
      "execution_count": 14,
      "metadata": {
        "id": "fS99Llq8nO2J"
      },
      "outputs": [],
      "source": [
        "# Import train_test_split function from sklearn.model_selection\n",
        "from sklearn.model_selection import train_test_split\n",
        "\n",
        "# Split up the data into a training set\n",
        "X_train, X_test, y_train, y_test = train_test_split(X, y, test_size=0.4, random_state=101)\n",
        "\n",
        "# If you don't specify the random_state in the code, then every time you run(execute) your code\n",
        "# a new random value is generated and the train and test datasets would have different values each time.\n",
        "# if a fixed value is assigned like random_state = 0 or 1 or 42 or any other integer then no\n",
        "# matter how many times you execute your code the result would be the same .i.e, same values in train and test datasets."
      ]
    },
    {
      "cell_type": "code",
      "execution_count": 15,
      "metadata": {
        "id": "K4p_3UGEcqPb",
        "colab": {
          "base_uri": "https://localhost:8080/"
        },
        "outputId": "faee93d2-30be-4374-d286-837fbf4ab37d"
      },
      "outputs": [
        {
          "output_type": "stream",
          "name": "stdout",
          "text": [
            "(719, 4) (480, 4) (719,) (480,)\n"
          ]
        }
      ],
      "source": [
        "print(X_train.shape,X_test.shape, y_train.shape, y_test.shape )"
      ]
    },
    {
      "cell_type": "markdown",
      "metadata": {
        "id": "mdc8pL4TIb9k"
      },
      "source": [
        "# Step 2:  Build Network\n"
      ]
    },
    {
      "cell_type": "markdown",
      "metadata": {
        "id": "J10hkM7BAhbh"
      },
      "source": [
        "#### Build and Train the Network"
      ]
    },
    {
      "cell_type": "code",
      "execution_count": 16,
      "metadata": {
        "id": "K-_Vage0th27",
        "colab": {
          "base_uri": "https://localhost:8080/"
        },
        "outputId": "74e02280-fcd1-4e8e-eef9-2600a2045baf"
      },
      "outputs": [
        {
          "output_type": "stream",
          "name": "stdout",
          "text": [
            "Epoch 1/32\n",
            "23/23 [==============================] - 3s 47ms/step - loss: 442.5818 - mse: 442.5818 - val_loss: 413.5357 - val_mse: 413.5357\n",
            "Epoch 2/32\n",
            "23/23 [==============================] - 1s 22ms/step - loss: 366.0750 - mse: 366.0750 - val_loss: 353.8752 - val_mse: 353.8752\n",
            "Epoch 3/32\n",
            "23/23 [==============================] - 0s 13ms/step - loss: 320.0188 - mse: 320.0188 - val_loss: 316.3667 - val_mse: 316.3667\n",
            "Epoch 4/32\n",
            "23/23 [==============================] - 0s 11ms/step - loss: 288.4861 - mse: 288.4861 - val_loss: 289.5211 - val_mse: 289.5211\n",
            "Epoch 5/32\n",
            "23/23 [==============================] - 1s 26ms/step - loss: 265.7721 - mse: 265.7721 - val_loss: 268.0172 - val_mse: 268.0172\n",
            "Epoch 6/32\n",
            "23/23 [==============================] - 0s 19ms/step - loss: 247.3520 - mse: 247.3520 - val_loss: 251.1894 - val_mse: 251.1894\n",
            "Epoch 7/32\n",
            "23/23 [==============================] - 1s 30ms/step - loss: 232.4456 - mse: 232.4456 - val_loss: 237.4812 - val_mse: 237.4812\n",
            "Epoch 8/32\n",
            "23/23 [==============================] - 1s 51ms/step - loss: 224.6505 - mse: 224.6505 - val_loss: 234.8434 - val_mse: 234.8434\n",
            "Epoch 9/32\n",
            "23/23 [==============================] - 1s 27ms/step - loss: 222.5493 - mse: 222.5493 - val_loss: 233.0209 - val_mse: 233.0209\n",
            "Epoch 10/32\n",
            "23/23 [==============================] - 0s 14ms/step - loss: 220.7285 - mse: 220.7285 - val_loss: 231.4896 - val_mse: 231.4896\n",
            "Epoch 11/32\n",
            "23/23 [==============================] - 1s 30ms/step - loss: 219.1115 - mse: 219.1115 - val_loss: 230.1564 - val_mse: 230.1564\n",
            "Epoch 12/32\n",
            "23/23 [==============================] - 0s 17ms/step - loss: 217.6922 - mse: 217.6922 - val_loss: 228.9221 - val_mse: 228.9221\n",
            "Epoch 13/32\n",
            "23/23 [==============================] - 0s 14ms/step - loss: 216.3211 - mse: 216.3211 - val_loss: 227.7867 - val_mse: 227.7867\n",
            "Epoch 14/32\n",
            "23/23 [==============================] - 0s 18ms/step - loss: 215.0066 - mse: 215.0066 - val_loss: 226.7386 - val_mse: 226.7386\n",
            "Epoch 15/32\n",
            "23/23 [==============================] - 0s 10ms/step - loss: 213.8083 - mse: 213.8083 - val_loss: 225.6477 - val_mse: 225.6477\n",
            "Epoch 16/32\n",
            "23/23 [==============================] - 0s 12ms/step - loss: 212.6833 - mse: 212.6833 - val_loss: 224.6666 - val_mse: 224.6666\n",
            "Epoch 17/32\n",
            "23/23 [==============================] - 0s 19ms/step - loss: 211.6493 - mse: 211.6493 - val_loss: 223.7330 - val_mse: 223.7330\n",
            "Epoch 18/32\n",
            "23/23 [==============================] - 0s 8ms/step - loss: 210.6355 - mse: 210.6355 - val_loss: 222.9042 - val_mse: 222.9042\n",
            "Epoch 19/32\n",
            "23/23 [==============================] - 0s 14ms/step - loss: 209.7608 - mse: 209.7608 - val_loss: 222.0220 - val_mse: 222.0220\n",
            "Epoch 20/32\n",
            "23/23 [==============================] - 0s 15ms/step - loss: 208.9071 - mse: 208.9071 - val_loss: 221.2349 - val_mse: 221.2349\n",
            "Epoch 21/32\n",
            "23/23 [==============================] - 0s 15ms/step - loss: 208.1217 - mse: 208.1217 - val_loss: 220.4346 - val_mse: 220.4346\n",
            "Epoch 22/32\n",
            "23/23 [==============================] - 0s 20ms/step - loss: 207.3361 - mse: 207.3361 - val_loss: 219.6734 - val_mse: 219.6734\n",
            "Epoch 23/32\n",
            "23/23 [==============================] - 0s 20ms/step - loss: 206.5575 - mse: 206.5575 - val_loss: 218.9436 - val_mse: 218.9436\n",
            "Epoch 24/32\n",
            "23/23 [==============================] - 1s 24ms/step - loss: 205.8113 - mse: 205.8113 - val_loss: 218.2295 - val_mse: 218.2295\n",
            "Epoch 25/32\n",
            "23/23 [==============================] - 0s 12ms/step - loss: 205.1038 - mse: 205.1038 - val_loss: 217.5214 - val_mse: 217.5214\n",
            "Epoch 26/32\n",
            "23/23 [==============================] - 0s 11ms/step - loss: 204.3963 - mse: 204.3963 - val_loss: 216.8303 - val_mse: 216.8303\n",
            "Epoch 27/32\n",
            "23/23 [==============================] - 0s 11ms/step - loss: 203.6990 - mse: 203.6990 - val_loss: 216.1557 - val_mse: 216.1557\n",
            "Epoch 28/32\n",
            "23/23 [==============================] - 0s 11ms/step - loss: 203.0148 - mse: 203.0148 - val_loss: 215.4785 - val_mse: 215.4785\n",
            "Epoch 29/32\n",
            "23/23 [==============================] - 0s 5ms/step - loss: 202.3382 - mse: 202.3382 - val_loss: 214.8076 - val_mse: 214.8076\n",
            "Epoch 30/32\n",
            "23/23 [==============================] - 0s 5ms/step - loss: 201.6696 - mse: 201.6696 - val_loss: 214.1485 - val_mse: 214.1485\n",
            "Epoch 31/32\n",
            "23/23 [==============================] - 0s 5ms/step - loss: 201.0120 - mse: 201.0120 - val_loss: 213.4947 - val_mse: 213.4947\n",
            "Epoch 32/32\n",
            "23/23 [==============================] - 0s 5ms/step - loss: 200.3691 - mse: 200.3691 - val_loss: 212.8488 - val_mse: 212.8488\n"
          ]
        }
      ],
      "source": [
        "## Build Model (Building a three layer network - with one hidden layer)\n",
        "model = Sequential()\n",
        "model.add(Dense(4,input_dim=4, activation='relu'))                                                  # You don't have to specify input size.Just define the hidden layers\n",
        "model.add(Dense(3,activation='relu'))\n",
        "model.add(Dense(1))\n",
        "\n",
        "# Compile Model\n",
        "model.compile(optimizer='adam', loss='mse',metrics=['mse'])\n",
        "\n",
        "#  Fit the Model\n",
        "history = model.fit(X_train, y_train, validation_data = (X_test, y_test),\n",
        "                    epochs = 32)\n",
        "\n"
      ]
    },
    {
      "cell_type": "markdown",
      "metadata": {
        "id": "RHBzoonKnFfj"
      },
      "source": [
        "### Visualization"
      ]
    },
    {
      "cell_type": "markdown",
      "metadata": {
        "id": "ktMqgjoDGAe7"
      },
      "source": [
        "You can add more 'flavor' to the graph by making it bigger and adding labels and names, as shown below."
      ]
    },
    {
      "cell_type": "code",
      "execution_count": 17,
      "metadata": {
        "id": "jB1VUt-bmTPH",
        "colab": {
          "base_uri": "https://localhost:8080/",
          "height": 373
        },
        "outputId": "a1790d4f-7b5a-4f9a-9eb2-5444c6274e72"
      },
      "outputs": [
        {
          "output_type": "display_data",
          "data": {
            "text/plain": [
              "<Figure size 1500x800 with 1 Axes>"
            ],
            "image/png": "[encoded data removed]"
          },
          "metadata": {}
        }
      ],
      "source": [
        "## Plot a graph of model loss # show the graph of model loss in trainig and validation\n",
        "\n",
        "plt.figure(figsize=(15,8))\n",
        "plt.plot(history.history['loss'])\n",
        "plt.plot(history.history['val_loss'])\n",
        "plt.title('Model Loss (MSE) on Training and Validation Data')\n",
        "plt.ylabel('Loss-Mean Squred Error')\n",
        "plt.xlabel('Epoch')\n",
        "plt.legend(['Val Loss', 'Train Loss'], loc='upper right')\n",
        "plt.show()\n",
        "\n"
      ]
    },
    {
      "cell_type": "markdown",
      "source": [
        "### Predict Sales"
      ],
      "metadata": {
        "id": "o-Bpo1iz34kB"
      }
    },
    {
      "cell_type": "code",
      "source": [
        "'''=== predict the SALES =='''\n",
        "\n",
        "# predict SALES using the test data\n",
        "test_predictions = model.predict(X_test).flatten()\n",
        "print(test_predictions)"
      ],
      "metadata": {
        "colab": {
          "base_uri": "https://localhost:8080/"
        },
        "id": "p32LOIlf33LJ",
        "outputId": "dd19ab46-849d-4db2-e7b5-8dd3f788a886"
      },
      "execution_count": 18,
      "outputs": [
        {
          "output_type": "stream",
          "name": "stdout",
          "text": [
            "15/15 [==============================] - 0s 2ms/step\n",
            "[ 0.6776287   0.6776287   0.6776287   0.6776287   0.6776287   0.6776287\n",
            "  0.6776287   0.6776287   0.6776287   0.6776287   0.6776287   0.6776287\n",
            "  0.6776287   0.6776287  -0.6107289   0.3126206   0.6776287   0.6776287\n",
            "  0.6776287   0.6776287   0.6776287   0.6776287   0.6776287   0.6776287\n",
            "  0.6776287   0.6776287   0.6776287   0.6776287   0.6776287  -0.17488706\n",
            "  0.6776287   0.6776287   0.6776287   0.6776287   0.6776287   0.6776287\n",
            "  0.6776287   0.6776287   0.6776287   0.6776287   0.6776287   0.6776287\n",
            "  0.6776287   0.6776287   0.6776287   0.6776287   0.6776287   0.6776287\n",
            "  0.6776287   0.6776287   0.6776287  -0.6107289   0.6776287   0.6776287\n",
            "  0.6776287   0.6776287   0.6776287   0.6776287   0.6776287   0.6776287\n",
            "  0.6776287   0.6776287   0.6776287   0.6776287   0.6776287   0.6776287\n",
            "  0.6776287   0.6776287   0.6776287   0.6776287   0.6776287   0.6776287\n",
            "  0.6776287   0.6776287   0.6776287   0.6776287   0.6776287   0.6776287\n",
            "  0.6776287   0.6776287   0.6776287   0.6776287   0.6776287   0.6776287\n",
            "  0.6776287   0.6776287   0.6776287   0.6776287   0.6776287   0.6776287\n",
            "  0.6776287  -0.17488706  0.6776287   0.6776287   0.6776287   0.6776287\n",
            "  0.6776287   0.6776287   0.6776287   0.6776287   0.6776287   0.6776287\n",
            "  0.6776287   0.6776287   0.6776287   0.6776287   0.6776287   0.6776287\n",
            "  0.6776287   0.6776287   0.6776287   0.6776287   0.6776287   0.6776287\n",
            "  0.6776287   0.6776287   0.6776287   0.6776287   0.6776287   0.6776287\n",
            "  0.6776287   0.6776287   0.6776287   0.6776287   0.6776287   0.6776287\n",
            "  0.6776287   0.6776287   0.6776287   0.6776287   0.6776287   0.6776287\n",
            "  0.6776287   0.6776287   0.6776287   0.6776287   0.6776287   0.6776287\n",
            "  0.6776287   0.6776287   0.6776287   0.6776287   0.6776287   0.6776287\n",
            "  0.6776287   0.6776287   0.6776287   0.6776287   0.6776287   0.6776287\n",
            "  0.6776287   0.6776287   0.6776287   0.6776287   0.6776287   0.6776287\n",
            "  0.6776287   0.6776287   0.6776287   0.6776287   0.6776287   0.6776287\n",
            "  0.6776287   0.6776287   0.6776287   0.6776287   0.6776287   0.6776287\n",
            "  0.6776287  -1.5313118   0.6776287   0.6776287   0.6776287   0.6776287\n",
            "  0.6776287   0.6776287   0.6776287   0.6776287   0.6776287   0.6776287\n",
            "  0.6776287   0.6776287   0.6776287   0.6776287   0.6776287   0.6776287\n",
            "  0.6776287   0.6776287   0.6776287   0.6776287   0.6776287   0.6776287\n",
            "  0.6776287   0.6776287   0.6776287   0.6776287   0.6776287   0.6776287\n",
            "  0.6776287   0.6776287   0.6776287   0.6776287   0.6776287   0.6776287\n",
            "  0.6776287   0.6776287   0.6776287   0.6776287   0.6776287   0.6776287\n",
            "  0.6776287   0.6776287   0.6776287   0.6776287   0.6776287   0.6776287\n",
            "  0.6776287   0.6776287   0.6776287   0.6776287   0.6776287   0.6776287\n",
            "  0.6776287   0.6776287   0.6776287   0.6776287   0.3126206   0.6776287\n",
            "  0.6776287   0.6776287   0.6776287   0.6776287   0.6776287   0.6776287\n",
            "  0.6776287   0.6776287   0.6776287   0.6776287   0.6776287   0.6776287\n",
            "  0.6776287   0.6776287   0.6776287   0.6776287   0.6776287   0.6776287\n",
            "  0.6776287   0.6776287   0.6776287   0.6776287   0.6776287   0.6776287\n",
            "  0.6776287   0.4949786   0.6776287   0.6776287   0.6776287   0.6776287\n",
            "  0.6776287   0.6776287   0.6776287   0.6776287   0.6776287   0.6776287\n",
            "  0.6776287   0.6776287   0.6776287   0.6776287   0.6776287   0.6776287\n",
            "  0.6776287   0.6776287   0.6776287   0.6776287   0.6776287   0.6776287\n",
            "  0.6776287   0.6776287   0.6776287   0.6776287   0.6776287   0.6776287\n",
            "  0.6776287   0.6776287   0.6776287   0.6776287   0.6776287   0.6776287\n",
            "  0.6776287   0.6776287   0.6776287   0.6776287   0.6776287   0.6776287\n",
            "  0.6776287   0.6776287   0.6776287   0.6776287   0.6776287   0.6776287\n",
            "  0.6776287   0.6776287   0.6776287   0.6776287   0.6776287   0.6776287\n",
            "  0.6776287   0.6776287   0.6776287   0.6776287   0.6776287   0.6776287\n",
            "  0.2668595   0.6776287   0.6776287   0.6776287   0.6776287   0.6776287\n",
            "  0.6776287   0.6776287   0.6776287   0.6776287   0.6776287   0.6776287\n",
            "  0.6776287   0.6776287   0.6776287   0.6776287   0.6776287   0.6776287\n",
            "  0.6776287   0.6776287   0.6776287   0.6776287   0.6776287   0.6776287\n",
            "  0.6776287   0.6776287   0.6776287   0.6776287   0.6776287   0.6776287\n",
            "  0.6776287   0.6776287   0.6776287   0.6776287   0.6776287   0.6776287\n",
            "  0.6776287   0.6776287   0.6776287   0.6776287   0.6776287   0.6776287\n",
            "  0.6776287   0.6776287   0.6776287   0.6776287   0.6776287   0.6776287\n",
            "  0.6776287   0.6776287   0.6776287   0.6776287   0.6776287   0.6776287\n",
            "  0.6776287   0.6776287   0.6776287   0.6776287   0.6776287   0.6776287\n",
            "  0.6776287   0.6776287   0.6776287   0.6776287   0.6776287   0.6776287\n",
            "  0.6776287   0.6776287   0.6776287   0.6776287   0.6776287   0.6776287\n",
            "  0.6776287   0.6776287   0.6776287   0.6776287   0.6776287   0.6776287\n",
            "  0.6776287   0.6776287   0.6776287   0.6776287   0.6776287   0.6776287\n",
            "  0.6776287   0.6776287   0.6776287   0.6776287   0.6776287   0.6776287\n",
            "  0.6776287   0.6776287   0.6776287   0.6776287   0.6776287   0.6776287\n",
            "  0.6776287   0.6776287   0.6776287   0.6776287   0.6776287   0.6776287\n",
            "  0.6776287   0.6776287   0.6776287   0.6776287   0.6776287   0.6776287\n",
            "  0.6776287   0.6776287   0.6776287   0.6776287   0.6776287   0.6776287\n",
            "  0.6776287   0.6776287   0.6776287   0.6776287   0.6776287   0.6776287\n",
            "  0.6776287   0.6776287   0.6776287   0.6776287   0.6776287   0.6776287\n",
            "  0.6776287   0.6776287   0.6776287   0.6776287   0.6776287   0.6776287\n",
            "  0.6776287   0.6776287   0.6776287   0.6776287   0.07949477  0.6776287\n",
            "  0.6776287   0.6776287   0.6776287   0.6776287   0.6776287  -1.6002123\n",
            "  0.6776287   0.6776287   0.6776287   0.6776287   0.6776287   0.6776287\n",
            "  0.6776287   0.6776287   0.6776287   0.6776287   0.6776287   0.07949477\n",
            "  0.6776287   0.6776287   0.6776287   0.6776287  -0.17488706  0.6776287\n",
            "  0.6776287   0.6776287   0.6776287   0.6776287   0.6776287   0.6776287 ]\n"
          ]
        }
      ]
    },
    {
      "cell_type": "markdown",
      "source": [
        "### True and Predicted Values"
      ],
      "metadata": {
        "id": "C-StZOW04Jbo"
      }
    },
    {
      "cell_type": "code",
      "source": [
        "# show the true value and predicted value in dataframe\n",
        "true_predicted = pd.DataFrame(list(zip(y_test, test_predictions)),\n",
        "                    columns=['True Value','Predicted Value'])\n",
        "true_predicted.head(6) # Show first six rows"
      ],
      "metadata": {
        "colab": {
          "base_uri": "https://localhost:8080/",
          "height": 238
        },
        "id": "nUuXfZxZ4DSq",
        "outputId": "e84f5d1b-7a27-4464-ad1e-4b43e1858c89"
      },
      "execution_count": 19,
      "outputs": [
        {
          "output_type": "execute_result",
          "data": {
            "text/plain": [
              "   True Value  Predicted Value\n",
              "0        26.2         0.677629\n",
              "1        19.0         0.677629\n",
              "2        12.8         0.677629\n",
              "3        20.8         0.677629\n",
              "4        16.9         0.677629\n",
              "5        23.8         0.677629"
            ],
            "text/html": [
              "\n",
              "  <div id=\"df-fb295578-4866-4129-9570-712e2ac1c735\" class=\"colab-df-container\">\n",
              "    <div>\n",
              "<style scoped>\n",
              "    .dataframe tbody tr th:only-of-type {\n",
              "        vertical-align: middle;\n",
              "    }\n",
              "\n",
              "    .dataframe tbody tr th {\n",
              "        vertical-align: top;\n",
              "    }\n",
              "\n",
              "    .dataframe thead th {\n",
              "        text-align: right;\n",
              "    }\n",
              "</style>\n",
              "<table border=\"1\" class=\"dataframe\">\n",
              "  <thead>\n",
              "    <tr style=\"text-align: right;\">\n",
              "      <th></th>\n",
              "      <th>True Value</th>\n",
              "      <th>Predicted Value</th>\n",
              "    </tr>\n",
              "  </thead>\n",
              "  <tbody>\n",
              "    <tr>\n",
              "      <th>0</th>\n",
              "      <td>26.2</td>\n",
              "      <td>0.677629</td>\n",
              "    </tr>\n",
              "    <tr>\n",
              "      <th>1</th>\n",
              "      <td>19.0</td>\n",
              "      <td>0.677629</td>\n",
              "    </tr>\n",
              "    <tr>\n",
              "      <th>2</th>\n",
              "      <td>12.8</td>\n",
              "      <td>0.677629</td>\n",
              "    </tr>\n",
              "    <tr>\n",
              "      <th>3</th>\n",
              "      <td>20.8</td>\n",
              "      <td>0.677629</td>\n",
              "    </tr>\n",
              "    <tr>\n",
              "      <th>4</th>\n",
              "      <td>16.9</td>\n",
              "      <td>0.677629</td>\n",
              "    </tr>\n",
              "    <tr>\n",
              "      <th>5</th>\n",
              "      <td>23.8</td>\n",
              "      <td>0.677629</td>\n",
              "    </tr>\n",
              "  </tbody>\n",
              "</table>\n",
              "</div>\n",
              "    <div class=\"colab-df-buttons\">\n",
              "\n",
              "  <div class=\"colab-df-container\">\n",
              "    <button class=\"colab-df-convert\" onclick=\"convertToInteractive('df-fb295578-4866-4129-9570-712e2ac1c735')\"\n",
              "            title=\"Convert this dataframe to an interactive table.\"\n",
              "            style=\"display:none;\">\n",
              "\n",
              "  <svg xmlns=\"http://www.w3.org/2000/svg\" height=\"24px\" viewBox=\"0 -960 960 960\">\n",
              "    <path d=\"M120-120v-720h720v720H120Zm60-500h600v-160H180v160Zm220 220h160v-160H400v160Zm0 220h160v-160H400v160ZM180-400h160v-160H180v160Zm440 0h160v-160H620v160ZM180-180h160v-160H180v160Zm440 0h160v-160H620v160Z\"/>\n",
              "  </svg>\n",
              "    </button>\n",
              "\n",
              "  <style>\n",
              "    .colab-df-container {\n",
              "      display:flex;\n",
              "      gap: 12px;\n",
              "    }\n",
              "\n",
              "    .colab-df-convert {\n",
              "      background-color: #E8F0FE;\n",
              "      border: none;\n",
              "      border-radius: 50%;\n",
              "      cursor: pointer;\n",
              "      display: none;\n",
              "      fill: #1967D2;\n",
              "      height: 32px;\n",
              "      padding: 0 0 0 0;\n",
              "      width: 32px;\n",
              "    }\n",
              "\n",
              "    .colab-df-convert:hover {\n",
              "      background-color: #E2EBFA;\n",
              "      box-shadow: 0px 1px 2px rgba(60, 64, 67, 0.3), 0px 1px 3px 1px rgba(60, 64, 67, 0.15);\n",
              "      fill: #174EA6;\n",
              "    }\n",
              "\n",
              "    .colab-df-buttons div {\n",
              "      margin-bottom: 4px;\n",
              "    }\n",
              "\n",
              "    [theme=dark] .colab-df-convert {\n",
              "      background-color: #3B4455;\n",
              "      fill: #D2E3FC;\n",
              "    }\n",
              "\n",
              "    [theme=dark] .colab-df-convert:hover {\n",
              "      background-color: #434B5C;\n",
              "      box-shadow: 0px 1px 3px 1px rgba(0, 0, 0, 0.15);\n",
              "      filter: drop-shadow(0px 1px 2px rgba(0, 0, 0, 0.3));\n",
              "      fill: #FFFFFF;\n",
              "    }\n",
              "  </style>\n",
              "\n",
              "    <script>\n",
              "      const buttonEl =\n",
              "        document.querySelector('#df-fb295578-4866-4129-9570-712e2ac1c735 button.colab-df-convert');\n",
              "      buttonEl.style.display =\n",
              "        google.colab.kernel.accessAllowed ? 'block' : 'none';\n",
              "\n",
              "      async function convertToInteractive(key) {\n",
              "        const element = document.querySelector('#df-fb295578-4866-4129-9570-712e2ac1c735');\n",
              "        const dataTable =\n",
              "          await google.colab.kernel.invokeFunction('convertToInteractive',\n",
              "                                                    [key], {});\n",
              "        if (!dataTable) return;\n",
              "\n",
              "        const docLinkHtml = 'Like what you see? Visit the ' +\n",
              "          '<a target=\"_blank\" href=https://colab.research.google.com/notebooks/data_table.ipynb>data table notebook</a>'\n",
              "          + ' to learn more about interactive tables.';\n",
              "        element.innerHTML = '';\n",
              "        dataTable['output_type'] = 'display_data';\n",
              "        await google.colab.output.renderOutput(dataTable, element);\n",
              "        const docLink = document.createElement('div');\n",
              "        docLink.innerHTML = docLinkHtml;\n",
              "        element.appendChild(docLink);\n",
              "      }\n",
              "    </script>\n",
              "  </div>\n",
              "\n",
              "\n",
              "<div id=\"df-4cc15eff-b604-432a-aeed-7f9bd44e2d81\">\n",
              "  <button class=\"colab-df-quickchart\" onclick=\"quickchart('df-4cc15eff-b604-432a-aeed-7f9bd44e2d81')\"\n",
              "            title=\"Suggest charts.\"\n",
              "            style=\"display:none;\">\n",
              "\n",
              "<svg xmlns=\"http://www.w3.org/2000/svg\" height=\"24px\"viewBox=\"0 0 24 24\"\n",
              "     width=\"24px\">\n",
              "    <g>\n",
              "        <path d=\"M19 3H5c-1.1 0-2 .9-2 2v14c0 1.1.9 2 2 2h14c1.1 0 2-.9 2-2V5c0-1.1-.9-2-2-2zM9 17H7v-7h2v7zm4 0h-2V7h2v10zm4 0h-2v-4h2v4z\"/>\n",
              "    </g>\n",
              "</svg>\n",
              "  </button>\n",
              "\n",
              "<style>\n",
              "  .colab-df-quickchart {\n",
              "      --bg-color: #E8F0FE;\n",
              "      --fill-color: #1967D2;\n",
              "      --hover-bg-color: #E2EBFA;\n",
              "      --hover-fill-color: #174EA6;\n",
              "      --disabled-fill-color: #AAA;\n",
              "      --disabled-bg-color: #DDD;\n",
              "  }\n",
              "\n",
              "  [theme=dark] .colab-df-quickchart {\n",
              "      --bg-color: #3B4455;\n",
              "      --fill-color: #D2E3FC;\n",
              "      --hover-bg-color: #434B5C;\n",
              "      --hover-fill-color: #FFFFFF;\n",
              "      --disabled-bg-color: #3B4455;\n",
              "      --disabled-fill-color: #666;\n",
              "  }\n",
              "\n",
              "  .colab-df-quickchart {\n",
              "    background-color: var(--bg-color);\n",
              "    border: none;\n",
              "    border-radius: 50%;\n",
              "    cursor: pointer;\n",
              "    display: none;\n",
              "    fill: var(--fill-color);\n",
              "    height: 32px;\n",
              "    padding: 0;\n",
              "    width: 32px;\n",
              "  }\n",
              "\n",
              "  .colab-df-quickchart:hover {\n",
              "    background-color: var(--hover-bg-color);\n",
              "    box-shadow: 0 1px 2px rgba(60, 64, 67, 0.3), 0 1px 3px 1px rgba(60, 64, 67, 0.15);\n",
              "    fill: var(--button-hover-fill-color);\n",
              "  }\n",
              "\n",
              "  .colab-df-quickchart-complete:disabled,\n",
              "  .colab-df-quickchart-complete:disabled:hover {\n",
              "    background-color: var(--disabled-bg-color);\n",
              "    fill: var(--disabled-fill-color);\n",
              "    box-shadow: none;\n",
              "  }\n",
              "\n",
              "  .colab-df-spinner {\n",
              "    border: 2px solid var(--fill-color);\n",
              "    border-color: transparent;\n",
              "    border-bottom-color: var(--fill-color);\n",
              "    animation:\n",
              "      spin 1s steps(1) infinite;\n",
              "  }\n",
              "\n",
              "  @keyframes spin {\n",
              "    0% {\n",
              "      border-color: transparent;\n",
              "      border-bottom-color: var(--fill-color);\n",
              "      border-left-color: var(--fill-color);\n",
              "    }\n",
              "    20% {\n",
              "      border-color: transparent;\n",
              "      border-left-color: var(--fill-color);\n",
              "      border-top-color: var(--fill-color);\n",
              "    }\n",
              "    30% {\n",
              "      border-color: transparent;\n",
              "      border-left-color: var(--fill-color);\n",
              "      border-top-color: var(--fill-color);\n",
              "      border-right-color: var(--fill-color);\n",
              "    }\n",
              "    40% {\n",
              "      border-color: transparent;\n",
              "      border-right-color: var(--fill-color);\n",
              "      border-top-color: var(--fill-color);\n",
              "    }\n",
              "    60% {\n",
              "      border-color: transparent;\n",
              "      border-right-color: var(--fill-color);\n",
              "    }\n",
              "    80% {\n",
              "      border-color: transparent;\n",
              "      border-right-color: var(--fill-color);\n",
              "      border-bottom-color: var(--fill-color);\n",
              "    }\n",
              "    90% {\n",
              "      border-color: transparent;\n",
              "      border-bottom-color: var(--fill-color);\n",
              "    }\n",
              "  }\n",
              "</style>\n",
              "\n",
              "  <script>\n",
              "    async function quickchart(key) {\n",
              "      const quickchartButtonEl =\n",
              "        document.querySelector('#' + key + ' button');\n",
              "      quickchartButtonEl.disabled = true;  // To prevent multiple clicks.\n",
              "      quickchartButtonEl.classList.add('colab-df-spinner');\n",
              "      try {\n",
              "        const charts = await google.colab.kernel.invokeFunction(\n",
              "            'suggestCharts', [key], {});\n",
              "      } catch (error) {\n",
              "        console.error('Error during call to suggestCharts:', error);\n",
              "      }\n",
              "      quickchartButtonEl.classList.remove('colab-df-spinner');\n",
              "      quickchartButtonEl.classList.add('colab-df-quickchart-complete');\n",
              "    }\n",
              "    (() => {\n",
              "      let quickchartButtonEl =\n",
              "        document.querySelector('#df-4cc15eff-b604-432a-aeed-7f9bd44e2d81 button');\n",
              "      quickchartButtonEl.style.display =\n",
              "        google.colab.kernel.accessAllowed ? 'block' : 'none';\n",
              "    })();\n",
              "  </script>\n",
              "</div>\n",
              "    </div>\n",
              "  </div>\n"
            ]
          },
          "metadata": {},
          "execution_count": 19
        }
      ]
    },
    {
      "cell_type": "markdown",
      "source": [
        "### Visualize the Prediction"
      ],
      "metadata": {
        "id": "qN7LhUd74YiT"
      }
    },
    {
      "cell_type": "code",
      "source": [
        "# visualize the prediction uisng diagonal line\n",
        "y = test_predictions #y-axis\n",
        "x = y_test #x-axis\n",
        "fig, ax = plt.subplots(figsize=(10,6)) # create figure\n",
        "ax.scatter(x,y) #scatter plots for x,y\n",
        "ax.set(xlim=(0,55), ylim=(0, 55)) #set limit\n",
        "ax.plot(ax.get_xlim(), ax.get_ylim(), color ='red') # draw 45 degree diagonal in figure\n",
        "plt.xlabel('True Values')\n",
        "plt.ylabel('Predicted values')\n",
        "plt.title('Evaluation Result')\n",
        "plt.show()"
      ],
      "metadata": {
        "colab": {
          "base_uri": "https://localhost:8080/",
          "height": 425
        },
        "id": "DHY_haIe4bfU",
        "outputId": "a0cbc970-e0c3-4b3b-a5c7-6ddc8e3b5860"
      },
      "execution_count": 20,
      "outputs": [
        {
          "output_type": "display_data",
          "data": {
            "text/plain": [
              "<Figure size 1000x600 with 1 Axes>"
            ],
            "image/png": "[encoded data removed]"
          },
          "metadata": {}
        }
      ]
    },
    {
      "cell_type": "markdown",
      "source": [
        "Show the accuracy of Linear Regression on the dataset. The linear regression graph is created by train data and the model line is shown by the blue line which is created using test data and predicted data as we can see most of the red dots are on the line, thus we can say that model has produced the best-fit line."
      ],
      "metadata": {
        "id": "osjgH7xC5dsI"
      }
    },
    {
      "cell_type": "code",
      "source": [
        "#Accuracy of linear regression on the dataset\n",
        "\n",
        "\n",
        "plt.figure(figsize=(10,5))\n",
        "sns.regplot(x=y_test,y=test_predictions,scatter_kws={'color':'red'})"
      ],
      "metadata": {
        "colab": {
          "base_uri": "https://localhost:8080/",
          "height": 370
        },
        "id": "F6kfqesJ5Q8v",
        "outputId": "71cb4ca2-6351-4389-8cc2-862cccc105cc"
      },
      "execution_count": 21,
      "outputs": [
        {
          "output_type": "execute_result",
          "data": {
            "text/plain": [
              "<Axes: xlabel='sales'>"
            ]
          },
          "metadata": {},
          "execution_count": 21
        },
        {
          "output_type": "display_data",
          "data": {
            "text/plain": [
              "<Figure size 1000x500 with 1 Axes>"
            ],
            "image/png": "[encoded data removed]"
          },
          "metadata": {}
        }
      ]
    },
    {
      "cell_type": "markdown",
      "source": [
        "### Evaluation\n",
        "\n",
        "Step 6 - Predict on the Test Data and Compute Evaluation Metrics The first line of code predicts on the train data, while the second line prints the RMSE value on the train data. The same is repeated in the third and fourth lines of code which predicts and prints the RMSE value on test data."
      ],
      "metadata": {
        "id": "aVgChvul5ppl"
      }
    },
    {
      "cell_type": "code",
      "source": [
        "pred_train= model.predict(X_train)\n",
        "print(np.sqrt(mean_squared_error(y_train,pred_train)))\n",
        "\n",
        "pred= model.predict(X_test)\n",
        "print(np.sqrt(mean_squared_error(y_test,pred)))"
      ],
      "metadata": {
        "colab": {
          "base_uri": "https://localhost:8080/"
        },
        "id": "ZtBzCuoO5tui",
        "outputId": "e7278fca-c43c-47e9-b729-c41e3dd96f53"
      },
      "execution_count": 22,
      "outputs": [
        {
          "output_type": "stream",
          "name": "stdout",
          "text": [
            "23/23 [==============================] - 0s 2ms/step\n",
            "14.143221276151726\n",
            "15/15 [==============================] - 0s 2ms/step\n",
            "14.589338705354443\n"
          ]
        }
      ]
    },
    {
      "cell_type": "code",
      "source": [
        "# How can I get prediction for only one instance in Keras?\n",
        "# We were able to do that quite easily using the AutoML GUI.\n",
        "\n",
        "# See this resources: https://datascience.stackexchange.com/questions/13461/how-can-i-get-prediction-for-only-one-instance-in-keras\n",
        "\n",
        "# See this resource:\n",
        "\n",
        "\n",
        "#import keras\n",
        "\n",
        "#model = keras.Sequential([\n",
        "    #keras.layers.Dense(128, activation='relu', input_shape=(3,)),\n",
        "    #keras.layers.Dense(64, activation='relu'),\n",
        "    #keras.layers.Dense(1, activation='relu')])\n",
        "\n",
        "# Compile the model\n",
        "#model.compile(optimizer='adam', loss='mse', metrics=['mse'])\n",
        "\n",
        "# Load the model weight\n",
        "#model.load_weights('model.h5')\n",
        "#model = keras.models.load_model('model.h5')\n",
        "\n",
        "# Make a prediction for a single instance\n",
        "#input_instance = np.array([1, 2, 3])\n",
        "#input_instances = [input_instance]\n",
        "#prediction = model.predict(input_instances)\n",
        "\n",
        "# Print the predicted output\n",
        "#print(prediction)\n",
        "\n",
        "\n",
        "#NOTE:\n",
        "# By default, Keras saves the model weights to a file with the .h5 extension in the same directory as the model architecture file. The model weights file is named model.weights.h5."
      ],
      "metadata": {
        "id": "8zycBiuelSQn"
      },
      "execution_count": 23,
      "outputs": []
    },
    {
      "cell_type": "code",
      "source": [
        "# Save the model weights to a network drive\n",
        "model.save_weights('\\\\\\\\network_drive\\model_weights.h5')"
      ],
      "metadata": {
        "id": "uyLCcjwXp4lJ"
      },
      "execution_count": 24,
      "outputs": []
    },
    {
      "cell_type": "code",
      "source": [
        "# Load the model weights from a network drive\n",
        "model.load_weights('\\\\\\\\network_drive\\model_weights.h5')"
      ],
      "metadata": {
        "id": "iFGF0Szqp5J0"
      },
      "execution_count": 25,
      "outputs": []
    },
    {
      "cell_type": "code",
      "source": [
        "# Make a prediction for a new input instance\n",
        "#input_instance = np.array([1, 2, 3])\n",
        "#prediction = model.predict(input_instance)\n",
        "\n",
        "# Print the predicted output\n",
        "#print(prediction)"
      ],
      "metadata": {
        "id": "Vv_3-3txss2Y"
      },
      "execution_count": 26,
      "outputs": []
    },
    {
      "cell_type": "markdown",
      "source": [
        "import h5py\n",
        "\n",
        "# Open the HDF5 file\n",
        "f = h5py.File('/content/\\\\network_drive\\model_weights.h5', 'r')\n",
        "\n",
        "\n",
        "# Get the model weights from the HDF5 file\n",
        "model_weights = f['model_weights']\n",
        "\n",
        "# Close the HDF5 file\n",
        "f.close()"
      ],
      "metadata": {
        "id": "pKT1dreL-dZU"
      }
    },
    {
      "cell_type": "markdown",
      "source": [
        "Evaluation of the Model Performance The output above shows that the RMSE, which is our evaluation metric, was 3.784 thousand for train data and 3.750 thousand for test data. Ideally, the lower the RMSE value, the better the model performance. However, in contrast to accuracy, it is not straightforward to interpret RMSE as we would have to look at the unit which in our case is in thousands."
      ],
      "metadata": {
        "id": "_UHw6hTO6HZr"
      }
    },
    {
      "cell_type": "markdown",
      "source": [
        "Regression Evaluation Metrics\n",
        "Here are three common evaluation metrics for regression problems:\n",
        "\n",
        "Mean Absolute Error (MAE) is the mean of the absolute value of the errors:\n",
        "\n",
        "\n",
        "Mean Squared Error (MSE) is the mean of the squared errors:\n",
        "\n",
        "\n",
        "Root Mean Squared Error (RMSE) is the square root of the mean of the squared errors:\n",
        "\n",
        "\n",
        "Comparing these metrics:\n",
        "\n",
        "MAE is the easiest to understand, because it's the average error.\n",
        "MSE is more popular than MAE, because MSE \"punishes\" larger errors, which tends to be useful in the real world.\n",
        "RMSE is even more popular than MSE, because RMSE is interpretable in the \"y\" units.\n",
        "All of these are loss functions, because you want to minimize them."
      ],
      "metadata": {
        "id": "4Eq2O1b16QO4"
      }
    }
  ],
  "metadata": {
    "colab": {
      "provenance": [],
      "include_colab_link": true
    },
    "environment": {
      "kernel": "python3",
      "name": "tf2-gpu.2-6.m87",
      "type": "gcloud",
      "uri": "gcr.io/deeplearning-platform-release/tf2-gpu.2-6:m87"
    },
    "kernelspec": {
      "display_name": "Python 3",
      "language": "python",
      "name": "python3"
    },
    "language_info": {
      "codemirror_mode": {
        "name": "ipython",
        "version": 3
      },
      "file_extension": ".py",
      "mimetype": "text/x-python",
      "name": "python",
      "nbconvert_exporter": "python",
      "pygments_lexer": "ipython3",
      "version": "3.7.12"
    }
  },
  "nbformat": 4,
  "nbformat_minor": 0
}