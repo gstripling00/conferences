{
  "cells": [
    {
      "cell_type": "markdown",
      "metadata": {
        "id": "view-in-github",
        "colab_type": "text"
      },
      "source": [
        "<a href=\"https://colab.research.google.com/github/gstripling00/conferences/blob/main/ODSC_23_predict_media_sales.ipynb\" target=\"_parent\"><img src=\"https://colab.research.google.com/assets/colab-badge.svg\" alt=\"Open In Colab\"/></a>"
      ]
    },
    {
      "cell_type": "markdown",
      "metadata": {
        "id": "DGPlYumZnO1t"
      },
      "source": [
        "# Simple Neural Network using Keras\n",
        "\n",
        "\n",
        "## Introduction\n",
        "Our use case is to build, train, and evaluate a prediction model for sales analysis.\n",
        "\n",
        "In this model, we need to feed the advertising budget of TV, radio, and newspapers to the model and the model will forecast the possible sales.\n",
        "\n",
        "## Dataset\n",
        "The dataset being used for this chapter, the advertising_2023 dataset, is based on data taken from An Introduction to Statistical Learning with Applications in R by Daniela Witten, Gareth M. James, Trevor Hastie, and Robert Tibshirani (Springer, 2021). The advertising dataset captures the sales revenue generated from advertising (in thousands of units) for particular product advertising budgets (in thousands of dollars) for TV, radio, and newspaper media.\n",
        "\n",
        "For this exercise, the dataset has been updated to include a digital variable and modified to show the impact of digital budgets on sales. The number of markets has been increased from 200 to 1,200. Thus, the data consists of the advertising budgets for four media channels (digital, TV, radio, and newspapers) and the overall sales in 1,200 different markets.\n",
        "\n",
        "   \n",
        "&nbsp;\n",
        "&nbsp;\n",
        "\n",
        "##### Features:\n",
        "| Channel    | Description |\n",
        "| --------   | ------- |\n",
        "| Digital    | Advertising dollars spent on Internet   |\n",
        "| TV         | Advertising dollars spent on TV    |\n",
        "| Radio      | Advertising dollars spent on Radio   |\n",
        "\n",
        "&nbsp;\n",
        "&nbsp;\n",
        "\n",
        "\n",
        "#### Target (Label): Sales budget\n"
      ]
    },
    {
      "cell_type": "markdown",
      "metadata": {
        "id": "YBXAUbijjNBF"
      },
      "source": [
        "# Step 1: Import Libraries and Data Preparation"
      ]
    },
    {
      "cell_type": "markdown",
      "metadata": {
        "id": "AsHg6SD2nO1v"
      },
      "source": [
        "### Import Libraries"
      ]
    },
    {
      "cell_type": "code",
      "execution_count": 27,
      "metadata": {
        "id": "gEXV-RxPnO1w"
      },
      "outputs": [],
      "source": [
        "# Import the necessary libraries\n",
        "\n",
        "# For Data loading, Exploraotry Data Analysis, Graphing\n",
        "import pandas as pd   # Pandas for data processing libraries\n",
        "import numpy as np    # Numpy for mathematical functions\n",
        "\n",
        "import matplotlib.pyplot as plt # Matplotlib for visualization tasks\n",
        "import seaborn as sns # Seaborn for data visualization library based on matplotlib.\n",
        "%matplotlib inline\n",
        "\n",
        "import sklearn        # ML tasks\n",
        "from sklearn.model_selection import train_test_split # Split the dataset\n",
        "from sklearn.metrics import mean_squared_error  # Calculate Mean Squared Error\n",
        "\n",
        "# Build the Network\n",
        "from tensorflow import keras\n",
        "from keras.models import Sequential\n",
        "#from tensorflow.keras.models import Sequential\n",
        "from keras.layers import Dense\n",
        "\n",
        "import tensorflow as tf\n"
      ]
    },
    {
      "cell_type": "code",
      "source": [
        "\n",
        "# Next, you read the dataset into a Pandas dataframe.\n",
        "# A Pandas DataFrame is a two-dimensional tabular data structure with labeled axes (rows and columns)\n",
        "\n",
        "url = 'https://github.com/maabel0712/low-code-ai/blob/main/advertising_2023.csv?raw=true'\n",
        "advertising_df= pd.read_csv(url,index_col=0)"
      ],
      "metadata": {
        "id": "sXf26ofNM46L"
      },
      "execution_count": 28,
      "outputs": []
    },
    {
      "cell_type": "code",
      "source": [
        "# Backup dataset\n",
        "# Next, you read the dataset into a Pandas dataframe.\n",
        "\n",
        "url = 'https://github.com/LinkedInLearning/artificial-intelligence-foundations-neural-networks-4381282/blob/main/Advertising_2023.csv?raw=true'\n",
        "advertising_df= pd.read_csv(url,index_col=0)"
      ],
      "metadata": {
        "id": "PTQneSIpNY3T"
      },
      "execution_count": 29,
      "outputs": []
    },
    {
      "cell_type": "code",
      "source": [
        "# Pandas info() function is used to get a concise summary of the dataframe.\n",
        "advertising_df.info()\n",
        "\n",
        "# Think of float64 data type as a decimal - remenber, in sales, we have dollars and cents.\n"
      ],
      "metadata": {
        "id": "jREeqEBUcl9j",
        "colab": {
          "base_uri": "https://localhost:8080/"
        },
        "outputId": "7778bd0a-6713-451f-aa9c-a25d2db6402d"
      },
      "execution_count": 30,
      "outputs": [
        {
          "output_type": "stream",
          "name": "stdout",
          "text": [
            "<class 'pandas.core.frame.DataFrame'>\n",
            "Int64Index: 1199 entries, 1 to 1197\n",
            "Data columns (total 5 columns):\n",
            " #   Column     Non-Null Count  Dtype  \n",
            "---  ------     --------------  -----  \n",
            " 0   digital    1199 non-null   float64\n",
            " 1   TV         1199 non-null   float64\n",
            " 2   radio      1199 non-null   float64\n",
            " 3   newspaper  1199 non-null   float64\n",
            " 4   sales      1199 non-null   float64\n",
            "dtypes: float64(5)\n",
            "memory usage: 56.2 KB\n"
          ]
        }
      ]
    },
    {
      "cell_type": "code",
      "execution_count": 31,
      "metadata": {
        "id": "BTNIhkVYv9HZ",
        "colab": {
          "base_uri": "https://localhost:8080/",
          "height": 300
        },
        "outputId": "51598011-d168-4494-a373-af83c15d1a05"
      },
      "outputs": [
        {
          "output_type": "execute_result",
          "data": {
            "text/plain": [
              "           digital          TV        radio    newspaper        sales\n",
              "count  1199.000000  1199.00000  1199.000000  1199.000000  1199.000000\n",
              "mean    135.472394   146.61985    23.240617    30.529942    14.005505\n",
              "std     135.730821    85.61047    14.820827    21.712507     5.202804\n",
              "min       0.300000     0.70000     0.000000     0.300000     1.600000\n",
              "25%      24.250000    73.40000     9.950000    12.800000    10.300000\n",
              "50%      64.650000   149.70000    22.500000    25.600000    12.900000\n",
              "75%     256.950000   218.50000    36.500000    45.100000    17.400000\n",
              "max     444.600000   296.40000    49.600000   114.000000    27.000000"
            ],
            "text/html": [
              "\n",
              "  <div id=\"df-fce98362-2f23-4897-bbaa-dfb137b58876\" class=\"colab-df-container\">\n",
              "    <div>\n",
              "<style scoped>\n",
              "    .dataframe tbody tr th:only-of-type {\n",
              "        vertical-align: middle;\n",
              "    }\n",
              "\n",
              "    .dataframe tbody tr th {\n",
              "        vertical-align: top;\n",
              "    }\n",
              "\n",
              "    .dataframe thead th {\n",
              "        text-align: right;\n",
              "    }\n",
              "</style>\n",
              "<table border=\"1\" class=\"dataframe\">\n",
              "  <thead>\n",
              "    <tr style=\"text-align: right;\">\n",
              "      <th></th>\n",
              "      <th>digital</th>\n",
              "      <th>TV</th>\n",
              "      <th>radio</th>\n",
              "      <th>newspaper</th>\n",
              "      <th>sales</th>\n",
              "    </tr>\n",
              "  </thead>\n",
              "  <tbody>\n",
              "    <tr>\n",
              "      <th>count</th>\n",
              "      <td>1199.000000</td>\n",
              "      <td>1199.00000</td>\n",
              "      <td>1199.000000</td>\n",
              "      <td>1199.000000</td>\n",
              "      <td>1199.000000</td>\n",
              "    </tr>\n",
              "    <tr>\n",
              "      <th>mean</th>\n",
              "      <td>135.472394</td>\n",
              "      <td>146.61985</td>\n",
              "      <td>23.240617</td>\n",
              "      <td>30.529942</td>\n",
              "      <td>14.005505</td>\n",
              "    </tr>\n",
              "    <tr>\n",
              "      <th>std</th>\n",
              "      <td>135.730821</td>\n",
              "      <td>85.61047</td>\n",
              "      <td>14.820827</td>\n",
              "      <td>21.712507</td>\n",
              "      <td>5.202804</td>\n",
              "    </tr>\n",
              "    <tr>\n",
              "      <th>min</th>\n",
              "      <td>0.300000</td>\n",
              "      <td>0.70000</td>\n",
              "      <td>0.000000</td>\n",
              "      <td>0.300000</td>\n",
              "      <td>1.600000</td>\n",
              "    </tr>\n",
              "    <tr>\n",
              "      <th>25%</th>\n",
              "      <td>24.250000</td>\n",
              "      <td>73.40000</td>\n",
              "      <td>9.950000</td>\n",
              "      <td>12.800000</td>\n",
              "      <td>10.300000</td>\n",
              "    </tr>\n",
              "    <tr>\n",
              "      <th>50%</th>\n",
              "      <td>64.650000</td>\n",
              "      <td>149.70000</td>\n",
              "      <td>22.500000</td>\n",
              "      <td>25.600000</td>\n",
              "      <td>12.900000</td>\n",
              "    </tr>\n",
              "    <tr>\n",
              "      <th>75%</th>\n",
              "      <td>256.950000</td>\n",
              "      <td>218.50000</td>\n",
              "      <td>36.500000</td>\n",
              "      <td>45.100000</td>\n",
              "      <td>17.400000</td>\n",
              "    </tr>\n",
              "    <tr>\n",
              "      <th>max</th>\n",
              "      <td>444.600000</td>\n",
              "      <td>296.40000</td>\n",
              "      <td>49.600000</td>\n",
              "      <td>114.000000</td>\n",
              "      <td>27.000000</td>\n",
              "    </tr>\n",
              "  </tbody>\n",
              "</table>\n",
              "</div>\n",
              "    <div class=\"colab-df-buttons\">\n",
              "\n",
              "  <div class=\"colab-df-container\">\n",
              "    <button class=\"colab-df-convert\" onclick=\"convertToInteractive('df-fce98362-2f23-4897-bbaa-dfb137b58876')\"\n",
              "            title=\"Convert this dataframe to an interactive table.\"\n",
              "            style=\"display:none;\">\n",
              "\n",
              "  <svg xmlns=\"http://www.w3.org/2000/svg\" height=\"24px\" viewBox=\"0 -960 960 960\">\n",
              "    <path d=\"M120-120v-720h720v720H120Zm60-500h600v-160H180v160Zm220 220h160v-160H400v160Zm0 220h160v-160H400v160ZM180-400h160v-160H180v160Zm440 0h160v-160H620v160ZM180-180h160v-160H180v160Zm440 0h160v-160H620v160Z\"/>\n",
              "  </svg>\n",
              "    </button>\n",
              "\n",
              "  <style>\n",
              "    .colab-df-container {\n",
              "      display:flex;\n",
              "      gap: 12px;\n",
              "    }\n",
              "\n",
              "    .colab-df-convert {\n",
              "      background-color: #E8F0FE;\n",
              "      border: none;\n",
              "      border-radius: 50%;\n",
              "      cursor: pointer;\n",
              "      display: none;\n",
              "      fill: #1967D2;\n",
              "      height: 32px;\n",
              "      padding: 0 0 0 0;\n",
              "      width: 32px;\n",
              "    }\n",
              "\n",
              "    .colab-df-convert:hover {\n",
              "      background-color: #E2EBFA;\n",
              "      box-shadow: 0px 1px 2px rgba(60, 64, 67, 0.3), 0px 1px 3px 1px rgba(60, 64, 67, 0.15);\n",
              "      fill: #174EA6;\n",
              "    }\n",
              "\n",
              "    .colab-df-buttons div {\n",
              "      margin-bottom: 4px;\n",
              "    }\n",
              "\n",
              "    [theme=dark] .colab-df-convert {\n",
              "      background-color: #3B4455;\n",
              "      fill: #D2E3FC;\n",
              "    }\n",
              "\n",
              "    [theme=dark] .colab-df-convert:hover {\n",
              "      background-color: #434B5C;\n",
              "      box-shadow: 0px 1px 3px 1px rgba(0, 0, 0, 0.15);\n",
              "      filter: drop-shadow(0px 1px 2px rgba(0, 0, 0, 0.3));\n",
              "      fill: #FFFFFF;\n",
              "    }\n",
              "  </style>\n",
              "\n",
              "    <script>\n",
              "      const buttonEl =\n",
              "        document.querySelector('#df-fce98362-2f23-4897-bbaa-dfb137b58876 button.colab-df-convert');\n",
              "      buttonEl.style.display =\n",
              "        google.colab.kernel.accessAllowed ? 'block' : 'none';\n",
              "\n",
              "      async function convertToInteractive(key) {\n",
              "        const element = document.querySelector('#df-fce98362-2f23-4897-bbaa-dfb137b58876');\n",
              "        const dataTable =\n",
              "          await google.colab.kernel.invokeFunction('convertToInteractive',\n",
              "                                                    [key], {});\n",
              "        if (!dataTable) return;\n",
              "\n",
              "        const docLinkHtml = 'Like what you see? Visit the ' +\n",
              "          '<a target=\"_blank\" href=https://colab.research.google.com/notebooks/data_table.ipynb>data table notebook</a>'\n",
              "          + ' to learn more about interactive tables.';\n",
              "        element.innerHTML = '';\n",
              "        dataTable['output_type'] = 'display_data';\n",
              "        await google.colab.output.renderOutput(dataTable, element);\n",
              "        const docLink = document.createElement('div');\n",
              "        docLink.innerHTML = docLinkHtml;\n",
              "        element.appendChild(docLink);\n",
              "      }\n",
              "    </script>\n",
              "  </div>\n",
              "\n",
              "\n",
              "<div id=\"df-520c4a6e-2fca-4594-8e3e-a12f0aa309c2\">\n",
              "  <button class=\"colab-df-quickchart\" onclick=\"quickchart('df-520c4a6e-2fca-4594-8e3e-a12f0aa309c2')\"\n",
              "            title=\"Suggest charts.\"\n",
              "            style=\"display:none;\">\n",
              "\n",
              "<svg xmlns=\"http://www.w3.org/2000/svg\" height=\"24px\"viewBox=\"0 0 24 24\"\n",
              "     width=\"24px\">\n",
              "    <g>\n",
              "        <path d=\"M19 3H5c-1.1 0-2 .9-2 2v14c0 1.1.9 2 2 2h14c1.1 0 2-.9 2-2V5c0-1.1-.9-2-2-2zM9 17H7v-7h2v7zm4 0h-2V7h2v10zm4 0h-2v-4h2v4z\"/>\n",
              "    </g>\n",
              "</svg>\n",
              "  </button>\n",
              "\n",
              "<style>\n",
              "  .colab-df-quickchart {\n",
              "      --bg-color: #E8F0FE;\n",
              "      --fill-color: #1967D2;\n",
              "      --hover-bg-color: #E2EBFA;\n",
              "      --hover-fill-color: #174EA6;\n",
              "      --disabled-fill-color: #AAA;\n",
              "      --disabled-bg-color: #DDD;\n",
              "  }\n",
              "\n",
              "  [theme=dark] .colab-df-quickchart {\n",
              "      --bg-color: #3B4455;\n",
              "      --fill-color: #D2E3FC;\n",
              "      --hover-bg-color: #434B5C;\n",
              "      --hover-fill-color: #FFFFFF;\n",
              "      --disabled-bg-color: #3B4455;\n",
              "      --disabled-fill-color: #666;\n",
              "  }\n",
              "\n",
              "  .colab-df-quickchart {\n",
              "    background-color: var(--bg-color);\n",
              "    border: none;\n",
              "    border-radius: 50%;\n",
              "    cursor: pointer;\n",
              "    display: none;\n",
              "    fill: var(--fill-color);\n",
              "    height: 32px;\n",
              "    padding: 0;\n",
              "    width: 32px;\n",
              "  }\n",
              "\n",
              "  .colab-df-quickchart:hover {\n",
              "    background-color: var(--hover-bg-color);\n",
              "    box-shadow: 0 1px 2px rgba(60, 64, 67, 0.3), 0 1px 3px 1px rgba(60, 64, 67, 0.15);\n",
              "    fill: var(--button-hover-fill-color);\n",
              "  }\n",
              "\n",
              "  .colab-df-quickchart-complete:disabled,\n",
              "  .colab-df-quickchart-complete:disabled:hover {\n",
              "    background-color: var(--disabled-bg-color);\n",
              "    fill: var(--disabled-fill-color);\n",
              "    box-shadow: none;\n",
              "  }\n",
              "\n",
              "  .colab-df-spinner {\n",
              "    border: 2px solid var(--fill-color);\n",
              "    border-color: transparent;\n",
              "    border-bottom-color: var(--fill-color);\n",
              "    animation:\n",
              "      spin 1s steps(1) infinite;\n",
              "  }\n",
              "\n",
              "  @keyframes spin {\n",
              "    0% {\n",
              "      border-color: transparent;\n",
              "      border-bottom-color: var(--fill-color);\n",
              "      border-left-color: var(--fill-color);\n",
              "    }\n",
              "    20% {\n",
              "      border-color: transparent;\n",
              "      border-left-color: var(--fill-color);\n",
              "      border-top-color: var(--fill-color);\n",
              "    }\n",
              "    30% {\n",
              "      border-color: transparent;\n",
              "      border-left-color: var(--fill-color);\n",
              "      border-top-color: var(--fill-color);\n",
              "      border-right-color: var(--fill-color);\n",
              "    }\n",
              "    40% {\n",
              "      border-color: transparent;\n",
              "      border-right-color: var(--fill-color);\n",
              "      border-top-color: var(--fill-color);\n",
              "    }\n",
              "    60% {\n",
              "      border-color: transparent;\n",
              "      border-right-color: var(--fill-color);\n",
              "    }\n",
              "    80% {\n",
              "      border-color: transparent;\n",
              "      border-right-color: var(--fill-color);\n",
              "      border-bottom-color: var(--fill-color);\n",
              "    }\n",
              "    90% {\n",
              "      border-color: transparent;\n",
              "      border-bottom-color: var(--fill-color);\n",
              "    }\n",
              "  }\n",
              "</style>\n",
              "\n",
              "  <script>\n",
              "    async function quickchart(key) {\n",
              "      const quickchartButtonEl =\n",
              "        document.querySelector('#' + key + ' button');\n",
              "      quickchartButtonEl.disabled = true;  // To prevent multiple clicks.\n",
              "      quickchartButtonEl.classList.add('colab-df-spinner');\n",
              "      try {\n",
              "        const charts = await google.colab.kernel.invokeFunction(\n",
              "            'suggestCharts', [key], {});\n",
              "      } catch (error) {\n",
              "        console.error('Error during call to suggestCharts:', error);\n",
              "      }\n",
              "      quickchartButtonEl.classList.remove('colab-df-spinner');\n",
              "      quickchartButtonEl.classList.add('colab-df-quickchart-complete');\n",
              "    }\n",
              "    (() => {\n",
              "      let quickchartButtonEl =\n",
              "        document.querySelector('#df-520c4a6e-2fca-4594-8e3e-a12f0aa309c2 button');\n",
              "      quickchartButtonEl.style.display =\n",
              "        google.colab.kernel.accessAllowed ? 'block' : 'none';\n",
              "    })();\n",
              "  </script>\n",
              "</div>\n",
              "    </div>\n",
              "  </div>\n"
            ]
          },
          "metadata": {},
          "execution_count": 31
        }
      ],
      "source": [
        "### Get summary of statistics of the data\n",
        "advertising_df.describe()"
      ]
    },
    {
      "cell_type": "code",
      "execution_count": 32,
      "metadata": {
        "id": "IzyfOhGaEzlL",
        "colab": {
          "base_uri": "https://localhost:8080/"
        },
        "outputId": "fd3fa87f-1501-4938-bd32-382cf4ce16b6"
      },
      "outputs": [
        {
          "output_type": "execute_result",
          "data": {
            "text/plain": [
              "(1199, 5)"
            ]
          },
          "metadata": {},
          "execution_count": 32
        }
      ],
      "source": [
        "#shape of dataframe - 1199 rows, five columns\n",
        "advertising_df.shape"
      ]
    },
    {
      "cell_type": "markdown",
      "metadata": {
        "id": "6nNrSEBnBk71"
      },
      "source": [
        "Let's check for any null values."
      ]
    },
    {
      "cell_type": "code",
      "execution_count": 33,
      "metadata": {
        "id": "P7gHdfMdBk71",
        "colab": {
          "base_uri": "https://localhost:8080/"
        },
        "outputId": "36c86e61-677e-49dd-e541-3e647c4c38c3"
      },
      "outputs": [
        {
          "output_type": "execute_result",
          "data": {
            "text/plain": [
              "digital      0\n",
              "TV           0\n",
              "radio        0\n",
              "newspaper    0\n",
              "sales        0\n",
              "dtype: int64"
            ]
          },
          "metadata": {},
          "execution_count": 33
        }
      ],
      "source": [
        "# The isnull() method is used to check and manage NULL values in a data frame.\n",
        "advertising_df.isnull().sum()"
      ]
    },
    {
      "cell_type": "markdown",
      "metadata": {
        "id": "QWVdsrmgnO1_"
      },
      "source": [
        "## Exploratory Data Analysis (EDA)\n",
        "\n",
        "Let's create some simple plots to check out the data!  "
      ]
    },
    {
      "cell_type": "code",
      "source": [
        "sns.displot(advertising_df, x=\"sales\")\n",
        "\n",
        "#Note the mean value is around 14 (as shown above in the .describe() method."
      ],
      "metadata": {
        "colab": {
          "base_uri": "https://localhost:8080/",
          "height": 524
        },
        "id": "3qf2Fpu72alh",
        "outputId": "bdb6d748-5f96-441e-cfcc-fdc114774f57"
      },
      "execution_count": 34,
      "outputs": [
        {
          "output_type": "execute_result",
          "data": {
            "text/plain": [
              "<seaborn.axisgrid.FacetGrid at 0x7a3dbb99c5b0>"
            ]
          },
          "metadata": {},
          "execution_count": 34
        },
        {
          "output_type": "display_data",
          "data": {
            "text/plain": [
              "<Figure size 500x500 with 1 Axes>"
            ],
            "image/png": "[encoded data removed]"
          },
          "metadata": {}
        }
      ]
    },
    {
      "cell_type": "code",
      "source": [
        "advertising_df.corr()"
      ],
      "metadata": {
        "colab": {
          "base_uri": "https://localhost:8080/",
          "height": 206
        },
        "id": "u2v69_p1vLY7",
        "outputId": "2d4c7b55-4a4c-4b32-c089-3abed014063e"
      },
      "execution_count": 35,
      "outputs": [
        {
          "output_type": "execute_result",
          "data": {
            "text/plain": [
              "            digital        TV     radio  newspaper     sales\n",
              "digital    1.000000  0.474256  0.041316   0.048023  0.380101\n",
              "TV         0.474256  1.000000  0.055697   0.055579  0.781824\n",
              "radio      0.041316  0.055697  1.000000   0.353096  0.576528\n",
              "newspaper  0.048023  0.055579  0.353096   1.000000  0.227039\n",
              "sales      0.380101  0.781824  0.576528   0.227039  1.000000"
            ],
            "text/html": [
              "\n",
              "  <div id=\"df-e218eec8-a4d7-457f-9e83-d051735c8361\" class=\"colab-df-container\">\n",
              "    <div>\n",
              "<style scoped>\n",
              "    .dataframe tbody tr th:only-of-type {\n",
              "        vertical-align: middle;\n",
              "    }\n",
              "\n",
              "    .dataframe tbody tr th {\n",
              "        vertical-align: top;\n",
              "    }\n",
              "\n",
              "    .dataframe thead th {\n",
              "        text-align: right;\n",
              "    }\n",
              "</style>\n",
              "<table border=\"1\" class=\"dataframe\">\n",
              "  <thead>\n",
              "    <tr style=\"text-align: right;\">\n",
              "      <th></th>\n",
              "      <th>digital</th>\n",
              "      <th>TV</th>\n",
              "      <th>radio</th>\n",
              "      <th>newspaper</th>\n",
              "      <th>sales</th>\n",
              "    </tr>\n",
              "  </thead>\n",
              "  <tbody>\n",
              "    <tr>\n",
              "      <th>digital</th>\n",
              "      <td>1.000000</td>\n",
              "      <td>0.474256</td>\n",
              "      <td>0.041316</td>\n",
              "      <td>0.048023</td>\n",
              "      <td>0.380101</td>\n",
              "    </tr>\n",
              "    <tr>\n",
              "      <th>TV</th>\n",
              "      <td>0.474256</td>\n",
              "      <td>1.000000</td>\n",
              "      <td>0.055697</td>\n",
              "      <td>0.055579</td>\n",
              "      <td>0.781824</td>\n",
              "    </tr>\n",
              "    <tr>\n",
              "      <th>radio</th>\n",
              "      <td>0.041316</td>\n",
              "      <td>0.055697</td>\n",
              "      <td>1.000000</td>\n",
              "      <td>0.353096</td>\n",
              "      <td>0.576528</td>\n",
              "    </tr>\n",
              "    <tr>\n",
              "      <th>newspaper</th>\n",
              "      <td>0.048023</td>\n",
              "      <td>0.055579</td>\n",
              "      <td>0.353096</td>\n",
              "      <td>1.000000</td>\n",
              "      <td>0.227039</td>\n",
              "    </tr>\n",
              "    <tr>\n",
              "      <th>sales</th>\n",
              "      <td>0.380101</td>\n",
              "      <td>0.781824</td>\n",
              "      <td>0.576528</td>\n",
              "      <td>0.227039</td>\n",
              "      <td>1.000000</td>\n",
              "    </tr>\n",
              "  </tbody>\n",
              "</table>\n",
              "</div>\n",
              "    <div class=\"colab-df-buttons\">\n",
              "\n",
              "  <div class=\"colab-df-container\">\n",
              "    <button class=\"colab-df-convert\" onclick=\"convertToInteractive('df-e218eec8-a4d7-457f-9e83-d051735c8361')\"\n",
              "            title=\"Convert this dataframe to an interactive table.\"\n",
              "            style=\"display:none;\">\n",
              "\n",
              "  <svg xmlns=\"http://www.w3.org/2000/svg\" height=\"24px\" viewBox=\"0 -960 960 960\">\n",
              "    <path d=\"M120-120v-720h720v720H120Zm60-500h600v-160H180v160Zm220 220h160v-160H400v160Zm0 220h160v-160H400v160ZM180-400h160v-160H180v160Zm440 0h160v-160H620v160ZM180-180h160v-160H180v160Zm440 0h160v-160H620v160Z\"/>\n",
              "  </svg>\n",
              "    </button>\n",
              "\n",
              "  <style>\n",
              "    .colab-df-container {\n",
              "      display:flex;\n",
              "      gap: 12px;\n",
              "    }\n",
              "\n",
              "    .colab-df-convert {\n",
              "      background-color: #E8F0FE;\n",
              "      border: none;\n",
              "      border-radius: 50%;\n",
              "      cursor: pointer;\n",
              "      display: none;\n",
              "      fill: #1967D2;\n",
              "      height: 32px;\n",
              "      padding: 0 0 0 0;\n",
              "      width: 32px;\n",
              "    }\n",
              "\n",
              "    .colab-df-convert:hover {\n",
              "      background-color: #E2EBFA;\n",
              "      box-shadow: 0px 1px 2px rgba(60, 64, 67, 0.3), 0px 1px 3px 1px rgba(60, 64, 67, 0.15);\n",
              "      fill: #174EA6;\n",
              "    }\n",
              "\n",
              "    .colab-df-buttons div {\n",
              "      margin-bottom: 4px;\n",
              "    }\n",
              "\n",
              "    [theme=dark] .colab-df-convert {\n",
              "      background-color: #3B4455;\n",
              "      fill: #D2E3FC;\n",
              "    }\n",
              "\n",
              "    [theme=dark] .colab-df-convert:hover {\n",
              "      background-color: #434B5C;\n",
              "      box-shadow: 0px 1px 3px 1px rgba(0, 0, 0, 0.15);\n",
              "      filter: drop-shadow(0px 1px 2px rgba(0, 0, 0, 0.3));\n",
              "      fill: #FFFFFF;\n",
              "    }\n",
              "  </style>\n",
              "\n",
              "    <script>\n",
              "      const buttonEl =\n",
              "        document.querySelector('#df-e218eec8-a4d7-457f-9e83-d051735c8361 button.colab-df-convert');\n",
              "      buttonEl.style.display =\n",
              "        google.colab.kernel.accessAllowed ? 'block' : 'none';\n",
              "\n",
              "      async function convertToInteractive(key) {\n",
              "        const element = document.querySelector('#df-e218eec8-a4d7-457f-9e83-d051735c8361');\n",
              "        const dataTable =\n",
              "          await google.colab.kernel.invokeFunction('convertToInteractive',\n",
              "                                                    [key], {});\n",
              "        if (!dataTable) return;\n",
              "\n",
              "        const docLinkHtml = 'Like what you see? Visit the ' +\n",
              "          '<a target=\"_blank\" href=https://colab.research.google.com/notebooks/data_table.ipynb>data table notebook</a>'\n",
              "          + ' to learn more about interactive tables.';\n",
              "        element.innerHTML = '';\n",
              "        dataTable['output_type'] = 'display_data';\n",
              "        await google.colab.output.renderOutput(dataTable, element);\n",
              "        const docLink = document.createElement('div');\n",
              "        docLink.innerHTML = docLinkHtml;\n",
              "        element.appendChild(docLink);\n",
              "      }\n",
              "    </script>\n",
              "  </div>\n",
              "\n",
              "\n",
              "<div id=\"df-92d97c66-441c-4a22-aa33-529b169520c1\">\n",
              "  <button class=\"colab-df-quickchart\" onclick=\"quickchart('df-92d97c66-441c-4a22-aa33-529b169520c1')\"\n",
              "            title=\"Suggest charts.\"\n",
              "            style=\"display:none;\">\n",
              "\n",
              "<svg xmlns=\"http://www.w3.org/2000/svg\" height=\"24px\"viewBox=\"0 0 24 24\"\n",
              "     width=\"24px\">\n",
              "    <g>\n",
              "        <path d=\"M19 3H5c-1.1 0-2 .9-2 2v14c0 1.1.9 2 2 2h14c1.1 0 2-.9 2-2V5c0-1.1-.9-2-2-2zM9 17H7v-7h2v7zm4 0h-2V7h2v10zm4 0h-2v-4h2v4z\"/>\n",
              "    </g>\n",
              "</svg>\n",
              "  </button>\n",
              "\n",
              "<style>\n",
              "  .colab-df-quickchart {\n",
              "      --bg-color: #E8F0FE;\n",
              "      --fill-color: #1967D2;\n",
              "      --hover-bg-color: #E2EBFA;\n",
              "      --hover-fill-color: #174EA6;\n",
              "      --disabled-fill-color: #AAA;\n",
              "      --disabled-bg-color: #DDD;\n",
              "  }\n",
              "\n",
              "  [theme=dark] .colab-df-quickchart {\n",
              "      --bg-color: #3B4455;\n",
              "      --fill-color: #D2E3FC;\n",
              "      --hover-bg-color: #434B5C;\n",
              "      --hover-fill-color: #FFFFFF;\n",
              "      --disabled-bg-color: #3B4455;\n",
              "      --disabled-fill-color: #666;\n",
              "  }\n",
              "\n",
              "  .colab-df-quickchart {\n",
              "    background-color: var(--bg-color);\n",
              "    border: none;\n",
              "    border-radius: 50%;\n",
              "    cursor: pointer;\n",
              "    display: none;\n",
              "    fill: var(--fill-color);\n",
              "    height: 32px;\n",
              "    padding: 0;\n",
              "    width: 32px;\n",
              "  }\n",
              "\n",
              "  .colab-df-quickchart:hover {\n",
              "    background-color: var(--hover-bg-color);\n",
              "    box-shadow: 0 1px 2px rgba(60, 64, 67, 0.3), 0 1px 3px 1px rgba(60, 64, 67, 0.15);\n",
              "    fill: var(--button-hover-fill-color);\n",
              "  }\n",
              "\n",
              "  .colab-df-quickchart-complete:disabled,\n",
              "  .colab-df-quickchart-complete:disabled:hover {\n",
              "    background-color: var(--disabled-bg-color);\n",
              "    fill: var(--disabled-fill-color);\n",
              "    box-shadow: none;\n",
              "  }\n",
              "\n",
              "  .colab-df-spinner {\n",
              "    border: 2px solid var(--fill-color);\n",
              "    border-color: transparent;\n",
              "    border-bottom-color: var(--fill-color);\n",
              "    animation:\n",
              "      spin 1s steps(1) infinite;\n",
              "  }\n",
              "\n",
              "  @keyframes spin {\n",
              "    0% {\n",
              "      border-color: transparent;\n",
              "      border-bottom-color: var(--fill-color);\n",
              "      border-left-color: var(--fill-color);\n",
              "    }\n",
              "    20% {\n",
              "      border-color: transparent;\n",
              "      border-left-color: var(--fill-color);\n",
              "      border-top-color: var(--fill-color);\n",
              "    }\n",
              "    30% {\n",
              "      border-color: transparent;\n",
              "      border-left-color: var(--fill-color);\n",
              "      border-top-color: var(--fill-color);\n",
              "      border-right-color: var(--fill-color);\n",
              "    }\n",
              "    40% {\n",
              "      border-color: transparent;\n",
              "      border-right-color: var(--fill-color);\n",
              "      border-top-color: var(--fill-color);\n",
              "    }\n",
              "    60% {\n",
              "      border-color: transparent;\n",
              "      border-right-color: var(--fill-color);\n",
              "    }\n",
              "    80% {\n",
              "      border-color: transparent;\n",
              "      border-right-color: var(--fill-color);\n",
              "      border-bottom-color: var(--fill-color);\n",
              "    }\n",
              "    90% {\n",
              "      border-color: transparent;\n",
              "      border-bottom-color: var(--fill-color);\n",
              "    }\n",
              "  }\n",
              "</style>\n",
              "\n",
              "  <script>\n",
              "    async function quickchart(key) {\n",
              "      const quickchartButtonEl =\n",
              "        document.querySelector('#' + key + ' button');\n",
              "      quickchartButtonEl.disabled = true;  // To prevent multiple clicks.\n",
              "      quickchartButtonEl.classList.add('colab-df-spinner');\n",
              "      try {\n",
              "        const charts = await google.colab.kernel.invokeFunction(\n",
              "            'suggestCharts', [key], {});\n",
              "      } catch (error) {\n",
              "        console.error('Error during call to suggestCharts:', error);\n",
              "      }\n",
              "      quickchartButtonEl.classList.remove('colab-df-spinner');\n",
              "      quickchartButtonEl.classList.add('colab-df-quickchart-complete');\n",
              "    }\n",
              "    (() => {\n",
              "      let quickchartButtonEl =\n",
              "        document.querySelector('#df-92d97c66-441c-4a22-aa33-529b169520c1 button');\n",
              "      quickchartButtonEl.style.display =\n",
              "        google.colab.kernel.accessAllowed ? 'block' : 'none';\n",
              "    })();\n",
              "  </script>\n",
              "</div>\n",
              "    </div>\n",
              "  </div>\n"
            ]
          },
          "metadata": {},
          "execution_count": 35
        }
      ]
    },
    {
      "cell_type": "code",
      "execution_count": 36,
      "metadata": {
        "id": "i8bsyyVPm13-",
        "colab": {
          "base_uri": "https://localhost:8080/",
          "height": 397
        },
        "outputId": "d2449a2a-aba2-431b-e79e-3c330009bb0e"
      },
      "outputs": [
        {
          "output_type": "execute_result",
          "data": {
            "text/plain": [
              "<Axes: >"
            ]
          },
          "metadata": {},
          "execution_count": 36
        },
        {
          "output_type": "display_data",
          "data": {
            "text/plain": [
              "<Figure size 1000x500 with 2 Axes>"
            ],
            "image/png": "[encoded data removed]"
          },
          "metadata": {}
        }
      ],
      "source": [
        "## Plot the heatmap so that the values are shown.\n",
        "\n",
        "plt.figure(figsize=(10,5))\n",
        "sns.heatmap(advertising_df.corr(),annot=True,vmin=0,vmax=1,cmap='ocean')\n"
      ]
    },
    {
      "cell_type": "code",
      "source": [
        "# Scatter Plot\n",
        "# Relationship between digital and sales.\n",
        "\n",
        "                                                                                #Scatter Plot\n",
        "advertising_df.plot(kind='scatter', x=['digital'], y='sales')"
      ],
      "metadata": {
        "id": "X1tn4RQYA7o-",
        "colab": {
          "base_uri": "https://localhost:8080/",
          "height": 467
        },
        "outputId": "763f8c09-a153-4310-bb34-8cfc22d35d18"
      },
      "execution_count": 37,
      "outputs": [
        {
          "output_type": "execute_result",
          "data": {
            "text/plain": [
              "<Axes: xlabel='[digital]', ylabel='sales'>"
            ]
          },
          "metadata": {},
          "execution_count": 37
        },
        {
          "output_type": "display_data",
          "data": {
            "text/plain": [
              "<Figure size 640x480 with 1 Axes>"
            ],
            "image/png": "[encoded data removed]"
          },
          "metadata": {}
        }
      ]
    },
    {
      "cell_type": "markdown",
      "metadata": {
        "id": "OIPKB4hanO2F"
      },
      "source": [
        "## Training a Linear Regression Model\n",
        "\n",
        "Regression is a supervised machine learning process.  It is similar to classification, but rather than predicting a label, you try to predict a continuous value.   Linear regression defines the relationship between a target variable (y) and a set of predictive features (x).  Simply stated, If you need to predict a number, then use regression.\n",
        "\n",
        "Let's now begin to train your regression model! You will need to first split up your data into an X array that contains the features to train on, and a y array with the target variable, in this case the Price column. You will toss out the Address column because it only has text info that the linear regression model can't use."
      ]
    },
    {
      "cell_type": "markdown",
      "metadata": {
        "id": "KFDhhs1KA22t"
      },
      "source": [
        "#### Data Preprocessing"
      ]
    },
    {
      "cell_type": "markdown",
      "metadata": {
        "id": "l0NjRPeFBk74"
      },
      "source": [
        "##### Split: X (features) and y (target)\n",
        "Next, let's define the features and label.  Briefly, feature is input; label is output. This applies to both classification and regression problems."
      ]
    },
    {
      "cell_type": "code",
      "execution_count": 38,
      "metadata": {
        "id": "ZEEGuBAnnO2F"
      },
      "outputs": [],
      "source": [
        "X = advertising_df[['digital', 'TV', 'radio', 'newspaper']]\n",
        "y = advertising_df['sales']\n",
        "\n",
        "# print (X)\n",
        "# print (y)"
      ]
    },
    {
      "cell_type": "markdown",
      "metadata": {
        "id": "lXgBbCFcBCfG"
      },
      "source": [
        "##### Scaling (Normalization)"
      ]
    },
    {
      "cell_type": "code",
      "execution_count": 39,
      "metadata": {
        "id": "hVOPQyd2HtxP",
        "colab": {
          "base_uri": "https://localhost:8080/"
        },
        "outputId": "cca2097b-0d50-4c85-bc65-2376dd9c7c0b"
      },
      "outputs": [
        {
          "output_type": "stream",
          "name": "stdout",
          "text": [
            "[[0.89211961 0.4032179  0.0977028  0.17886333]\n",
            " [0.66254734 0.45658693 0.39008405 0.44765371]\n",
            " [0.29009225 0.20576311 0.51609436 0.77920128]\n",
            " ...\n",
            " [0.06744611 0.99272247 0.05163843 0.08536149]\n",
            " [0.19480049 0.91868871 0.08898294 0.33188231]\n",
            " [0.06744611 0.99272247 0.05163843 0.08536149]]\n"
          ]
        }
      ],
      "source": [
        "'''=== Noramlization the features. Since it is seen that features have different ranges, it is best practice to\n",
        "normalize/standarize the feature before using them in the model ==='''\n",
        "\n",
        "#feature normalization\n",
        "normalized_feature =  keras.utils.normalize(X.values)\n",
        "\n",
        "#What is the normalize function in Keras?\n",
        "# The normalize function just performs a regular normalization to improve performance:\n",
        "# Normalization is a rescaling of the data from the original range so that all values\n",
        "#are within the range of 0 and 1.\n",
        "\n",
        "print(normalized_feature)\n",
        "\n"
      ]
    },
    {
      "cell_type": "markdown",
      "metadata": {
        "id": "X97FWdDOnO2H"
      },
      "source": [
        "##### Train - Test - Split\n",
        "\n",
        "Now let's split the data into a training and test set.  Note:  Best pracices is to split into three - training, validation, and test set.\n",
        "\n",
        "By default - It splits the given data into 75-25 ratio\n"
      ]
    },
    {
      "cell_type": "code",
      "execution_count": 40,
      "metadata": {
        "id": "fS99Llq8nO2J"
      },
      "outputs": [],
      "source": [
        "# Import train_test_split function from sklearn.model_selection\n",
        "from sklearn.model_selection import train_test_split\n",
        "\n",
        "# Split up the data into a training set\n",
        "X_train, X_test, y_train, y_test = train_test_split(X, y, test_size=0.4, random_state=101)\n",
        "\n",
        "# If you don't specify the random_state in the code, then every time you run(execute) your code\n",
        "# a new random value is generated and the train and test datasets would have different values each time.\n",
        "# if a fixed value is assigned like random_state = 0 or 1 or 42 or any other integer then no\n",
        "# matter how many times you execute your code the result would be the same .i.e, same values in train and test datasets."
      ]
    },
    {
      "cell_type": "code",
      "execution_count": 41,
      "metadata": {
        "id": "K4p_3UGEcqPb",
        "colab": {
          "base_uri": "https://localhost:8080/"
        },
        "outputId": "756b4583-1037-47cb-fdc8-d40191a19b2b"
      },
      "outputs": [
        {
          "output_type": "stream",
          "name": "stdout",
          "text": [
            "(719, 4) (480, 4) (719,) (480,)\n"
          ]
        }
      ],
      "source": [
        "print(X_train.shape,X_test.shape, y_train.shape, y_test.shape )"
      ]
    },
    {
      "cell_type": "markdown",
      "metadata": {
        "id": "mdc8pL4TIb9k"
      },
      "source": [
        "# Step 2:  Build Network\n"
      ]
    },
    {
      "cell_type": "markdown",
      "metadata": {
        "id": "J10hkM7BAhbh"
      },
      "source": [
        "#### Build and Train the Network"
      ]
    },
    {
      "cell_type": "code",
      "execution_count": 42,
      "metadata": {
        "id": "K-_Vage0th27",
        "colab": {
          "base_uri": "https://localhost:8080/"
        },
        "outputId": "dd8ce405-5f8a-4658-8fa9-fd12ab22b7dc"
      },
      "outputs": [
        {
          "output_type": "stream",
          "name": "stdout",
          "text": [
            "Epoch 1/32\n",
            "23/23 [==============================] - 1s 15ms/step - loss: 1173.2151 - mse: 1173.2151 - val_loss: 891.9005 - val_mse: 891.9005\n",
            "Epoch 2/32\n",
            "23/23 [==============================] - 0s 5ms/step - loss: 717.7853 - mse: 717.7853 - val_loss: 556.7170 - val_mse: 556.7170\n",
            "Epoch 3/32\n",
            "23/23 [==============================] - 0s 8ms/step - loss: 471.6368 - mse: 471.6368 - val_loss: 372.1472 - val_mse: 372.1472\n",
            "Epoch 4/32\n",
            "23/23 [==============================] - 0s 7ms/step - loss: 339.4006 - mse: 339.4006 - val_loss: 269.4370 - val_mse: 269.4370\n",
            "Epoch 5/32\n",
            "23/23 [==============================] - 0s 6ms/step - loss: 264.4662 - mse: 264.4662 - val_loss: 215.0347 - val_mse: 215.0347\n",
            "Epoch 6/32\n",
            "23/23 [==============================] - 0s 5ms/step - loss: 221.0227 - mse: 221.0227 - val_loss: 181.4782 - val_mse: 181.4782\n",
            "Epoch 7/32\n",
            "23/23 [==============================] - 0s 4ms/step - loss: 191.7963 - mse: 191.7963 - val_loss: 161.0888 - val_mse: 161.0888\n",
            "Epoch 8/32\n",
            "23/23 [==============================] - 0s 7ms/step - loss: 172.4824 - mse: 172.4824 - val_loss: 145.0259 - val_mse: 145.0259\n",
            "Epoch 9/32\n",
            "23/23 [==============================] - 0s 5ms/step - loss: 158.1971 - mse: 158.1971 - val_loss: 133.0828 - val_mse: 133.0828\n",
            "Epoch 10/32\n",
            "23/23 [==============================] - 0s 7ms/step - loss: 146.0575 - mse: 146.0575 - val_loss: 124.9196 - val_mse: 124.9196\n",
            "Epoch 11/32\n",
            "23/23 [==============================] - 0s 5ms/step - loss: 137.4755 - mse: 137.4755 - val_loss: 116.2902 - val_mse: 116.2902\n",
            "Epoch 12/32\n",
            "23/23 [==============================] - 0s 7ms/step - loss: 127.9828 - mse: 127.9828 - val_loss: 108.9933 - val_mse: 108.9933\n",
            "Epoch 13/32\n",
            "23/23 [==============================] - 0s 6ms/step - loss: 120.0266 - mse: 120.0266 - val_loss: 101.2547 - val_mse: 101.2547\n",
            "Epoch 14/32\n",
            "23/23 [==============================] - 0s 7ms/step - loss: 110.9711 - mse: 110.9711 - val_loss: 92.7801 - val_mse: 92.7801\n",
            "Epoch 15/32\n",
            "23/23 [==============================] - 0s 5ms/step - loss: 100.2083 - mse: 100.2083 - val_loss: 81.5657 - val_mse: 81.5657\n",
            "Epoch 16/32\n",
            "23/23 [==============================] - 0s 7ms/step - loss: 89.0044 - mse: 89.0044 - val_loss: 72.3322 - val_mse: 72.3322\n",
            "Epoch 17/32\n",
            "23/23 [==============================] - 0s 5ms/step - loss: 80.3849 - mse: 80.3849 - val_loss: 64.5177 - val_mse: 64.5177\n",
            "Epoch 18/32\n",
            "23/23 [==============================] - 0s 5ms/step - loss: 72.0736 - mse: 72.0736 - val_loss: 58.8475 - val_mse: 58.8475\n",
            "Epoch 19/32\n",
            "23/23 [==============================] - 0s 4ms/step - loss: 65.4228 - mse: 65.4228 - val_loss: 51.7193 - val_mse: 51.7193\n",
            "Epoch 20/32\n",
            "23/23 [==============================] - 0s 7ms/step - loss: 58.3026 - mse: 58.3026 - val_loss: 45.8531 - val_mse: 45.8531\n",
            "Epoch 21/32\n",
            "23/23 [==============================] - 0s 5ms/step - loss: 51.8482 - mse: 51.8482 - val_loss: 40.9658 - val_mse: 40.9658\n",
            "Epoch 22/32\n",
            "23/23 [==============================] - 0s 6ms/step - loss: 46.7257 - mse: 46.7257 - val_loss: 37.1111 - val_mse: 37.1111\n",
            "Epoch 23/32\n",
            "23/23 [==============================] - 0s 6ms/step - loss: 42.7197 - mse: 42.7197 - val_loss: 33.7111 - val_mse: 33.7111\n",
            "Epoch 24/32\n",
            "23/23 [==============================] - 0s 7ms/step - loss: 38.7513 - mse: 38.7513 - val_loss: 30.6611 - val_mse: 30.6611\n",
            "Epoch 25/32\n",
            "23/23 [==============================] - 0s 8ms/step - loss: 35.2321 - mse: 35.2321 - val_loss: 27.9587 - val_mse: 27.9587\n",
            "Epoch 26/32\n",
            "23/23 [==============================] - 0s 6ms/step - loss: 32.2828 - mse: 32.2828 - val_loss: 25.2696 - val_mse: 25.2696\n",
            "Epoch 27/32\n",
            "23/23 [==============================] - 0s 7ms/step - loss: 29.2259 - mse: 29.2259 - val_loss: 23.0866 - val_mse: 23.0866\n",
            "Epoch 28/32\n",
            "23/23 [==============================] - 0s 5ms/step - loss: 26.5027 - mse: 26.5027 - val_loss: 21.1250 - val_mse: 21.1250\n",
            "Epoch 29/32\n",
            "23/23 [==============================] - 0s 6ms/step - loss: 24.1342 - mse: 24.1342 - val_loss: 19.2787 - val_mse: 19.2787\n",
            "Epoch 30/32\n",
            "23/23 [==============================] - 0s 6ms/step - loss: 22.0324 - mse: 22.0324 - val_loss: 17.4971 - val_mse: 17.4971\n",
            "Epoch 31/32\n",
            "23/23 [==============================] - 0s 7ms/step - loss: 19.9874 - mse: 19.9874 - val_loss: 16.1097 - val_mse: 16.1097\n",
            "Epoch 32/32\n",
            "23/23 [==============================] - 0s 9ms/step - loss: 18.2708 - mse: 18.2708 - val_loss: 14.7344 - val_mse: 14.7344\n"
          ]
        }
      ],
      "source": [
        "## Build Model (Building a three layer network - with one hidden layer)\n",
        "model = Sequential()\n",
        "model.add(Dense(4,input_dim=4, activation='relu'))                                                  # You don't have to specify input size.Just define the hidden layers\n",
        "model.add(Dense(3,activation='relu'))\n",
        "model.add(Dense(1))\n",
        "\n",
        "# Compile Model\n",
        "model.compile(optimizer='adam', loss='mse',metrics=['mse'])\n",
        "\n",
        "#  Fit the Model\n",
        "history = model.fit(X_train, y_train, validation_data = (X_test, y_test),\n",
        "                    epochs = 32)\n",
        "\n"
      ]
    },
    {
      "cell_type": "markdown",
      "metadata": {
        "id": "RHBzoonKnFfj"
      },
      "source": [
        "### Visualization"
      ]
    },
    {
      "cell_type": "markdown",
      "metadata": {
        "id": "ktMqgjoDGAe7"
      },
      "source": [
        "You can add more 'flavor' to the graph by making it bigger and adding labels and names, as shown below."
      ]
    },
    {
      "cell_type": "code",
      "execution_count": 43,
      "metadata": {
        "id": "jB1VUt-bmTPH",
        "colab": {
          "base_uri": "https://localhost:8080/",
          "height": 370
        },
        "outputId": "aad46abe-d880-4b0c-a871-aa90fd5bbe89"
      },
      "outputs": [
        {
          "output_type": "display_data",
          "data": {
            "text/plain": [
              "<Figure size 1500x800 with 1 Axes>"
            ],
            "image/png": "[encoded data removed]"
          },
          "metadata": {}
        }
      ],
      "source": [
        "## Plot a graph of model loss # show the graph of model loss in trainig and validation\n",
        "\n",
        "plt.figure(figsize=(15,8))\n",
        "plt.plot(history.history['loss'])\n",
        "plt.plot(history.history['val_loss'])\n",
        "plt.title('Model Loss (MSE) on Training and Validation Data')\n",
        "plt.ylabel('Loss-Mean Squred Error')\n",
        "plt.xlabel('Epoch')\n",
        "plt.legend(['Val Loss', 'Train Loss'], loc='upper right')\n",
        "plt.show()\n",
        "\n"
      ]
    },
    {
      "cell_type": "markdown",
      "source": [
        "### Predict Sales"
      ],
      "metadata": {
        "id": "o-Bpo1iz34kB"
      }
    },
    {
      "cell_type": "code",
      "source": [
        "'''=== predict the SALES =='''\n",
        "\n",
        "# predict SALES using the test data\n",
        "test_predictions = model.predict(X_test).flatten()\n",
        "print(test_predictions)"
      ],
      "metadata": {
        "colab": {
          "base_uri": "https://localhost:8080/"
        },
        "id": "p32LOIlf33LJ",
        "outputId": "4132265f-a4ab-4c4f-8c6c-4a1eadfae2c0"
      },
      "execution_count": 44,
      "outputs": [
        {
          "output_type": "stream",
          "name": "stdout",
          "text": [
            "15/15 [==============================] - 0s 6ms/step\n",
            "[27.386467   18.981003   18.028036   24.661524   16.557579   26.41734\n",
            " 10.502865   22.625837   22.71591    17.355976    3.2051947  17.91398\n",
            "  4.421696    9.155335   11.340993    6.063675   23.385324   10.964839\n",
            "  4.1812963  15.306601   14.308649    3.6066284  11.874997   13.293087\n",
            " 10.178971    1.6485468  10.414904   22.319109   15.335258    8.031826\n",
            " 14.626667   16.722584   20.498245   20.915436   26.01556    34.08878\n",
            " 22.290255   16.435425   16.235762   14.755372   19.094454   18.360746\n",
            "  6.790531    8.960734    8.7535925  15.251198    7.9714117  22.290255\n",
            " 10.410218    7.208777   10.629884   11.340993   11.343002   18.253113\n",
            "  2.8784046  17.415064   15.098404   21.162014    5.4747944  15.837936\n",
            "  9.772838   13.480266   10.7135515  16.02711     6.985573   12.357959\n",
            " 10.126631   19.13411     7.1922307  23.17909     3.7243268  27.347914\n",
            "  7.3106775  23.492266   17.218267   20.07505    19.518692   11.630165\n",
            " 16.722584   17.828754   18.673866   17.419067   14.620326   17.985184\n",
            " 11.3641     24.203262   14.52132     6.0426254   3.4132378   9.519788\n",
            " 24.155281    8.031826   10.9296055   6.3826494   7.8894973  18.929777\n",
            "  5.1942377  24.661524   27.535639   11.610127    4.752962   16.100756\n",
            "  7.0935116   6.6265516  16.3223     23.17909     6.922003    5.780878\n",
            "  8.0406275  11.389478   11.874997    5.914761    6.424075   21.256721\n",
            " 15.342021   22.742805    4.752962   20.889067   24.08616     7.107717\n",
            " 16.722584   22.218388   17.419067    5.8258076  17.935377   12.462001\n",
            " 11.548414    6.0450563   5.482424   28.743065   12.386941    4.1812963\n",
            " 18.860712    9.919391   13.12395    19.635239    6.892653   12.680461\n",
            " 14.08107    17.946564    6.0450563  17.218267    9.378584   15.098404\n",
            "  5.1942377   5.4067616   5.3741007  27.821224    5.6050425  10.485727\n",
            " 10.964839   10.295372    8.881614   11.503705   26.501587   10.295372\n",
            " 17.218267   22.69156    15.269696    9.625171   22.742805   17.355976\n",
            " 20.085926   16.3223      6.64283    19.254196    4.008635    3.8072224\n",
            " 10.274404   11.872049   18.072563    7.895834   22.771624   15.069461\n",
            "  7.208777   17.355976   25.785873   19.727741   13.90961    26.041718\n",
            " 10.165107    5.3557267  19.12049    28.657555   19.301422   10.178971\n",
            "  7.969636   14.26994     4.459216   19.484001   14.694646   13.458202\n",
            "  8.77319     9.772838    6.2543106   4.752962   15.251198   12.115791\n",
            "  8.881614   19.663855    1.3112628  20.179564   17.368265    7.677316\n",
            "  6.0824413  16.027111    3.4132378   0.44950968  5.3485436   5.499057\n",
            " 19.348454   21.078676   13.385798   18.673866    8.414918   17.8213\n",
            " 14.960045    7.64998    28.137478   10.165107    8.0406275  19.094454\n",
            " 17.368265    5.6050425  21.078676    7.64998     6.063675   19.254196\n",
            "  8.811207   11.092961   12.462001    6.0824413  14.620326    8.619876\n",
            " 11.135942   14.003421    6.1074853  28.743065   26.041718    6.8385267\n",
            " 15.721598    7.9714117  14.778735   27.237928   14.778735    9.519788\n",
            "  3.4132378   7.208777    8.740919   21.82272    12.105632   14.574688\n",
            " 14.460465    6.2477508  18.104488    6.596158   15.75493    11.135942\n",
            " 10.53054    15.215292   20.179564   20.924753   14.960045   21.131674\n",
            " 15.837936   16.234426   18.942108   22.975101   14.795452   11.389478\n",
            " 10.295372   23.57584    19.00069     8.63334    14.003421   13.90961\n",
            "  5.2159243  20.175531   21.988947   18.40344    24.08616     6.754577\n",
            " 17.292557    2.39753    15.75493    17.896986   20.58464    17.292557\n",
            "  4.135123   19.301422   14.367053   19.48026     8.77319    19.484001\n",
            "  9.630276   17.478338    8.320964   25.327625    6.407194   24.26675\n",
            " 23.741367   12.234082    4.1874094  19.308159    3.3245413  16.137758\n",
            " 22.38844     8.677685   14.994189   22.941143   25.73123     6.8398905\n",
            "  7.8428764  14.26994    21.256721    1.6485468  19.03664     9.625171\n",
            "  7.107717   23.939842   18.608753   21.80888    13.619799   23.385324\n",
            " 11.503705    9.378584   16.433552   15.251198   14.570519    6.922003\n",
            "  4.008635   10.9296055   5.1853848  24.950338   17.533152   20.085926\n",
            " 18.96313    11.092961   16.234426    9.5906515  13.047959   24.950338\n",
            "  7.4541197   9.378584   19.158527    3.3245413  23.492266    6.7815514\n",
            "  3.9896007  14.308649   20.179565    1.3112628   9.755258   19.495586\n",
            " 10.126631    8.415589   12.017447   12.596072   22.319109   17.179548\n",
            " 15.345052    4.5683537   9.14038    13.480266    9.907887    4.5683537\n",
            " 10.326108    8.785708   26.041718   19.875553   15.177861   17.985184\n",
            " 16.040733    2.8784046   6.695938   14.460465    2.39753     5.6050425\n",
            "  0.44950968  9.772838    9.876761   16.503077   16.435425   10.074044\n",
            " 18.315737   16.333336    5.7525277  21.077908   16.137758   10.865351\n",
            " 15.209311   13.050341   16.927807   17.91398     7.4541197   8.7535925\n",
            " 18.934515   16.435425    7.3106775   7.8894973  19.4645     25.785873\n",
            " 24.559172   20.07505    26.174976   22.744955   17.22455    16.885555\n",
            "  4.421696    3.8072224   8.63334    16.130817   15.220729    5.696133\n",
            "  7.192232    4.1874094  27.386467    9.176901   16.137758   10.274404\n",
            "  8.861473   19.4645     25.785873   18.40344    16.927807   26.585373\n",
            " 18.809809    8.677685   15.306601   19.635239   15.269696    7.969636\n",
            "  2.8784046  12.070257   18.809809   18.40344    22.941143    8.498833\n",
            "  5.2271786  16.100756   25.73123     6.020405    9.625171   14.265651\n",
            " 14.810508    9.706214   17.292557   18.860712    2.3539348  14.391944\n",
            "  8.661024    3.3245413  24.26675    19.941254   10.281604   10.756766\n",
            " 17.22034    16.885555    5.992359   21.078676   16.557579   19.158527\n",
            " 14.717913   21.942749   23.878233    3.6066284  16.885555    2.3539348\n",
            " 26.501587   22.319109   20.498245   10.7135515   8.031826   20.924753\n",
            " 16.618391   12.070257   10.7135515  17.485643    1.6485467  16.691732  ]\n"
          ]
        }
      ]
    },
    {
      "cell_type": "markdown",
      "source": [
        "### True and Predicted Values"
      ],
      "metadata": {
        "id": "C-StZOW04Jbo"
      }
    },
    {
      "cell_type": "code",
      "source": [
        "# show the true value and predicted value in dataframe\n",
        "true_predicted = pd.DataFrame(list(zip(y_test, test_predictions)),\n",
        "                    columns=['True Value','Predicted Value'])\n",
        "true_predicted.head(6) # Show first six rows"
      ],
      "metadata": {
        "colab": {
          "base_uri": "https://localhost:8080/",
          "height": 238
        },
        "id": "nUuXfZxZ4DSq",
        "outputId": "05391f47-107e-4794-984e-52e02f58747b"
      },
      "execution_count": 45,
      "outputs": [
        {
          "output_type": "execute_result",
          "data": {
            "text/plain": [
              "   True Value  Predicted Value\n",
              "0        26.2        27.386467\n",
              "1        19.0        18.981003\n",
              "2        12.8        18.028036\n",
              "3        20.8        24.661524\n",
              "4        16.9        16.557579\n",
              "5        23.8        26.417339"
            ],
            "text/html": [
              "\n",
              "  <div id=\"df-8cde87de-3d37-4138-a6c2-889ff8ed1570\" class=\"colab-df-container\">\n",
              "    <div>\n",
              "<style scoped>\n",
              "    .dataframe tbody tr th:only-of-type {\n",
              "        vertical-align: middle;\n",
              "    }\n",
              "\n",
              "    .dataframe tbody tr th {\n",
              "        vertical-align: top;\n",
              "    }\n",
              "\n",
              "    .dataframe thead th {\n",
              "        text-align: right;\n",
              "    }\n",
              "</style>\n",
              "<table border=\"1\" class=\"dataframe\">\n",
              "  <thead>\n",
              "    <tr style=\"text-align: right;\">\n",
              "      <th></th>\n",
              "      <th>True Value</th>\n",
              "      <th>Predicted Value</th>\n",
              "    </tr>\n",
              "  </thead>\n",
              "  <tbody>\n",
              "    <tr>\n",
              "      <th>0</th>\n",
              "      <td>26.2</td>\n",
              "      <td>27.386467</td>\n",
              "    </tr>\n",
              "    <tr>\n",
              "      <th>1</th>\n",
              "      <td>19.0</td>\n",
              "      <td>18.981003</td>\n",
              "    </tr>\n",
              "    <tr>\n",
              "      <th>2</th>\n",
              "      <td>12.8</td>\n",
              "      <td>18.028036</td>\n",
              "    </tr>\n",
              "    <tr>\n",
              "      <th>3</th>\n",
              "      <td>20.8</td>\n",
              "      <td>24.661524</td>\n",
              "    </tr>\n",
              "    <tr>\n",
              "      <th>4</th>\n",
              "      <td>16.9</td>\n",
              "      <td>16.557579</td>\n",
              "    </tr>\n",
              "    <tr>\n",
              "      <th>5</th>\n",
              "      <td>23.8</td>\n",
              "      <td>26.417339</td>\n",
              "    </tr>\n",
              "  </tbody>\n",
              "</table>\n",
              "</div>\n",
              "    <div class=\"colab-df-buttons\">\n",
              "\n",
              "  <div class=\"colab-df-container\">\n",
              "    <button class=\"colab-df-convert\" onclick=\"convertToInteractive('df-8cde87de-3d37-4138-a6c2-889ff8ed1570')\"\n",
              "            title=\"Convert this dataframe to an interactive table.\"\n",
              "            style=\"display:none;\">\n",
              "\n",
              "  <svg xmlns=\"http://www.w3.org/2000/svg\" height=\"24px\" viewBox=\"0 -960 960 960\">\n",
              "    <path d=\"M120-120v-720h720v720H120Zm60-500h600v-160H180v160Zm220 220h160v-160H400v160Zm0 220h160v-160H400v160ZM180-400h160v-160H180v160Zm440 0h160v-160H620v160ZM180-180h160v-160H180v160Zm440 0h160v-160H620v160Z\"/>\n",
              "  </svg>\n",
              "    </button>\n",
              "\n",
              "  <style>\n",
              "    .colab-df-container {\n",
              "      display:flex;\n",
              "      gap: 12px;\n",
              "    }\n",
              "\n",
              "    .colab-df-convert {\n",
              "      background-color: #E8F0FE;\n",
              "      border: none;\n",
              "      border-radius: 50%;\n",
              "      cursor: pointer;\n",
              "      display: none;\n",
              "      fill: #1967D2;\n",
              "      height: 32px;\n",
              "      padding: 0 0 0 0;\n",
              "      width: 32px;\n",
              "    }\n",
              "\n",
              "    .colab-df-convert:hover {\n",
              "      background-color: #E2EBFA;\n",
              "      box-shadow: 0px 1px 2px rgba(60, 64, 67, 0.3), 0px 1px 3px 1px rgba(60, 64, 67, 0.15);\n",
              "      fill: #174EA6;\n",
              "    }\n",
              "\n",
              "    .colab-df-buttons div {\n",
              "      margin-bottom: 4px;\n",
              "    }\n",
              "\n",
              "    [theme=dark] .colab-df-convert {\n",
              "      background-color: #3B4455;\n",
              "      fill: #D2E3FC;\n",
              "    }\n",
              "\n",
              "    [theme=dark] .colab-df-convert:hover {\n",
              "      background-color: #434B5C;\n",
              "      box-shadow: 0px 1px 3px 1px rgba(0, 0, 0, 0.15);\n",
              "      filter: drop-shadow(0px 1px 2px rgba(0, 0, 0, 0.3));\n",
              "      fill: #FFFFFF;\n",
              "    }\n",
              "  </style>\n",
              "\n",
              "    <script>\n",
              "      const buttonEl =\n",
              "        document.querySelector('#df-8cde87de-3d37-4138-a6c2-889ff8ed1570 button.colab-df-convert');\n",
              "      buttonEl.style.display =\n",
              "        google.colab.kernel.accessAllowed ? 'block' : 'none';\n",
              "\n",
              "      async function convertToInteractive(key) {\n",
              "        const element = document.querySelector('#df-8cde87de-3d37-4138-a6c2-889ff8ed1570');\n",
              "        const dataTable =\n",
              "          await google.colab.kernel.invokeFunction('convertToInteractive',\n",
              "                                                    [key], {});\n",
              "        if (!dataTable) return;\n",
              "\n",
              "        const docLinkHtml = 'Like what you see? Visit the ' +\n",
              "          '<a target=\"_blank\" href=https://colab.research.google.com/notebooks/data_table.ipynb>data table notebook</a>'\n",
              "          + ' to learn more about interactive tables.';\n",
              "        element.innerHTML = '';\n",
              "        dataTable['output_type'] = 'display_data';\n",
              "        await google.colab.output.renderOutput(dataTable, element);\n",
              "        const docLink = document.createElement('div');\n",
              "        docLink.innerHTML = docLinkHtml;\n",
              "        element.appendChild(docLink);\n",
              "      }\n",
              "    </script>\n",
              "  </div>\n",
              "\n",
              "\n",
              "<div id=\"df-11bd3ac5-b317-496a-b2d4-3a3589aa3eb4\">\n",
              "  <button class=\"colab-df-quickchart\" onclick=\"quickchart('df-11bd3ac5-b317-496a-b2d4-3a3589aa3eb4')\"\n",
              "            title=\"Suggest charts.\"\n",
              "            style=\"display:none;\">\n",
              "\n",
              "<svg xmlns=\"http://www.w3.org/2000/svg\" height=\"24px\"viewBox=\"0 0 24 24\"\n",
              "     width=\"24px\">\n",
              "    <g>\n",
              "        <path d=\"M19 3H5c-1.1 0-2 .9-2 2v14c0 1.1.9 2 2 2h14c1.1 0 2-.9 2-2V5c0-1.1-.9-2-2-2zM9 17H7v-7h2v7zm4 0h-2V7h2v10zm4 0h-2v-4h2v4z\"/>\n",
              "    </g>\n",
              "</svg>\n",
              "  </button>\n",
              "\n",
              "<style>\n",
              "  .colab-df-quickchart {\n",
              "      --bg-color: #E8F0FE;\n",
              "      --fill-color: #1967D2;\n",
              "      --hover-bg-color: #E2EBFA;\n",
              "      --hover-fill-color: #174EA6;\n",
              "      --disabled-fill-color: #AAA;\n",
              "      --disabled-bg-color: #DDD;\n",
              "  }\n",
              "\n",
              "  [theme=dark] .colab-df-quickchart {\n",
              "      --bg-color: #3B4455;\n",
              "      --fill-color: #D2E3FC;\n",
              "      --hover-bg-color: #434B5C;\n",
              "      --hover-fill-color: #FFFFFF;\n",
              "      --disabled-bg-color: #3B4455;\n",
              "      --disabled-fill-color: #666;\n",
              "  }\n",
              "\n",
              "  .colab-df-quickchart {\n",
              "    background-color: var(--bg-color);\n",
              "    border: none;\n",
              "    border-radius: 50%;\n",
              "    cursor: pointer;\n",
              "    display: none;\n",
              "    fill: var(--fill-color);\n",
              "    height: 32px;\n",
              "    padding: 0;\n",
              "    width: 32px;\n",
              "  }\n",
              "\n",
              "  .colab-df-quickchart:hover {\n",
              "    background-color: var(--hover-bg-color);\n",
              "    box-shadow: 0 1px 2px rgba(60, 64, 67, 0.3), 0 1px 3px 1px rgba(60, 64, 67, 0.15);\n",
              "    fill: var(--button-hover-fill-color);\n",
              "  }\n",
              "\n",
              "  .colab-df-quickchart-complete:disabled,\n",
              "  .colab-df-quickchart-complete:disabled:hover {\n",
              "    background-color: var(--disabled-bg-color);\n",
              "    fill: var(--disabled-fill-color);\n",
              "    box-shadow: none;\n",
              "  }\n",
              "\n",
              "  .colab-df-spinner {\n",
              "    border: 2px solid var(--fill-color);\n",
              "    border-color: transparent;\n",
              "    border-bottom-color: var(--fill-color);\n",
              "    animation:\n",
              "      spin 1s steps(1) infinite;\n",
              "  }\n",
              "\n",
              "  @keyframes spin {\n",
              "    0% {\n",
              "      border-color: transparent;\n",
              "      border-bottom-color: var(--fill-color);\n",
              "      border-left-color: var(--fill-color);\n",
              "    }\n",
              "    20% {\n",
              "      border-color: transparent;\n",
              "      border-left-color: var(--fill-color);\n",
              "      border-top-color: var(--fill-color);\n",
              "    }\n",
              "    30% {\n",
              "      border-color: transparent;\n",
              "      border-left-color: var(--fill-color);\n",
              "      border-top-color: var(--fill-color);\n",
              "      border-right-color: var(--fill-color);\n",
              "    }\n",
              "    40% {\n",
              "      border-color: transparent;\n",
              "      border-right-color: var(--fill-color);\n",
              "      border-top-color: var(--fill-color);\n",
              "    }\n",
              "    60% {\n",
              "      border-color: transparent;\n",
              "      border-right-color: var(--fill-color);\n",
              "    }\n",
              "    80% {\n",
              "      border-color: transparent;\n",
              "      border-right-color: var(--fill-color);\n",
              "      border-bottom-color: var(--fill-color);\n",
              "    }\n",
              "    90% {\n",
              "      border-color: transparent;\n",
              "      border-bottom-color: var(--fill-color);\n",
              "    }\n",
              "  }\n",
              "</style>\n",
              "\n",
              "  <script>\n",
              "    async function quickchart(key) {\n",
              "      const quickchartButtonEl =\n",
              "        document.querySelector('#' + key + ' button');\n",
              "      quickchartButtonEl.disabled = true;  // To prevent multiple clicks.\n",
              "      quickchartButtonEl.classList.add('colab-df-spinner');\n",
              "      try {\n",
              "        const charts = await google.colab.kernel.invokeFunction(\n",
              "            'suggestCharts', [key], {});\n",
              "      } catch (error) {\n",
              "        console.error('Error during call to suggestCharts:', error);\n",
              "      }\n",
              "      quickchartButtonEl.classList.remove('colab-df-spinner');\n",
              "      quickchartButtonEl.classList.add('colab-df-quickchart-complete');\n",
              "    }\n",
              "    (() => {\n",
              "      let quickchartButtonEl =\n",
              "        document.querySelector('#df-11bd3ac5-b317-496a-b2d4-3a3589aa3eb4 button');\n",
              "      quickchartButtonEl.style.display =\n",
              "        google.colab.kernel.accessAllowed ? 'block' : 'none';\n",
              "    })();\n",
              "  </script>\n",
              "</div>\n",
              "    </div>\n",
              "  </div>\n"
            ]
          },
          "metadata": {},
          "execution_count": 45
        }
      ]
    },
    {
      "cell_type": "markdown",
      "source": [
        "### Visualize the Prediction"
      ],
      "metadata": {
        "id": "qN7LhUd74YiT"
      }
    },
    {
      "cell_type": "code",
      "source": [
        "# visualize the prediction uisng diagonal line\n",
        "y = test_predictions #y-axis\n",
        "x = y_test #x-axis\n",
        "fig, ax = plt.subplots(figsize=(10,6)) # create figure\n",
        "ax.scatter(x,y) #scatter plots for x,y\n",
        "ax.set(xlim=(0,55), ylim=(0, 55)) #set limit\n",
        "ax.plot(ax.get_xlim(), ax.get_ylim(), color ='red') # draw 45 degree diagonal in figure\n",
        "plt.xlabel('True Values')\n",
        "plt.ylabel('Predicted values')\n",
        "plt.title('Evaluation Result')\n",
        "plt.show()"
      ],
      "metadata": {
        "colab": {
          "base_uri": "https://localhost:8080/",
          "height": 425
        },
        "id": "DHY_haIe4bfU",
        "outputId": "785637e6-6583-4917-fa05-940d8ee37a0b"
      },
      "execution_count": 46,
      "outputs": [
        {
          "output_type": "display_data",
          "data": {
            "text/plain": [
              "<Figure size 1000x600 with 1 Axes>"
            ],
            "image/png": "[encoded data removed]"
          },
          "metadata": {}
        }
      ]
    },
    {
      "cell_type": "markdown",
      "source": [
        "Show the accuracy of Linear Regression on the dataset. The linear regression graph is created by train data and the model line is shown by the blue line which is created using test data and predicted data as we can see most of the red dots are on the line, thus we can say that model has produced the best-fit line."
      ],
      "metadata": {
        "id": "osjgH7xC5dsI"
      }
    },
    {
      "cell_type": "code",
      "source": [
        "#Accuracy of linear regression on the dataset\n",
        "\n",
        "\n",
        "plt.figure(figsize=(10,5))\n",
        "sns.regplot(x=y_test,y=test_predictions,scatter_kws={'color':'red'})"
      ],
      "metadata": {
        "colab": {
          "base_uri": "https://localhost:8080/",
          "height": 377
        },
        "id": "F6kfqesJ5Q8v",
        "outputId": "e8d05a62-3c3c-4516-fee4-8b1c71ec0d9f"
      },
      "execution_count": 47,
      "outputs": [
        {
          "output_type": "execute_result",
          "data": {
            "text/plain": [
              "<Axes: xlabel='sales'>"
            ]
          },
          "metadata": {},
          "execution_count": 47
        },
        {
          "output_type": "display_data",
          "data": {
            "text/plain": [
              "<Figure size 1000x500 with 1 Axes>"
            ],
            "image/png": "[encoded data removed]"
          },
          "metadata": {}
        }
      ]
    },
    {
      "cell_type": "markdown",
      "source": [
        "### Evaluation\n",
        "\n",
        "Step 6 - Predict on the Test Data and Compute Evaluation Metrics The first line of code predicts on the train data, while the second line prints the RMSE value on the train data. The same is repeated in the third and fourth lines of code which predicts and prints the RMSE value on test data."
      ],
      "metadata": {
        "id": "aVgChvul5ppl"
      }
    },
    {
      "cell_type": "code",
      "source": [
        "pred_train= model.predict(X_train)\n",
        "print(np.sqrt(mean_squared_error(y_train,pred_train)))\n",
        "\n",
        "pred= model.predict(X_test)\n",
        "print(np.sqrt(mean_squared_error(y_test,pred)))"
      ],
      "metadata": {
        "colab": {
          "base_uri": "https://localhost:8080/"
        },
        "id": "ZtBzCuoO5tui",
        "outputId": "26fde6af-eac7-4a1a-a284-4dbcb3beebf8"
      },
      "execution_count": 48,
      "outputs": [
        {
          "output_type": "stream",
          "name": "stdout",
          "text": [
            "23/23 [==============================] - 0s 3ms/step\n",
            "4.1399556601300445\n",
            "15/15 [==============================] - 0s 3ms/step\n",
            "3.8385426716033084\n"
          ]
        }
      ]
    },
    {
      "cell_type": "code",
      "source": [
        "# How can I get prediction for only one instance in Keras?\n",
        "# We were able to do that quite easily using the AutoML GUI.\n",
        "\n",
        "# See this resources: https://datascience.stackexchange.com/questions/13461/how-can-i-get-prediction-for-only-one-instance-in-keras\n",
        "\n",
        "# See this resource:\n",
        "\n",
        "\n",
        "#import keras\n",
        "\n",
        "#model = keras.Sequential([\n",
        "    #keras.layers.Dense(128, activation='relu', input_shape=(3,)),\n",
        "    #keras.layers.Dense(64, activation='relu'),\n",
        "    #keras.layers.Dense(1, activation='relu')])\n",
        "\n",
        "# Compile the model\n",
        "#model.compile(optimizer='adam', loss='mse', metrics=['mse'])\n",
        "\n",
        "# Load the model weight\n",
        "#model.load_weights('model.h5')\n",
        "#model = keras.models.load_model('model.h5')\n",
        "\n",
        "# Make a prediction for a single instance\n",
        "#input_instance = np.array([1, 2, 3])\n",
        "#input_instances = [input_instance]\n",
        "#prediction = model.predict(input_instances)\n",
        "\n",
        "# Print the predicted output\n",
        "#print(prediction)\n",
        "\n",
        "\n",
        "#NOTE:\n",
        "# By default, Keras saves the model weights to a file with the .h5 extension in the same directory as the model architecture file. The model weights file is named model.weights.h5."
      ],
      "metadata": {
        "id": "8zycBiuelSQn"
      },
      "execution_count": 49,
      "outputs": []
    },
    {
      "cell_type": "code",
      "source": [
        "# Save the model weights to a network drive\n",
        "model.save_weights('\\\\\\\\network_drive\\model_weights.h5')"
      ],
      "metadata": {
        "id": "uyLCcjwXp4lJ"
      },
      "execution_count": 50,
      "outputs": []
    },
    {
      "cell_type": "code",
      "source": [
        "# Load the model weights from a network drive\n",
        "model.load_weights('\\\\\\\\network_drive\\model_weights.h5')"
      ],
      "metadata": {
        "id": "iFGF0Szqp5J0"
      },
      "execution_count": 51,
      "outputs": []
    },
    {
      "cell_type": "code",
      "source": [
        "# Make a prediction for a new input instance\n",
        "#input_instance = np.array([1, 2, 3])\n",
        "#prediction = model.predict(input_instance)\n",
        "\n",
        "# Print the predicted output\n",
        "#print(prediction)"
      ],
      "metadata": {
        "id": "Vv_3-3txss2Y"
      },
      "execution_count": 52,
      "outputs": []
    },
    {
      "cell_type": "markdown",
      "source": [
        "import h5py\n",
        "\n",
        "# Open the HDF5 file\n",
        "f = h5py.File('/content/\\\\network_drive\\model_weights.h5', 'r')\n",
        "\n",
        "\n",
        "# Get the model weights from the HDF5 file\n",
        "model_weights = f['model_weights']\n",
        "\n",
        "# Close the HDF5 file\n",
        "f.close()"
      ],
      "metadata": {
        "id": "pKT1dreL-dZU"
      }
    },
    {
      "cell_type": "markdown",
      "source": [
        "Evaluation of the Model Performance The output above shows that the RMSE, which is our evaluation metric, was 3.784 thousand for train data and 3.750 thousand for test data. Ideally, the lower the RMSE value, the better the model performance. However, in contrast to accuracy, it is not straightforward to interpret RMSE as we would have to look at the unit which in our case is in thousands."
      ],
      "metadata": {
        "id": "_UHw6hTO6HZr"
      }
    },
    {
      "cell_type": "markdown",
      "source": [
        "Regression Evaluation Metrics\n",
        "Here are three common evaluation metrics for regression problems:\n",
        "\n",
        "Mean Absolute Error (MAE) is the mean of the absolute value of the errors:\n",
        "\n",
        "\n",
        "Mean Squared Error (MSE) is the mean of the squared errors:\n",
        "\n",
        "\n",
        "Root Mean Squared Error (RMSE) is the square root of the mean of the squared errors:\n",
        "\n",
        "\n",
        "Comparing these metrics:\n",
        "\n",
        "MAE is the easiest to understand, because it's the average error.\n",
        "MSE is more popular than MAE, because MSE \"punishes\" larger errors, which tends to be useful in the real world.\n",
        "RMSE is even more popular than MSE, because RMSE is interpretable in the \"y\" units.\n",
        "All of these are loss functions, because you want to minimize them."
      ],
      "metadata": {
        "id": "4Eq2O1b16QO4"
      }
    }
  ],
  "metadata": {
    "colab": {
      "provenance": [],
      "include_colab_link": true
    },
    "environment": {
      "kernel": "python3",
      "name": "tf2-gpu.2-6.m87",
      "type": "gcloud",
      "uri": "gcr.io/deeplearning-platform-release/tf2-gpu.2-6:m87"
    },
    "kernelspec": {
      "display_name": "Python 3",
      "language": "python",
      "name": "python3"
    },
    "language_info": {
      "codemirror_mode": {
        "name": "ipython",
        "version": 3
      },
      "file_extension": ".py",
      "mimetype": "text/x-python",
      "name": "python",
      "nbconvert_exporter": "python",
      "pygments_lexer": "ipython3",
      "version": "3.7.12"
    }
  },
  "nbformat": 4,
  "nbformat_minor": 0
}