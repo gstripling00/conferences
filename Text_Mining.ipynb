{
  "cells": [
    {
      "cell_type": "markdown",
      "metadata": {
        "id": "view-in-github",
        "colab_type": "text"
      },
      "source": [
        "<a href=\"https://colab.research.google.com/github/gstripling00/conferences/blob/main/Text_Mining.ipynb\" target=\"_parent\"><img src=\"https://colab.research.google.com/assets/colab-badge.svg\" alt=\"Open In Colab\"/></a>"
      ]
    },
    {
      "cell_type": "markdown",
      "metadata": {
        "id": "sa5Jw4tD9Erz"
      },
      "source": [
        "### Word search with dataframes\n",
        "-  We're going to work with text data, containing emails from Enron employees. The Enron scandal is a famous fraud case. Enron employees covered up the bad financial position of the company, thereby keeping the stock price artificially high. Enron employees sold their own stock options, and when the truth came out, Enron investors were left with nothing. The goal is to find all emails that mention specific words, such as **\"sell enron stock\"**.\n",
        "- By using string operations on dataframes, we can easily sift through messy email data and create flags based on word-hits."
      ]
    },
    {
      "cell_type": "code",
      "execution_count": null,
      "metadata": {
        "id": "n2rLWE4y9Er0"
      },
      "outputs": [],
      "source": [
        "import pandas as pd\n",
        "import numpy as np"
      ]
    },
    {
      "cell_type": "code",
      "execution_count": null,
      "metadata": {
        "id": "UnxtQyGE9Er1",
        "outputId": "f79ded30-5c8e-427e-ea81-44023f7c2bde"
      },
      "outputs": [
        {
          "data": {
            "text/html": [
              "<div>\n",
              "<style scoped>\n",
              "    .dataframe tbody tr th:only-of-type {\n",
              "        vertical-align: middle;\n",
              "    }\n",
              "\n",
              "    .dataframe tbody tr th {\n",
              "        vertical-align: top;\n",
              "    }\n",
              "\n",
              "    .dataframe thead th {\n",
              "        text-align: right;\n",
              "    }\n",
              "</style>\n",
              "<table border=\"1\" class=\"dataframe\">\n",
              "  <thead>\n",
              "    <tr style=\"text-align: right;\">\n",
              "      <th></th>\n",
              "      <th>Message-ID</th>\n",
              "      <th>From</th>\n",
              "      <th>To</th>\n",
              "      <th>Date</th>\n",
              "      <th>content</th>\n",
              "      <th>clean_content</th>\n",
              "    </tr>\n",
              "  </thead>\n",
              "  <tbody>\n",
              "    <tr>\n",
              "      <th>0</th>\n",
              "      <td>&lt;8345058.1075840404046.JavaMail.evans@thyme&gt;</td>\n",
              "      <td>('advdfeedback@investools.com')</td>\n",
              "      <td>('advdfeedback@investools.com')</td>\n",
              "      <td>2002-01-29 23:20:55</td>\n",
              "      <td>INVESTools Advisory\\nA Free Digest of Trusted ...</td>\n",
              "      <td>investools advisory free digest trusted invest...</td>\n",
              "    </tr>\n",
              "    <tr>\n",
              "      <th>1</th>\n",
              "      <td>&lt;1512159.1075863666797.JavaMail.evans@thyme&gt;</td>\n",
              "      <td>('richard.sanders@enron.com')</td>\n",
              "      <td>('richard.sanders@enron.com')</td>\n",
              "      <td>2000-09-20 19:07:00</td>\n",
              "      <td>----- Forwarded by Richard B Sanders/HOU/ECT o...</td>\n",
              "      <td>forwarded richard b sanders hou ect pm justin ...</td>\n",
              "    </tr>\n",
              "    <tr>\n",
              "      <th>2</th>\n",
              "      <td>&lt;26118676.1075862176383.JavaMail.evans@thyme&gt;</td>\n",
              "      <td>('m..love@enron.com')</td>\n",
              "      <td>('m..love@enron.com')</td>\n",
              "      <td>2001-10-30 16:15:17</td>\n",
              "      <td>hey you are not wearing your target purple shi...</td>\n",
              "      <td>hey wearing target purple shirt today mine wan...</td>\n",
              "    </tr>\n",
              "    <tr>\n",
              "      <th>3</th>\n",
              "      <td>&lt;10369289.1075860831062.JavaMail.evans@thyme&gt;</td>\n",
              "      <td>('leslie.milosevich@kp.org')</td>\n",
              "      <td>('leslie.milosevich@kp.org')</td>\n",
              "      <td>2002-01-30 17:54:18</td>\n",
              "      <td>Leslie Milosevich\\n1042 Santa Clara Avenue\\nAl...</td>\n",
              "      <td>leslie milosevich santa clara avenue alameda c...</td>\n",
              "    </tr>\n",
              "    <tr>\n",
              "      <th>4</th>\n",
              "      <td>&lt;26728895.1075860815046.JavaMail.evans@thyme&gt;</td>\n",
              "      <td>('rtwait@graphicaljazz.com')</td>\n",
              "      <td>('rtwait@graphicaljazz.com')</td>\n",
              "      <td>2002-01-30 19:36:01</td>\n",
              "      <td>Rini Twait\\n1010 E 5th Ave\\nLongmont, CO 80501...</td>\n",
              "      <td>rini twait e th ave longmont co rtwait graphic...</td>\n",
              "    </tr>\n",
              "  </tbody>\n",
              "</table>\n",
              "</div>"
            ],
            "text/plain": [
              "                                      Message-ID  \\\n",
              "0   <8345058.1075840404046.JavaMail.evans@thyme>   \n",
              "1   <1512159.1075863666797.JavaMail.evans@thyme>   \n",
              "2  <26118676.1075862176383.JavaMail.evans@thyme>   \n",
              "3  <10369289.1075860831062.JavaMail.evans@thyme>   \n",
              "4  <26728895.1075860815046.JavaMail.evans@thyme>   \n",
              "\n",
              "                              From                               To  \\\n",
              "0  ('advdfeedback@investools.com')  ('advdfeedback@investools.com')   \n",
              "1    ('richard.sanders@enron.com')    ('richard.sanders@enron.com')   \n",
              "2            ('m..love@enron.com')            ('m..love@enron.com')   \n",
              "3     ('leslie.milosevich@kp.org')     ('leslie.milosevich@kp.org')   \n",
              "4     ('rtwait@graphicaljazz.com')     ('rtwait@graphicaljazz.com')   \n",
              "\n",
              "                  Date                                            content  \\\n",
              "0  2002-01-29 23:20:55  INVESTools Advisory\\nA Free Digest of Trusted ...   \n",
              "1  2000-09-20 19:07:00  ----- Forwarded by Richard B Sanders/HOU/ECT o...   \n",
              "2  2001-10-30 16:15:17  hey you are not wearing your target purple shi...   \n",
              "3  2002-01-30 17:54:18  Leslie Milosevich\\n1042 Santa Clara Avenue\\nAl...   \n",
              "4  2002-01-30 19:36:01  Rini Twait\\n1010 E 5th Ave\\nLongmont, CO 80501...   \n",
              "\n",
              "                                       clean_content  \n",
              "0  investools advisory free digest trusted invest...  \n",
              "1  forwarded richard b sanders hou ect pm justin ...  \n",
              "2  hey wearing target purple shirt today mine wan...  \n",
              "3  leslie milosevich santa clara avenue alameda c...  \n",
              "4  rini twait e th ave longmont co rtwait graphic...  "
            ]
          },
          "execution_count": 2,
          "metadata": {},
          "output_type": "execute_result"
        }
      ],
      "source": [
        "df = pd.read_csv('data/enron_emails_clean.csv')\n",
        "df.head()"
      ]
    },
    {
      "cell_type": "code",
      "execution_count": null,
      "metadata": {
        "id": "CiRd0j0U9Er2"
      },
      "outputs": [],
      "source": [
        "# drop empty rows\n",
        "\n",
        "df.dropna(subset=['clean_content'], inplace=True)"
      ]
    },
    {
      "cell_type": "code",
      "execution_count": null,
      "metadata": {
        "id": "8qmpUclA9Er2",
        "outputId": "a5f22278-163c-4432-c29a-e455659c7e6a"
      },
      "outputs": [
        {
          "data": {
            "text/plain": [
              "0    investools advisory free digest trusted invest...\n",
              "1    forwarded richard b sanders hou ect pm justin ...\n",
              "2    hey wearing target purple shirt today mine wan...\n",
              "3    leslie milosevich santa clara avenue alameda c...\n",
              "4    rini twait e th ave longmont co rtwait graphic...\n",
              "Name: clean_content, dtype: object"
            ]
          },
          "execution_count": 4,
          "metadata": {},
          "output_type": "execute_result"
        }
      ],
      "source": [
        "df['clean_content'].head()"
      ]
    },
    {
      "cell_type": "code",
      "execution_count": null,
      "metadata": {
        "id": "9zxXoeNi9Er2",
        "outputId": "0d3a54a5-2221-4063-f764-87636fc268c4"
      },
      "outputs": [
        {
          "data": {
            "text/plain": [
              "0    False\n",
              "1    False\n",
              "2    False\n",
              "3    False\n",
              "4    False\n",
              "Name: clean_content, dtype: bool"
            ]
          },
          "execution_count": 5,
          "metadata": {},
          "output_type": "execute_result"
        }
      ],
      "source": [
        "# Find all cleaned emails that contain 'sell enron stock'\n",
        "mask = df['clean_content'].str.contains('sell enron stock', na=False)\n",
        "mask.head()"
      ]
    },
    {
      "cell_type": "code",
      "execution_count": null,
      "metadata": {
        "id": "_pTzP5Zx9Er2",
        "outputId": "72ed80d2-8b09-4d9c-9b0d-eb7050ea62b6"
      },
      "outputs": [
        {
          "data": {
            "text/html": [
              "<div>\n",
              "<style scoped>\n",
              "    .dataframe tbody tr th:only-of-type {\n",
              "        vertical-align: middle;\n",
              "    }\n",
              "\n",
              "    .dataframe tbody tr th {\n",
              "        vertical-align: top;\n",
              "    }\n",
              "\n",
              "    .dataframe thead th {\n",
              "        text-align: right;\n",
              "    }\n",
              "</style>\n",
              "<table border=\"1\" class=\"dataframe\">\n",
              "  <thead>\n",
              "    <tr style=\"text-align: right;\">\n",
              "      <th></th>\n",
              "      <th>Message-ID</th>\n",
              "      <th>From</th>\n",
              "      <th>To</th>\n",
              "      <th>Date</th>\n",
              "      <th>content</th>\n",
              "      <th>clean_content</th>\n",
              "    </tr>\n",
              "  </thead>\n",
              "  <tbody>\n",
              "    <tr>\n",
              "      <th>154</th>\n",
              "      <td>&lt;6336501.1075841154311.JavaMail.evans@thyme&gt;</td>\n",
              "      <td>('sarah.palmer@enron.com')</td>\n",
              "      <td>('sarah.palmer@enron.com')</td>\n",
              "      <td>2002-02-01 14:53:35</td>\n",
              "      <td>\\nJoint Venture: A 1997 Enron Meeting Belies O...</td>\n",
              "      <td>joint venture enron meeting belies officers cl...</td>\n",
              "    </tr>\n",
              "  </tbody>\n",
              "</table>\n",
              "</div>"
            ],
            "text/plain": [
              "                                       Message-ID                        From  \\\n",
              "154  <6336501.1075841154311.JavaMail.evans@thyme>  ('sarah.palmer@enron.com')   \n",
              "\n",
              "                             To                 Date  \\\n",
              "154  ('sarah.palmer@enron.com')  2002-02-01 14:53:35   \n",
              "\n",
              "                                               content  \\\n",
              "154  \\nJoint Venture: A 1997 Enron Meeting Belies O...   \n",
              "\n",
              "                                         clean_content  \n",
              "154  joint venture enron meeting belies officers cl...  "
            ]
          },
          "execution_count": 6,
          "metadata": {},
          "output_type": "execute_result"
        }
      ],
      "source": [
        "# Select the data from df using the mask\n",
        "df.loc[mask].head()"
      ]
    },
    {
      "cell_type": "markdown",
      "metadata": {
        "id": "QlL6COiF9Er2"
      },
      "source": [
        "- searching for particular string values in a dataframe can be relatively easy, and allows us to include textual data into our model for analysis. We can use this word search as an additional flag, or as a feature in our fraud detection model."
      ]
    },
    {
      "cell_type": "markdown",
      "metadata": {
        "id": "COOa0Mdj9Er2"
      },
      "source": [
        "### Using list of terms\n",
        "- Oftentimes we don't want to search on just one term. We probably can create a full **\"fraud dictionary\"** of terms that could potentially flag fraudulent clients and/or transactions. Fraud analysts often will have an idea what should be in such a dictionary.\n",
        "- We're going to flag a multitude of terms, and we'll create a new flag variable out of it.\n",
        "- The 'flag' can be used either directly in a machine learning model as a feature, or as an additional filter on top of our machine learning model results."
      ]
    },
    {
      "cell_type": "code",
      "execution_count": null,
      "metadata": {
        "id": "Vrtej5aJ9Er2",
        "outputId": "4cb22870-5b2b-4297-c100-6650ab5b41fb"
      },
      "outputs": [
        {
          "data": {
            "text/html": [
              "<div>\n",
              "<style scoped>\n",
              "    .dataframe tbody tr th:only-of-type {\n",
              "        vertical-align: middle;\n",
              "    }\n",
              "\n",
              "    .dataframe tbody tr th {\n",
              "        vertical-align: top;\n",
              "    }\n",
              "\n",
              "    .dataframe thead th {\n",
              "        text-align: right;\n",
              "    }\n",
              "</style>\n",
              "<table border=\"1\" class=\"dataframe\">\n",
              "  <thead>\n",
              "    <tr style=\"text-align: right;\">\n",
              "      <th></th>\n",
              "      <th>Message-ID</th>\n",
              "      <th>From</th>\n",
              "      <th>To</th>\n",
              "      <th>Date</th>\n",
              "      <th>content</th>\n",
              "      <th>clean_content</th>\n",
              "    </tr>\n",
              "  </thead>\n",
              "  <tbody>\n",
              "    <tr>\n",
              "      <th>0</th>\n",
              "      <td>&lt;8345058.1075840404046.JavaMail.evans@thyme&gt;</td>\n",
              "      <td>('advdfeedback@investools.com')</td>\n",
              "      <td>('advdfeedback@investools.com')</td>\n",
              "      <td>2002-01-29 23:20:55</td>\n",
              "      <td>INVESTools Advisory\\nA Free Digest of Trusted ...</td>\n",
              "      <td>investools advisory free digest trusted invest...</td>\n",
              "    </tr>\n",
              "    <tr>\n",
              "      <th>1</th>\n",
              "      <td>&lt;1512159.1075863666797.JavaMail.evans@thyme&gt;</td>\n",
              "      <td>('richard.sanders@enron.com')</td>\n",
              "      <td>('richard.sanders@enron.com')</td>\n",
              "      <td>2000-09-20 19:07:00</td>\n",
              "      <td>----- Forwarded by Richard B Sanders/HOU/ECT o...</td>\n",
              "      <td>forwarded richard b sanders hou ect pm justin ...</td>\n",
              "    </tr>\n",
              "    <tr>\n",
              "      <th>2</th>\n",
              "      <td>&lt;26118676.1075862176383.JavaMail.evans@thyme&gt;</td>\n",
              "      <td>('m..love@enron.com')</td>\n",
              "      <td>('m..love@enron.com')</td>\n",
              "      <td>2001-10-30 16:15:17</td>\n",
              "      <td>hey you are not wearing your target purple shi...</td>\n",
              "      <td>hey wearing target purple shirt today mine wan...</td>\n",
              "    </tr>\n",
              "    <tr>\n",
              "      <th>3</th>\n",
              "      <td>&lt;10369289.1075860831062.JavaMail.evans@thyme&gt;</td>\n",
              "      <td>('leslie.milosevich@kp.org')</td>\n",
              "      <td>('leslie.milosevich@kp.org')</td>\n",
              "      <td>2002-01-30 17:54:18</td>\n",
              "      <td>Leslie Milosevich\\n1042 Santa Clara Avenue\\nAl...</td>\n",
              "      <td>leslie milosevich santa clara avenue alameda c...</td>\n",
              "    </tr>\n",
              "    <tr>\n",
              "      <th>4</th>\n",
              "      <td>&lt;26728895.1075860815046.JavaMail.evans@thyme&gt;</td>\n",
              "      <td>('rtwait@graphicaljazz.com')</td>\n",
              "      <td>('rtwait@graphicaljazz.com')</td>\n",
              "      <td>2002-01-30 19:36:01</td>\n",
              "      <td>Rini Twait\\n1010 E 5th Ave\\nLongmont, CO 80501...</td>\n",
              "      <td>rini twait e th ave longmont co rtwait graphic...</td>\n",
              "    </tr>\n",
              "  </tbody>\n",
              "</table>\n",
              "</div>"
            ],
            "text/plain": [
              "                                      Message-ID  \\\n",
              "0   <8345058.1075840404046.JavaMail.evans@thyme>   \n",
              "1   <1512159.1075863666797.JavaMail.evans@thyme>   \n",
              "2  <26118676.1075862176383.JavaMail.evans@thyme>   \n",
              "3  <10369289.1075860831062.JavaMail.evans@thyme>   \n",
              "4  <26728895.1075860815046.JavaMail.evans@thyme>   \n",
              "\n",
              "                              From                               To  \\\n",
              "0  ('advdfeedback@investools.com')  ('advdfeedback@investools.com')   \n",
              "1    ('richard.sanders@enron.com')    ('richard.sanders@enron.com')   \n",
              "2            ('m..love@enron.com')            ('m..love@enron.com')   \n",
              "3     ('leslie.milosevich@kp.org')     ('leslie.milosevich@kp.org')   \n",
              "4     ('rtwait@graphicaljazz.com')     ('rtwait@graphicaljazz.com')   \n",
              "\n",
              "                  Date                                            content  \\\n",
              "0  2002-01-29 23:20:55  INVESTools Advisory\\nA Free Digest of Trusted ...   \n",
              "1  2000-09-20 19:07:00  ----- Forwarded by Richard B Sanders/HOU/ECT o...   \n",
              "2  2001-10-30 16:15:17  hey you are not wearing your target purple shi...   \n",
              "3  2002-01-30 17:54:18  Leslie Milosevich\\n1042 Santa Clara Avenue\\nAl...   \n",
              "4  2002-01-30 19:36:01  Rini Twait\\n1010 E 5th Ave\\nLongmont, CO 80501...   \n",
              "\n",
              "                                       clean_content  \n",
              "0  investools advisory free digest trusted invest...  \n",
              "1  forwarded richard b sanders hou ect pm justin ...  \n",
              "2  hey wearing target purple shirt today mine wan...  \n",
              "3  leslie milosevich santa clara avenue alameda c...  \n",
              "4  rini twait e th ave longmont co rtwait graphic...  "
            ]
          },
          "execution_count": 7,
          "metadata": {},
          "output_type": "execute_result"
        }
      ],
      "source": [
        "# Create a list of terms to search for\n",
        "searchfor = ['enron stock', 'sell stock', 'stock bonus', 'sell enron stock']\n",
        "\n",
        "# Filter cleaned emails on searchfor list and select from df\n",
        "filtered_emails = df.loc[df['clean_content'].str.contains('|'.join(searchfor), na=False)]\n",
        "filtered_emails.head()"
      ]
    },
    {
      "cell_type": "markdown",
      "metadata": {
        "id": "oeHlghIE9Er2"
      },
      "source": [
        "- By joining the search terms with the 'or' sign, i.e. |, we can search on a multitude of terms in our dataset very easily."
      ]
    },
    {
      "cell_type": "markdown",
      "metadata": {
        "id": "JaDY9TtN9Er3"
      },
      "source": [
        "### Creating a flag\n",
        "- We are going to create an actual flag variable that gives a 1 when the emails get a hit on the search terms of interest, and 0 otherwise. This is the last step we need to make in order to actually use the text data content as a feature in a machine learning model, or as an actual flag on top of model results."
      ]
    },
    {
      "cell_type": "code",
      "execution_count": null,
      "metadata": {
        "id": "gHsd4loD9Er3",
        "outputId": "5ffc2be5-262d-4146-db8b-17420daf1224"
      },
      "outputs": [
        {
          "name": "stdout",
          "output_type": "stream",
          "text": [
            "0    1772\n",
            "1     314\n",
            "Name: flag, dtype: int64\n"
          ]
        }
      ],
      "source": [
        "# Create flag variable where the emails match the searchfor terms\n",
        "df['flag'] = np.where((df['clean_content'].str.contains('|'.join(searchfor)) == True), 1, 0)\n",
        "\n",
        "# Count the values of the flag variable\n",
        "count = df['flag'].value_counts()\n",
        "print(count)"
      ]
    },
    {
      "cell_type": "code",
      "execution_count": null,
      "metadata": {
        "id": "kw8ga5wn9Er3",
        "outputId": "f16e17f1-d2c3-4d33-eb28-7f8891b6a4a7"
      },
      "outputs": [
        {
          "data": {
            "text/plain": [
              "0    1\n",
              "1    1\n",
              "2    1\n",
              "3    1\n",
              "4    1\n",
              "Name: flag, dtype: int32"
            ]
          },
          "execution_count": 9,
          "metadata": {},
          "output_type": "execute_result"
        }
      ],
      "source": [
        "df['flag'].head()"
      ]
    },
    {
      "cell_type": "markdown",
      "metadata": {
        "id": "IXb3WOQ59Er3"
      },
      "source": [
        "- We have now managed to search for a list of strings in several lines of text data. These skills come in handy when we want to flag certain words based on what we discovered in our topic model, or when we know beforehand what we want to search for."
      ]
    },
    {
      "cell_type": "markdown",
      "metadata": {
        "id": "nJf_Tap99Er3"
      },
      "source": [
        "## Data Preprocessing\n",
        "\n",
        "### Removing stopwords\n",
        "- clean the Enron emails, in order to be able to use the data in a topic model.\n",
        "- In a first step we need to define the list of stopwords and punctuations that are to be removed"
      ]
    },
    {
      "cell_type": "code",
      "execution_count": null,
      "metadata": {
        "id": "EHtKi0Uj9Er3"
      },
      "outputs": [],
      "source": [
        "# Import nltk packages and string\n",
        "from nltk.corpus import stopwords\n",
        "import string\n",
        "\n",
        "# Define stopwords to exclude\n",
        "stop = set(stopwords.words('english'))\n",
        "stop.update((\"to\",\"cc\",\"subject\",\"http\",\"from\",\"sent\", \"ect\", \"u\", \"fwd\", \"www\", \"com\"))\n",
        "\n",
        "# Define punctuations to exclude and lemmatizer\n",
        "exclude = set(string.punctuation)"
      ]
    },
    {
      "cell_type": "markdown",
      "metadata": {
        "id": "tTy4zmyy9Er3"
      },
      "source": [
        "### Lemmatization and stemming"
      ]
    },
    {
      "cell_type": "code",
      "execution_count": null,
      "metadata": {
        "id": "JJvrz8Na9Er3"
      },
      "outputs": [],
      "source": [
        "# Import the lemmatizer from nltk\n",
        "from nltk.stem.wordnet import WordNetLemmatizer\n",
        "lemma = WordNetLemmatizer()\n",
        "\n",
        "# Define word cleaning function\n",
        "def clean(text, stop):\n",
        "#     print(text)\n",
        "    text = text.rstrip()\n",
        "    stop_free = \" \".join([i for i in text.lower().split() if((i not in stop) and (not i.isdigit()))])\n",
        "    punc_free = ''.join(i for i in stop_free if i not in exclude)\n",
        "    normalized = \" \".join(lemma.lemmatize(i) for i in punc_free.split())\n",
        "    return normalized\n",
        "\n",
        "# Clean the emails in df and print results\n",
        "text_clean=[]\n",
        "for text in df['clean_content']:\n",
        "    text_clean.append(clean(text, stop).split())"
      ]
    },
    {
      "cell_type": "code",
      "execution_count": null,
      "metadata": {
        "id": "KX6TFcde9Er3",
        "outputId": "88bcadbb-3097-4e05-b810-af9473b2bb80"
      },
      "outputs": [
        {
          "name": "stdout",
          "output_type": "stream",
          "text": [
            "['investools', 'advisory', 'free', 'digest', 'trusted']\n"
          ]
        }
      ],
      "source": [
        "print(text_clean[0][:5])"
      ]
    },
    {
      "cell_type": "markdown",
      "metadata": {
        "id": "bYDORHBp9Er3"
      },
      "source": [
        "- Now that data is cleaned entirely with the necessary steps, including splitting the text into words, removing stopwords and punctuations, and lemmatizing our words. We are now ready to run a topic model on this data."
      ]
    },
    {
      "cell_type": "markdown",
      "metadata": {
        "id": "6lL_uqiG9Er3"
      },
      "source": [
        "### Topic modelling on fraud"
      ]
    },
    {
      "cell_type": "markdown",
      "metadata": {
        "id": "zt5uzEd49Er4"
      },
      "source": [
        "#### Create dictionary and corpus\n",
        "- In order to run an LDA topic model, we first need to define our dictionary and corpus first, as those need to go into the model. We're going to continue working on the cleaned text data"
      ]
    },
    {
      "cell_type": "code",
      "execution_count": null,
      "metadata": {
        "id": "grKxpYaF9Er4"
      },
      "outputs": [],
      "source": [
        "# Import the packages\n",
        "import gensim\n",
        "from gensim import corpora\n",
        "\n",
        "# Define the dictionary\n",
        "dictionary = corpora.Dictionary(text_clean)\n",
        "\n",
        "# Define the corpus\n",
        "corpus = [dictionary.doc2bow(text) for text in text_clean]\n"
      ]
    },
    {
      "cell_type": "code",
      "execution_count": null,
      "metadata": {
        "id": "IKevR1jV9Er4",
        "outputId": "60b323fc-130b-4632-cb08-2cfb4d58207e"
      },
      "outputs": [
        {
          "name": "stdout",
          "output_type": "stream",
          "text": [
            "0 account\n",
            "1 accurate\n",
            "2 acquiring\n",
            "3 acre\n",
            "4 address\n"
          ]
        }
      ],
      "source": [
        "# Print dictionary\n",
        "c=0\n",
        "for k,v in dictionary.items():\n",
        "    print(k,v)\n",
        "    c+=1\n",
        "    if c==5:\n",
        "        break"
      ]
    },
    {
      "cell_type": "code",
      "execution_count": null,
      "metadata": {
        "id": "PSUg2Il79Er4",
        "outputId": "a6368418-13d2-45fb-bf59-771f15b1dcf1"
      },
      "outputs": [
        {
          "name": "stdout",
          "output_type": "stream",
          "text": [
            "[(0, 2), (1, 1), (2, 1), (3, 1), (4, 1)]\n"
          ]
        }
      ],
      "source": [
        "# Print corpus\n",
        "print(corpus[0][:5])"
      ]
    },
    {
      "cell_type": "markdown",
      "metadata": {
        "id": "H-BKksGj9Er4"
      },
      "source": [
        "- These are the two ingredients we need to run your topic model on the enron emails. We are now ready for the final step and create our fraud detection topic model."
      ]
    },
    {
      "cell_type": "markdown",
      "metadata": {
        "id": "MmpAPtTw9Er4"
      },
      "source": [
        "### LDA model\n",
        "- build the LDA model. Using the dictionary and corpus, we are ready to discover which topics are present in the Enron emails. With a quick print of words assigned to the topics, we can do a first exploration about whether there are any obvious topics that jump out. Be mindful that the topic model is heavy to calculate so it will take a while to run."
      ]
    },
    {
      "cell_type": "code",
      "execution_count": null,
      "metadata": {
        "id": "t-NMxWmm9Er4",
        "outputId": "a8a21bfa-ff45-47bc-e1a2-c85b5cc9474d"
      },
      "outputs": [
        {
          "name": "stdout",
          "output_type": "stream",
          "text": [
            "(0, '0.011*\"enron\" + 0.010*\"bakernet\" + 0.010*\"employee\" + 0.007*\"company\" + 0.007*\"schedule\"')\n",
            "(1, '0.038*\"image\" + 0.037*\"td\" + 0.026*\"net\" + 0.025*\"money\" + 0.024*\"tr\"')\n",
            "(2, '0.053*\"enron\" + 0.014*\"pm\" + 0.013*\"hou\" + 0.011*\"development\" + 0.010*\"corp\"')\n",
            "(3, '0.020*\"enron\" + 0.007*\"company\" + 0.006*\"e\" + 0.004*\"said\" + 0.004*\"may\"')\n",
            "(4, '0.010*\"enron\" + 0.009*\"please\" + 0.006*\"market\" + 0.006*\"conference\" + 0.005*\"energy\"')\n"
          ]
        }
      ],
      "source": [
        "# Define the LDA model\n",
        "ldamodel = gensim.models.ldamodel.LdaModel(corpus, num_topics=5, id2word=dictionary, passes=5)\n",
        "\n",
        "# Save the topics and top 5 words\n",
        "topics = ldamodel.print_topics(num_words=5)\n",
        "\n",
        "# Print the results\n",
        "for topic in topics:\n",
        "    print(topic)"
      ]
    },
    {
      "cell_type": "markdown",
      "metadata": {
        "id": "eOM5mPoP9Er4"
      },
      "source": [
        "- We have now successfully created our first topic model on the Enron email data. However, the print of words doesn't really give us enough information to find a topic that might lead us to signs of fraud. We'll therefore need to closely inspect the model results in order to be able to detect anything that can be related to fraud in our data."
      ]
    },
    {
      "cell_type": "markdown",
      "metadata": {
        "id": "e8vRWvNV9Er4"
      },
      "source": [
        "### Visualizing topics"
      ]
    },
    {
      "cell_type": "code",
      "execution_count": null,
      "metadata": {
        "id": "ZH3xsOls9Er4",
        "outputId": "417d63ac-653a-4e54-8943-b428a28a3224"
      },
      "outputs": [
        {
          "data": {
            "text/html": [
              "\n",
              "<link rel=\"stylesheet\" type=\"text/css\" href=\"https://cdn.rawgit.com/bmabey/pyLDAvis/files/ldavis.v1.0.0.css\">\n",
              "\n",
              "\n",
              "<div id=\"ldavis_el1269620742313395521340846631\"></div>\n",
              "<script type=\"text/javascript\">\n",
              "\n",
              "var ldavis_el1269620742313395521340846631_data = {\"mdsDat\": {\"x\": [0.05143239870156135, -0.3288336481614663, 0.12973775980045787, 0.0606370098494807, 0.08702647980996657], \"y\": [0.1857579635087527, -0.03450368456287043, -0.14977079946583002, 0.0507748018342195, -0.05225828131427168], \"topics\": [1, 2, 3, 4, 5], \"cluster\": [1, 1, 1, 1, 1], \"Freq\": [13.267167091369629, 3.646665334701538, 12.099952697753906, 62.5692138671875, 8.41700553894043]}, \"tinfo\": {\"Term\": [\"enron\", \"image\", \"td\", \"net\", \"money\", \"pm\", \"hou\", \"corp\", \"tr\", \"development\", \"bakernet\", \"employee\", \"width\", \"please\", \"e\", \"class\", \"original\", \"company\", \"message\", \"thanks\", \"million\", \"team\", \"market\", \"right\", \"california\", \"energy\", \"mail\", \"outage\", \"schedule\", \"table\", \"aaaaaaaaaaaaaaaaaaaaaaaaaaaaaaaaaaaaaaaaaaaaaaaaaaaaaaaaaaaaaaaaaaaaaaaaaaaa\", \"hourahead\", \"exotica\", \"donate\", \"krishna\", \"detected\", \"parsing\", \"westdesk\", \"addin\", \"locate\", \"xll\", \"interchange\", \"astronomical\", \"assign\", \"underhanded\", \"classmate\", \"devastated\", \"permian\", \"pocketbook\", \"txt\", \"rybarski\", \"pinnamaneni\", \"krishnarao\", \"bakernet\", \"financially\", \"alias\", \"declared\", \"aaaaaaaaaaaaaaaa\", \"tmv\", \"valuing\", \"netted\", \"repair\", \"labour\", \"awarded\", \"wiped\", \"urging\", \"preferred\", \"schedule\", \"consumer\", \"retirement\", \"employee\", \"california\", \"portland\", \"alert\", \"date\", \"hour\", \"unable\", \"fund\", \"million\", \"pay\", \"variance\", \"file\", \"made\", \"mailto\", \"final\", \"bill\", \"data\", \"bankruptcy\", \"see\", \"company\", \"enron\", \"energy\", \"group\", \"time\", \"new\", \"service\", \"help\", \"message\", \"stock\", \"width\", \"td\", \"img\", \"src\", \"href\", \"align\", \"nbsp\", \"scoop\", \"bodydefault\", \"height\", \"cellpadding\", \"cellspacing\", \"script\", \"ctr\", \"syncrasy\", \"tr\", \"valign\", \"bgcolor\", \"colspan\", \"font\", \"coords\", \"stocklookup\", \"rect\", \"deviation\", \"br\", \"linkbarseperator\", \"std\", \"ecar\", \"npcc\", \"frcc\", \"gif\", \"wscc\", \"hp\", \"rk\", \"table\", \"image\", \"sp\", \"sw\", \"money\", \"class\", \"nc\", \"net\", \"ne\", \"border\", \"se\", \"clear\", \"click\", \"center\", \"right\", \"e\", \"devon\", \"outage\", \"darrell\", \"schoolcraft\", \"sfs\", \"hanagriff\", \"backout\", \"neumin\", \"tagline\", \"pt\", \"fran\", \"buchanan\", \"kowalke\", \"graf\", \"fagan\", \"pampa\", \"gorny\", \"lover\", \"netback\", \"lokay\", \"impacted\", \"demoes\", \"vegetarian\", \"veggie\", \"unify\", \"dietz\", \"srrs\", \"hannon\", \"emaillink\", \"itcapps\", \"fri\", \"lynn\", \"enronxgate\", \"kimberly\", \"savita\", \"server\", \"breese\", \"sat\", \"amy\", \"hr\", \"curve\", \"blair\", \"thru\", \"development\", \"hou\", \"tw\", \"scheduled\", \"watson\", \"london\", \"pm\", \"ee\", \"enron\", \"mark\", \"january\", \"corp\", \"rick\", \"thanks\", \"ct\", \"john\", \"team\", \"original\", \"forwarded\", \"message\", \"richard\", \"fw\", \"na\", \"please\", \"kim\", \"know\", \"monday\", \"report\", \"gas\", \"wj\", \"intended\", \"bergfelt\", \"seller\", \"attack\", \"t\", \"confidential\", \"disclosure\", \"contain\", \"pg\", \"sender\", \"cherry\", \"wall\", \"delete\", \"build\", \"privileged\", \"pcg\", \"prohibited\", \"gregwhalley\", \"eix\", \"sept\", \"army\", \"strictly\", \"enform\", \"sole\", \"sample\", \"binding\", \"relied\", \"acceptance\", \"enforceable\", \"said\", \"beth\", \"billion\", \"building\", \"investor\", \"priority\", \"statement\", \"recipient\", \"affiliate\", \"game\", \"anyone\", \"material\", \"administration\", \"committee\", \"offer\", \"chairman\", \"month\", \"receive\", \"analyst\", \"may\", \"security\", \"share\", \"president\", \"company\", \"business\", \"e\", \"firm\", \"price\", \"use\", \"mail\", \"stock\", \"houston\", \"people\", \"enron\", \"one\", \"contract\", \"customer\", \"power\", \"year\", \"available\", \"comment\", \"financial\", \"new\", \"u\", \"would\", \"also\", \"market\", \"time\", \"energy\", \"message\", \"email\", \"corp\", \"please\", \"original\", \"simulation\", \"euci\", \"brochure\", \"laurel\", \"eei\", \"stsw\", \"stwbom\", \"ubswenergy\", \"blah\", \"mtm\", \"baughman\", \"commoditylogic\", \"wyndham\", \"evelyn\", \"tyrell\", \"stack\", \"royalty\", \"bolt\", \"epenergy\", \"msdw\", \"calger\", \"aucoin\", \"phy\", \"bryce\", \"reliantenergy\", \"pseg\", \"kern\", \"powersrc\", \"div\", \"staggs\", \"gt\", \"password\", \"rfp\", \"apse\", \"harrison\", \"coral\", \"businessweek\", \"conference\", \"sdg\", \"southwest\", \"user\", \"cover\", \"permit\", \"design\", \"process\", \"please\", \"doc\", \"stacey\", \"desk\", \"product\", \"duke\", \"settlement\", \"credit\", \"market\", \"pdf\", \"tuesday\", \"let\", \"thanks\", \"hou\", \"like\", \"asset\", \"know\", \"enron\", \"energy\", \"management\", \"would\", \"system\", \"pm\", \"also\", \"gas\", \"message\", \"original\", \"power\", \"time\", \"service\", \"question\", \"trading\", \"new\", \"e\"], \"Freq\": [9476.0, 732.0, 591.0, 746.0, 616.0, 1541.0, 917.0, 1299.0, 391.0, 715.0, 631.0, 940.0, 347.0, 1508.0, 2065.0, 353.0, 1307.0, 2416.0, 1817.0, 871.0, 770.0, 800.0, 1203.0, 474.0, 565.0, 1358.0, 961.0, 358.0, 548.0, 233.0, 239.7976837158203, 181.25204467773438, 153.53076171875, 166.70721435546875, 89.87483215332031, 88.9532241821289, 85.15603637695312, 85.15205383300781, 89.18522644042969, 70.0528793334961, 88.43256378173828, 68.45140838623047, 82.17098999023438, 70.4821548461914, 81.63945007324219, 190.06817626953125, 83.1294937133789, 68.11800384521484, 82.0220947265625, 88.90330505371094, 40.51314926147461, 67.83414459228516, 67.26627349853516, 612.7330932617188, 83.79988098144531, 37.23659896850586, 165.7245330810547, 26.15863609313965, 30.708768844604492, 24.928991317749023, 83.60321044921875, 82.8539047241211, 51.96074676513672, 86.57521057128906, 81.71285247802734, 84.48443603515625, 154.5869140625, 409.4728088378906, 261.0837097167969, 175.69869995117188, 575.1993408203125, 374.97247314453125, 141.4354248046875, 171.84259033203125, 371.8358154296875, 188.93882751464844, 153.45162963867188, 292.01763916015625, 365.0332946777344, 226.60617065429688, 98.12469482421875, 264.4448547363281, 267.1817626953125, 291.9844970703125, 218.46337890625, 277.06512451171875, 190.80906677246094, 167.6821746826172, 232.3022003173828, 415.2401123046875, 667.9178466796875, 286.9525146484375, 213.10848999023438, 269.4188537597656, 254.10101318359375, 223.49819946289062, 189.25820922851562, 195.50250244140625, 183.24655151367188, 345.89056396484375, 589.4102172851562, 172.82791137695312, 183.68360900878906, 155.8250732421875, 176.59674072265625, 129.39041137695312, 109.51708984375, 91.50448608398438, 218.0298309326172, 75.9489517211914, 76.03105926513672, 177.3617706298828, 60.97633361816406, 60.97633361816406, 383.4357604980469, 47.67506408691406, 42.52616882324219, 39.196136474609375, 74.04104614257812, 37.30413818359375, 37.30415725708008, 37.30413818359375, 34.21139907836914, 195.23486328125, 30.529117584228516, 33.894065856933594, 33.894065856933594, 33.894065856933594, 30.508787155151367, 166.91444396972656, 99.32054138183594, 69.57618713378906, 67.96772003173828, 209.66851806640625, 612.1800537109375, 106.4516830444336, 69.43547058105469, 403.70263671875, 249.81187438964844, 66.12358093261719, 424.8670654296875, 106.73199462890625, 127.9556655883789, 114.47428131103516, 128.13575744628906, 106.05549621582031, 93.89099884033203, 90.64436340332031, 92.79584503173828, 181.10659790039062, 355.9236755371094, 125.6409912109375, 111.781982421875, 110.7342300415039, 83.09235382080078, 71.96686553955078, 69.28267669677734, 69.3017578125, 146.57789611816406, 57.73727035522461, 58.310604095458984, 56.584259033203125, 42.48575210571289, 41.66033172607422, 41.64185333251953, 45.04682159423828, 42.754173278808594, 42.19532775878906, 43.45399856567383, 73.2135009765625, 41.010009765625, 41.53059387207031, 41.53059387207031, 33.03786849975586, 43.68325424194336, 31.337411880493164, 31.33535385131836, 29.63418960571289, 29.633440017700195, 214.0900421142578, 166.2847442626953, 220.9462890625, 156.63851928710938, 84.2149887084961, 111.25200653076172, 65.41600799560547, 199.60801696777344, 117.75836944580078, 81.40135192871094, 84.6802749633789, 102.69710540771484, 232.61854553222656, 568.5529174804688, 704.8755493164062, 80.6193618774414, 267.2727966308594, 154.30677795410156, 170.67071533203125, 768.3675537109375, 157.24107360839844, 2828.760009765625, 317.70782470703125, 233.76490783691406, 545.4122924804688, 102.53429412841797, 391.7140197753906, 144.07888793945312, 247.62623596191406, 341.3601379394531, 441.6974792480469, 194.6313934326172, 464.9579772949219, 161.50906372070312, 146.93722534179688, 163.6868896484375, 291.25421142578125, 172.30714416503906, 230.63824462890625, 176.8495635986328, 173.56619262695312, 168.90008544921875, 821.9248046875, 616.5669555664062, 204.19346618652344, 307.0580139160156, 240.22610473632812, 219.94512939453125, 257.379638671875, 218.51715087890625, 185.1504669189453, 174.87843322753906, 181.8392791748047, 170.68496704101562, 359.3939514160156, 184.98365783691406, 234.51904296875, 185.78709411621094, 137.57627868652344, 166.66004943847656, 136.2452850341797, 136.2452850341797, 207.88088989257812, 188.15304565429688, 151.72467041015625, 169.4649658203125, 147.37094116210938, 146.52415466308594, 127.52549743652344, 129.10882568359375, 136.47703552246094, 125.8078384399414, 1134.8868408203125, 294.9891052246094, 324.3226623535156, 224.6847381591797, 347.2090759277344, 173.4791717529297, 221.9454345703125, 581.431884765625, 318.12249755859375, 245.63865661621094, 219.8072509765625, 321.3913269042969, 232.62973022460938, 297.9969482421875, 490.7384948730469, 223.0576629638672, 424.254150390625, 352.5121765136719, 245.37966918945312, 1091.66455078125, 318.0170593261719, 464.9422912597656, 277.2072448730469, 1944.8199462890625, 766.7225341796875, 1662.669677734375, 416.3638000488281, 797.1170654296875, 595.1438598632812, 813.6956176757812, 965.6443481445312, 590.92724609375, 329.5746154785156, 5605.46044921875, 749.1160278320312, 616.6983642578125, 591.07177734375, 808.011962890625, 800.2489624023438, 522.851318359375, 414.8288269042969, 446.49652099609375, 959.3338012695312, 690.9397583007812, 847.0533447265625, 686.7742919921875, 802.943603515625, 918.1976928710938, 854.197265625, 978.5667724609375, 554.628173828125, 715.4131469726562, 694.95556640625, 653.949951171875, 88.4924545288086, 73.86767578125, 54.39921569824219, 65.46836853027344, 63.426082611083984, 41.73046875, 41.73046875, 33.062896728515625, 31.368350982666016, 33.44630813598633, 32.972686767578125, 40.98480987548828, 31.874370574951172, 28.159929275512695, 58.836734771728516, 44.302947998046875, 31.1518611907959, 42.110530853271484, 41.64052963256836, 21.31739044189453, 23.47657585144043, 21.77464485168457, 21.283111572265625, 21.492324829101562, 64.45494842529297, 63.064266204833984, 53.42900466918945, 42.140785217285156, 74.75556182861328, 20.85123062133789, 37.56075668334961, 87.45487213134766, 81.54302215576172, 41.835792541503906, 60.87489318847656, 45.84037399291992, 72.5492172241211, 233.125, 43.25575637817383, 60.0311279296875, 84.81597900390625, 84.28857421875, 56.11914825439453, 61.248046875, 141.41769409179688, 342.4376220703125, 137.9394989013672, 66.39852905273438, 124.9776611328125, 133.0794677734375, 61.25010299682617, 79.81206512451172, 137.48382568359375, 240.33499145507812, 93.1278076171875, 109.5426254272461, 149.3901824951172, 177.73191833496094, 173.28439331054688, 149.30311584472656, 104.33763122558594, 166.19436645507812, 371.8664855957031, 182.4068603515625, 120.40401458740234, 168.3204345703125, 119.77762603759766, 163.36358642578125, 140.0300750732422, 141.04876708984375, 160.2386016845703, 146.03924560546875, 136.66053771972656, 147.78160095214844, 129.38412475585938, 113.6634292602539, 107.35706329345703, 111.1709976196289, 110.81106567382812], \"Total\": [9476.0, 732.0, 591.0, 746.0, 616.0, 1541.0, 917.0, 1299.0, 391.0, 715.0, 631.0, 940.0, 347.0, 1508.0, 2065.0, 353.0, 1307.0, 2416.0, 1817.0, 871.0, 770.0, 800.0, 1203.0, 474.0, 565.0, 1358.0, 961.0, 358.0, 548.0, 233.0, 240.91134643554688, 182.18394470214844, 154.47740173339844, 168.0343017578125, 90.71179962158203, 89.80046844482422, 86.03285217285156, 86.02953338623047, 90.11136627197266, 70.86872863769531, 89.47288513183594, 69.25875854492188, 83.19232940673828, 71.3656234741211, 82.67032623291016, 192.76824951171875, 84.32490539550781, 69.15653991699219, 83.27285766601562, 90.62490844726562, 41.432212829589844, 69.7083969116211, 69.15608978271484, 631.0048217773438, 86.34430694580078, 38.380558013916016, 171.00555419921875, 27.01021957397461, 31.708778381347656, 25.75708770751953, 86.54056549072266, 86.01424407958984, 53.767147064208984, 90.15335083007812, 85.95088195800781, 89.34278106689453, 175.21409606933594, 548.8512573242188, 348.6216735839844, 216.5330352783203, 940.1304321289062, 565.7130737304688, 169.28829956054688, 216.52073669433594, 604.9759521484375, 259.57916259765625, 205.60018920898438, 527.5924682617188, 770.3605346679688, 401.9237060546875, 110.115478515625, 569.2423095703125, 658.4976196289062, 771.7197875976562, 468.980712890625, 783.6464233398438, 419.6054992675781, 325.140625, 677.7818603515625, 2416.448974609375, 9476.4658203125, 1358.1995849609375, 636.4684448242188, 1495.396728515625, 1417.0633544921875, 946.5831298828125, 447.1500549316406, 1817.3775634765625, 1169.3173828125, 347.19573974609375, 591.7421264648438, 173.95606994628906, 184.8917999267578, 157.0679168701172, 178.19664001464844, 130.6371612548828, 110.5826416015625, 92.54737091064453, 220.83111572265625, 77.05461883544922, 77.14569091796875, 180.58319091796875, 62.28594970703125, 62.28594970703125, 391.6763000488281, 48.81343460083008, 43.65219497680664, 40.26069641113281, 76.079833984375, 38.34690856933594, 38.3469352722168, 38.34690856933594, 35.256744384765625, 201.3368377685547, 31.571876525878906, 35.085052490234375, 35.085052490234375, 35.085052490234375, 31.68494415283203, 174.0145721435547, 103.56352233886719, 72.85718536376953, 71.8716812133789, 233.36831665039062, 732.58251953125, 117.5072021484375, 75.14017486572266, 616.7794799804688, 353.1820068359375, 74.86383056640625, 746.3474731445312, 136.73912048339844, 177.47157287597656, 163.8128662109375, 220.7422637939453, 377.5743103027344, 276.9346923828125, 474.9149475097656, 2065.47802734375, 182.1675567626953, 358.175048828125, 126.59160614013672, 112.7272720336914, 111.73841094970703, 84.07221221923828, 72.880615234375, 70.2112808227539, 70.25092315673828, 148.7594757080078, 58.6558952331543, 59.429595947265625, 57.68239212036133, 43.4021110534668, 42.56732940673828, 42.56417465209961, 46.092369079589844, 43.762779235839844, 43.19191360473633, 44.51002883911133, 75.1194839477539, 42.07958221435547, 42.64198303222656, 42.64198303222656, 33.95937728881836, 44.91598129272461, 32.25321960449219, 32.25313186645508, 30.54899787902832, 30.54883575439453, 221.21255493164062, 171.7938995361328, 229.2876739501953, 161.99990844726562, 86.82804870605469, 115.49653625488281, 67.54007720947266, 218.54534912109375, 126.44376373291016, 86.33757019042969, 90.41526794433594, 111.75833129882812, 270.5833435058594, 715.1282348632812, 917.224365234375, 87.21229553222656, 337.0823669433594, 189.03228759765625, 222.10391235351562, 1541.6259765625, 205.16867065429688, 9476.4658203125, 549.1156616210938, 381.1969909667969, 1299.02734375, 120.76020050048828, 871.6260986328125, 202.42405700683594, 470.1909484863281, 800.7623901367188, 1307.44873046875, 342.189208984375, 1817.3775634765625, 268.1865539550781, 218.16915893554688, 289.6104736328125, 1508.87158203125, 347.7533874511719, 983.7998046875, 496.69482421875, 602.4299926757812, 997.4374389648438, 822.57080078125, 617.9182739257812, 204.85870361328125, 308.0700988769531, 241.13558959960938, 220.7803955078125, 258.35894775390625, 219.4054412841797, 185.9627685546875, 175.64927673339844, 182.6413116455078, 171.45469665527344, 361.01873779296875, 185.82730102539062, 235.5984649658203, 186.65972900390625, 138.23204040527344, 167.45521545410156, 136.90365600585938, 136.90365600585938, 208.89002990722656, 189.08279418945312, 152.4843292236328, 170.34268188476562, 148.1509552001953, 147.3186798095703, 128.23141479492188, 129.83399963378906, 137.2491455078125, 126.52533721923828, 1151.21435546875, 297.2779541015625, 327.2030334472656, 226.24488830566406, 351.35589599609375, 174.52853393554688, 223.86285400390625, 592.420654296875, 322.5028381347656, 248.3228759765625, 222.13497924804688, 328.7327575683594, 235.62237548828125, 304.2763366699219, 511.5762939453125, 225.8736572265625, 442.78826904296875, 367.2366638183594, 250.6542510986328, 1227.08154296875, 330.962646484375, 498.46868896484375, 285.6589660644531, 2416.448974609375, 873.513427734375, 2065.47802734375, 448.3685302734375, 924.52783203125, 668.3411254882812, 961.882568359375, 1169.3173828125, 681.82470703125, 349.2047119140625, 9476.4658203125, 909.05517578125, 726.9292602539062, 693.1782836914062, 1044.9581298828125, 1037.0478515625, 615.3472900390625, 458.08343505859375, 505.6895446777344, 1417.0633544921875, 917.4885864257812, 1224.5677490234375, 924.8684692382812, 1203.4185791015625, 1495.396728515625, 1358.1995849609375, 1817.3775634765625, 728.704833984375, 1299.02734375, 1508.87158203125, 1307.44873046875, 89.56292724609375, 74.93074035644531, 55.636863708496094, 67.1030044555664, 65.14631652832031, 42.95437240600586, 42.95437240600586, 34.090492248535156, 32.368473052978516, 34.58499526977539, 34.121273040771484, 42.430389404296875, 33.117801666259766, 29.261524200439453, 61.147804260253906, 46.099388122558594, 32.43562316894531, 43.90079116821289, 43.419830322265625, 22.294099807739258, 24.552757263183594, 22.78000259399414, 22.30172348022461, 22.554481506347656, 67.6561508178711, 66.25473022460938, 56.217525482177734, 44.34455871582031, 78.72795867919922, 22.013166427612305, 39.81882858276367, 93.54983520507812, 88.71762084960938, 44.6668586730957, 66.08224487304688, 49.780555725097656, 82.25935363769531, 343.4095764160156, 48.91264724731445, 75.46162414550781, 120.82986450195312, 120.0324478149414, 69.39803314208984, 78.3944091796875, 289.73895263671875, 1508.87158203125, 347.04180908203125, 97.719970703125, 306.7254943847656, 346.2761535644531, 86.01251220703125, 140.57107543945312, 391.04876708984375, 1203.4185791015625, 193.39883422851562, 269.0108947753906, 590.6781616210938, 871.6260986328125, 917.224365234375, 661.59716796875, 288.1748962402344, 983.7998046875, 9476.4658203125, 1358.1995849609375, 436.6828918457031, 1224.5677490234375, 497.96905517578125, 1541.6259765625, 924.8684692382812, 997.4374389648438, 1817.3775634765625, 1307.44873046875, 1044.9581298828125, 1495.396728515625, 946.5831298828125, 638.6799926757812, 671.0473022460938, 1417.0633544921875, 2065.47802734375], \"Category\": [\"Default\", \"Default\", \"Default\", \"Default\", \"Default\", \"Default\", \"Default\", \"Default\", \"Default\", \"Default\", \"Default\", \"Default\", \"Default\", \"Default\", \"Default\", \"Default\", \"Default\", \"Default\", \"Default\", \"Default\", \"Default\", \"Default\", \"Default\", \"Default\", \"Default\", \"Default\", \"Default\", \"Default\", \"Default\", \"Default\", \"Topic1\", \"Topic1\", \"Topic1\", \"Topic1\", \"Topic1\", \"Topic1\", \"Topic1\", \"Topic1\", \"Topic1\", \"Topic1\", \"Topic1\", \"Topic1\", \"Topic1\", \"Topic1\", \"Topic1\", \"Topic1\", \"Topic1\", \"Topic1\", \"Topic1\", \"Topic1\", \"Topic1\", \"Topic1\", \"Topic1\", \"Topic1\", \"Topic1\", \"Topic1\", \"Topic1\", \"Topic1\", \"Topic1\", \"Topic1\", \"Topic1\", \"Topic1\", \"Topic1\", \"Topic1\", \"Topic1\", \"Topic1\", \"Topic1\", \"Topic1\", \"Topic1\", \"Topic1\", \"Topic1\", \"Topic1\", \"Topic1\", \"Topic1\", \"Topic1\", \"Topic1\", \"Topic1\", \"Topic1\", \"Topic1\", \"Topic1\", \"Topic1\", \"Topic1\", \"Topic1\", \"Topic1\", \"Topic1\", \"Topic1\", \"Topic1\", \"Topic1\", \"Topic1\", \"Topic1\", \"Topic1\", \"Topic1\", \"Topic1\", \"Topic1\", \"Topic1\", \"Topic1\", \"Topic1\", \"Topic1\", \"Topic1\", \"Topic2\", \"Topic2\", \"Topic2\", \"Topic2\", \"Topic2\", \"Topic2\", \"Topic2\", \"Topic2\", \"Topic2\", \"Topic2\", \"Topic2\", \"Topic2\", \"Topic2\", \"Topic2\", \"Topic2\", \"Topic2\", \"Topic2\", \"Topic2\", \"Topic2\", \"Topic2\", \"Topic2\", \"Topic2\", \"Topic2\", \"Topic2\", \"Topic2\", \"Topic2\", \"Topic2\", \"Topic2\", \"Topic2\", \"Topic2\", \"Topic2\", \"Topic2\", \"Topic2\", \"Topic2\", \"Topic2\", \"Topic2\", \"Topic2\", \"Topic2\", \"Topic2\", \"Topic2\", \"Topic2\", \"Topic2\", \"Topic2\", \"Topic2\", \"Topic2\", \"Topic2\", \"Topic2\", \"Topic2\", \"Topic2\", \"Topic2\", \"Topic3\", \"Topic3\", \"Topic3\", \"Topic3\", \"Topic3\", \"Topic3\", \"Topic3\", \"Topic3\", \"Topic3\", \"Topic3\", \"Topic3\", \"Topic3\", \"Topic3\", \"Topic3\", \"Topic3\", \"Topic3\", \"Topic3\", \"Topic3\", \"Topic3\", \"Topic3\", \"Topic3\", \"Topic3\", \"Topic3\", \"Topic3\", \"Topic3\", \"Topic3\", \"Topic3\", \"Topic3\", \"Topic3\", \"Topic3\", \"Topic3\", \"Topic3\", \"Topic3\", \"Topic3\", \"Topic3\", \"Topic3\", \"Topic3\", \"Topic3\", \"Topic3\", \"Topic3\", \"Topic3\", \"Topic3\", \"Topic3\", \"Topic3\", \"Topic3\", \"Topic3\", \"Topic3\", \"Topic3\", \"Topic3\", \"Topic3\", \"Topic3\", \"Topic3\", \"Topic3\", \"Topic3\", \"Topic3\", \"Topic3\", \"Topic3\", \"Topic3\", \"Topic3\", \"Topic3\", \"Topic3\", \"Topic3\", \"Topic3\", \"Topic3\", \"Topic3\", \"Topic3\", \"Topic3\", \"Topic3\", \"Topic3\", \"Topic3\", \"Topic3\", \"Topic3\", \"Topic4\", \"Topic4\", \"Topic4\", \"Topic4\", \"Topic4\", \"Topic4\", \"Topic4\", \"Topic4\", \"Topic4\", \"Topic4\", \"Topic4\", \"Topic4\", \"Topic4\", \"Topic4\", \"Topic4\", \"Topic4\", \"Topic4\", \"Topic4\", \"Topic4\", \"Topic4\", \"Topic4\", \"Topic4\", \"Topic4\", \"Topic4\", \"Topic4\", \"Topic4\", \"Topic4\", \"Topic4\", \"Topic4\", \"Topic4\", \"Topic4\", \"Topic4\", \"Topic4\", \"Topic4\", \"Topic4\", \"Topic4\", \"Topic4\", \"Topic4\", \"Topic4\", \"Topic4\", \"Topic4\", \"Topic4\", \"Topic4\", \"Topic4\", \"Topic4\", \"Topic4\", \"Topic4\", \"Topic4\", \"Topic4\", \"Topic4\", \"Topic4\", \"Topic4\", \"Topic4\", \"Topic4\", \"Topic4\", \"Topic4\", \"Topic4\", \"Topic4\", \"Topic4\", \"Topic4\", \"Topic4\", \"Topic4\", \"Topic4\", \"Topic4\", \"Topic4\", \"Topic4\", \"Topic4\", \"Topic4\", \"Topic4\", \"Topic4\", \"Topic4\", \"Topic4\", \"Topic4\", \"Topic4\", \"Topic4\", \"Topic4\", \"Topic4\", \"Topic4\", \"Topic4\", \"Topic4\", \"Topic4\", \"Topic4\", \"Topic4\", \"Topic4\", \"Topic5\", \"Topic5\", \"Topic5\", \"Topic5\", \"Topic5\", \"Topic5\", \"Topic5\", \"Topic5\", \"Topic5\", \"Topic5\", \"Topic5\", \"Topic5\", \"Topic5\", \"Topic5\", \"Topic5\", \"Topic5\", \"Topic5\", \"Topic5\", \"Topic5\", \"Topic5\", \"Topic5\", \"Topic5\", \"Topic5\", \"Topic5\", \"Topic5\", \"Topic5\", \"Topic5\", \"Topic5\", \"Topic5\", \"Topic5\", \"Topic5\", \"Topic5\", \"Topic5\", \"Topic5\", \"Topic5\", \"Topic5\", \"Topic5\", \"Topic5\", \"Topic5\", \"Topic5\", \"Topic5\", \"Topic5\", \"Topic5\", \"Topic5\", \"Topic5\", \"Topic5\", \"Topic5\", \"Topic5\", \"Topic5\", \"Topic5\", \"Topic5\", \"Topic5\", \"Topic5\", \"Topic5\", \"Topic5\", \"Topic5\", \"Topic5\", \"Topic5\", \"Topic5\", \"Topic5\", \"Topic5\", \"Topic5\", \"Topic5\", \"Topic5\", \"Topic5\", \"Topic5\", \"Topic5\", \"Topic5\", \"Topic5\", \"Topic5\", \"Topic5\", \"Topic5\", \"Topic5\", \"Topic5\", \"Topic5\", \"Topic5\", \"Topic5\", \"Topic5\", \"Topic5\"], \"logprob\": [30.0, 29.0, 28.0, 27.0, 26.0, 25.0, 24.0, 23.0, 22.0, 21.0, 20.0, 19.0, 18.0, 17.0, 16.0, 15.0, 14.0, 13.0, 12.0, 11.0, 10.0, 9.0, 8.0, 7.0, 6.0, 5.0, 4.0, 3.0, 2.0, 1.0, -5.498300075531006, -5.778200149536133, -5.944200038909912, -5.8618998527526855, -6.479700088500977, -6.489999771118164, -6.533599853515625, -6.533699989318848, -6.487400054931641, -6.728799819946289, -6.4959001541137695, -6.751999855041504, -6.569300174713135, -6.722700119018555, -6.575799942016602, -5.7307000160217285, -6.557700157165527, -6.756899833679199, -6.571100234985352, -6.490499973297119, -7.276500225067139, -6.761000156402588, -6.769400119781494, -4.560200214385986, -6.549699783325195, -7.360799789428711, -5.867800235748291, -7.713900089263916, -7.553500175476074, -7.7621002197265625, -6.552000045776367, -6.560999870300293, -7.027599811553955, -6.517099857330322, -6.574900150299072, -6.541500091552734, -5.937300205230713, -4.963200092315674, -5.413300037384033, -5.809299945831299, -4.6234002113342285, -5.051199913024902, -6.026199817657471, -5.831500053405762, -5.059599876403809, -5.736700057983398, -5.944699764251709, -5.301300048828125, -5.078100204467773, -5.554900169372559, -6.391900062561035, -5.4004998207092285, -5.390200138092041, -5.301400184631348, -5.5914998054504395, -5.353799819946289, -5.726799964904785, -5.855999946594238, -5.530099868774414, -4.94920015335083, -4.473899841308594, -5.31879997253418, -5.616300106048584, -5.381800174713135, -5.440400123596191, -5.568699836730957, -5.735000133514404, -5.702499866485596, -5.767300128936768, -3.8405001163482666, -3.307499885559082, -4.534299850463867, -4.473400115966797, -4.637899875640869, -4.512700080871582, -4.823800086975098, -4.990499973297119, -5.170199871063232, -4.302000045776367, -5.356599807739258, -5.355500221252441, -4.508399963378906, -5.576099872589111, -5.576099872589111, -3.7374000549316406, -5.822199821472168, -5.936500072479248, -6.01800012588501, -5.381999969482422, -6.067500114440918, -6.067500114440918, -6.067500114440918, -6.154099941253662, -4.412399768829346, -6.267899990081787, -6.163400173187256, -6.163400173187256, -6.163400173187256, -6.268599987030029, -4.5690999031066895, -5.0883002281188965, -5.444200038909912, -5.467599868774414, -4.341100215911865, -3.2695999145507812, -5.018899917602539, -5.446199893951416, -3.6858999729156494, -4.165900230407715, -5.495100021362305, -3.6347999572753906, -5.016300201416016, -4.83489990234375, -4.946300029754639, -4.833499908447266, -5.02269983291626, -5.144499778747559, -5.179699897766113, -5.156199932098389, -5.6869001388549805, -5.011300086975098, -6.052599906921387, -6.16949987411499, -6.178899765014648, -6.466000080108643, -6.609799861907959, -6.647799968719482, -6.647500038146973, -5.898399829864502, -6.830100059509277, -6.820199966430664, -6.850299835205078, -7.1367998123168945, -7.156499862670898, -7.156899929046631, -7.0782999992370605, -7.130499839782715, -7.143700122833252, -7.114299774169922, -6.592599868774414, -7.1722002029418945, -7.159599781036377, -7.159599781036377, -7.388299942016602, -7.109000205993652, -7.441199779510498, -7.441299915313721, -7.497099876403809, -7.497099876403809, -5.519599914550781, -5.772299766540527, -5.488100051879883, -5.832099914550781, -6.452600002288818, -6.174200057983398, -6.7052001953125, -5.589600086212158, -6.117400169372559, -6.486599922180176, -6.4471001625061035, -6.254199981689453, -5.436600208282471, -4.542900085449219, -4.328000068664551, -6.496300220489502, -5.297699928283691, -5.847099781036377, -5.746300220489502, -4.241700172424316, -5.828199863433838, -2.9384000301361084, -5.124899864196777, -5.431700229644775, -4.584499835968018, -6.255799770355225, -4.915500164031982, -5.915599822998047, -5.374100208282471, -5.053100109100342, -4.795400142669678, -5.6149001121521, -4.744100093841553, -5.801400184631348, -5.895999908447266, -5.788000106811523, -5.2118000984191895, -5.736700057983398, -5.445199966430664, -5.710700035095215, -5.729400157928467, -5.756700038909912, -5.817399978637695, -6.104899883270264, -7.210000038146973, -6.802000045776367, -7.047500133514404, -7.135700225830078, -6.978499889373779, -7.142199993133545, -7.3078999519348145, -7.364999771118164, -7.326000213623047, -7.3892998695373535, -6.644700050354004, -7.308800220489502, -7.071499824523926, -7.304500102996826, -7.604899883270264, -7.413099765777588, -7.61460018157959, -7.61460018157959, -7.1921000480651855, -7.291800022125244, -7.506999969482422, -7.396399974822998, -7.536099910736084, -7.541900157928467, -7.680799961090088, -7.668399810791016, -7.6128997802734375, -7.694300174713135, -5.494800090789795, -6.842100143432617, -6.747300148010254, -7.1143999099731445, -6.679100036621094, -7.373000144958496, -7.1265997886657715, -6.163599967956543, -6.766600131988525, -7.025199890136719, -7.136300086975098, -6.756400108337402, -7.079599857330322, -6.831999778747559, -6.333199977874756, -7.121600151062012, -6.478700160980225, -6.664000034332275, -7.026299953460693, -5.533599853515625, -6.767000198364258, -6.387199878692627, -6.904300212860107, -4.956099987030029, -5.886899948120117, -5.1128997802734375, -6.497499942779541, -5.848100185394287, -6.1402997970581055, -5.827499866485596, -5.656300067901611, -6.14739990234375, -6.731299877166748, -3.897599935531616, -5.910200119018555, -6.104700088500977, -6.14709997177124, -5.834499835968018, -5.844200134277344, -6.269800186157227, -6.501200199127197, -6.427599906921387, -5.662799835205078, -5.991000175476074, -5.787300109863281, -5.997099876403809, -5.840799808502197, -5.706699848175049, -5.778900146484375, -5.64300012588501, -6.2108001708984375, -5.956200122833252, -5.985199928283691, -6.046000003814697, -6.04010009765625, -6.220799922943115, -6.526700019836426, -6.3414998054504395, -6.373199939727783, -6.791800022125244, -6.791800022125244, -7.024600028991699, -7.077300071716309, -7.0131001472473145, -7.027400016784668, -6.809899806976318, -7.061299800872803, -7.185200214385986, -6.448299884796143, -6.73199987411499, -7.084199905395508, -6.782800197601318, -6.794000148773193, -7.463500022888184, -7.367099761962891, -7.442299842834473, -7.465099811553955, -7.455399990081787, -6.357100009918213, -6.378900051116943, -6.5447001457214355, -6.7820000648498535, -6.208799839019775, -7.485599994659424, -6.89709997177124, -6.0518999099731445, -6.1219000816345215, -6.789299964904785, -6.4141998291015625, -6.69789981842041, -6.238800048828125, -5.071499824523926, -6.755899906158447, -6.428199768066406, -6.082600116729736, -6.088799953460693, -6.49560022354126, -6.408100128173828, -5.571300029754639, -4.686999797821045, -5.596199989318848, -6.327400207519531, -5.694900035858154, -5.6321001052856445, -6.408100128173828, -6.143400192260742, -5.5995001792907715, -5.040999889373779, -5.989099979400635, -5.826700210571289, -5.516499996185303, -5.342800140380859, -5.368100166320801, -5.517099857330322, -5.875400066375732, -5.409900188446045, -4.604499816894531, -5.316800117492676, -5.7322001457214355, -5.397200107574463, -5.737400054931641, -5.42710018157959, -5.581200122833252, -5.57390022277832, -5.446400165557861, -5.5391998291015625, -5.605599880218506, -5.527299880981445, -5.660299777984619, -5.78980016708374, -5.84689998626709, -5.811999797821045, -5.815199851989746], \"loglift\": [30.0, 29.0, 28.0, 27.0, 26.0, 25.0, 24.0, 23.0, 22.0, 21.0, 20.0, 19.0, 18.0, 17.0, 16.0, 15.0, 14.0, 13.0, 12.0, 11.0, 10.0, 9.0, 8.0, 7.0, 6.0, 5.0, 4.0, 3.0, 2.0, 1.0, 2.015199899673462, 2.014699935913086, 2.013700008392334, 2.011899948120117, 2.0106000900268555, 2.0104000568389893, 2.0095999240875244, 2.0095999240875244, 2.009500026702881, 2.0083000659942627, 2.00819993019104, 2.00819993019104, 2.007499933242798, 2.0074000358581543, 2.0072999000549316, 2.0058000087738037, 2.0055999755859375, 2.004699945449829, 2.004699945449829, 2.000699996948242, 1.9974000453948975, 1.9925999641418457, 1.9922000169754028, 1.9904999732971191, 1.9900000095367432, 1.9895999431610107, 1.9884999990463257, 1.9878000020980835, 1.9878000020980835, 1.9872000217437744, 1.9852999448776245, 1.9823999404907227, 1.985700011253357, 1.9794000387191772, 1.9693000316619873, 1.9639999866485596, 1.8946000337600708, 1.7268999814987183, 1.7307000160217285, 1.8108999729156494, 1.5285999774932861, 1.6086000204086304, 1.8401000499725342, 1.7888000011444092, 1.5331000089645386, 1.7022000551223755, 1.7273000478744507, 1.4284000396728516, 1.2730000019073486, 1.4467999935150146, 1.9046000242233276, 1.2532000541687012, 1.117799997329712, 1.0479999780654907, 1.2559000253677368, 0.9801999926567078, 1.2317999601364136, 1.357699990272522, 0.9491000175476074, 0.25870001316070557, -0.6324999928474426, 0.4652999937534332, 0.9257000088691711, 0.3059999942779541, 0.3012999892234802, 0.5763999819755554, 1.160099983215332, -0.20970000326633453, 0.1665000021457672, 3.3076000213623047, 3.3073999881744385, 3.3048999309539795, 3.304800033569336, 3.3034000396728516, 3.302299976348877, 3.301800012588501, 3.3017001152038574, 3.299999952316284, 3.2985999584198, 3.2969000339508057, 3.296799898147583, 3.2934000492095947, 3.29010009765625, 3.29010009765625, 3.29010009765625, 3.2878000736236572, 3.2852001190185547, 3.284600019454956, 3.2841999530792236, 3.283799886703491, 3.283799886703491, 3.283799886703491, 3.2813000679016113, 3.280600070953369, 3.2778000831604004, 3.2767999172210693, 3.2767999172210693, 3.2767999172210693, 3.2734999656677246, 3.269700050354004, 3.2695000171661377, 3.2653000354766846, 3.255500078201294, 3.2042999267578125, 3.1317999362945557, 3.2125000953674316, 3.2323999404907227, 2.887500047683716, 2.965100049972534, 3.1872000694274902, 2.7479000091552734, 3.0636000633239746, 2.9842000007629395, 2.953000068664551, 2.7674999237060547, 2.041599988937378, 2.2297000885009766, 1.6552000045776367, 0.2085999995470047, 2.106100082397461, 2.1057000160217285, 2.1043999195098877, 2.1034998893737793, 2.1029000282287598, 2.1001999378204346, 2.099400043487549, 2.0987000465393066, 2.098400115966797, 2.0971999168395996, 2.0961999893188477, 2.0929999351501465, 2.0927000045776367, 2.09060001373291, 2.090399980545044, 2.090100049972534, 2.0889999866485596, 2.08870005607605, 2.088599920272827, 2.0880000591278076, 2.0862998962402344, 2.086199998855591, 2.085599899291992, 2.085599899291992, 2.0845000743865967, 2.0841000080108643, 2.083199977874756, 2.0831000804901123, 2.0815999507904053, 2.0815000534057617, 2.079200029373169, 2.079400062561035, 2.074899911880493, 2.0782999992370605, 2.081399917602539, 2.07450008392334, 2.0799999237060547, 2.0213000774383545, 2.040800094604492, 2.053100109100342, 2.0464000701904297, 2.027400016784668, 1.960800051689148, 1.882599949836731, 1.8486000299453735, 2.033400058746338, 1.8798999786376953, 1.909000039100647, 1.8486000299453735, 1.4155999422073364, 1.845900058746338, 0.902999997138977, 1.5648000240325928, 1.6230000257492065, 1.2440999746322632, 1.9484000205993652, 1.3121000528335571, 1.7719999551773071, 1.4708000421524048, 1.2592999935150146, 1.0268000364303589, 1.547700047492981, 0.7487999796867371, 1.6047999858856201, 1.7166999578475952, 1.5413999557495117, 0.46700000762939453, 1.4098000526428223, 0.6614000201225281, 1.079300045967102, 0.8676000237464905, 0.3361000120639801, 0.46810001134872437, 0.4666999876499176, 0.46560001373291016, 0.46560001373291016, 0.4650999903678894, 0.4650999903678894, 0.4650999903678894, 0.46480000019073486, 0.4645000100135803, 0.4645000100135803, 0.4645000100135803, 0.4643999934196472, 0.4643999934196472, 0.4643000066280365, 0.4643000066280365, 0.4641999900341034, 0.4641000032424927, 0.4641000032424927, 0.4641000032424927, 0.4641000032424927, 0.4641000032424927, 0.46399998664855957, 0.46389999985694885, 0.46369999647140503, 0.4636000096797943, 0.4634999930858612, 0.4634000062942505, 0.4632999897003174, 0.4632999897003174, 0.46320000290870667, 0.4546000063419342, 0.4611999988555908, 0.460099995136261, 0.4620000123977661, 0.4569999873638153, 0.4629000127315521, 0.4602999985218048, 0.45019999146461487, 0.4551999866962433, 0.4580000042915344, 0.45840001106262207, 0.4462999999523163, 0.4560999870300293, 0.4480000138282776, 0.42730000615119934, 0.4564000070095062, 0.4260999858379364, 0.42800000309944153, 0.44760000705718994, 0.35199999809265137, 0.42899999022483826, 0.3993000090122223, 0.4388999938964844, 0.251800000667572, 0.3384999930858612, 0.25200000405311584, 0.39480000734329224, 0.3206000030040741, 0.3528999984264374, 0.30160000920295715, 0.2775000035762787, 0.32580000162124634, 0.41100001335144043, -0.05620000138878822, 0.2754000127315521, 0.3043999969959259, 0.3095000088214874, 0.21170000731945038, 0.20970000326633453, 0.3059999942779541, 0.36970001459121704, 0.34439998865127563, 0.07880000025033951, 0.18529999256134033, 0.10029999911785126, 0.1712999939918518, 0.06430000066757202, -0.018799999728798866, 0.005100000184029341, -0.1501999944448471, 0.19589999318122864, -0.12759999930858612, -0.30640000104904175, -0.22390000522136688, 2.462899923324585, 2.460599899291992, 2.452399969100952, 2.4502999782562256, 2.448199987411499, 2.446000099182129, 2.446000099182129, 2.4442999362945557, 2.44350004196167, 2.4414000511169434, 2.440700054168701, 2.4402999877929688, 2.4365999698638916, 2.436500072479248, 2.4363999366760254, 2.4351999759674072, 2.434499979019165, 2.433300018310547, 2.4330999851226807, 2.4300999641418457, 2.4300999641418457, 2.429800033569336, 2.4282000064849854, 2.4267001152038574, 2.4263999462127686, 2.425600051879883, 2.4240000247955322, 2.4238998889923096, 2.423099994659424, 2.4207000732421875, 2.4165000915527344, 2.4075000286102295, 2.3905999660491943, 2.40939998626709, 2.3928000926971436, 2.3924999237060547, 2.349299907684326, 2.087599992752075, 2.3519999980926514, 2.2462000846862793, 2.121000051498413, 2.1214001178741455, 2.262500047683716, 2.228100061416626, 1.757699966430664, 0.9919000267982483, 1.552299976348877, 2.0885000228881836, 1.5771000385284424, 1.5185999870300293, 2.1354000568389893, 1.9089000225067139, 1.4296000003814697, 0.8640000224113464, 1.7440999746322632, 1.5765000581741333, 1.1002000570297241, 0.8848000168800354, 0.8084999918937683, 0.9861999750137329, 1.4589999914169312, 0.6966999769210815, -0.7631000280380249, 0.46720001101493835, 1.1865999698638916, 0.4903999865055084, 1.0499999523162842, 0.23029999434947968, 0.5871000289916992, 0.5188000202178955, 0.04639999940991402, 0.28299999237060547, 0.4406999945640564, 0.16050000488758087, 0.4848000109195709, 0.7487999796867371, 0.6421999931335449, -0.07039999961853027, -0.4503999948501587]}, \"token.table\": {\"Topic\": [1, 1, 4, 4, 1, 1, 4, 2, 4, 1, 4, 1, 4, 2, 4, 1, 2, 3, 4, 5, 1, 2, 3, 4, 1, 3, 4, 1, 3, 4, 5, 4, 5, 4, 1, 3, 4, 5, 1, 1, 4, 4, 5, 1, 2, 3, 4, 5, 1, 4, 3, 1, 4, 1, 4, 5, 4, 3, 4, 2, 1, 2, 3, 4, 5, 1, 4, 4, 5, 1, 3, 4, 2, 1, 5, 1, 2, 4, 5, 1, 2, 4, 2, 3, 4, 5, 5, 3, 4, 4, 1, 4, 5, 1, 3, 4, 5, 4, 5, 5, 1, 3, 4, 5, 2, 2, 1, 2, 3, 4, 5, 1, 3, 4, 4, 1, 2, 4, 1, 2, 4, 1, 2, 3, 4, 5, 1, 2, 3, 4, 5, 2, 1, 3, 4, 5, 1, 3, 4, 5, 5, 1, 3, 4, 5, 1, 3, 4, 5, 4, 1, 2, 4, 5, 4, 1, 3, 4, 5, 2, 4, 5, 1, 3, 4, 5, 1, 2, 3, 4, 5, 1, 3, 4, 5, 1, 2, 3, 4, 2, 4, 3, 4, 5, 1, 3, 4, 5, 3, 1, 2, 3, 4, 5, 1, 3, 4, 5, 1, 4, 4, 3, 1, 4, 5, 1, 3, 4, 5, 1, 1, 4, 1, 3, 4, 5, 2, 3, 4, 3, 4, 4, 4, 5, 1, 3, 4, 5, 1, 4, 1, 3, 4, 5, 1, 2, 3, 4, 5, 2, 4, 1, 3, 4, 5, 4, 5, 4, 1, 2, 3, 4, 5, 3, 1, 3, 4, 5, 1, 2, 3, 4, 5, 4, 4, 1, 2, 3, 4, 5, 3, 4, 5, 3, 5, 4, 5, 5, 1, 3, 1, 2, 3, 4, 5, 1, 3, 4, 5, 1, 3, 4, 5, 1, 4, 1, 3, 4, 5, 1, 2, 4, 1, 3, 4, 5, 3, 2, 3, 4, 1, 2, 3, 4, 1, 2, 3, 4, 5, 2, 4, 5, 1, 2, 3, 4, 5, 1, 2, 4, 3, 3, 4, 1, 3, 4, 5, 1, 4, 5, 3, 4, 3, 2, 4, 5, 2, 4, 1, 2, 3, 4, 5, 1, 3, 4, 5, 1, 2, 3, 4, 5, 1, 4, 1, 2, 3, 4, 5, 1, 2, 4, 1, 3, 4, 5, 2, 1, 2, 3, 4, 5, 2, 3, 4, 4, 5, 1, 1, 4, 3, 1, 2, 3, 4, 5, 1, 3, 4, 5, 4, 5, 1, 2, 3, 4, 5, 2, 3, 4, 5, 1, 2, 3, 4, 5, 3, 4, 1, 1, 3, 1, 4, 1, 4, 5, 1, 2, 3, 4, 5, 1, 2, 3, 4, 5, 2, 1, 3, 4, 1, 3, 4, 5, 3, 1, 3, 4, 1, 3, 4, 5, 1, 2, 3, 4, 5, 1, 2, 3, 4, 5, 1, 3, 4, 5, 1, 2, 3, 4, 5, 1, 2, 3, 4, 5, 1, 2, 3, 4, 1, 3, 4, 5, 1, 2, 3, 4, 5, 1, 2, 3, 4, 5, 1, 2, 3, 4, 5, 1, 2, 3, 4, 5, 1, 3, 4, 5, 5, 5, 1, 3, 4, 5, 2, 1, 2, 4, 1, 2, 4, 1, 2, 3, 4, 5, 3, 1, 4, 3, 1, 2, 3, 4, 5, 2, 4, 1, 2, 3, 4, 5, 1, 2, 3, 4, 5, 1, 2, 3, 4, 5, 3, 4, 3, 1, 4, 4, 5, 1, 2, 3, 4, 5, 4, 1, 2, 4, 5, 1, 3, 4, 5, 1, 1, 3, 4, 5, 4, 5, 1, 3, 1, 2, 3, 4, 5, 1, 2, 3, 4, 5, 1, 4, 1, 3, 4, 1, 3, 4, 5, 3, 4, 5, 1, 4, 1, 3, 4, 5, 1, 2, 3, 4, 5, 4, 4, 1, 2, 3, 4, 5, 1, 2, 3, 4, 5, 4, 1, 4, 5, 2, 3, 4, 1, 2, 3, 4, 5, 1, 2, 3, 4, 5, 1, 3, 4, 2, 3, 4, 5, 4, 1, 4, 1, 2, 3, 4, 5, 1, 4, 1, 3, 4, 5, 1, 3, 4, 5, 3, 4, 5, 1, 2, 3, 4, 5, 1, 2, 4, 3, 5, 1, 1, 3, 4, 5, 4, 3, 4, 3, 4, 1, 3, 4, 5, 1, 3, 4, 3, 2, 1, 2, 4, 1, 3, 4, 5, 1, 2, 4, 1, 4, 5, 1, 2, 3, 4, 5, 4, 4, 4, 1, 3, 4, 1, 2, 3, 4, 5, 1, 3, 4, 5, 3, 4, 1, 4, 5, 4, 5, 4, 1, 4, 5, 1, 2, 4, 2, 3, 1, 2, 3, 4, 5, 4, 5, 5, 1, 3, 4, 2, 4, 1, 2, 3, 4, 5, 2, 4, 1, 5, 1, 5, 1, 2, 4, 2, 4, 1, 3, 4, 5, 4, 1, 2, 4, 3, 1, 2, 4, 1, 3, 4, 5, 1, 2, 3, 4, 5, 3, 4, 1, 2, 3, 4, 5, 1, 4, 1, 2, 4, 1, 2, 3, 4, 5, 1, 2, 3, 4, 5, 1, 3, 4, 1, 4, 2, 4, 5, 1, 2, 3, 4, 5, 4, 5, 1, 3, 4, 1, 4, 3, 1, 4, 1, 2, 3, 4, 5, 1, 3, 4, 5, 2, 1, 1, 4, 5, 3, 3, 1, 3, 4, 1, 2, 3, 4, 1, 4, 2, 1, 4, 4, 1, 2, 3, 4, 5, 1, 2, 4, 5, 1, 5, 1, 1, 3, 4, 5], \"Freq\": [0.9625986218452454, 0.9962170720100403, 0.004150904715061188, 0.9908987283706665, 0.9876667261123657, 0.008488157764077187, 0.9888704419136047, 0.012402991764247417, 0.9860378503799438, 0.7943812012672424, 0.20321379601955414, 0.9640297293663025, 0.026054859161376953, 0.9932847023010254, 0.005611778236925602, 0.07352396845817566, 0.0021624695509672165, 0.029193339869379997, 0.7428083419799805, 0.15137287974357605, 0.0316346175968647, 0.007908654399216175, 0.9332212209701538, 0.0316346175968647, 0.007979118265211582, 0.01196867786347866, 0.9774420261383057, 0.004501767456531525, 0.004501767456531525, 0.990388810634613, 0.004501767456531525, 0.04477592557668686, 0.9402944445610046, 0.9942734241485596, 0.01041034422814846, 0.0034701148979365826, 0.6246206760406494, 0.3608919382095337, 0.980864405632019, 0.9856678247451782, 0.012020339258015156, 0.9952906370162964, 0.9657593369483948, 0.006500394083559513, 0.008125493302941322, 0.03575216978788376, 0.8499265313148499, 0.10075610876083374, 0.9650223851203918, 0.03327663242816925, 0.9879170060157776, 0.9714664220809937, 0.02694115787744522, 0.516699492931366, 0.4828679859638214, 0.9671385884284973, 0.9958083033561707, 0.0033638551831245422, 0.9923372864723206, 0.9850592613220215, 0.35347574949264526, 0.006380428560078144, 0.04593908414244652, 0.5359560251235962, 0.058699943125247955, 0.006112412549555302, 0.9902108907699585, 0.9981953501701355, 0.9577220678329468, 0.008947879076004028, 0.9216315150260925, 0.07158303260803223, 0.9940854907035828, 0.02277863211929798, 0.9567025899887085, 0.12396351248025894, 0.7212422490119934, 0.1465023308992386, 0.0056347050704061985, 0.01490040309727192, 0.9685261845588684, 0.009933602064847946, 0.014806023798882961, 0.9623915553092957, 0.01797369495034218, 0.9705795049667358, 0.9310787916183472, 0.9759446978569031, 0.016826633363962173, 0.9974598288536072, 0.004419989418238401, 0.9944975972175598, 0.004419989418238401, 0.07784654200077057, 0.004579208325594664, 0.8780632019042969, 0.038923271000385284, 0.10941004753112793, 0.8874370455741882, 0.9367583394050598, 0.6628801822662354, 0.0035353610292077065, 0.3305562734603882, 0.0035353610292077065, 0.9863133430480957, 0.9851490259170532, 0.018054798245429993, 0.33943021297454834, 0.20582470297813416, 0.37915077805519104, 0.05416439473628998, 0.008854507468640804, 0.004427253734320402, 0.9872775673866272, 0.9973480105400085, 0.03114541433751583, 0.7078503370285034, 0.26048892736434937, 0.9856395125389099, 0.010375152342021465, 0.005187576171010733, 0.004530170001089573, 0.5798617601394653, 0.08154305815696716, 0.32617223262786865, 0.004530170001089573, 0.03972727805376053, 0.280739426612854, 0.05296970531344414, 0.4608364403247833, 0.16685457527637482, 0.9686866998672485, 0.002183008473366499, 0.05675821751356125, 0.9059485197067261, 0.03492813557386398, 0.006572972517460585, 0.01314594503492117, 0.9793729186058044, 0.0032864862587302923, 0.9662885665893555, 0.1717396080493927, 0.0016553215682506561, 0.8049001097679138, 0.02151918038725853, 0.011647898703813553, 0.14268675446510315, 0.16598255932331085, 0.6784901022911072, 0.9947400689125061, 0.7486625909805298, 0.02868439070880413, 0.15489570796489716, 0.06597409397363663, 0.9948228001594543, 0.006878248415887356, 0.06465553492307663, 0.8487758636474609, 0.07978767901659012, 0.9648756980895996, 0.06026449427008629, 0.9240555763244629, 0.0038490337319672108, 0.41954466700553894, 0.5504118204116821, 0.025403622537851334, 0.00833108089864254, 0.00833108089864254, 0.00833108089864254, 0.2749256491661072, 0.6998107433319092, 0.005114451516419649, 0.06393064558506012, 0.580490231513977, 0.35033994913101196, 0.029640745371580124, 0.20254509150981903, 0.7113779187202454, 0.05434136837720871, 0.9793540835380554, 0.01605498604476452, 0.9401066899299622, 0.0442403145134449, 0.011060078628361225, 0.01875419355928898, 0.025967344641685486, 0.8525944948196411, 0.10242675244808197, 0.9953266382217407, 0.45518946647644043, 0.0166823361068964, 0.15729059278964996, 0.3384131193161011, 0.030981481075286865, 0.6149004697799683, 0.09256566315889359, 0.25124967098236084, 0.0413239561021328, 0.9707286953926086, 0.02923881635069847, 0.9955480098724365, 0.9743442535400391, 0.012756011448800564, 0.20409618318080902, 0.7781167030334473, 0.47925588488578796, 0.022821709513664246, 0.09128683805465698, 0.4075305163860321, 0.9910861253738403, 0.9842880964279175, 0.011858892627060413, 0.00699175288900733, 0.7956615090370178, 0.19576908648014069, 0.001398350577801466, 0.9643545150756836, 0.993590772151947, 0.005489451810717583, 0.9796068072319031, 0.022263791412115097, 0.9981520771980286, 0.038105905055999756, 0.9526475667953491, 0.020170480012893677, 0.014407485723495483, 0.5676549673080444, 0.39764660596847534, 0.9938446879386902, 0.005951165687292814, 0.011626215651631355, 0.011626215651631355, 0.2674029469490051, 0.7091991305351257, 0.02517577074468136, 0.04502589628100395, 0.07116996496915817, 0.805140495300293, 0.05374058708548546, 0.9690736532211304, 0.028502166271209717, 0.029244231060147285, 0.765224039554596, 0.175465390086174, 0.029244231060147285, 0.015350062400102615, 0.9670538902282715, 0.9933993220329285, 0.060381099581718445, 0.07135948538780212, 0.056264206767082214, 0.7616252303123474, 0.052147313952445984, 0.9820289611816406, 0.6116172671318054, 0.028719419613480568, 0.3435693383216858, 0.015955232083797455, 0.21130914986133575, 0.008098957128822803, 0.01767045073211193, 0.62877357006073, 0.13400092720985413, 0.9958479404449463, 0.9921177625656128, 0.07049041241407394, 0.00021104914776515216, 0.2985290288925171, 0.5914652347564697, 0.03925514221191406, 0.9638546705245972, 0.02616799995303154, 0.008722666651010513, 0.023030951619148254, 0.9672999382019043, 0.013345657847821712, 0.9875786304473877, 0.95688796043396, 0.9969095587730408, 0.9866721630096436, 0.4637743830680847, 0.003513442352414131, 0.0562150776386261, 0.4075593054294586, 0.06851212680339813, 0.4648378789424896, 0.04477795958518982, 0.30704888701438904, 0.1812441200017929, 0.00988748949021101, 0.0059324936009943485, 0.8819640278816223, 0.10085239261388779, 0.9728493094444275, 0.023163078352808952, 0.01784246601164341, 0.002230308251455426, 0.9278082251548767, 0.05129708722233772, 0.013144087977707386, 0.9726625084877014, 0.013144087977707386, 0.03214595839381218, 0.5698601603507996, 0.1841086745262146, 0.21625462174415588, 0.9888179302215576, 0.9783826470375061, 0.9673953652381897, 0.03164377436041832, 0.553457498550415, 0.0056862072087824345, 0.03411724045872688, 0.4056161046028137, 0.009167199023067951, 0.02291799709200859, 0.6737890839576721, 0.1191735789179802, 0.17417676746845245, 0.004027015063911676, 0.9906457662582397, 0.004027015063911676, 0.12231343239545822, 0.005012845620512962, 0.16943418979644775, 0.5624412894248962, 0.1413622498512268, 0.022986581549048424, 0.959689736366272, 0.011493290774524212, 0.9763004183769226, 0.967694878578186, 0.9933993220329285, 0.3346591591835022, 0.06756030023097992, 0.44778338074684143, 0.14926113188266754, 0.025113746523857117, 0.025113746523857117, 0.9543223977088928, 0.9872465133666992, 0.011894536204636097, 0.9611469507217407, 0.015132658183574677, 0.04539797455072403, 0.9230921268463135, 0.987179696559906, 0.0090566948056221, 0.4226768910884857, 0.006709157023578882, 0.11405567079782486, 0.3376942574977875, 0.1162920594215393, 0.0054512289352715015, 0.7686232924461365, 0.03597811236977577, 0.18861252069473267, 0.7281016111373901, 0.015409557148814201, 0.011557168327271938, 0.24270053207874298, 0.0038523892872035503, 0.9935013651847839, 0.005488957744091749, 0.03666631504893303, 0.008799916133284569, 0.07333263009786606, 0.8667917251586914, 0.014666526578366756, 0.013725481927394867, 0.9607837796211243, 0.027450963854789734, 0.011582443490624428, 0.9381778836250305, 0.04632977396249771, 0.011582443490624428, 0.9932008981704712, 0.028665712103247643, 0.8354007601737976, 0.0013650339096784592, 0.1337733268737793, 0.0013650339096784592, 0.9945039749145508, 0.9717851877212524, 0.013312125578522682, 0.99851393699646, 0.001618337002582848, 0.9818252921104431, 0.011384468525648117, 0.9876025915145874, 0.9820341467857361, 0.08132278174161911, 0.0104932626709342, 0.6138558387756348, 0.18625541031360626, 0.10755594074726105, 0.06167706847190857, 0.5274453163146973, 0.2296939194202423, 0.1807776242494583, 0.035576093941926956, 0.9427664875984192, 0.14090445637702942, 0.03450721129775047, 0.49460336565971375, 0.29043570160865784, 0.040258415043354034, 0.006172842811793089, 0.9691363573074341, 0.01851852983236313, 0.006172842811793089, 0.03964221104979515, 0.00914820283651352, 0.23480387032032013, 0.5468592047691345, 0.16873352229595184, 0.9881698489189148, 0.01733631268143654, 0.9921531677246094, 0.9688228368759155, 0.014460042119026184, 0.9671333432197571, 0.01859871856868267, 0.014902462251484394, 0.014902462251484394, 0.9686600565910339, 0.06263986229896545, 0.010157816112041473, 0.2336297631263733, 0.440172016620636, 0.2522524297237396, 0.01058045681566, 0.055925268679857254, 0.16324132680892944, 0.5441377758979797, 0.22521257400512695, 0.9818865060806274, 0.9877417087554932, 0.9660744071006775, 0.02246684767305851, 0.01800958812236786, 0.7699099183082581, 0.21161265671253204, 0.004502397030591965, 0.9825701117515564, 0.005820928607136011, 0.9662741422653198, 0.023283714428544044, 0.4054684340953827, 0.09111650288105011, 0.4783616364002228, 0.02429773472249508, 0.004158511757850647, 0.057179536670446396, 0.05302102491259575, 0.8462571501731873, 0.039505861699581146, 0.37837567925453186, 0.00907064974308014, 0.022028721868991852, 0.5857048034667969, 0.003887421451508999, 0.050379808992147446, 0.12365952879190445, 0.5495979189872742, 0.2747989594936371, 0.025495540350675583, 0.012747770175337791, 0.5791129469871521, 0.3387264609336853, 0.04370664060115814, 0.0988849624991417, 0.014126422815024853, 0.01994318515062332, 0.667265772819519, 0.19943185150623322, 0.003041984746232629, 0.01825190708041191, 0.003041984746232629, 0.9764770865440369, 0.009779301472008228, 0.07334475964307785, 0.8899164199829102, 0.026893077418208122, 0.10784770548343658, 0.009904380887746811, 0.2558631896972656, 0.5386883020401001, 0.08803894370794296, 0.4738041162490845, 0.005192373879253864, 0.001298093469813466, 0.5192373991012573, 0.001298093469813466, 0.004026617389172316, 0.01207985170185566, 0.3563556373119354, 0.5657397508621216, 0.0624125674366951, 0.1524045467376709, 0.6550152897834778, 0.00162132503464818, 0.1718604564666748, 0.01945590041577816, 0.029359403997659683, 0.006775247398763895, 0.9575682878494263, 0.00451683159917593, 0.9419532418251038, 0.9541710019111633, 0.006905827671289444, 0.5662778615951538, 0.24170397222042084, 0.18645735085010529, 0.987467885017395, 0.06678792834281921, 0.8816006183624268, 0.05343034118413925, 0.036565981805324554, 0.7825120091438293, 0.17551670968532562, 0.025457311421632767, 0.5694398880004883, 0.040195755660533905, 0.24251438677310944, 0.12326698005199432, 0.9724042415618896, 0.9706430435180664, 0.034665822982788086, 0.9827480316162109, 0.17924392223358154, 0.009173901751637459, 0.05645478144288063, 0.6767516732215881, 0.07833100855350494, 0.9690736532211304, 0.028502166271209717, 0.007818970829248428, 0.001954742707312107, 0.003909485414624214, 0.9597786664962769, 0.025411654263734818, 0.03300129622220993, 0.01210047584027052, 0.0814032033085823, 0.823932409286499, 0.04840190336108208, 0.043596357107162476, 0.006118786986917257, 0.33806297183036804, 0.5002108216285706, 0.11166785657405853, 0.9939274191856384, 0.005583861842751503, 0.986745297908783, 0.9879946708679199, 0.01162346638739109, 0.05344744771718979, 0.9299855828285217, 0.5647838115692139, 0.01741624064743519, 0.002488034311681986, 0.38564532995224, 0.02985641174018383, 0.9983213543891907, 0.10341323912143707, 0.036194633692502975, 0.3774583339691162, 0.4808715581893921, 0.02577284723520279, 0.022909197956323624, 0.945004403591156, 0.008590949699282646, 0.9832764863967896, 0.043228890746831894, 0.014409630559384823, 0.12968666851520538, 0.8069393038749695, 0.9963035583496094, 0.9416312575340271, 0.9754922389984131, 0.014345473609864712, 0.09344731271266937, 0.02584712952375412, 0.19285935163497925, 0.46060910820961, 0.22665944695472717, 0.03437928482890129, 0.0006486657657660544, 0.49817532300949097, 0.3606581687927246, 0.1057325229048729, 0.9847146272659302, 0.012008714489638805, 0.8328986763954163, 0.011814165860414505, 0.15358415246009827, 0.04689183086156845, 0.048805784434080124, 0.7732367515563965, 0.13110573589801788, 0.022550681605935097, 0.022550681605935097, 0.9471285939216614, 0.8846320509910583, 0.11414606869220734, 0.02450474537909031, 0.003500677878037095, 0.9696877598762512, 0.003500677878037095, 0.07895922660827637, 0.022714296355843544, 0.015142864547669888, 0.8620616793632507, 0.020551031455397606, 0.9912419319152832, 0.9964656233787537, 0.01725691370666027, 0.003451382741332054, 0.044867973774671555, 0.44522836804389954, 0.4866449534893036, 0.08086031675338745, 0.05775737017393112, 0.049093764275312424, 0.4274045526981354, 0.3840865194797516, 0.997281551361084, 0.015093262307345867, 0.030186524614691734, 0.9508755207061768, 0.006722260732203722, 0.9881723523139954, 0.006722260732203722, 0.05323479697108269, 0.007828646339476109, 0.13308699429035187, 0.6278574466705322, 0.17849314212799072, 0.008169119246304035, 0.0272303968667984, 0.0027230395935475826, 0.9612330198287964, 0.0027230395935475826, 0.008439948782324791, 0.010127938352525234, 0.9807220697402954, 0.9648756980895996, 0.029561243951320648, 0.014780621975660324, 0.9459598064422607, 0.9935764074325562, 0.9649564623832703, 0.034877944737672806, 0.1045764684677124, 0.023239213973283768, 0.2888302505016327, 0.4830436706542969, 0.10125657916069031, 0.8128089904785156, 0.18472932279109955, 0.04508687183260918, 0.011271717958152294, 0.02254343591630459, 0.9242808818817139, 0.07457495480775833, 0.6040571331977844, 0.31694355607032776, 0.007457495201379061, 0.8529300093650818, 0.14077486097812653, 0.008280874229967594, 0.06948612630367279, 0.19161325693130493, 0.04000716283917427, 0.6864386796951294, 0.01263384148478508, 0.013913686387240887, 0.946130633354187, 0.041741058230400085, 0.030830299481749535, 0.9557393193244934, 0.9895681738853455, 0.011292423121631145, 0.0008686479413881898, 0.9859154224395752, 0.0017372958827763796, 0.9978368282318115, 0.9151418805122375, 0.08236277103424072, 0.9674293398857117, 0.023034030571579933, 0.7451927661895752, 0.07470148056745529, 0.15486891567707062, 0.025507820770144463, 0.0029666339978575706, 0.7920912504196167, 0.2017311155796051, 0.9935483932495117, 0.9947311878204346, 0.01107522752135992, 0.9801576733589172, 0.00553761376067996, 0.020444609224796295, 0.020444609224796295, 0.08177843689918518, 0.8791182041168213, 0.02441810630261898, 0.6959160566329956, 0.26859918236732483, 0.03323638066649437, 0.9608334898948669, 0.006042977795004845, 0.34229302406311035, 0.06491763889789581, 0.08557325601577759, 0.4470464885234833, 0.06049143895506859, 0.9965264201164246, 0.9964886903762817, 0.995739221572876, 0.008658268488943577, 0.961067795753479, 0.017316536977887154, 0.23558416962623596, 0.02324148826301098, 0.04753940552473068, 0.5556828379631042, 0.1362796276807785, 0.32012274861335754, 0.007113839033991098, 0.10670758783817291, 0.5691071152687073, 0.9933916330337524, 0.008949474431574345, 0.06419660896062851, 0.9328569769859314, 0.002006144030019641, 0.011165333911776543, 0.9825493693351746, 0.9922311902046204, 0.026503536850214005, 0.17227299511432648, 0.7951061129570007, 0.03404046595096588, 0.9020723700523376, 0.05957081541419029, 0.9951766133308411, 0.9611443281173706, 0.14326651394367218, 0.010233323089778423, 0.16373316943645477, 0.010233323089778423, 0.6753993034362793, 0.02169226109981537, 0.954459547996521, 0.9539745450019836, 0.004467020742595196, 0.004467020742595196, 0.9916785955429077, 0.9690736532211304, 0.028502166271209717, 0.15650156140327454, 0.005986398551613092, 0.009407198056578636, 0.8261229991912842, 0.00171039963606745, 0.9648750424385071, 0.9968237280845642, 0.023280516266822815, 0.9777817130088806, 0.023280516266822815, 0.9777817130088806, 0.02661691978573799, 0.9182837009429932, 0.03992537781596184, 0.9793540835380554, 0.01605498604476452, 0.11446494609117508, 0.3172887861728668, 0.3273295760154724, 0.24097882211208344, 0.996465265750885, 0.047135788947343826, 0.8998650908470154, 0.05142086371779442, 0.9821934700012207, 0.0016899253241717815, 0.9953660368919373, 0.0016899253241717815, 0.001248809858225286, 0.4258441627025604, 0.5382370948791504, 0.03496667742729187, 0.014914652332663536, 0.006883685477077961, 0.4497341215610504, 0.32353320717811584, 0.20421600341796875, 0.8611025214195251, 0.13674160838127136, 0.1798853725194931, 0.010699502192437649, 0.09629551321268082, 0.613883912563324, 0.09897039085626602, 0.9776472449302673, 0.0315370075404644, 0.0025531286373734474, 0.9778482913970947, 0.015318771824240685, 0.09388309717178345, 0.02533353492617607, 0.010431455448269844, 0.7108291983604431, 0.15945224463939667, 0.06691178679466248, 0.01858660764992237, 0.05204250290989876, 0.4535132348537445, 0.40890535712242126, 0.011466273106634617, 0.9287680983543396, 0.05733136460185051, 0.9820699691772461, 0.011034494265913963, 0.016353817656636238, 0.016353817656636238, 0.9648752212524414, 0.10899318009614944, 0.029428159818053246, 0.05885631963610649, 0.7531428933143616, 0.05013686418533325, 0.0293336920440197, 0.9680118560791016, 0.7441627383232117, 0.009727617725729942, 0.2431904375553131, 0.9918915629386902, 0.012096238322556019, 0.9717492461204529, 0.940199077129364, 0.044771384447813034, 0.002992483787238598, 0.005984967574477196, 0.028428595513105392, 0.8902639150619507, 0.07331585139036179, 0.01655219867825508, 0.00827609933912754, 0.2731112837791443, 0.7034684419631958, 0.9833358526229858, 0.9706066250801086, 0.8899747729301453, 0.009081375785171986, 0.09989512711763382, 0.9849448204040527, 0.9849448204040527, 0.0027699393685907125, 0.0027699393685907125, 0.9944081902503967, 0.1058020293712616, 0.005290101747959852, 0.8146756291389465, 0.06877131760120392, 0.9880328178405762, 0.011623915284872055, 0.9965559840202332, 0.9540332555770874, 0.046538207679986954, 0.9993060827255249, 0.05144672468304634, 0.02531505562365055, 0.09391068667173386, 0.6916726231575012, 0.1371912658214569, 0.019311819225549698, 0.9559350609779358, 0.019311819225549698, 0.009655909612774849, 0.030195241793990135, 0.9662477374076843, 0.9835382103919983, 0.1706767976284027, 0.03664247319102287, 0.7714205384254456, 0.02024978958070278], \"Term\": [\"aaaaaaaaaaaaaaaa\", \"aaaaaaaaaaaaaaaaaaaaaaaaaaaaaaaaaaaaaaaaaaaaaaaaaaaaaaaaaaaaaaaaaaaaaaaaaaaa\", \"aaaaaaaaaaaaaaaaaaaaaaaaaaaaaaaaaaaaaaaaaaaaaaaaaaaaaaaaaaaaaaaaaaaaaaaaaaaa\", \"acceptance\", \"addin\", \"administration\", \"administration\", \"affiliate\", \"affiliate\", \"alert\", \"alert\", \"alias\", \"alias\", \"align\", \"align\", \"also\", \"also\", \"also\", \"also\", \"also\", \"amy\", \"amy\", \"amy\", \"amy\", \"analyst\", \"analyst\", \"analyst\", \"anyone\", \"anyone\", \"anyone\", \"anyone\", \"apse\", \"apse\", \"army\", \"asset\", \"asset\", \"asset\", \"asset\", \"assign\", \"astronomical\", \"astronomical\", \"attack\", \"aucoin\", \"available\", \"available\", \"available\", \"available\", \"available\", \"awarded\", \"awarded\", \"backout\", \"bakernet\", \"bakernet\", \"bankruptcy\", \"bankruptcy\", \"baughman\", \"bergfelt\", \"beth\", \"beth\", \"bgcolor\", \"bill\", \"bill\", \"bill\", \"bill\", \"bill\", \"billion\", \"billion\", \"binding\", \"blah\", \"blair\", \"blair\", \"blair\", \"bodydefault\", \"bolt\", \"bolt\", \"border\", \"border\", \"border\", \"border\", \"br\", \"br\", \"br\", \"breese\", \"breese\", \"brochure\", \"brochure\", \"bryce\", \"buchanan\", \"buchanan\", \"build\", \"building\", \"building\", \"building\", \"business\", \"business\", \"business\", \"business\", \"businessweek\", \"businessweek\", \"calger\", \"california\", \"california\", \"california\", \"california\", \"cellpadding\", \"cellspacing\", \"center\", \"center\", \"center\", \"center\", \"center\", \"chairman\", \"chairman\", \"chairman\", \"cherry\", \"class\", \"class\", \"class\", \"classmate\", \"classmate\", \"classmate\", \"clear\", \"clear\", \"clear\", \"clear\", \"clear\", \"click\", \"click\", \"click\", \"click\", \"click\", \"colspan\", \"comment\", \"comment\", \"comment\", \"comment\", \"committee\", \"committee\", \"committee\", \"committee\", \"commoditylogic\", \"company\", \"company\", \"company\", \"company\", \"conference\", \"conference\", \"conference\", \"conference\", \"confidential\", \"consumer\", \"consumer\", \"consumer\", \"consumer\", \"contain\", \"contract\", \"contract\", \"contract\", \"contract\", \"coords\", \"coral\", \"coral\", \"corp\", \"corp\", \"corp\", \"corp\", \"cover\", \"cover\", \"cover\", \"cover\", \"cover\", \"credit\", \"credit\", \"credit\", \"credit\", \"ct\", \"ct\", \"ct\", \"ct\", \"ctr\", \"ctr\", \"curve\", \"curve\", \"curve\", \"customer\", \"customer\", \"customer\", \"customer\", \"darrell\", \"data\", \"data\", \"data\", \"data\", \"data\", \"date\", \"date\", \"date\", \"date\", \"declared\", \"declared\", \"delete\", \"demoes\", \"design\", \"design\", \"design\", \"desk\", \"desk\", \"desk\", \"desk\", \"detected\", \"devastated\", \"devastated\", \"development\", \"development\", \"development\", \"development\", \"deviation\", \"devon\", \"devon\", \"dietz\", \"dietz\", \"disclosure\", \"div\", \"div\", \"doc\", \"doc\", \"doc\", \"doc\", \"donate\", \"donate\", \"duke\", \"duke\", \"duke\", \"duke\", \"e\", \"e\", \"e\", \"e\", \"e\", \"ecar\", \"ecar\", \"ee\", \"ee\", \"ee\", \"ee\", \"eei\", \"eei\", \"eix\", \"email\", \"email\", \"email\", \"email\", \"email\", \"emaillink\", \"employee\", \"employee\", \"employee\", \"employee\", \"energy\", \"energy\", \"energy\", \"energy\", \"energy\", \"enforceable\", \"enform\", \"enron\", \"enron\", \"enron\", \"enron\", \"enron\", \"enronxgate\", \"enronxgate\", \"enronxgate\", \"epenergy\", \"epenergy\", \"euci\", \"euci\", \"evelyn\", \"exotica\", \"fagan\", \"file\", \"file\", \"file\", \"file\", \"file\", \"final\", \"final\", \"final\", \"final\", \"financial\", \"financial\", \"financial\", \"financial\", \"financially\", \"financially\", \"firm\", \"firm\", \"firm\", \"firm\", \"font\", \"font\", \"font\", \"forwarded\", \"forwarded\", \"forwarded\", \"forwarded\", \"fran\", \"frcc\", \"fri\", \"fri\", \"fund\", \"fund\", \"fund\", \"fund\", \"fw\", \"fw\", \"fw\", \"fw\", \"fw\", \"game\", \"game\", \"game\", \"gas\", \"gas\", \"gas\", \"gas\", \"gas\", \"gif\", \"gif\", \"gif\", \"gorny\", \"graf\", \"gregwhalley\", \"group\", \"group\", \"group\", \"group\", \"gt\", \"gt\", \"gt\", \"hanagriff\", \"hanagriff\", \"hannon\", \"harrison\", \"harrison\", \"harrison\", \"height\", \"height\", \"help\", \"help\", \"help\", \"help\", \"help\", \"hou\", \"hou\", \"hou\", \"hou\", \"hour\", \"hour\", \"hour\", \"hour\", \"hour\", \"hourahead\", \"hourahead\", \"houston\", \"houston\", \"houston\", \"houston\", \"houston\", \"hp\", \"hp\", \"hp\", \"hr\", \"hr\", \"hr\", \"hr\", \"href\", \"image\", \"image\", \"image\", \"image\", \"image\", \"img\", \"impacted\", \"impacted\", \"intended\", \"intended\", \"interchange\", \"investor\", \"investor\", \"itcapps\", \"january\", \"january\", \"january\", \"january\", \"january\", \"john\", \"john\", \"john\", \"john\", \"kern\", \"kern\", \"kim\", \"kim\", \"kim\", \"kim\", \"kim\", \"kimberly\", \"kimberly\", \"kimberly\", \"kimberly\", \"know\", \"know\", \"know\", \"know\", \"know\", \"kowalke\", \"kowalke\", \"krishna\", \"krishnarao\", \"krishnarao\", \"labour\", \"labour\", \"laurel\", \"laurel\", \"laurel\", \"let\", \"let\", \"let\", \"let\", \"let\", \"like\", \"like\", \"like\", \"like\", \"like\", \"linkbarseperator\", \"locate\", \"lokay\", \"lokay\", \"london\", \"london\", \"london\", \"london\", \"lover\", \"lynn\", \"lynn\", \"lynn\", \"made\", \"made\", \"made\", \"made\", \"mail\", \"mail\", \"mail\", \"mail\", \"mail\", \"mailto\", \"mailto\", \"mailto\", \"mailto\", \"mailto\", \"management\", \"management\", \"management\", \"management\", \"mark\", \"mark\", \"mark\", \"mark\", \"mark\", \"market\", \"market\", \"market\", \"market\", \"market\", \"material\", \"material\", \"material\", \"material\", \"may\", \"may\", \"may\", \"may\", \"message\", \"message\", \"message\", \"message\", \"message\", \"million\", \"million\", \"million\", \"million\", \"million\", \"monday\", \"monday\", \"monday\", \"monday\", \"monday\", \"money\", \"money\", \"money\", \"money\", \"money\", \"month\", \"month\", \"month\", \"month\", \"msdw\", \"mtm\", \"na\", \"na\", \"na\", \"na\", \"nbsp\", \"nc\", \"nc\", \"nc\", \"ne\", \"ne\", \"ne\", \"net\", \"net\", \"net\", \"net\", \"net\", \"netback\", \"netted\", \"netted\", \"neumin\", \"new\", \"new\", \"new\", \"new\", \"new\", \"npcc\", \"npcc\", \"offer\", \"offer\", \"offer\", \"offer\", \"offer\", \"one\", \"one\", \"one\", \"one\", \"one\", \"original\", \"original\", \"original\", \"original\", \"original\", \"outage\", \"outage\", \"pampa\", \"parsing\", \"parsing\", \"password\", \"password\", \"pay\", \"pay\", \"pay\", \"pay\", \"pay\", \"pcg\", \"pdf\", \"pdf\", \"pdf\", \"pdf\", \"people\", \"people\", \"people\", \"people\", \"permian\", \"permit\", \"permit\", \"permit\", \"permit\", \"pg\", \"phy\", \"pinnamaneni\", \"pinnamaneni\", \"please\", \"please\", \"please\", \"please\", \"please\", \"pm\", \"pm\", \"pm\", \"pm\", \"pm\", \"pocketbook\", \"pocketbook\", \"portland\", \"portland\", \"portland\", \"power\", \"power\", \"power\", \"power\", \"powersrc\", \"powersrc\", \"powersrc\", \"preferred\", \"preferred\", \"president\", \"president\", \"president\", \"president\", \"price\", \"price\", \"price\", \"price\", \"price\", \"priority\", \"privileged\", \"process\", \"process\", \"process\", \"process\", \"process\", \"product\", \"product\", \"product\", \"product\", \"product\", \"prohibited\", \"pseg\", \"pseg\", \"pseg\", \"pt\", \"pt\", \"pt\", \"question\", \"question\", \"question\", \"question\", \"question\", \"receive\", \"receive\", \"receive\", \"receive\", \"receive\", \"recipient\", \"recipient\", \"recipient\", \"rect\", \"reliantenergy\", \"reliantenergy\", \"reliantenergy\", \"relied\", \"repair\", \"repair\", \"report\", \"report\", \"report\", \"report\", \"report\", \"retirement\", \"retirement\", \"rfp\", \"rfp\", \"rfp\", \"rfp\", \"richard\", \"richard\", \"richard\", \"richard\", \"rick\", \"rick\", \"rick\", \"right\", \"right\", \"right\", \"right\", \"right\", \"rk\", \"rk\", \"rk\", \"royalty\", \"royalty\", \"rybarski\", \"said\", \"said\", \"said\", \"said\", \"sample\", \"sat\", \"sat\", \"savita\", \"savita\", \"schedule\", \"schedule\", \"schedule\", \"schedule\", \"scheduled\", \"scheduled\", \"scheduled\", \"schoolcraft\", \"scoop\", \"script\", \"script\", \"script\", \"sdg\", \"sdg\", \"sdg\", \"sdg\", \"se\", \"se\", \"se\", \"security\", \"security\", \"security\", \"see\", \"see\", \"see\", \"see\", \"see\", \"seller\", \"sender\", \"sept\", \"server\", \"server\", \"server\", \"service\", \"service\", \"service\", \"service\", \"service\", \"settlement\", \"settlement\", \"settlement\", \"settlement\", \"sfs\", \"sfs\", \"share\", \"share\", \"share\", \"simulation\", \"simulation\", \"sole\", \"southwest\", \"southwest\", \"southwest\", \"sp\", \"sp\", \"sp\", \"src\", \"srrs\", \"stacey\", \"stacey\", \"stacey\", \"stacey\", \"stacey\", \"stack\", \"stack\", \"staggs\", \"statement\", \"statement\", \"statement\", \"std\", \"std\", \"stock\", \"stock\", \"stock\", \"stock\", \"stock\", \"stocklookup\", \"strictly\", \"stsw\", \"stsw\", \"stwbom\", \"stwbom\", \"sw\", \"sw\", \"sw\", \"syncrasy\", \"syncrasy\", \"system\", \"system\", \"system\", \"system\", \"t\", \"table\", \"table\", \"table\", \"tagline\", \"td\", \"td\", \"td\", \"team\", \"team\", \"team\", \"team\", \"thanks\", \"thanks\", \"thanks\", \"thanks\", \"thanks\", \"thru\", \"thru\", \"time\", \"time\", \"time\", \"time\", \"time\", \"tmv\", \"tmv\", \"tr\", \"tr\", \"tr\", \"trading\", \"trading\", \"trading\", \"trading\", \"trading\", \"tuesday\", \"tuesday\", \"tuesday\", \"tuesday\", \"tuesday\", \"tw\", \"tw\", \"tw\", \"txt\", \"txt\", \"tyrell\", \"tyrell\", \"tyrell\", \"u\", \"u\", \"u\", \"u\", \"u\", \"ubswenergy\", \"ubswenergy\", \"unable\", \"unable\", \"unable\", \"underhanded\", \"underhanded\", \"unify\", \"urging\", \"urging\", \"use\", \"use\", \"use\", \"use\", \"use\", \"user\", \"user\", \"user\", \"user\", \"valign\", \"valuing\", \"variance\", \"variance\", \"variance\", \"vegetarian\", \"veggie\", \"wall\", \"wall\", \"wall\", \"watson\", \"watson\", \"watson\", \"watson\", \"westdesk\", \"westdesk\", \"width\", \"wiped\", \"wiped\", \"wj\", \"would\", \"would\", \"would\", \"would\", \"would\", \"wscc\", \"wscc\", \"wscc\", \"wscc\", \"wyndham\", \"wyndham\", \"xll\", \"year\", \"year\", \"year\", \"year\"]}, \"R\": 30, \"lambda.step\": 0.01, \"plot.opts\": {\"xlab\": \"PC1\", \"ylab\": \"PC2\"}, \"topic.order\": [1, 2, 3, 4, 5]};\n",
              "\n",
              "function LDAvis_load_lib(url, callback){\n",
              "  var s = document.createElement('script');\n",
              "  s.src = url;\n",
              "  s.async = true;\n",
              "  s.onreadystatechange = s.onload = callback;\n",
              "  s.onerror = function(){console.warn(\"failed to load library \" + url);};\n",
              "  document.getElementsByTagName(\"head\")[0].appendChild(s);\n",
              "}\n",
              "\n",
              "if(typeof(LDAvis) !== \"undefined\"){\n",
              "   // already loaded: just create the visualization\n",
              "   !function(LDAvis){\n",
              "       new LDAvis(\"#\" + \"ldavis_el1269620742313395521340846631\", ldavis_el1269620742313395521340846631_data);\n",
              "   }(LDAvis);\n",
              "}else if(typeof define === \"function\" && define.amd){\n",
              "   // require.js is available: use it to load d3/LDAvis\n",
              "   require.config({paths: {d3: \"https://cdnjs.cloudflare.com/ajax/libs/d3/3.5.5/d3.min\"}});\n",
              "   require([\"d3\"], function(d3){\n",
              "      window.d3 = d3;\n",
              "      LDAvis_load_lib(\"https://cdn.rawgit.com/bmabey/pyLDAvis/files/ldavis.v1.0.0.js\", function(){\n",
              "        new LDAvis(\"#\" + \"ldavis_el1269620742313395521340846631\", ldavis_el1269620742313395521340846631_data);\n",
              "      });\n",
              "    });\n",
              "}else{\n",
              "    // require.js not available: dynamically load d3 & LDAvis\n",
              "    LDAvis_load_lib(\"https://cdnjs.cloudflare.com/ajax/libs/d3/3.5.5/d3.min.js\", function(){\n",
              "         LDAvis_load_lib(\"https://cdn.rawgit.com/bmabey/pyLDAvis/files/ldavis.v1.0.0.js\", function(){\n",
              "                 new LDAvis(\"#\" + \"ldavis_el1269620742313395521340846631\", ldavis_el1269620742313395521340846631_data);\n",
              "            })\n",
              "         });\n",
              "}\n",
              "</script>"
            ],
            "text/plain": [
              "<IPython.core.display.HTML object>"
            ]
          },
          "execution_count": 27,
          "metadata": {},
          "output_type": "execute_result"
        }
      ],
      "source": [
        "import pyLDAvis.gensim\n",
        "\n",
        "lda_display = pyLDAvis.gensim.prepare(ldamodel, corpus, dictionary, sort_topics=False)\n",
        "\n",
        "pyLDAvis.display(lda_display)"
      ]
    },
    {
      "cell_type": "markdown",
      "metadata": {
        "id": "meCiLGpp9Er4"
      },
      "source": [
        "### Finding fraudsters based on topic\n",
        "- We're going to link the results from the topic model back to our original data. We now learned that we want to flag everything related to topic 3. As we will see, this is actually not that straightforward."
      ]
    },
    {
      "cell_type": "code",
      "execution_count": null,
      "metadata": {
        "id": "bK7SUSjw9Er4",
        "outputId": "d7ea974b-ba08-4f08-987e-56b5d4fd73ad"
      },
      "outputs": [
        {
          "name": "stdout",
          "output_type": "stream",
          "text": [
            "      Dominant_Topic   % Score\n",
            "0                3.0  0.999211\n",
            "1                3.0  0.427233\n",
            "2                4.0  0.798478\n",
            "3                0.0  0.993462\n",
            "4                0.0  0.993382\n",
            "...              ...       ...\n",
            "2081             4.0  0.910436\n",
            "2082             1.0  0.598023\n",
            "2083             1.0  0.999323\n",
            "2084             4.0  0.998146\n",
            "2085             2.0  0.902532\n",
            "\n",
            "[2086 rows x 2 columns]\n"
          ]
        }
      ],
      "source": [
        "def get_topic_details(ldamodel, corpus):\n",
        "    topic_details_df = pd.DataFrame()\n",
        "    for i, row in enumerate(ldamodel[corpus]):\n",
        "        row = sorted(row, key=lambda x: (x[1]), reverse=True)\n",
        "        for j, (topic_num, prop_topic) in enumerate(row):\n",
        "            if j == 0:  # => dominant topic\n",
        "                wp = ldamodel.show_topic(topic_num)\n",
        "                topic_details_df = topic_details_df.append(pd.Series([topic_num, prop_topic]), ignore_index=True)\n",
        "    topic_details_df.columns = ['Dominant_Topic', '% Score']\n",
        "    return topic_details_df\n",
        "\n",
        "# Run get_topic_details function and check the results\n",
        "print(get_topic_details(ldamodel, corpus))"
      ]
    },
    {
      "cell_type": "code",
      "execution_count": null,
      "metadata": {
        "id": "uB4Xk9xP9Er4",
        "outputId": "56d2730c-ac60-435a-de69-f5757a8edc4a"
      },
      "outputs": [
        {
          "name": "stdout",
          "output_type": "stream",
          "text": [
            "   Dominant_Topic   % Score                                      Original text\n",
            "0             3.0  0.999212  [investools, advisory, free, digest, trusted, ...\n",
            "1             3.0  0.427231  [forwarded, richard, b, sander, hou, pm, justi...\n",
            "2             4.0  0.798478  [hey, wearing, target, purple, shirt, today, m...\n",
            "3             0.0  0.993462  [leslie, milosevich, santa, clara, avenue, ala...\n",
            "4             0.0  0.993383  [rini, twait, e, th, ave, longmont, co, rtwait...\n"
          ]
        }
      ],
      "source": [
        "# Add original text to topic details in a dataframe\n",
        "contents = pd.DataFrame({'Original text': text_clean})\n",
        "topic_details = pd.concat([get_topic_details(ldamodel, corpus), contents], axis=1)\n",
        "print(topic_details.head())"
      ]
    },
    {
      "cell_type": "code",
      "execution_count": null,
      "metadata": {
        "id": "d4MgiLH89Er5",
        "outputId": "9b75fec1-a157-40c0-a3b8-8dc49b117f79"
      },
      "outputs": [
        {
          "name": "stdout",
          "output_type": "stream",
          "text": [
            "   Dominant_Topic   % Score  \\\n",
            "0             3.0  0.999212   \n",
            "1             3.0  0.427231   \n",
            "2             4.0  0.798478   \n",
            "3             0.0  0.993462   \n",
            "4             0.0  0.993383   \n",
            "\n",
            "                                       Original text  flag  \n",
            "0  [investools, advisory, free, digest, trusted, ...     1  \n",
            "1  [forwarded, richard, b, sander, hou, pm, justi...     1  \n",
            "2  [hey, wearing, target, purple, shirt, today, m...     0  \n",
            "3  [leslie, milosevich, santa, clara, avenue, ala...     0  \n",
            "4  [rini, twait, e, th, ave, longmont, co, rtwait...     0  \n"
          ]
        }
      ],
      "source": [
        "# Create flag for text highest associated with topic 3\n",
        "topic_details['flag'] = np.where((topic_details['Dominant_Topic'] == 3.0), 1, 0)\n",
        "print(topic_details.head())"
      ]
    },
    {
      "cell_type": "markdown",
      "metadata": {
        "id": "kwv7JyJA9Er5"
      },
      "source": [
        "- We have now flagged all data that is highest associated with topic 3, that seems to cover internal conversation about enron stock options."
      ]
    },
    {
      "cell_type": "code",
      "execution_count": null,
      "metadata": {
        "id": "H8-A5lm89Er5"
      },
      "outputs": [],
      "source": []
    }
  ],
  "metadata": {
    "kernelspec": {
      "display_name": "Python 3",
      "language": "python",
      "name": "python3"
    },
    "language_info": {
      "codemirror_mode": {
        "name": "ipython",
        "version": 3
      },
      "file_extension": ".py",
      "mimetype": "text/x-python",
      "name": "python",
      "nbconvert_exporter": "python",
      "pygments_lexer": "ipython3",
      "version": "3.7.3"
    },
    "colab": {
      "provenance": [],
      "include_colab_link": true
    }
  },
  "nbformat": 4,
  "nbformat_minor": 0
}